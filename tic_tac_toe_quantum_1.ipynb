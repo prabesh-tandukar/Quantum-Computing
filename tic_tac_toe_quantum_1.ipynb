{
  "cells": [
    {
      "cell_type": "markdown",
      "metadata": {
        "id": "view-in-github",
        "colab_type": "text"
      },
      "source": [
        "<a href=\"https://colab.research.google.com/github/prabesh-tandukar/Quantum-Computing/blob/main/tic_tac_toe_quantum_1.ipynb\" target=\"_parent\"><img src=\"https://colab.research.google.com/assets/colab-badge.svg\" alt=\"Open In Colab\"/></a>"
      ]
    },
    {
      "cell_type": "markdown",
      "metadata": {
        "id": "_aW4PomvufEN"
      },
      "source": [
        "# **Tic-Tac-Toe Experiment**\n"
      ]
    },
    {
      "cell_type": "markdown",
      "metadata": {
        "id": "xV7VUIMwH2IT"
      },
      "source": [
        "Run this code after inserting some codes"
      ]
    },
    {
      "cell_type": "code",
      "execution_count": 1,
      "metadata": {
        "id": "lc_VkarCxL4z",
        "tags": []
      },
      "outputs": [],
      "source": [
        "#Install qiskit if you have not done already !pip install qiskit --quiet\n",
        "#Install other packages\n",
        "\n",
        "!pip install qiskit --quiet\n",
        "!pip install pylatexenc --quiet"
      ]
    },
    {
      "cell_type": "code",
      "execution_count": 2,
      "metadata": {
        "id": "m6C_PKryxHHC"
      },
      "outputs": [],
      "source": [
        "from qiskit import *\n",
        "from qiskit.visualization import plot_histogram\n",
        "from google.colab import widgets\n",
        "from __future__ import print_function\n",
        "from ipywidgets import interact, interactive, fixed, interact_manual, Button, Layout\n",
        "import ipywidgets\n",
        "import pandas as pd\n",
        "import math\n",
        "import numpy as np\n",
        "import random\n",
        "import json\n",
        "import requests\n",
        "from qiskit import QuantumCircuit\n",
        "from IPython.display import clear_output"
      ]
    },
    {
      "cell_type": "markdown",
      "metadata": {
        "id": "vrhtBSC4rsfk"
      },
      "source": [
        "Now here you will have to write a small function that takes a qiskit ```circuit``` object and runs those instructions on the Quokka."
      ]
    },
    {
      "cell_type": "code",
      "execution_count": 3,
      "metadata": {
        "id": "tzwHy5zixcXS"
      },
      "outputs": [],
      "source": [
        "from qiskit import QuantumCircuit\n",
        "from qiskit import converters\n",
        "\n",
        "def send_to_the_quokka(circuit):\n",
        "  req_str_qasm = 'http://quokka1.quokkacomputing.com/qsim/qasm' # the URL listening for qasm files\n",
        "\n",
        "   # create a qasm file from our circuit\n",
        "  qasm_code = \"\"\"\n",
        "    OPENQASM 2.0;\n",
        "    include \"qelib1.inc\";\n",
        "\n",
        "    qreg q[9];\n",
        "    creg c[9];\n",
        "\n",
        "    h q[0];\n",
        "    h q[1];\n",
        "    h q[2];\n",
        "    h q[3];\n",
        "    h q[4];\n",
        "    h q[5];\n",
        "    h q[6];\n",
        "    h q[7];\n",
        "    h q[8];\n",
        "    cx q[0],q[1];\n",
        "    cx q[1],q[2];\n",
        "    cx q[2],q[3];\n",
        "    cx q[3],q[4];\n",
        "    cx q[4],q[5];\n",
        "    cx q[5],q[6];\n",
        "    cx q[6],q[7];\n",
        "    cx q[7],q[8];\n",
        "    \"\"\"\n",
        "\n",
        "  data = {\n",
        "      'qasm' : qasm_code,\n",
        "      'count': 100000\n",
        "    } # create data file to send to Quokka\n",
        "\n",
        "  result = requests.post(req_str_qasm, json=data)\n",
        "  json_obj = json.loads(result.content)\n",
        "\n",
        "  return ''.join(map(str, '')) # convert to a string of binary values"
      ]
    },
    {
      "cell_type": "markdown",
      "metadata": {
        "id": "6eutfLK-qW7v"
      },
      "source": [
        "The code for the game comprises the two classes below. This time, try some different moves by allowing the players to add different gates on the circuit."
      ]
    },
    {
      "cell_type": "code",
      "execution_count": 14,
      "metadata": {
        "id": "kbEzlsrxxUfE"
      },
      "outputs": [],
      "source": [
        "class Board:\n",
        "    def __init__(self):\n",
        "        self.qc = QuantumCircuit(9, 9)\n",
        "        self.function = ''\n",
        "        self.target = -1\n",
        "        self.tab = []\n",
        "        self.winsX = 0\n",
        "        self.winsO = 0\n",
        "\n",
        "        for idx in range(0, 9):\n",
        "            self.tab.append({'default':str(idx), 'player':' '})\n",
        "            self.qc.h(idx)\n",
        "        self.qc.barrier()\n",
        "\n",
        "    def make_move(self, cell):\n",
        "        if self.function == 'H':\n",
        "            self.qc.h(cell)\n",
        "            self.tab[int(cell)]['player'] += 'H - '\n",
        "        elif self.function == 'S':\n",
        "            self.qc.s(cell)\n",
        "            self.tab[int(cell)]['player'] += \"S - \"\n",
        "        elif self.function == 'T':\n",
        "            self.qc.t(cell)\n",
        "            self.tab[int(cell)]['player'] += \"T - \"\n",
        "        elif self.function == 'CNOT' and self.target != cell:\n",
        "            if self.target == -1:\n",
        "                self.target = cell\n",
        "            else:\n",
        "                self.qc.cx(self.target, cell)\n",
        "                self.tab[self.target]['player'] += \"CX - \"\n",
        "                self.tab[cell]['player'] += \"CX - \"\n",
        "            self.function = '' #Reset function after applying CNOT\n",
        "\n",
        "    def results(self):\n",
        "        display(self.qc.draw('mpl'))\n",
        "        self.qc = QuantumCircuit(9, 9)\n",
        "\n",
        "    def display(self):\n",
        "        display(self.qc.draw('mpl'))\n",
        "\n",
        "    def measure(self):\n",
        "        self.qc.barrier()\n",
        "        for i in range(0,9):\n",
        "            self.qc.measure(i, i)\n",
        "\n",
        "        output = send_to_the_quokka(self.qc)\n",
        "\n",
        "        if len(output) < 9:\n",
        "          print(\"Error: Not enough output data received from Quokka\")\n",
        "          return\n",
        "\n",
        "        for i in range(0,9):\n",
        "            if output[9-1-i] == '0':\n",
        "                self.tab[i]['player'] = 'X'\n",
        "            else:\n",
        "                self.tab[i]['player'] = 'O'\n",
        "        self.winsX = self.countWinners('X')\n",
        "        self.winsO = self.countWinners('O')\n",
        "\n",
        "    def countWinners(self, player):\n",
        "        winners = ((0,1,2),(3,4,5),(6,7,8),(0,3,6),(1,4,7),(2,5,8),(0,4,8),(2,4,6))\n",
        "        wins = 0\n",
        "        for i in range(len(winners)):\n",
        "            won = True\n",
        "            for j in range(len(winners[0])):\n",
        "                if not self.tab[winners[i][j]]['player'] == player:\n",
        "                    won = False\n",
        "            if won:\n",
        "                wins = wins + 1\n",
        "        return wins\n",
        "\n",
        "    def new(self):\n",
        "        self.tab.clear()\n",
        "        self.qc = QuantumCircuit(9, 9)\n",
        "        for idx in range(0,9):\n",
        "           self.tab.append({'default':str(idx), 'player':''})\n",
        "           self.qc.h(idx)\n",
        "        self.qc.barrier()\n"
      ]
    },
    {
      "cell_type": "code",
      "execution_count": 15,
      "metadata": {
        "id": "adHd14cFxZTm"
      },
      "outputs": [],
      "source": [
        "class Game:\n",
        "    def __init__(self):\n",
        "        self.selecting = False\n",
        "        self.board = Board()\n",
        "        self.boardbutton_list = []\n",
        "        for i in range(0,9):\n",
        "            button = Button(description=str(i))\n",
        "            button.on_click(self.handle_game)\n",
        "            self.boardbutton_list.append(button)\n",
        "\n",
        "        self.funcbutton_list = []\n",
        "        self.newButton('Measure')\n",
        "        self.newButton('H')\n",
        "        self.newButton('S')\n",
        "        self.newButton('T')\n",
        "        self.newButton('CNOT')\n",
        "        self.printmenu()\n",
        "        self.printBoard()\n",
        "\n",
        "    def newButton(self, name):\n",
        "        function = Button(description=name, layout=Layout(width='86px', height='30px'))\n",
        "        function.on_click(self.handle_game)\n",
        "        self.funcbutton_list.append(function)\n",
        "\n",
        "    def handle_game(self, b):\n",
        "        try:\n",
        "            if b.description == 'Measure':\n",
        "                clear_output()\n",
        "                self.replay()\n",
        "                self.board.measure()\n",
        "                self.scoreboard()\n",
        "                self.printBoard()\n",
        "                self.board.results()\n",
        "\n",
        "\n",
        "            if b.description == 'Replay':\n",
        "                clear_output()\n",
        "                self.board.new()\n",
        "                self.printmenu()\n",
        "                self.printBoard()\n",
        "\n",
        "            if int(b.description) >= 0:\n",
        "                if self.selecting:\n",
        "                    self.board.target = int(b.description)\n",
        "                else:\n",
        "                    clear_output()\n",
        "                    self.printmenu()\n",
        "                    self.board.make_move(int(b.description))\n",
        "                    self.printBoard()\n",
        "                    self.board.display()\n",
        "            self.selecting = False\n",
        "        except ValueError:\n",
        "            self.board.function = b.description\n",
        "            self.selecting = False\n",
        "            if self.board.function == 'CNOT':\n",
        "                self.selecting = True\n",
        "\n",
        "    def printmenu(self):\n",
        "        grid = widgets.Grid(1, 5)\n",
        "        for (row, col) in grid:\n",
        "            display(self.funcbutton_list[col])\n",
        "\n",
        "    def scoreboard(self):\n",
        "        print(\"X wins: \" + str(self.board.winsX) + \"    O wins: \" + str(self.board.winsO))\n",
        "\n",
        "    def replay(self):\n",
        "        rep = Button(description=\"Replay\")\n",
        "        rep.on_click(self.handle_game)\n",
        "        display(rep)\n",
        "\n",
        "    def printBoard(self):\n",
        "        grid = widgets.Grid(1, int(np.sqrt(9)), header_row=True, header_column=True)\n",
        "        for row in range(int(np.sqrt(9))):\n",
        "              for (useless, col) in grid:\n",
        "                  print(\"\\n\"+self.board.tab[col + row * int(np.sqrt(9))]['player']+\"\\n\")\n",
        "                  display(self.boardbutton_list[col + row * int(np.sqrt(9))])"
      ]
    },
    {
      "cell_type": "markdown",
      "metadata": {
        "id": "l3Gt2uW_qb7b"
      },
      "source": [
        "## The game! (THESE INSTRUCTIONS SHOULD CHANGE IF YOU CHANGE THE GAME!)\n",
        "To make a move, click one of the 5 options above the board and then click the location where you want to make that move. To play \"SWAP,\" you need to click two board locations.\n",
        "\n",
        "Each move adds a gate to the game circuit. They do the following:\n",
        "\n",
        "* **Measure** ends the round and execute the game circuit on the quantum device. The win conditions will be counted and displayed.\n",
        "* **H** Adds an $H$ gate at this location.\n",
        "* **S** Adds an $S$ gate at this location.\n",
        "* **T** Adds a $T$ gate at this location.\n",
        "* **CNOT** place a $CNOT$ gate across two location.\n",
        "\n",
        "As you play, you will see the game circuit and the board. The board shows the sequence of moves, but is not 100% accurate. The game circuit is true state of the game."
      ]
    },
    {
      "cell_type": "code",
      "execution_count": 16,
      "metadata": {
        "id": "wuHfV2g5xaxs",
        "colab": {
          "base_uri": "https://localhost:8080/",
          "height": 310,
          "referenced_widgets": [
            "475ff07b0320436e8d455283f176fbbb",
            "63ca826829e04e728e427b536e790092",
            "12e73e3d595749a79d73b782934c7e3f",
            "7730153df6b749e6ba50f0f32485b9f2",
            "13fe043138b94885b1b29bdac010ff5e",
            "0582f487f6f34b66bc3a697f6d799360",
            "6564547cb5094ca1b1212848abcaa7ad",
            "2cef8e3813574cb3acf66808b77d9226",
            "3db02abd77664dfa956d0c548fcdcb6a",
            "3742b34be7014ed190d0353862eb66e4",
            "53996b1eab8b49019e47817b2483f5c5",
            "f83e9801f12b41f994d5efec83474981",
            "1b89be0be40946f48748f106e3443e50",
            "58f729bb9ace494ea4748ee4475bce5b",
            "d18b833b151247c98cb9660854e33834",
            "82e4850883a540e6a25ab5adfc35af38",
            "9e9ddd4472af45248fb3fd3bdaf83690",
            "4d9df1dc82a74b1d95730f93eebcb513",
            "b539f64d7d364a6b864dbd31ac673e08",
            "781f0aa6cae743f4bda2ed3661a74ed5",
            "926ad0f4d6bc4ec89882c90b66b5a1c9",
            "49b5813dae2c4f75bca32b72dd4afc55",
            "72e5ef07998e4b47b2e68001a0a5b6bd",
            "f4f888b9cfcf46e1b0bad9032701d91e",
            "98a4c10b503d4f4e8d5cafb526827ea1",
            "4cb36756a1e442b7a9bdb3ab858d2884",
            "be8c270e0e164b1e8e51970c963ecaed",
            "4740ceaaa50441219f1fdc76765fc7bf",
            "8a5b060c17a34079b76cbfb2564c68de",
            "c08807a78dfd49d6a4d9dfe4df4ac830",
            "93174618976543b2bfce53169147d605",
            "a9336a19bfec4c1cbeac38d9da501c90",
            "60c9ce92dc194e029e4e36d2617f7c48",
            "12985ce92b444719a22237748317d847",
            "ce6c3b9fcec74735ba4b15f7325f691f",
            "084109d7a97a4322ad2190cd94d9644c",
            "9d9610b32e8e4f0fa99eccbfa87611e8",
            "ce4db23f317948218ac6682d577f11fd",
            "d53ffd59226347b48dac44ebdd7b0050",
            "78bda0018d4a4f98b263796888f3e568",
            "6e34c942e9594747bd881f83ce2df575",
            "aaddc5f678d445bcb98faeff647d970e",
            "b298052b45c54b08b80b5192a651287f",
            "58499b2c70964943ba10d7601ee4edf7",
            "bf0207c78ebf450bbce34a9b5a84a595"
          ]
        },
        "outputId": "e14bd598-0d6b-41cc-b49a-e959e509b45a"
      },
      "outputs": [
        {
          "output_type": "display_data",
          "data": {
            "text/plain": [
              "<IPython.core.display.HTML object>"
            ],
            "text/html": [
              "<style>\n",
              "       table#id178, #id178 > tbody > tr > th, #id178 > tbody > tr > td {\n",
              "         border: 1px solid lightgray;\n",
              "         border-collapse:collapse;\n",
              "         \n",
              "        }</style>"
            ]
          },
          "metadata": {}
        },
        {
          "output_type": "display_data",
          "data": {
            "text/plain": [
              "<IPython.core.display.HTML object>"
            ],
            "text/html": [
              "<table id=id178><tr><td id=id178-0-0></td><td id=id178-0-1></td><td id=id178-0-2></td><td id=id178-0-3></td><td id=id178-0-4></td></tr></table>"
            ]
          },
          "metadata": {}
        },
        {
          "output_type": "display_data",
          "data": {
            "text/plain": [
              "<IPython.core.display.Javascript object>"
            ],
            "application/javascript": [
              "window[\"3f244072-fed2-11ee-9a57-0242ac1c000c\"] = google.colab.output.getActiveOutputArea();\n",
              "//# sourceURL=js_3f73f9889d"
            ]
          },
          "metadata": {}
        },
        {
          "output_type": "display_data",
          "data": {
            "text/plain": [
              "<IPython.core.display.Javascript object>"
            ],
            "application/javascript": [
              "window[\"3f24b8c2-fed2-11ee-9a57-0242ac1c000c\"] = document.querySelector(\"#id178-0-0\");\n",
              "//# sourceURL=js_8b1f880d7d"
            ]
          },
          "metadata": {}
        },
        {
          "output_type": "display_data",
          "data": {
            "text/plain": [
              "<IPython.core.display.Javascript object>"
            ],
            "application/javascript": [
              "window[\"3f252abe-fed2-11ee-9a57-0242ac1c000c\"] = google.colab.output.setActiveOutputArea(window[\"3f24b8c2-fed2-11ee-9a57-0242ac1c000c\"]);\n",
              "//# sourceURL=js_30872f4424"
            ]
          },
          "metadata": {}
        },
        {
          "output_type": "display_data",
          "data": {
            "text/plain": [
              "Button(description='Measure', layout=Layout(height='30px', width='86px'), style=ButtonStyle())"
            ],
            "application/vnd.jupyter.widget-view+json": {
              "version_major": 2,
              "version_minor": 0,
              "model_id": "475ff07b0320436e8d455283f176fbbb"
            }
          },
          "metadata": {}
        },
        {
          "output_type": "display_data",
          "data": {
            "text/plain": [
              "<IPython.core.display.Javascript object>"
            ],
            "application/javascript": [
              "window[\"3f26c78e-fed2-11ee-9a57-0242ac1c000c\"] = google.colab.output.setActiveOutputArea(window[\"3f244072-fed2-11ee-9a57-0242ac1c000c\"]);\n",
              "//# sourceURL=js_458722e903"
            ]
          },
          "metadata": {}
        },
        {
          "output_type": "display_data",
          "data": {
            "text/plain": [
              "<IPython.core.display.Javascript object>"
            ],
            "application/javascript": [
              "window[\"3f293050-fed2-11ee-9a57-0242ac1c000c\"] = google.colab.output.getActiveOutputArea();\n",
              "//# sourceURL=js_1524cdae0b"
            ]
          },
          "metadata": {}
        },
        {
          "output_type": "display_data",
          "data": {
            "text/plain": [
              "<IPython.core.display.Javascript object>"
            ],
            "application/javascript": [
              "window[\"3f2a9256-fed2-11ee-9a57-0242ac1c000c\"] = document.querySelector(\"#id178-0-1\");\n",
              "//# sourceURL=js_3c5d9080bd"
            ]
          },
          "metadata": {}
        },
        {
          "output_type": "display_data",
          "data": {
            "text/plain": [
              "<IPython.core.display.Javascript object>"
            ],
            "application/javascript": [
              "window[\"3f2b3242-fed2-11ee-9a57-0242ac1c000c\"] = google.colab.output.setActiveOutputArea(window[\"3f2a9256-fed2-11ee-9a57-0242ac1c000c\"]);\n",
              "//# sourceURL=js_45eeab4b4d"
            ]
          },
          "metadata": {}
        },
        {
          "output_type": "display_data",
          "data": {
            "text/plain": [
              "Button(description='H', layout=Layout(height='30px', width='86px'), style=ButtonStyle())"
            ],
            "application/vnd.jupyter.widget-view+json": {
              "version_major": 2,
              "version_minor": 0,
              "model_id": "7730153df6b749e6ba50f0f32485b9f2"
            }
          },
          "metadata": {}
        },
        {
          "output_type": "display_data",
          "data": {
            "text/plain": [
              "<IPython.core.display.Javascript object>"
            ],
            "application/javascript": [
              "window[\"3f2ca29e-fed2-11ee-9a57-0242ac1c000c\"] = google.colab.output.setActiveOutputArea(window[\"3f293050-fed2-11ee-9a57-0242ac1c000c\"]);\n",
              "//# sourceURL=js_7c4cb96d1c"
            ]
          },
          "metadata": {}
        },
        {
          "output_type": "display_data",
          "data": {
            "text/plain": [
              "<IPython.core.display.Javascript object>"
            ],
            "application/javascript": [
              "window[\"3f2e459a-fed2-11ee-9a57-0242ac1c000c\"] = google.colab.output.getActiveOutputArea();\n",
              "//# sourceURL=js_f9ff85f3ec"
            ]
          },
          "metadata": {}
        },
        {
          "output_type": "display_data",
          "data": {
            "text/plain": [
              "<IPython.core.display.Javascript object>"
            ],
            "application/javascript": [
              "window[\"3f2e9270-fed2-11ee-9a57-0242ac1c000c\"] = document.querySelector(\"#id178-0-2\");\n",
              "//# sourceURL=js_5ddbe4c2e2"
            ]
          },
          "metadata": {}
        },
        {
          "output_type": "display_data",
          "data": {
            "text/plain": [
              "<IPython.core.display.Javascript object>"
            ],
            "application/javascript": [
              "window[\"3f2edc8a-fed2-11ee-9a57-0242ac1c000c\"] = google.colab.output.setActiveOutputArea(window[\"3f2e9270-fed2-11ee-9a57-0242ac1c000c\"]);\n",
              "//# sourceURL=js_d01b280bee"
            ]
          },
          "metadata": {}
        },
        {
          "output_type": "display_data",
          "data": {
            "text/plain": [
              "Button(description='S', layout=Layout(height='30px', width='86px'), style=ButtonStyle())"
            ],
            "application/vnd.jupyter.widget-view+json": {
              "version_major": 2,
              "version_minor": 0,
              "model_id": "6564547cb5094ca1b1212848abcaa7ad"
            }
          },
          "metadata": {}
        },
        {
          "output_type": "display_data",
          "data": {
            "text/plain": [
              "<IPython.core.display.Javascript object>"
            ],
            "application/javascript": [
              "window[\"3f304f0c-fed2-11ee-9a57-0242ac1c000c\"] = google.colab.output.setActiveOutputArea(window[\"3f2e459a-fed2-11ee-9a57-0242ac1c000c\"]);\n",
              "//# sourceURL=js_0c591ec71b"
            ]
          },
          "metadata": {}
        },
        {
          "output_type": "display_data",
          "data": {
            "text/plain": [
              "<IPython.core.display.Javascript object>"
            ],
            "application/javascript": [
              "window[\"3f31f8d4-fed2-11ee-9a57-0242ac1c000c\"] = google.colab.output.getActiveOutputArea();\n",
              "//# sourceURL=js_e7a90ef438"
            ]
          },
          "metadata": {}
        },
        {
          "output_type": "display_data",
          "data": {
            "text/plain": [
              "<IPython.core.display.Javascript object>"
            ],
            "application/javascript": [
              "window[\"3f324da2-fed2-11ee-9a57-0242ac1c000c\"] = document.querySelector(\"#id178-0-3\");\n",
              "//# sourceURL=js_b21ccc6449"
            ]
          },
          "metadata": {}
        },
        {
          "output_type": "display_data",
          "data": {
            "text/plain": [
              "<IPython.core.display.Javascript object>"
            ],
            "application/javascript": [
              "window[\"3f329fc8-fed2-11ee-9a57-0242ac1c000c\"] = google.colab.output.setActiveOutputArea(window[\"3f324da2-fed2-11ee-9a57-0242ac1c000c\"]);\n",
              "//# sourceURL=js_1f32f49c8e"
            ]
          },
          "metadata": {}
        },
        {
          "output_type": "display_data",
          "data": {
            "text/plain": [
              "Button(description='T', layout=Layout(height='30px', width='86px'), style=ButtonStyle())"
            ],
            "application/vnd.jupyter.widget-view+json": {
              "version_major": 2,
              "version_minor": 0,
              "model_id": "3742b34be7014ed190d0353862eb66e4"
            }
          },
          "metadata": {}
        },
        {
          "output_type": "display_data",
          "data": {
            "text/plain": [
              "<IPython.core.display.Javascript object>"
            ],
            "application/javascript": [
              "window[\"3f33dbfe-fed2-11ee-9a57-0242ac1c000c\"] = google.colab.output.setActiveOutputArea(window[\"3f31f8d4-fed2-11ee-9a57-0242ac1c000c\"]);\n",
              "//# sourceURL=js_9445513a60"
            ]
          },
          "metadata": {}
        },
        {
          "output_type": "display_data",
          "data": {
            "text/plain": [
              "<IPython.core.display.Javascript object>"
            ],
            "application/javascript": [
              "window[\"3f35838c-fed2-11ee-9a57-0242ac1c000c\"] = google.colab.output.getActiveOutputArea();\n",
              "//# sourceURL=js_747e0e46f1"
            ]
          },
          "metadata": {}
        },
        {
          "output_type": "display_data",
          "data": {
            "text/plain": [
              "<IPython.core.display.Javascript object>"
            ],
            "application/javascript": [
              "window[\"3f35cac2-fed2-11ee-9a57-0242ac1c000c\"] = document.querySelector(\"#id178-0-4\");\n",
              "//# sourceURL=js_239ed864e7"
            ]
          },
          "metadata": {}
        },
        {
          "output_type": "display_data",
          "data": {
            "text/plain": [
              "<IPython.core.display.Javascript object>"
            ],
            "application/javascript": [
              "window[\"3f360dfc-fed2-11ee-9a57-0242ac1c000c\"] = google.colab.output.setActiveOutputArea(window[\"3f35cac2-fed2-11ee-9a57-0242ac1c000c\"]);\n",
              "//# sourceURL=js_101ee0d7b1"
            ]
          },
          "metadata": {}
        },
        {
          "output_type": "display_data",
          "data": {
            "text/plain": [
              "Button(description='CNOT', layout=Layout(height='30px', width='86px'), style=ButtonStyle())"
            ],
            "application/vnd.jupyter.widget-view+json": {
              "version_major": 2,
              "version_minor": 0,
              "model_id": "1b89be0be40946f48748f106e3443e50"
            }
          },
          "metadata": {}
        },
        {
          "output_type": "display_data",
          "data": {
            "text/plain": [
              "<IPython.core.display.Javascript object>"
            ],
            "application/javascript": [
              "window[\"3f373088-fed2-11ee-9a57-0242ac1c000c\"] = google.colab.output.setActiveOutputArea(window[\"3f35838c-fed2-11ee-9a57-0242ac1c000c\"]);\n",
              "//# sourceURL=js_fa50189225"
            ]
          },
          "metadata": {}
        },
        {
          "output_type": "display_data",
          "data": {
            "text/plain": [
              "<IPython.core.display.HTML object>"
            ],
            "text/html": [
              "<style>\n",
              "       table#id180, #id180 > tbody > tr > th, #id180 > tbody > tr > td {\n",
              "         border: 1px solid lightgray;\n",
              "         border-collapse:collapse;\n",
              "         \n",
              "        }</style>"
            ]
          },
          "metadata": {}
        },
        {
          "output_type": "display_data",
          "data": {
            "text/plain": [
              "<IPython.core.display.HTML object>"
            ],
            "text/html": [
              "<table id=id180><tr><th id=id180-0-0></th><th id=id180-0-1></th><th id=id180-0-2></th></tr></table>"
            ]
          },
          "metadata": {}
        },
        {
          "output_type": "display_data",
          "data": {
            "text/plain": [
              "<IPython.core.display.Javascript object>"
            ],
            "application/javascript": [
              "window[\"3f3a0178-fed2-11ee-9a57-0242ac1c000c\"] = google.colab.output.getActiveOutputArea();\n",
              "//# sourceURL=js_28d89cf5bf"
            ]
          },
          "metadata": {}
        },
        {
          "output_type": "display_data",
          "data": {
            "text/plain": [
              "<IPython.core.display.Javascript object>"
            ],
            "application/javascript": [
              "window[\"3f3a4ca0-fed2-11ee-9a57-0242ac1c000c\"] = document.querySelector(\"#id180-0-0\");\n",
              "//# sourceURL=js_c6790eaba4"
            ]
          },
          "metadata": {}
        },
        {
          "output_type": "display_data",
          "data": {
            "text/plain": [
              "<IPython.core.display.Javascript object>"
            ],
            "application/javascript": [
              "window[\"3f3a92f0-fed2-11ee-9a57-0242ac1c000c\"] = google.colab.output.setActiveOutputArea(window[\"3f3a4ca0-fed2-11ee-9a57-0242ac1c000c\"]);\n",
              "//# sourceURL=js_1848c38e14"
            ]
          },
          "metadata": {}
        },
        {
          "output_type": "stream",
          "name": "stdout",
          "text": [
            "\n",
            "\n",
            "\n"
          ]
        },
        {
          "output_type": "display_data",
          "data": {
            "text/plain": [
              "Button(description='0', style=ButtonStyle())"
            ],
            "application/vnd.jupyter.widget-view+json": {
              "version_major": 2,
              "version_minor": 0,
              "model_id": "82e4850883a540e6a25ab5adfc35af38"
            }
          },
          "metadata": {}
        },
        {
          "output_type": "display_data",
          "data": {
            "text/plain": [
              "<IPython.core.display.Javascript object>"
            ],
            "application/javascript": [
              "window[\"3f3bcfa8-fed2-11ee-9a57-0242ac1c000c\"] = google.colab.output.setActiveOutputArea(window[\"3f3a0178-fed2-11ee-9a57-0242ac1c000c\"]);\n",
              "//# sourceURL=js_e8796c9bd2"
            ]
          },
          "metadata": {}
        },
        {
          "output_type": "display_data",
          "data": {
            "text/plain": [
              "<IPython.core.display.Javascript object>"
            ],
            "application/javascript": [
              "window[\"3f3e88a6-fed2-11ee-9a57-0242ac1c000c\"] = google.colab.output.getActiveOutputArea();\n",
              "//# sourceURL=js_43eacb7016"
            ]
          },
          "metadata": {}
        },
        {
          "output_type": "display_data",
          "data": {
            "text/plain": [
              "<IPython.core.display.Javascript object>"
            ],
            "application/javascript": [
              "window[\"3f3ee224-fed2-11ee-9a57-0242ac1c000c\"] = document.querySelector(\"#id180-0-1\");\n",
              "//# sourceURL=js_417791cf09"
            ]
          },
          "metadata": {}
        },
        {
          "output_type": "display_data",
          "data": {
            "text/plain": [
              "<IPython.core.display.Javascript object>"
            ],
            "application/javascript": [
              "window[\"3f3f2e64-fed2-11ee-9a57-0242ac1c000c\"] = google.colab.output.setActiveOutputArea(window[\"3f3ee224-fed2-11ee-9a57-0242ac1c000c\"]);\n",
              "//# sourceURL=js_36d6456397"
            ]
          },
          "metadata": {}
        },
        {
          "output_type": "stream",
          "name": "stdout",
          "text": [
            "\n",
            "\n",
            "\n"
          ]
        },
        {
          "output_type": "display_data",
          "data": {
            "text/plain": [
              "Button(description='1', style=ButtonStyle())"
            ],
            "application/vnd.jupyter.widget-view+json": {
              "version_major": 2,
              "version_minor": 0,
              "model_id": "b539f64d7d364a6b864dbd31ac673e08"
            }
          },
          "metadata": {}
        },
        {
          "output_type": "display_data",
          "data": {
            "text/plain": [
              "<IPython.core.display.Javascript object>"
            ],
            "application/javascript": [
              "window[\"3f40fc76-fed2-11ee-9a57-0242ac1c000c\"] = google.colab.output.setActiveOutputArea(window[\"3f3e88a6-fed2-11ee-9a57-0242ac1c000c\"]);\n",
              "//# sourceURL=js_cff11b176f"
            ]
          },
          "metadata": {}
        },
        {
          "output_type": "display_data",
          "data": {
            "text/plain": [
              "<IPython.core.display.Javascript object>"
            ],
            "application/javascript": [
              "window[\"3f42da46-fed2-11ee-9a57-0242ac1c000c\"] = google.colab.output.getActiveOutputArea();\n",
              "//# sourceURL=js_5c8c3ed381"
            ]
          },
          "metadata": {}
        },
        {
          "output_type": "display_data",
          "data": {
            "text/plain": [
              "<IPython.core.display.Javascript object>"
            ],
            "application/javascript": [
              "window[\"3f43223a-fed2-11ee-9a57-0242ac1c000c\"] = document.querySelector(\"#id180-0-2\");\n",
              "//# sourceURL=js_45fce6fb94"
            ]
          },
          "metadata": {}
        },
        {
          "output_type": "display_data",
          "data": {
            "text/plain": [
              "<IPython.core.display.Javascript object>"
            ],
            "application/javascript": [
              "window[\"3f4367cc-fed2-11ee-9a57-0242ac1c000c\"] = google.colab.output.setActiveOutputArea(window[\"3f43223a-fed2-11ee-9a57-0242ac1c000c\"]);\n",
              "//# sourceURL=js_e8190baff9"
            ]
          },
          "metadata": {}
        },
        {
          "output_type": "stream",
          "name": "stdout",
          "text": [
            "\n",
            "\n",
            "\n"
          ]
        },
        {
          "output_type": "display_data",
          "data": {
            "text/plain": [
              "Button(description='2', style=ButtonStyle())"
            ],
            "application/vnd.jupyter.widget-view+json": {
              "version_major": 2,
              "version_minor": 0,
              "model_id": "49b5813dae2c4f75bca32b72dd4afc55"
            }
          },
          "metadata": {}
        },
        {
          "output_type": "display_data",
          "data": {
            "text/plain": [
              "<IPython.core.display.Javascript object>"
            ],
            "application/javascript": [
              "window[\"3f44a6e6-fed2-11ee-9a57-0242ac1c000c\"] = google.colab.output.setActiveOutputArea(window[\"3f42da46-fed2-11ee-9a57-0242ac1c000c\"]);\n",
              "//# sourceURL=js_32057dcc83"
            ]
          },
          "metadata": {}
        },
        {
          "output_type": "display_data",
          "data": {
            "text/plain": [
              "<IPython.core.display.Javascript object>"
            ],
            "application/javascript": [
              "window[\"3f4637a4-fed2-11ee-9a57-0242ac1c000c\"] = google.colab.output.getActiveOutputArea();\n",
              "//# sourceURL=js_fff4e408b9"
            ]
          },
          "metadata": {}
        },
        {
          "output_type": "display_data",
          "data": {
            "text/plain": [
              "<IPython.core.display.Javascript object>"
            ],
            "application/javascript": [
              "window[\"3f46818c-fed2-11ee-9a57-0242ac1c000c\"] = document.querySelector(\"#id180-0-0\");\n",
              "//# sourceURL=js_f4c416fddf"
            ]
          },
          "metadata": {}
        },
        {
          "output_type": "display_data",
          "data": {
            "text/plain": [
              "<IPython.core.display.Javascript object>"
            ],
            "application/javascript": [
              "window[\"3f46c6ce-fed2-11ee-9a57-0242ac1c000c\"] = google.colab.output.setActiveOutputArea(window[\"3f46818c-fed2-11ee-9a57-0242ac1c000c\"]);\n",
              "//# sourceURL=js_b62ec77694"
            ]
          },
          "metadata": {}
        },
        {
          "output_type": "stream",
          "name": "stdout",
          "text": [
            "\n",
            "\n",
            "\n"
          ]
        },
        {
          "output_type": "display_data",
          "data": {
            "text/plain": [
              "Button(description='3', style=ButtonStyle())"
            ],
            "application/vnd.jupyter.widget-view+json": {
              "version_major": 2,
              "version_minor": 0,
              "model_id": "98a4c10b503d4f4e8d5cafb526827ea1"
            }
          },
          "metadata": {}
        },
        {
          "output_type": "display_data",
          "data": {
            "text/plain": [
              "<IPython.core.display.Javascript object>"
            ],
            "application/javascript": [
              "window[\"3f480d0e-fed2-11ee-9a57-0242ac1c000c\"] = google.colab.output.setActiveOutputArea(window[\"3f4637a4-fed2-11ee-9a57-0242ac1c000c\"]);\n",
              "//# sourceURL=js_cee6dd7bda"
            ]
          },
          "metadata": {}
        },
        {
          "output_type": "display_data",
          "data": {
            "text/plain": [
              "<IPython.core.display.Javascript object>"
            ],
            "application/javascript": [
              "window[\"3f49934a-fed2-11ee-9a57-0242ac1c000c\"] = google.colab.output.getActiveOutputArea();\n",
              "//# sourceURL=js_e42c924996"
            ]
          },
          "metadata": {}
        },
        {
          "output_type": "display_data",
          "data": {
            "text/plain": [
              "<IPython.core.display.Javascript object>"
            ],
            "application/javascript": [
              "window[\"3f49d5f8-fed2-11ee-9a57-0242ac1c000c\"] = document.querySelector(\"#id180-0-1\");\n",
              "//# sourceURL=js_c115be4448"
            ]
          },
          "metadata": {}
        },
        {
          "output_type": "display_data",
          "data": {
            "text/plain": [
              "<IPython.core.display.Javascript object>"
            ],
            "application/javascript": [
              "window[\"3f4a16bc-fed2-11ee-9a57-0242ac1c000c\"] = google.colab.output.setActiveOutputArea(window[\"3f49d5f8-fed2-11ee-9a57-0242ac1c000c\"]);\n",
              "//# sourceURL=js_f5560d0ab7"
            ]
          },
          "metadata": {}
        },
        {
          "output_type": "stream",
          "name": "stdout",
          "text": [
            "\n",
            "\n",
            "\n"
          ]
        },
        {
          "output_type": "display_data",
          "data": {
            "text/plain": [
              "Button(description='4', style=ButtonStyle())"
            ],
            "application/vnd.jupyter.widget-view+json": {
              "version_major": 2,
              "version_minor": 0,
              "model_id": "4740ceaaa50441219f1fdc76765fc7bf"
            }
          },
          "metadata": {}
        },
        {
          "output_type": "display_data",
          "data": {
            "text/plain": [
              "<IPython.core.display.Javascript object>"
            ],
            "application/javascript": [
              "window[\"3f4b5252-fed2-11ee-9a57-0242ac1c000c\"] = google.colab.output.setActiveOutputArea(window[\"3f49934a-fed2-11ee-9a57-0242ac1c000c\"]);\n",
              "//# sourceURL=js_66ef4385a5"
            ]
          },
          "metadata": {}
        },
        {
          "output_type": "display_data",
          "data": {
            "text/plain": [
              "<IPython.core.display.Javascript object>"
            ],
            "application/javascript": [
              "window[\"3f4d55fc-fed2-11ee-9a57-0242ac1c000c\"] = google.colab.output.getActiveOutputArea();\n",
              "//# sourceURL=js_cc4e7e2f97"
            ]
          },
          "metadata": {}
        },
        {
          "output_type": "display_data",
          "data": {
            "text/plain": [
              "<IPython.core.display.Javascript object>"
            ],
            "application/javascript": [
              "window[\"3f4da3ea-fed2-11ee-9a57-0242ac1c000c\"] = document.querySelector(\"#id180-0-2\");\n",
              "//# sourceURL=js_8a59bb1dda"
            ]
          },
          "metadata": {}
        },
        {
          "output_type": "display_data",
          "data": {
            "text/plain": [
              "<IPython.core.display.Javascript object>"
            ],
            "application/javascript": [
              "window[\"3f4e1cee-fed2-11ee-9a57-0242ac1c000c\"] = google.colab.output.setActiveOutputArea(window[\"3f4da3ea-fed2-11ee-9a57-0242ac1c000c\"]);\n",
              "//# sourceURL=js_731eef087b"
            ]
          },
          "metadata": {}
        },
        {
          "output_type": "stream",
          "name": "stdout",
          "text": [
            "\n",
            "\n",
            "\n"
          ]
        },
        {
          "output_type": "display_data",
          "data": {
            "text/plain": [
              "Button(description='5', style=ButtonStyle())"
            ],
            "application/vnd.jupyter.widget-view+json": {
              "version_major": 2,
              "version_minor": 0,
              "model_id": "93174618976543b2bfce53169147d605"
            }
          },
          "metadata": {}
        },
        {
          "output_type": "display_data",
          "data": {
            "text/plain": [
              "<IPython.core.display.Javascript object>"
            ],
            "application/javascript": [
              "window[\"3f5097da-fed2-11ee-9a57-0242ac1c000c\"] = google.colab.output.setActiveOutputArea(window[\"3f4d55fc-fed2-11ee-9a57-0242ac1c000c\"]);\n",
              "//# sourceURL=js_1fa203f883"
            ]
          },
          "metadata": {}
        },
        {
          "output_type": "display_data",
          "data": {
            "text/plain": [
              "<IPython.core.display.Javascript object>"
            ],
            "application/javascript": [
              "window[\"3f548b2e-fed2-11ee-9a57-0242ac1c000c\"] = google.colab.output.getActiveOutputArea();\n",
              "//# sourceURL=js_4bcf238324"
            ]
          },
          "metadata": {}
        },
        {
          "output_type": "display_data",
          "data": {
            "text/plain": [
              "<IPython.core.display.Javascript object>"
            ],
            "application/javascript": [
              "window[\"3f55246c-fed2-11ee-9a57-0242ac1c000c\"] = document.querySelector(\"#id180-0-0\");\n",
              "//# sourceURL=js_6ce4a62d7d"
            ]
          },
          "metadata": {}
        },
        {
          "output_type": "display_data",
          "data": {
            "text/plain": [
              "<IPython.core.display.Javascript object>"
            ],
            "application/javascript": [
              "window[\"3f55a1c6-fed2-11ee-9a57-0242ac1c000c\"] = google.colab.output.setActiveOutputArea(window[\"3f55246c-fed2-11ee-9a57-0242ac1c000c\"]);\n",
              "//# sourceURL=js_8ec75dae7f"
            ]
          },
          "metadata": {}
        },
        {
          "output_type": "stream",
          "name": "stdout",
          "text": [
            "\n",
            "\n",
            "\n"
          ]
        },
        {
          "output_type": "display_data",
          "data": {
            "text/plain": [
              "Button(description='6', style=ButtonStyle())"
            ],
            "application/vnd.jupyter.widget-view+json": {
              "version_major": 2,
              "version_minor": 0,
              "model_id": "12985ce92b444719a22237748317d847"
            }
          },
          "metadata": {}
        },
        {
          "output_type": "display_data",
          "data": {
            "text/plain": [
              "<IPython.core.display.Javascript object>"
            ],
            "application/javascript": [
              "window[\"3f57cffa-fed2-11ee-9a57-0242ac1c000c\"] = google.colab.output.setActiveOutputArea(window[\"3f548b2e-fed2-11ee-9a57-0242ac1c000c\"]);\n",
              "//# sourceURL=js_b1e49bc44e"
            ]
          },
          "metadata": {}
        },
        {
          "output_type": "display_data",
          "data": {
            "text/plain": [
              "<IPython.core.display.Javascript object>"
            ],
            "application/javascript": [
              "window[\"3f5a0a90-fed2-11ee-9a57-0242ac1c000c\"] = google.colab.output.getActiveOutputArea();\n",
              "//# sourceURL=js_4f474378db"
            ]
          },
          "metadata": {}
        },
        {
          "output_type": "display_data",
          "data": {
            "text/plain": [
              "<IPython.core.display.Javascript object>"
            ],
            "application/javascript": [
              "window[\"3f5ae348-fed2-11ee-9a57-0242ac1c000c\"] = document.querySelector(\"#id180-0-1\");\n",
              "//# sourceURL=js_7f5b979781"
            ]
          },
          "metadata": {}
        },
        {
          "output_type": "display_data",
          "data": {
            "text/plain": [
              "<IPython.core.display.Javascript object>"
            ],
            "application/javascript": [
              "window[\"3f5b93ec-fed2-11ee-9a57-0242ac1c000c\"] = google.colab.output.setActiveOutputArea(window[\"3f5ae348-fed2-11ee-9a57-0242ac1c000c\"]);\n",
              "//# sourceURL=js_2cf33fdfc9"
            ]
          },
          "metadata": {}
        },
        {
          "output_type": "stream",
          "name": "stdout",
          "text": [
            "\n",
            "\n",
            "\n"
          ]
        },
        {
          "output_type": "display_data",
          "data": {
            "text/plain": [
              "Button(description='7', style=ButtonStyle())"
            ],
            "application/vnd.jupyter.widget-view+json": {
              "version_major": 2,
              "version_minor": 0,
              "model_id": "9d9610b32e8e4f0fa99eccbfa87611e8"
            }
          },
          "metadata": {}
        },
        {
          "output_type": "display_data",
          "data": {
            "text/plain": [
              "<IPython.core.display.Javascript object>"
            ],
            "application/javascript": [
              "window[\"3f5d1dfc-fed2-11ee-9a57-0242ac1c000c\"] = google.colab.output.setActiveOutputArea(window[\"3f5a0a90-fed2-11ee-9a57-0242ac1c000c\"]);\n",
              "//# sourceURL=js_28db74109b"
            ]
          },
          "metadata": {}
        },
        {
          "output_type": "display_data",
          "data": {
            "text/plain": [
              "<IPython.core.display.Javascript object>"
            ],
            "application/javascript": [
              "window[\"3f5f0572-fed2-11ee-9a57-0242ac1c000c\"] = google.colab.output.getActiveOutputArea();\n",
              "//# sourceURL=js_93e00b2b39"
            ]
          },
          "metadata": {}
        },
        {
          "output_type": "display_data",
          "data": {
            "text/plain": [
              "<IPython.core.display.Javascript object>"
            ],
            "application/javascript": [
              "window[\"3f5f4fc8-fed2-11ee-9a57-0242ac1c000c\"] = document.querySelector(\"#id180-0-2\");\n",
              "//# sourceURL=js_cf22e17eac"
            ]
          },
          "metadata": {}
        },
        {
          "output_type": "display_data",
          "data": {
            "text/plain": [
              "<IPython.core.display.Javascript object>"
            ],
            "application/javascript": [
              "window[\"3f5f991a-fed2-11ee-9a57-0242ac1c000c\"] = google.colab.output.setActiveOutputArea(window[\"3f5f4fc8-fed2-11ee-9a57-0242ac1c000c\"]);\n",
              "//# sourceURL=js_abc2e82fc8"
            ]
          },
          "metadata": {}
        },
        {
          "output_type": "stream",
          "name": "stdout",
          "text": [
            "\n",
            "\n",
            "\n"
          ]
        },
        {
          "output_type": "display_data",
          "data": {
            "text/plain": [
              "Button(description='8', style=ButtonStyle())"
            ],
            "application/vnd.jupyter.widget-view+json": {
              "version_major": 2,
              "version_minor": 0,
              "model_id": "78bda0018d4a4f98b263796888f3e568"
            }
          },
          "metadata": {}
        },
        {
          "output_type": "display_data",
          "data": {
            "text/plain": [
              "<IPython.core.display.Javascript object>"
            ],
            "application/javascript": [
              "window[\"3f60e84c-fed2-11ee-9a57-0242ac1c000c\"] = google.colab.output.setActiveOutputArea(window[\"3f5f0572-fed2-11ee-9a57-0242ac1c000c\"]);\n",
              "//# sourceURL=js_87f3b47c08"
            ]
          },
          "metadata": {}
        }
      ],
      "source": [
        "game = Game()#Run this game"
      ]
    },
    {
      "cell_type": "code",
      "execution_count": 6,
      "metadata": {
        "id": "Nv-wHmm66UF9"
      },
      "outputs": [],
      "source": [
        "#The implementation of CNOT gate is not right.\n",
        "#It seems that the issue lies in the implementation of the CNOT gate in\n",
        "#our make_move method. When we set the target qubit for the CNOT gate,\n",
        "#we should update the self.target attribute,\n",
        "#but also set the self.function attribute back to an empty string to indicate that\n",
        "# the gate selection is complete.\n",
        "\n",
        "def make_move(self, cell):\n",
        "    if self.function == 'H':\n",
        "        self.qc.h(cell)\n",
        "        self.tab[int(cell)]['player'] += 'H - '\n",
        "    elif self.function == 'S':\n",
        "        self.qc.s(cell)\n",
        "        self.tab[int(cell)]['player'] += \"S - \"\n",
        "    elif self.function == 'T':\n",
        "        self.qc.t(cell)\n",
        "        self.tab[int(cell)]['player'] += \"T - \"\n",
        "    elif self.function == 'CNOT' and self.target != cell:\n",
        "        if self.target == -1:\n",
        "            self.target = cell\n",
        "        else:\n",
        "            self.qc.cx(self.target, cell)\n",
        "            self.tab[self.target]['player'] += \"CX - \"\n",
        "            self.tab[cell]['player'] += \"CX - \"\n",
        "        self.function = ''  # Reset function after applying CNOT"
      ]
    }
  ],
  "metadata": {
    "colab": {
      "provenance": [],
      "include_colab_link": true
    },
    "kernelspec": {
      "display_name": "Python 3 (ipykernel)",
      "language": "python",
      "name": "python3"
    },
    "language_info": {
      "codemirror_mode": {
        "name": "ipython",
        "version": 3
      },
      "file_extension": ".py",
      "mimetype": "text/x-python",
      "name": "python",
      "nbconvert_exporter": "python",
      "pygments_lexer": "ipython3",
      "version": "3.11.5"
    },
    "widgets": {
      "application/vnd.jupyter.widget-state+json": {
        "475ff07b0320436e8d455283f176fbbb": {
          "model_module": "@jupyter-widgets/controls",
          "model_name": "ButtonModel",
          "model_module_version": "1.5.0",
          "state": {
            "_dom_classes": [],
            "_model_module": "@jupyter-widgets/controls",
            "_model_module_version": "1.5.0",
            "_model_name": "ButtonModel",
            "_view_count": null,
            "_view_module": "@jupyter-widgets/controls",
            "_view_module_version": "1.5.0",
            "_view_name": "ButtonView",
            "button_style": "",
            "description": "Measure",
            "disabled": false,
            "icon": "",
            "layout": "IPY_MODEL_63ca826829e04e728e427b536e790092",
            "style": "IPY_MODEL_12e73e3d595749a79d73b782934c7e3f",
            "tooltip": ""
          }
        },
        "63ca826829e04e728e427b536e790092": {
          "model_module": "@jupyter-widgets/base",
          "model_name": "LayoutModel",
          "model_module_version": "1.2.0",
          "state": {
            "_model_module": "@jupyter-widgets/base",
            "_model_module_version": "1.2.0",
            "_model_name": "LayoutModel",
            "_view_count": null,
            "_view_module": "@jupyter-widgets/base",
            "_view_module_version": "1.2.0",
            "_view_name": "LayoutView",
            "align_content": null,
            "align_items": null,
            "align_self": null,
            "border": null,
            "bottom": null,
            "display": null,
            "flex": null,
            "flex_flow": null,
            "grid_area": null,
            "grid_auto_columns": null,
            "grid_auto_flow": null,
            "grid_auto_rows": null,
            "grid_column": null,
            "grid_gap": null,
            "grid_row": null,
            "grid_template_areas": null,
            "grid_template_columns": null,
            "grid_template_rows": null,
            "height": "30px",
            "justify_content": null,
            "justify_items": null,
            "left": null,
            "margin": null,
            "max_height": null,
            "max_width": null,
            "min_height": null,
            "min_width": null,
            "object_fit": null,
            "object_position": null,
            "order": null,
            "overflow": null,
            "overflow_x": null,
            "overflow_y": null,
            "padding": null,
            "right": null,
            "top": null,
            "visibility": null,
            "width": "86px"
          }
        },
        "12e73e3d595749a79d73b782934c7e3f": {
          "model_module": "@jupyter-widgets/controls",
          "model_name": "ButtonStyleModel",
          "model_module_version": "1.5.0",
          "state": {
            "_model_module": "@jupyter-widgets/controls",
            "_model_module_version": "1.5.0",
            "_model_name": "ButtonStyleModel",
            "_view_count": null,
            "_view_module": "@jupyter-widgets/base",
            "_view_module_version": "1.2.0",
            "_view_name": "StyleView",
            "button_color": null,
            "font_weight": ""
          }
        },
        "7730153df6b749e6ba50f0f32485b9f2": {
          "model_module": "@jupyter-widgets/controls",
          "model_name": "ButtonModel",
          "model_module_version": "1.5.0",
          "state": {
            "_dom_classes": [],
            "_model_module": "@jupyter-widgets/controls",
            "_model_module_version": "1.5.0",
            "_model_name": "ButtonModel",
            "_view_count": null,
            "_view_module": "@jupyter-widgets/controls",
            "_view_module_version": "1.5.0",
            "_view_name": "ButtonView",
            "button_style": "",
            "description": "H",
            "disabled": false,
            "icon": "",
            "layout": "IPY_MODEL_13fe043138b94885b1b29bdac010ff5e",
            "style": "IPY_MODEL_0582f487f6f34b66bc3a697f6d799360",
            "tooltip": ""
          }
        },
        "13fe043138b94885b1b29bdac010ff5e": {
          "model_module": "@jupyter-widgets/base",
          "model_name": "LayoutModel",
          "model_module_version": "1.2.0",
          "state": {
            "_model_module": "@jupyter-widgets/base",
            "_model_module_version": "1.2.0",
            "_model_name": "LayoutModel",
            "_view_count": null,
            "_view_module": "@jupyter-widgets/base",
            "_view_module_version": "1.2.0",
            "_view_name": "LayoutView",
            "align_content": null,
            "align_items": null,
            "align_self": null,
            "border": null,
            "bottom": null,
            "display": null,
            "flex": null,
            "flex_flow": null,
            "grid_area": null,
            "grid_auto_columns": null,
            "grid_auto_flow": null,
            "grid_auto_rows": null,
            "grid_column": null,
            "grid_gap": null,
            "grid_row": null,
            "grid_template_areas": null,
            "grid_template_columns": null,
            "grid_template_rows": null,
            "height": "30px",
            "justify_content": null,
            "justify_items": null,
            "left": null,
            "margin": null,
            "max_height": null,
            "max_width": null,
            "min_height": null,
            "min_width": null,
            "object_fit": null,
            "object_position": null,
            "order": null,
            "overflow": null,
            "overflow_x": null,
            "overflow_y": null,
            "padding": null,
            "right": null,
            "top": null,
            "visibility": null,
            "width": "86px"
          }
        },
        "0582f487f6f34b66bc3a697f6d799360": {
          "model_module": "@jupyter-widgets/controls",
          "model_name": "ButtonStyleModel",
          "model_module_version": "1.5.0",
          "state": {
            "_model_module": "@jupyter-widgets/controls",
            "_model_module_version": "1.5.0",
            "_model_name": "ButtonStyleModel",
            "_view_count": null,
            "_view_module": "@jupyter-widgets/base",
            "_view_module_version": "1.2.0",
            "_view_name": "StyleView",
            "button_color": null,
            "font_weight": ""
          }
        },
        "6564547cb5094ca1b1212848abcaa7ad": {
          "model_module": "@jupyter-widgets/controls",
          "model_name": "ButtonModel",
          "model_module_version": "1.5.0",
          "state": {
            "_dom_classes": [],
            "_model_module": "@jupyter-widgets/controls",
            "_model_module_version": "1.5.0",
            "_model_name": "ButtonModel",
            "_view_count": null,
            "_view_module": "@jupyter-widgets/controls",
            "_view_module_version": "1.5.0",
            "_view_name": "ButtonView",
            "button_style": "",
            "description": "S",
            "disabled": false,
            "icon": "",
            "layout": "IPY_MODEL_2cef8e3813574cb3acf66808b77d9226",
            "style": "IPY_MODEL_3db02abd77664dfa956d0c548fcdcb6a",
            "tooltip": ""
          }
        },
        "2cef8e3813574cb3acf66808b77d9226": {
          "model_module": "@jupyter-widgets/base",
          "model_name": "LayoutModel",
          "model_module_version": "1.2.0",
          "state": {
            "_model_module": "@jupyter-widgets/base",
            "_model_module_version": "1.2.0",
            "_model_name": "LayoutModel",
            "_view_count": null,
            "_view_module": "@jupyter-widgets/base",
            "_view_module_version": "1.2.0",
            "_view_name": "LayoutView",
            "align_content": null,
            "align_items": null,
            "align_self": null,
            "border": null,
            "bottom": null,
            "display": null,
            "flex": null,
            "flex_flow": null,
            "grid_area": null,
            "grid_auto_columns": null,
            "grid_auto_flow": null,
            "grid_auto_rows": null,
            "grid_column": null,
            "grid_gap": null,
            "grid_row": null,
            "grid_template_areas": null,
            "grid_template_columns": null,
            "grid_template_rows": null,
            "height": "30px",
            "justify_content": null,
            "justify_items": null,
            "left": null,
            "margin": null,
            "max_height": null,
            "max_width": null,
            "min_height": null,
            "min_width": null,
            "object_fit": null,
            "object_position": null,
            "order": null,
            "overflow": null,
            "overflow_x": null,
            "overflow_y": null,
            "padding": null,
            "right": null,
            "top": null,
            "visibility": null,
            "width": "86px"
          }
        },
        "3db02abd77664dfa956d0c548fcdcb6a": {
          "model_module": "@jupyter-widgets/controls",
          "model_name": "ButtonStyleModel",
          "model_module_version": "1.5.0",
          "state": {
            "_model_module": "@jupyter-widgets/controls",
            "_model_module_version": "1.5.0",
            "_model_name": "ButtonStyleModel",
            "_view_count": null,
            "_view_module": "@jupyter-widgets/base",
            "_view_module_version": "1.2.0",
            "_view_name": "StyleView",
            "button_color": null,
            "font_weight": ""
          }
        },
        "3742b34be7014ed190d0353862eb66e4": {
          "model_module": "@jupyter-widgets/controls",
          "model_name": "ButtonModel",
          "model_module_version": "1.5.0",
          "state": {
            "_dom_classes": [],
            "_model_module": "@jupyter-widgets/controls",
            "_model_module_version": "1.5.0",
            "_model_name": "ButtonModel",
            "_view_count": null,
            "_view_module": "@jupyter-widgets/controls",
            "_view_module_version": "1.5.0",
            "_view_name": "ButtonView",
            "button_style": "",
            "description": "T",
            "disabled": false,
            "icon": "",
            "layout": "IPY_MODEL_53996b1eab8b49019e47817b2483f5c5",
            "style": "IPY_MODEL_f83e9801f12b41f994d5efec83474981",
            "tooltip": ""
          }
        },
        "53996b1eab8b49019e47817b2483f5c5": {
          "model_module": "@jupyter-widgets/base",
          "model_name": "LayoutModel",
          "model_module_version": "1.2.0",
          "state": {
            "_model_module": "@jupyter-widgets/base",
            "_model_module_version": "1.2.0",
            "_model_name": "LayoutModel",
            "_view_count": null,
            "_view_module": "@jupyter-widgets/base",
            "_view_module_version": "1.2.0",
            "_view_name": "LayoutView",
            "align_content": null,
            "align_items": null,
            "align_self": null,
            "border": null,
            "bottom": null,
            "display": null,
            "flex": null,
            "flex_flow": null,
            "grid_area": null,
            "grid_auto_columns": null,
            "grid_auto_flow": null,
            "grid_auto_rows": null,
            "grid_column": null,
            "grid_gap": null,
            "grid_row": null,
            "grid_template_areas": null,
            "grid_template_columns": null,
            "grid_template_rows": null,
            "height": "30px",
            "justify_content": null,
            "justify_items": null,
            "left": null,
            "margin": null,
            "max_height": null,
            "max_width": null,
            "min_height": null,
            "min_width": null,
            "object_fit": null,
            "object_position": null,
            "order": null,
            "overflow": null,
            "overflow_x": null,
            "overflow_y": null,
            "padding": null,
            "right": null,
            "top": null,
            "visibility": null,
            "width": "86px"
          }
        },
        "f83e9801f12b41f994d5efec83474981": {
          "model_module": "@jupyter-widgets/controls",
          "model_name": "ButtonStyleModel",
          "model_module_version": "1.5.0",
          "state": {
            "_model_module": "@jupyter-widgets/controls",
            "_model_module_version": "1.5.0",
            "_model_name": "ButtonStyleModel",
            "_view_count": null,
            "_view_module": "@jupyter-widgets/base",
            "_view_module_version": "1.2.0",
            "_view_name": "StyleView",
            "button_color": null,
            "font_weight": ""
          }
        },
        "1b89be0be40946f48748f106e3443e50": {
          "model_module": "@jupyter-widgets/controls",
          "model_name": "ButtonModel",
          "model_module_version": "1.5.0",
          "state": {
            "_dom_classes": [],
            "_model_module": "@jupyter-widgets/controls",
            "_model_module_version": "1.5.0",
            "_model_name": "ButtonModel",
            "_view_count": null,
            "_view_module": "@jupyter-widgets/controls",
            "_view_module_version": "1.5.0",
            "_view_name": "ButtonView",
            "button_style": "",
            "description": "CNOT",
            "disabled": false,
            "icon": "",
            "layout": "IPY_MODEL_58f729bb9ace494ea4748ee4475bce5b",
            "style": "IPY_MODEL_d18b833b151247c98cb9660854e33834",
            "tooltip": ""
          }
        },
        "58f729bb9ace494ea4748ee4475bce5b": {
          "model_module": "@jupyter-widgets/base",
          "model_name": "LayoutModel",
          "model_module_version": "1.2.0",
          "state": {
            "_model_module": "@jupyter-widgets/base",
            "_model_module_version": "1.2.0",
            "_model_name": "LayoutModel",
            "_view_count": null,
            "_view_module": "@jupyter-widgets/base",
            "_view_module_version": "1.2.0",
            "_view_name": "LayoutView",
            "align_content": null,
            "align_items": null,
            "align_self": null,
            "border": null,
            "bottom": null,
            "display": null,
            "flex": null,
            "flex_flow": null,
            "grid_area": null,
            "grid_auto_columns": null,
            "grid_auto_flow": null,
            "grid_auto_rows": null,
            "grid_column": null,
            "grid_gap": null,
            "grid_row": null,
            "grid_template_areas": null,
            "grid_template_columns": null,
            "grid_template_rows": null,
            "height": "30px",
            "justify_content": null,
            "justify_items": null,
            "left": null,
            "margin": null,
            "max_height": null,
            "max_width": null,
            "min_height": null,
            "min_width": null,
            "object_fit": null,
            "object_position": null,
            "order": null,
            "overflow": null,
            "overflow_x": null,
            "overflow_y": null,
            "padding": null,
            "right": null,
            "top": null,
            "visibility": null,
            "width": "86px"
          }
        },
        "d18b833b151247c98cb9660854e33834": {
          "model_module": "@jupyter-widgets/controls",
          "model_name": "ButtonStyleModel",
          "model_module_version": "1.5.0",
          "state": {
            "_model_module": "@jupyter-widgets/controls",
            "_model_module_version": "1.5.0",
            "_model_name": "ButtonStyleModel",
            "_view_count": null,
            "_view_module": "@jupyter-widgets/base",
            "_view_module_version": "1.2.0",
            "_view_name": "StyleView",
            "button_color": null,
            "font_weight": ""
          }
        },
        "82e4850883a540e6a25ab5adfc35af38": {
          "model_module": "@jupyter-widgets/controls",
          "model_name": "ButtonModel",
          "model_module_version": "1.5.0",
          "state": {
            "_dom_classes": [],
            "_model_module": "@jupyter-widgets/controls",
            "_model_module_version": "1.5.0",
            "_model_name": "ButtonModel",
            "_view_count": null,
            "_view_module": "@jupyter-widgets/controls",
            "_view_module_version": "1.5.0",
            "_view_name": "ButtonView",
            "button_style": "",
            "description": "0",
            "disabled": false,
            "icon": "",
            "layout": "IPY_MODEL_9e9ddd4472af45248fb3fd3bdaf83690",
            "style": "IPY_MODEL_4d9df1dc82a74b1d95730f93eebcb513",
            "tooltip": ""
          }
        },
        "9e9ddd4472af45248fb3fd3bdaf83690": {
          "model_module": "@jupyter-widgets/base",
          "model_name": "LayoutModel",
          "model_module_version": "1.2.0",
          "state": {
            "_model_module": "@jupyter-widgets/base",
            "_model_module_version": "1.2.0",
            "_model_name": "LayoutModel",
            "_view_count": null,
            "_view_module": "@jupyter-widgets/base",
            "_view_module_version": "1.2.0",
            "_view_name": "LayoutView",
            "align_content": null,
            "align_items": null,
            "align_self": null,
            "border": null,
            "bottom": null,
            "display": null,
            "flex": null,
            "flex_flow": null,
            "grid_area": null,
            "grid_auto_columns": null,
            "grid_auto_flow": null,
            "grid_auto_rows": null,
            "grid_column": null,
            "grid_gap": null,
            "grid_row": null,
            "grid_template_areas": null,
            "grid_template_columns": null,
            "grid_template_rows": null,
            "height": null,
            "justify_content": null,
            "justify_items": null,
            "left": null,
            "margin": null,
            "max_height": null,
            "max_width": null,
            "min_height": null,
            "min_width": null,
            "object_fit": null,
            "object_position": null,
            "order": null,
            "overflow": null,
            "overflow_x": null,
            "overflow_y": null,
            "padding": null,
            "right": null,
            "top": null,
            "visibility": null,
            "width": null
          }
        },
        "4d9df1dc82a74b1d95730f93eebcb513": {
          "model_module": "@jupyter-widgets/controls",
          "model_name": "ButtonStyleModel",
          "model_module_version": "1.5.0",
          "state": {
            "_model_module": "@jupyter-widgets/controls",
            "_model_module_version": "1.5.0",
            "_model_name": "ButtonStyleModel",
            "_view_count": null,
            "_view_module": "@jupyter-widgets/base",
            "_view_module_version": "1.2.0",
            "_view_name": "StyleView",
            "button_color": null,
            "font_weight": ""
          }
        },
        "b539f64d7d364a6b864dbd31ac673e08": {
          "model_module": "@jupyter-widgets/controls",
          "model_name": "ButtonModel",
          "model_module_version": "1.5.0",
          "state": {
            "_dom_classes": [],
            "_model_module": "@jupyter-widgets/controls",
            "_model_module_version": "1.5.0",
            "_model_name": "ButtonModel",
            "_view_count": null,
            "_view_module": "@jupyter-widgets/controls",
            "_view_module_version": "1.5.0",
            "_view_name": "ButtonView",
            "button_style": "",
            "description": "1",
            "disabled": false,
            "icon": "",
            "layout": "IPY_MODEL_781f0aa6cae743f4bda2ed3661a74ed5",
            "style": "IPY_MODEL_926ad0f4d6bc4ec89882c90b66b5a1c9",
            "tooltip": ""
          }
        },
        "781f0aa6cae743f4bda2ed3661a74ed5": {
          "model_module": "@jupyter-widgets/base",
          "model_name": "LayoutModel",
          "model_module_version": "1.2.0",
          "state": {
            "_model_module": "@jupyter-widgets/base",
            "_model_module_version": "1.2.0",
            "_model_name": "LayoutModel",
            "_view_count": null,
            "_view_module": "@jupyter-widgets/base",
            "_view_module_version": "1.2.0",
            "_view_name": "LayoutView",
            "align_content": null,
            "align_items": null,
            "align_self": null,
            "border": null,
            "bottom": null,
            "display": null,
            "flex": null,
            "flex_flow": null,
            "grid_area": null,
            "grid_auto_columns": null,
            "grid_auto_flow": null,
            "grid_auto_rows": null,
            "grid_column": null,
            "grid_gap": null,
            "grid_row": null,
            "grid_template_areas": null,
            "grid_template_columns": null,
            "grid_template_rows": null,
            "height": null,
            "justify_content": null,
            "justify_items": null,
            "left": null,
            "margin": null,
            "max_height": null,
            "max_width": null,
            "min_height": null,
            "min_width": null,
            "object_fit": null,
            "object_position": null,
            "order": null,
            "overflow": null,
            "overflow_x": null,
            "overflow_y": null,
            "padding": null,
            "right": null,
            "top": null,
            "visibility": null,
            "width": null
          }
        },
        "926ad0f4d6bc4ec89882c90b66b5a1c9": {
          "model_module": "@jupyter-widgets/controls",
          "model_name": "ButtonStyleModel",
          "model_module_version": "1.5.0",
          "state": {
            "_model_module": "@jupyter-widgets/controls",
            "_model_module_version": "1.5.0",
            "_model_name": "ButtonStyleModel",
            "_view_count": null,
            "_view_module": "@jupyter-widgets/base",
            "_view_module_version": "1.2.0",
            "_view_name": "StyleView",
            "button_color": null,
            "font_weight": ""
          }
        },
        "49b5813dae2c4f75bca32b72dd4afc55": {
          "model_module": "@jupyter-widgets/controls",
          "model_name": "ButtonModel",
          "model_module_version": "1.5.0",
          "state": {
            "_dom_classes": [],
            "_model_module": "@jupyter-widgets/controls",
            "_model_module_version": "1.5.0",
            "_model_name": "ButtonModel",
            "_view_count": null,
            "_view_module": "@jupyter-widgets/controls",
            "_view_module_version": "1.5.0",
            "_view_name": "ButtonView",
            "button_style": "",
            "description": "2",
            "disabled": false,
            "icon": "",
            "layout": "IPY_MODEL_72e5ef07998e4b47b2e68001a0a5b6bd",
            "style": "IPY_MODEL_f4f888b9cfcf46e1b0bad9032701d91e",
            "tooltip": ""
          }
        },
        "72e5ef07998e4b47b2e68001a0a5b6bd": {
          "model_module": "@jupyter-widgets/base",
          "model_name": "LayoutModel",
          "model_module_version": "1.2.0",
          "state": {
            "_model_module": "@jupyter-widgets/base",
            "_model_module_version": "1.2.0",
            "_model_name": "LayoutModel",
            "_view_count": null,
            "_view_module": "@jupyter-widgets/base",
            "_view_module_version": "1.2.0",
            "_view_name": "LayoutView",
            "align_content": null,
            "align_items": null,
            "align_self": null,
            "border": null,
            "bottom": null,
            "display": null,
            "flex": null,
            "flex_flow": null,
            "grid_area": null,
            "grid_auto_columns": null,
            "grid_auto_flow": null,
            "grid_auto_rows": null,
            "grid_column": null,
            "grid_gap": null,
            "grid_row": null,
            "grid_template_areas": null,
            "grid_template_columns": null,
            "grid_template_rows": null,
            "height": null,
            "justify_content": null,
            "justify_items": null,
            "left": null,
            "margin": null,
            "max_height": null,
            "max_width": null,
            "min_height": null,
            "min_width": null,
            "object_fit": null,
            "object_position": null,
            "order": null,
            "overflow": null,
            "overflow_x": null,
            "overflow_y": null,
            "padding": null,
            "right": null,
            "top": null,
            "visibility": null,
            "width": null
          }
        },
        "f4f888b9cfcf46e1b0bad9032701d91e": {
          "model_module": "@jupyter-widgets/controls",
          "model_name": "ButtonStyleModel",
          "model_module_version": "1.5.0",
          "state": {
            "_model_module": "@jupyter-widgets/controls",
            "_model_module_version": "1.5.0",
            "_model_name": "ButtonStyleModel",
            "_view_count": null,
            "_view_module": "@jupyter-widgets/base",
            "_view_module_version": "1.2.0",
            "_view_name": "StyleView",
            "button_color": null,
            "font_weight": ""
          }
        },
        "98a4c10b503d4f4e8d5cafb526827ea1": {
          "model_module": "@jupyter-widgets/controls",
          "model_name": "ButtonModel",
          "model_module_version": "1.5.0",
          "state": {
            "_dom_classes": [],
            "_model_module": "@jupyter-widgets/controls",
            "_model_module_version": "1.5.0",
            "_model_name": "ButtonModel",
            "_view_count": null,
            "_view_module": "@jupyter-widgets/controls",
            "_view_module_version": "1.5.0",
            "_view_name": "ButtonView",
            "button_style": "",
            "description": "3",
            "disabled": false,
            "icon": "",
            "layout": "IPY_MODEL_4cb36756a1e442b7a9bdb3ab858d2884",
            "style": "IPY_MODEL_be8c270e0e164b1e8e51970c963ecaed",
            "tooltip": ""
          }
        },
        "4cb36756a1e442b7a9bdb3ab858d2884": {
          "model_module": "@jupyter-widgets/base",
          "model_name": "LayoutModel",
          "model_module_version": "1.2.0",
          "state": {
            "_model_module": "@jupyter-widgets/base",
            "_model_module_version": "1.2.0",
            "_model_name": "LayoutModel",
            "_view_count": null,
            "_view_module": "@jupyter-widgets/base",
            "_view_module_version": "1.2.0",
            "_view_name": "LayoutView",
            "align_content": null,
            "align_items": null,
            "align_self": null,
            "border": null,
            "bottom": null,
            "display": null,
            "flex": null,
            "flex_flow": null,
            "grid_area": null,
            "grid_auto_columns": null,
            "grid_auto_flow": null,
            "grid_auto_rows": null,
            "grid_column": null,
            "grid_gap": null,
            "grid_row": null,
            "grid_template_areas": null,
            "grid_template_columns": null,
            "grid_template_rows": null,
            "height": null,
            "justify_content": null,
            "justify_items": null,
            "left": null,
            "margin": null,
            "max_height": null,
            "max_width": null,
            "min_height": null,
            "min_width": null,
            "object_fit": null,
            "object_position": null,
            "order": null,
            "overflow": null,
            "overflow_x": null,
            "overflow_y": null,
            "padding": null,
            "right": null,
            "top": null,
            "visibility": null,
            "width": null
          }
        },
        "be8c270e0e164b1e8e51970c963ecaed": {
          "model_module": "@jupyter-widgets/controls",
          "model_name": "ButtonStyleModel",
          "model_module_version": "1.5.0",
          "state": {
            "_model_module": "@jupyter-widgets/controls",
            "_model_module_version": "1.5.0",
            "_model_name": "ButtonStyleModel",
            "_view_count": null,
            "_view_module": "@jupyter-widgets/base",
            "_view_module_version": "1.2.0",
            "_view_name": "StyleView",
            "button_color": null,
            "font_weight": ""
          }
        },
        "4740ceaaa50441219f1fdc76765fc7bf": {
          "model_module": "@jupyter-widgets/controls",
          "model_name": "ButtonModel",
          "model_module_version": "1.5.0",
          "state": {
            "_dom_classes": [],
            "_model_module": "@jupyter-widgets/controls",
            "_model_module_version": "1.5.0",
            "_model_name": "ButtonModel",
            "_view_count": null,
            "_view_module": "@jupyter-widgets/controls",
            "_view_module_version": "1.5.0",
            "_view_name": "ButtonView",
            "button_style": "",
            "description": "4",
            "disabled": false,
            "icon": "",
            "layout": "IPY_MODEL_8a5b060c17a34079b76cbfb2564c68de",
            "style": "IPY_MODEL_c08807a78dfd49d6a4d9dfe4df4ac830",
            "tooltip": ""
          }
        },
        "8a5b060c17a34079b76cbfb2564c68de": {
          "model_module": "@jupyter-widgets/base",
          "model_name": "LayoutModel",
          "model_module_version": "1.2.0",
          "state": {
            "_model_module": "@jupyter-widgets/base",
            "_model_module_version": "1.2.0",
            "_model_name": "LayoutModel",
            "_view_count": null,
            "_view_module": "@jupyter-widgets/base",
            "_view_module_version": "1.2.0",
            "_view_name": "LayoutView",
            "align_content": null,
            "align_items": null,
            "align_self": null,
            "border": null,
            "bottom": null,
            "display": null,
            "flex": null,
            "flex_flow": null,
            "grid_area": null,
            "grid_auto_columns": null,
            "grid_auto_flow": null,
            "grid_auto_rows": null,
            "grid_column": null,
            "grid_gap": null,
            "grid_row": null,
            "grid_template_areas": null,
            "grid_template_columns": null,
            "grid_template_rows": null,
            "height": null,
            "justify_content": null,
            "justify_items": null,
            "left": null,
            "margin": null,
            "max_height": null,
            "max_width": null,
            "min_height": null,
            "min_width": null,
            "object_fit": null,
            "object_position": null,
            "order": null,
            "overflow": null,
            "overflow_x": null,
            "overflow_y": null,
            "padding": null,
            "right": null,
            "top": null,
            "visibility": null,
            "width": null
          }
        },
        "c08807a78dfd49d6a4d9dfe4df4ac830": {
          "model_module": "@jupyter-widgets/controls",
          "model_name": "ButtonStyleModel",
          "model_module_version": "1.5.0",
          "state": {
            "_model_module": "@jupyter-widgets/controls",
            "_model_module_version": "1.5.0",
            "_model_name": "ButtonStyleModel",
            "_view_count": null,
            "_view_module": "@jupyter-widgets/base",
            "_view_module_version": "1.2.0",
            "_view_name": "StyleView",
            "button_color": null,
            "font_weight": ""
          }
        },
        "93174618976543b2bfce53169147d605": {
          "model_module": "@jupyter-widgets/controls",
          "model_name": "ButtonModel",
          "model_module_version": "1.5.0",
          "state": {
            "_dom_classes": [],
            "_model_module": "@jupyter-widgets/controls",
            "_model_module_version": "1.5.0",
            "_model_name": "ButtonModel",
            "_view_count": null,
            "_view_module": "@jupyter-widgets/controls",
            "_view_module_version": "1.5.0",
            "_view_name": "ButtonView",
            "button_style": "",
            "description": "5",
            "disabled": false,
            "icon": "",
            "layout": "IPY_MODEL_a9336a19bfec4c1cbeac38d9da501c90",
            "style": "IPY_MODEL_60c9ce92dc194e029e4e36d2617f7c48",
            "tooltip": ""
          }
        },
        "a9336a19bfec4c1cbeac38d9da501c90": {
          "model_module": "@jupyter-widgets/base",
          "model_name": "LayoutModel",
          "model_module_version": "1.2.0",
          "state": {
            "_model_module": "@jupyter-widgets/base",
            "_model_module_version": "1.2.0",
            "_model_name": "LayoutModel",
            "_view_count": null,
            "_view_module": "@jupyter-widgets/base",
            "_view_module_version": "1.2.0",
            "_view_name": "LayoutView",
            "align_content": null,
            "align_items": null,
            "align_self": null,
            "border": null,
            "bottom": null,
            "display": null,
            "flex": null,
            "flex_flow": null,
            "grid_area": null,
            "grid_auto_columns": null,
            "grid_auto_flow": null,
            "grid_auto_rows": null,
            "grid_column": null,
            "grid_gap": null,
            "grid_row": null,
            "grid_template_areas": null,
            "grid_template_columns": null,
            "grid_template_rows": null,
            "height": null,
            "justify_content": null,
            "justify_items": null,
            "left": null,
            "margin": null,
            "max_height": null,
            "max_width": null,
            "min_height": null,
            "min_width": null,
            "object_fit": null,
            "object_position": null,
            "order": null,
            "overflow": null,
            "overflow_x": null,
            "overflow_y": null,
            "padding": null,
            "right": null,
            "top": null,
            "visibility": null,
            "width": null
          }
        },
        "60c9ce92dc194e029e4e36d2617f7c48": {
          "model_module": "@jupyter-widgets/controls",
          "model_name": "ButtonStyleModel",
          "model_module_version": "1.5.0",
          "state": {
            "_model_module": "@jupyter-widgets/controls",
            "_model_module_version": "1.5.0",
            "_model_name": "ButtonStyleModel",
            "_view_count": null,
            "_view_module": "@jupyter-widgets/base",
            "_view_module_version": "1.2.0",
            "_view_name": "StyleView",
            "button_color": null,
            "font_weight": ""
          }
        },
        "12985ce92b444719a22237748317d847": {
          "model_module": "@jupyter-widgets/controls",
          "model_name": "ButtonModel",
          "model_module_version": "1.5.0",
          "state": {
            "_dom_classes": [],
            "_model_module": "@jupyter-widgets/controls",
            "_model_module_version": "1.5.0",
            "_model_name": "ButtonModel",
            "_view_count": null,
            "_view_module": "@jupyter-widgets/controls",
            "_view_module_version": "1.5.0",
            "_view_name": "ButtonView",
            "button_style": "",
            "description": "6",
            "disabled": false,
            "icon": "",
            "layout": "IPY_MODEL_ce6c3b9fcec74735ba4b15f7325f691f",
            "style": "IPY_MODEL_084109d7a97a4322ad2190cd94d9644c",
            "tooltip": ""
          }
        },
        "ce6c3b9fcec74735ba4b15f7325f691f": {
          "model_module": "@jupyter-widgets/base",
          "model_name": "LayoutModel",
          "model_module_version": "1.2.0",
          "state": {
            "_model_module": "@jupyter-widgets/base",
            "_model_module_version": "1.2.0",
            "_model_name": "LayoutModel",
            "_view_count": null,
            "_view_module": "@jupyter-widgets/base",
            "_view_module_version": "1.2.0",
            "_view_name": "LayoutView",
            "align_content": null,
            "align_items": null,
            "align_self": null,
            "border": null,
            "bottom": null,
            "display": null,
            "flex": null,
            "flex_flow": null,
            "grid_area": null,
            "grid_auto_columns": null,
            "grid_auto_flow": null,
            "grid_auto_rows": null,
            "grid_column": null,
            "grid_gap": null,
            "grid_row": null,
            "grid_template_areas": null,
            "grid_template_columns": null,
            "grid_template_rows": null,
            "height": null,
            "justify_content": null,
            "justify_items": null,
            "left": null,
            "margin": null,
            "max_height": null,
            "max_width": null,
            "min_height": null,
            "min_width": null,
            "object_fit": null,
            "object_position": null,
            "order": null,
            "overflow": null,
            "overflow_x": null,
            "overflow_y": null,
            "padding": null,
            "right": null,
            "top": null,
            "visibility": null,
            "width": null
          }
        },
        "084109d7a97a4322ad2190cd94d9644c": {
          "model_module": "@jupyter-widgets/controls",
          "model_name": "ButtonStyleModel",
          "model_module_version": "1.5.0",
          "state": {
            "_model_module": "@jupyter-widgets/controls",
            "_model_module_version": "1.5.0",
            "_model_name": "ButtonStyleModel",
            "_view_count": null,
            "_view_module": "@jupyter-widgets/base",
            "_view_module_version": "1.2.0",
            "_view_name": "StyleView",
            "button_color": null,
            "font_weight": ""
          }
        },
        "9d9610b32e8e4f0fa99eccbfa87611e8": {
          "model_module": "@jupyter-widgets/controls",
          "model_name": "ButtonModel",
          "model_module_version": "1.5.0",
          "state": {
            "_dom_classes": [],
            "_model_module": "@jupyter-widgets/controls",
            "_model_module_version": "1.5.0",
            "_model_name": "ButtonModel",
            "_view_count": null,
            "_view_module": "@jupyter-widgets/controls",
            "_view_module_version": "1.5.0",
            "_view_name": "ButtonView",
            "button_style": "",
            "description": "7",
            "disabled": false,
            "icon": "",
            "layout": "IPY_MODEL_ce4db23f317948218ac6682d577f11fd",
            "style": "IPY_MODEL_d53ffd59226347b48dac44ebdd7b0050",
            "tooltip": ""
          }
        },
        "ce4db23f317948218ac6682d577f11fd": {
          "model_module": "@jupyter-widgets/base",
          "model_name": "LayoutModel",
          "model_module_version": "1.2.0",
          "state": {
            "_model_module": "@jupyter-widgets/base",
            "_model_module_version": "1.2.0",
            "_model_name": "LayoutModel",
            "_view_count": null,
            "_view_module": "@jupyter-widgets/base",
            "_view_module_version": "1.2.0",
            "_view_name": "LayoutView",
            "align_content": null,
            "align_items": null,
            "align_self": null,
            "border": null,
            "bottom": null,
            "display": null,
            "flex": null,
            "flex_flow": null,
            "grid_area": null,
            "grid_auto_columns": null,
            "grid_auto_flow": null,
            "grid_auto_rows": null,
            "grid_column": null,
            "grid_gap": null,
            "grid_row": null,
            "grid_template_areas": null,
            "grid_template_columns": null,
            "grid_template_rows": null,
            "height": null,
            "justify_content": null,
            "justify_items": null,
            "left": null,
            "margin": null,
            "max_height": null,
            "max_width": null,
            "min_height": null,
            "min_width": null,
            "object_fit": null,
            "object_position": null,
            "order": null,
            "overflow": null,
            "overflow_x": null,
            "overflow_y": null,
            "padding": null,
            "right": null,
            "top": null,
            "visibility": null,
            "width": null
          }
        },
        "d53ffd59226347b48dac44ebdd7b0050": {
          "model_module": "@jupyter-widgets/controls",
          "model_name": "ButtonStyleModel",
          "model_module_version": "1.5.0",
          "state": {
            "_model_module": "@jupyter-widgets/controls",
            "_model_module_version": "1.5.0",
            "_model_name": "ButtonStyleModel",
            "_view_count": null,
            "_view_module": "@jupyter-widgets/base",
            "_view_module_version": "1.2.0",
            "_view_name": "StyleView",
            "button_color": null,
            "font_weight": ""
          }
        },
        "78bda0018d4a4f98b263796888f3e568": {
          "model_module": "@jupyter-widgets/controls",
          "model_name": "ButtonModel",
          "model_module_version": "1.5.0",
          "state": {
            "_dom_classes": [],
            "_model_module": "@jupyter-widgets/controls",
            "_model_module_version": "1.5.0",
            "_model_name": "ButtonModel",
            "_view_count": null,
            "_view_module": "@jupyter-widgets/controls",
            "_view_module_version": "1.5.0",
            "_view_name": "ButtonView",
            "button_style": "",
            "description": "8",
            "disabled": false,
            "icon": "",
            "layout": "IPY_MODEL_6e34c942e9594747bd881f83ce2df575",
            "style": "IPY_MODEL_aaddc5f678d445bcb98faeff647d970e",
            "tooltip": ""
          }
        },
        "6e34c942e9594747bd881f83ce2df575": {
          "model_module": "@jupyter-widgets/base",
          "model_name": "LayoutModel",
          "model_module_version": "1.2.0",
          "state": {
            "_model_module": "@jupyter-widgets/base",
            "_model_module_version": "1.2.0",
            "_model_name": "LayoutModel",
            "_view_count": null,
            "_view_module": "@jupyter-widgets/base",
            "_view_module_version": "1.2.0",
            "_view_name": "LayoutView",
            "align_content": null,
            "align_items": null,
            "align_self": null,
            "border": null,
            "bottom": null,
            "display": null,
            "flex": null,
            "flex_flow": null,
            "grid_area": null,
            "grid_auto_columns": null,
            "grid_auto_flow": null,
            "grid_auto_rows": null,
            "grid_column": null,
            "grid_gap": null,
            "grid_row": null,
            "grid_template_areas": null,
            "grid_template_columns": null,
            "grid_template_rows": null,
            "height": null,
            "justify_content": null,
            "justify_items": null,
            "left": null,
            "margin": null,
            "max_height": null,
            "max_width": null,
            "min_height": null,
            "min_width": null,
            "object_fit": null,
            "object_position": null,
            "order": null,
            "overflow": null,
            "overflow_x": null,
            "overflow_y": null,
            "padding": null,
            "right": null,
            "top": null,
            "visibility": null,
            "width": null
          }
        },
        "aaddc5f678d445bcb98faeff647d970e": {
          "model_module": "@jupyter-widgets/controls",
          "model_name": "ButtonStyleModel",
          "model_module_version": "1.5.0",
          "state": {
            "_model_module": "@jupyter-widgets/controls",
            "_model_module_version": "1.5.0",
            "_model_name": "ButtonStyleModel",
            "_view_count": null,
            "_view_module": "@jupyter-widgets/base",
            "_view_module_version": "1.2.0",
            "_view_name": "StyleView",
            "button_color": null,
            "font_weight": ""
          }
        },
        "b298052b45c54b08b80b5192a651287f": {
          "model_module": "@jupyter-widgets/controls",
          "model_name": "ButtonModel",
          "model_module_version": "1.5.0",
          "state": {
            "_dom_classes": [],
            "_model_module": "@jupyter-widgets/controls",
            "_model_module_version": "1.5.0",
            "_model_name": "ButtonModel",
            "_view_count": null,
            "_view_module": "@jupyter-widgets/controls",
            "_view_module_version": "1.5.0",
            "_view_name": "ButtonView",
            "button_style": "",
            "description": "Replay",
            "disabled": false,
            "icon": "",
            "layout": "IPY_MODEL_58499b2c70964943ba10d7601ee4edf7",
            "style": "IPY_MODEL_bf0207c78ebf450bbce34a9b5a84a595",
            "tooltip": ""
          }
        },
        "58499b2c70964943ba10d7601ee4edf7": {
          "model_module": "@jupyter-widgets/base",
          "model_name": "LayoutModel",
          "model_module_version": "1.2.0",
          "state": {
            "_model_module": "@jupyter-widgets/base",
            "_model_module_version": "1.2.0",
            "_model_name": "LayoutModel",
            "_view_count": null,
            "_view_module": "@jupyter-widgets/base",
            "_view_module_version": "1.2.0",
            "_view_name": "LayoutView",
            "align_content": null,
            "align_items": null,
            "align_self": null,
            "border": null,
            "bottom": null,
            "display": null,
            "flex": null,
            "flex_flow": null,
            "grid_area": null,
            "grid_auto_columns": null,
            "grid_auto_flow": null,
            "grid_auto_rows": null,
            "grid_column": null,
            "grid_gap": null,
            "grid_row": null,
            "grid_template_areas": null,
            "grid_template_columns": null,
            "grid_template_rows": null,
            "height": null,
            "justify_content": null,
            "justify_items": null,
            "left": null,
            "margin": null,
            "max_height": null,
            "max_width": null,
            "min_height": null,
            "min_width": null,
            "object_fit": null,
            "object_position": null,
            "order": null,
            "overflow": null,
            "overflow_x": null,
            "overflow_y": null,
            "padding": null,
            "right": null,
            "top": null,
            "visibility": null,
            "width": null
          }
        },
        "bf0207c78ebf450bbce34a9b5a84a595": {
          "model_module": "@jupyter-widgets/controls",
          "model_name": "ButtonStyleModel",
          "model_module_version": "1.5.0",
          "state": {
            "_model_module": "@jupyter-widgets/controls",
            "_model_module_version": "1.5.0",
            "_model_name": "ButtonStyleModel",
            "_view_count": null,
            "_view_module": "@jupyter-widgets/base",
            "_view_module_version": "1.2.0",
            "_view_name": "StyleView",
            "button_color": null,
            "font_weight": ""
          }
        }
      }
    }
  },
  "nbformat": 4,
  "nbformat_minor": 0
}