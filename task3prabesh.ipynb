{
  "nbformat": 4,
  "nbformat_minor": 0,
  "metadata": {
    "colab": {
      "provenance": []
    },
    "kernelspec": {
      "name": "python3",
      "display_name": "Python 3"
    },
    "widgets": {
      "application/vnd.jupyter.widget-state+json": {
        "c0780a3c2dbe438083510ca27b4cf9ea": {
          "model_module": "@jupyter-widgets/controls",
          "model_name": "ButtonModel",
          "model_module_version": "1.5.0",
          "state": {
            "_dom_classes": [],
            "_model_module": "@jupyter-widgets/controls",
            "_model_module_version": "1.5.0",
            "_model_name": "ButtonModel",
            "_view_count": null,
            "_view_module": "@jupyter-widgets/controls",
            "_view_module_version": "1.5.0",
            "_view_name": "ButtonView",
            "button_style": "",
            "description": "Measure",
            "disabled": false,
            "icon": "",
            "layout": "IPY_MODEL_feb6f643885146f693d08bdca5f73dc7",
            "style": "IPY_MODEL_4cb047b45fc14176b9b058c76c9f4452",
            "tooltip": ""
          }
        },
        "feb6f643885146f693d08bdca5f73dc7": {
          "model_module": "@jupyter-widgets/base",
          "model_name": "LayoutModel",
          "model_module_version": "1.2.0",
          "state": {
            "_model_module": "@jupyter-widgets/base",
            "_model_module_version": "1.2.0",
            "_model_name": "LayoutModel",
            "_view_count": null,
            "_view_module": "@jupyter-widgets/base",
            "_view_module_version": "1.2.0",
            "_view_name": "LayoutView",
            "align_content": null,
            "align_items": null,
            "align_self": null,
            "border": null,
            "bottom": null,
            "display": null,
            "flex": null,
            "flex_flow": null,
            "grid_area": null,
            "grid_auto_columns": null,
            "grid_auto_flow": null,
            "grid_auto_rows": null,
            "grid_column": null,
            "grid_gap": null,
            "grid_row": null,
            "grid_template_areas": null,
            "grid_template_columns": null,
            "grid_template_rows": null,
            "height": "30px",
            "justify_content": null,
            "justify_items": null,
            "left": null,
            "margin": null,
            "max_height": null,
            "max_width": null,
            "min_height": null,
            "min_width": null,
            "object_fit": null,
            "object_position": null,
            "order": null,
            "overflow": null,
            "overflow_x": null,
            "overflow_y": null,
            "padding": null,
            "right": null,
            "top": null,
            "visibility": null,
            "width": "86px"
          }
        },
        "4cb047b45fc14176b9b058c76c9f4452": {
          "model_module": "@jupyter-widgets/controls",
          "model_name": "ButtonStyleModel",
          "model_module_version": "1.5.0",
          "state": {
            "_model_module": "@jupyter-widgets/controls",
            "_model_module_version": "1.5.0",
            "_model_name": "ButtonStyleModel",
            "_view_count": null,
            "_view_module": "@jupyter-widgets/base",
            "_view_module_version": "1.2.0",
            "_view_name": "StyleView",
            "button_color": null,
            "font_weight": ""
          }
        },
        "73df75a57cbe4f4293b2691f1f87db33": {
          "model_module": "@jupyter-widgets/controls",
          "model_name": "ButtonModel",
          "model_module_version": "1.5.0",
          "state": {
            "_dom_classes": [],
            "_model_module": "@jupyter-widgets/controls",
            "_model_module_version": "1.5.0",
            "_model_name": "ButtonModel",
            "_view_count": null,
            "_view_module": "@jupyter-widgets/controls",
            "_view_module_version": "1.5.0",
            "_view_name": "ButtonView",
            "button_style": "",
            "description": "H",
            "disabled": false,
            "icon": "",
            "layout": "IPY_MODEL_7d05f228edd1401c959fd509b8c9e784",
            "style": "IPY_MODEL_4ce0f960872f4011a6e622a8c7846b45",
            "tooltip": ""
          }
        },
        "7d05f228edd1401c959fd509b8c9e784": {
          "model_module": "@jupyter-widgets/base",
          "model_name": "LayoutModel",
          "model_module_version": "1.2.0",
          "state": {
            "_model_module": "@jupyter-widgets/base",
            "_model_module_version": "1.2.0",
            "_model_name": "LayoutModel",
            "_view_count": null,
            "_view_module": "@jupyter-widgets/base",
            "_view_module_version": "1.2.0",
            "_view_name": "LayoutView",
            "align_content": null,
            "align_items": null,
            "align_self": null,
            "border": null,
            "bottom": null,
            "display": null,
            "flex": null,
            "flex_flow": null,
            "grid_area": null,
            "grid_auto_columns": null,
            "grid_auto_flow": null,
            "grid_auto_rows": null,
            "grid_column": null,
            "grid_gap": null,
            "grid_row": null,
            "grid_template_areas": null,
            "grid_template_columns": null,
            "grid_template_rows": null,
            "height": "30px",
            "justify_content": null,
            "justify_items": null,
            "left": null,
            "margin": null,
            "max_height": null,
            "max_width": null,
            "min_height": null,
            "min_width": null,
            "object_fit": null,
            "object_position": null,
            "order": null,
            "overflow": null,
            "overflow_x": null,
            "overflow_y": null,
            "padding": null,
            "right": null,
            "top": null,
            "visibility": null,
            "width": "86px"
          }
        },
        "4ce0f960872f4011a6e622a8c7846b45": {
          "model_module": "@jupyter-widgets/controls",
          "model_name": "ButtonStyleModel",
          "model_module_version": "1.5.0",
          "state": {
            "_model_module": "@jupyter-widgets/controls",
            "_model_module_version": "1.5.0",
            "_model_name": "ButtonStyleModel",
            "_view_count": null,
            "_view_module": "@jupyter-widgets/base",
            "_view_module_version": "1.2.0",
            "_view_name": "StyleView",
            "button_color": null,
            "font_weight": ""
          }
        },
        "a8cffd044c744ef580a1a25653b18538": {
          "model_module": "@jupyter-widgets/controls",
          "model_name": "ButtonModel",
          "model_module_version": "1.5.0",
          "state": {
            "_dom_classes": [],
            "_model_module": "@jupyter-widgets/controls",
            "_model_module_version": "1.5.0",
            "_model_name": "ButtonModel",
            "_view_count": null,
            "_view_module": "@jupyter-widgets/controls",
            "_view_module_version": "1.5.0",
            "_view_name": "ButtonView",
            "button_style": "",
            "description": "S",
            "disabled": false,
            "icon": "",
            "layout": "IPY_MODEL_3b290dc346344815a7a0df5fa7fd6721",
            "style": "IPY_MODEL_d6e20ec5d2cf477693fa7afccc4f63e7",
            "tooltip": ""
          }
        },
        "3b290dc346344815a7a0df5fa7fd6721": {
          "model_module": "@jupyter-widgets/base",
          "model_name": "LayoutModel",
          "model_module_version": "1.2.0",
          "state": {
            "_model_module": "@jupyter-widgets/base",
            "_model_module_version": "1.2.0",
            "_model_name": "LayoutModel",
            "_view_count": null,
            "_view_module": "@jupyter-widgets/base",
            "_view_module_version": "1.2.0",
            "_view_name": "LayoutView",
            "align_content": null,
            "align_items": null,
            "align_self": null,
            "border": null,
            "bottom": null,
            "display": null,
            "flex": null,
            "flex_flow": null,
            "grid_area": null,
            "grid_auto_columns": null,
            "grid_auto_flow": null,
            "grid_auto_rows": null,
            "grid_column": null,
            "grid_gap": null,
            "grid_row": null,
            "grid_template_areas": null,
            "grid_template_columns": null,
            "grid_template_rows": null,
            "height": "30px",
            "justify_content": null,
            "justify_items": null,
            "left": null,
            "margin": null,
            "max_height": null,
            "max_width": null,
            "min_height": null,
            "min_width": null,
            "object_fit": null,
            "object_position": null,
            "order": null,
            "overflow": null,
            "overflow_x": null,
            "overflow_y": null,
            "padding": null,
            "right": null,
            "top": null,
            "visibility": null,
            "width": "86px"
          }
        },
        "d6e20ec5d2cf477693fa7afccc4f63e7": {
          "model_module": "@jupyter-widgets/controls",
          "model_name": "ButtonStyleModel",
          "model_module_version": "1.5.0",
          "state": {
            "_model_module": "@jupyter-widgets/controls",
            "_model_module_version": "1.5.0",
            "_model_name": "ButtonStyleModel",
            "_view_count": null,
            "_view_module": "@jupyter-widgets/base",
            "_view_module_version": "1.2.0",
            "_view_name": "StyleView",
            "button_color": null,
            "font_weight": ""
          }
        },
        "2fb3f53b2fa74990a60fb3b9e037e4ef": {
          "model_module": "@jupyter-widgets/controls",
          "model_name": "ButtonModel",
          "model_module_version": "1.5.0",
          "state": {
            "_dom_classes": [],
            "_model_module": "@jupyter-widgets/controls",
            "_model_module_version": "1.5.0",
            "_model_name": "ButtonModel",
            "_view_count": null,
            "_view_module": "@jupyter-widgets/controls",
            "_view_module_version": "1.5.0",
            "_view_name": "ButtonView",
            "button_style": "",
            "description": "T",
            "disabled": false,
            "icon": "",
            "layout": "IPY_MODEL_016fc35ec0b144f686112bc4c06298a0",
            "style": "IPY_MODEL_a8d761f09c184420b6718c915f517f5a",
            "tooltip": ""
          }
        },
        "016fc35ec0b144f686112bc4c06298a0": {
          "model_module": "@jupyter-widgets/base",
          "model_name": "LayoutModel",
          "model_module_version": "1.2.0",
          "state": {
            "_model_module": "@jupyter-widgets/base",
            "_model_module_version": "1.2.0",
            "_model_name": "LayoutModel",
            "_view_count": null,
            "_view_module": "@jupyter-widgets/base",
            "_view_module_version": "1.2.0",
            "_view_name": "LayoutView",
            "align_content": null,
            "align_items": null,
            "align_self": null,
            "border": null,
            "bottom": null,
            "display": null,
            "flex": null,
            "flex_flow": null,
            "grid_area": null,
            "grid_auto_columns": null,
            "grid_auto_flow": null,
            "grid_auto_rows": null,
            "grid_column": null,
            "grid_gap": null,
            "grid_row": null,
            "grid_template_areas": null,
            "grid_template_columns": null,
            "grid_template_rows": null,
            "height": "30px",
            "justify_content": null,
            "justify_items": null,
            "left": null,
            "margin": null,
            "max_height": null,
            "max_width": null,
            "min_height": null,
            "min_width": null,
            "object_fit": null,
            "object_position": null,
            "order": null,
            "overflow": null,
            "overflow_x": null,
            "overflow_y": null,
            "padding": null,
            "right": null,
            "top": null,
            "visibility": null,
            "width": "86px"
          }
        },
        "a8d761f09c184420b6718c915f517f5a": {
          "model_module": "@jupyter-widgets/controls",
          "model_name": "ButtonStyleModel",
          "model_module_version": "1.5.0",
          "state": {
            "_model_module": "@jupyter-widgets/controls",
            "_model_module_version": "1.5.0",
            "_model_name": "ButtonStyleModel",
            "_view_count": null,
            "_view_module": "@jupyter-widgets/base",
            "_view_module_version": "1.2.0",
            "_view_name": "StyleView",
            "button_color": null,
            "font_weight": ""
          }
        },
        "ed59126ae259498a90060dea9ec469e2": {
          "model_module": "@jupyter-widgets/controls",
          "model_name": "ButtonModel",
          "model_module_version": "1.5.0",
          "state": {
            "_dom_classes": [],
            "_model_module": "@jupyter-widgets/controls",
            "_model_module_version": "1.5.0",
            "_model_name": "ButtonModel",
            "_view_count": null,
            "_view_module": "@jupyter-widgets/controls",
            "_view_module_version": "1.5.0",
            "_view_name": "ButtonView",
            "button_style": "",
            "description": "CNOT",
            "disabled": false,
            "icon": "",
            "layout": "IPY_MODEL_3f3beceb60ff48c0a5a8ea774cd00fc3",
            "style": "IPY_MODEL_d1683169405b415a8a8c8c4b16da9682",
            "tooltip": ""
          }
        },
        "3f3beceb60ff48c0a5a8ea774cd00fc3": {
          "model_module": "@jupyter-widgets/base",
          "model_name": "LayoutModel",
          "model_module_version": "1.2.0",
          "state": {
            "_model_module": "@jupyter-widgets/base",
            "_model_module_version": "1.2.0",
            "_model_name": "LayoutModel",
            "_view_count": null,
            "_view_module": "@jupyter-widgets/base",
            "_view_module_version": "1.2.0",
            "_view_name": "LayoutView",
            "align_content": null,
            "align_items": null,
            "align_self": null,
            "border": null,
            "bottom": null,
            "display": null,
            "flex": null,
            "flex_flow": null,
            "grid_area": null,
            "grid_auto_columns": null,
            "grid_auto_flow": null,
            "grid_auto_rows": null,
            "grid_column": null,
            "grid_gap": null,
            "grid_row": null,
            "grid_template_areas": null,
            "grid_template_columns": null,
            "grid_template_rows": null,
            "height": "30px",
            "justify_content": null,
            "justify_items": null,
            "left": null,
            "margin": null,
            "max_height": null,
            "max_width": null,
            "min_height": null,
            "min_width": null,
            "object_fit": null,
            "object_position": null,
            "order": null,
            "overflow": null,
            "overflow_x": null,
            "overflow_y": null,
            "padding": null,
            "right": null,
            "top": null,
            "visibility": null,
            "width": "86px"
          }
        },
        "d1683169405b415a8a8c8c4b16da9682": {
          "model_module": "@jupyter-widgets/controls",
          "model_name": "ButtonStyleModel",
          "model_module_version": "1.5.0",
          "state": {
            "_model_module": "@jupyter-widgets/controls",
            "_model_module_version": "1.5.0",
            "_model_name": "ButtonStyleModel",
            "_view_count": null,
            "_view_module": "@jupyter-widgets/base",
            "_view_module_version": "1.2.0",
            "_view_name": "StyleView",
            "button_color": null,
            "font_weight": ""
          }
        },
        "86edf368702c4e1b92344f2cc9a148b9": {
          "model_module": "@jupyter-widgets/controls",
          "model_name": "ButtonModel",
          "model_module_version": "1.5.0",
          "state": {
            "_dom_classes": [],
            "_model_module": "@jupyter-widgets/controls",
            "_model_module_version": "1.5.0",
            "_model_name": "ButtonModel",
            "_view_count": null,
            "_view_module": "@jupyter-widgets/controls",
            "_view_module_version": "1.5.0",
            "_view_name": "ButtonView",
            "button_style": "",
            "description": "0",
            "disabled": false,
            "icon": "",
            "layout": "IPY_MODEL_1cefca6496ad404694d86a82ccc7884a",
            "style": "IPY_MODEL_80e0a30bfa344e3d893455a714b81d3d",
            "tooltip": ""
          }
        },
        "1cefca6496ad404694d86a82ccc7884a": {
          "model_module": "@jupyter-widgets/base",
          "model_name": "LayoutModel",
          "model_module_version": "1.2.0",
          "state": {
            "_model_module": "@jupyter-widgets/base",
            "_model_module_version": "1.2.0",
            "_model_name": "LayoutModel",
            "_view_count": null,
            "_view_module": "@jupyter-widgets/base",
            "_view_module_version": "1.2.0",
            "_view_name": "LayoutView",
            "align_content": null,
            "align_items": null,
            "align_self": null,
            "border": null,
            "bottom": null,
            "display": null,
            "flex": null,
            "flex_flow": null,
            "grid_area": null,
            "grid_auto_columns": null,
            "grid_auto_flow": null,
            "grid_auto_rows": null,
            "grid_column": null,
            "grid_gap": null,
            "grid_row": null,
            "grid_template_areas": null,
            "grid_template_columns": null,
            "grid_template_rows": null,
            "height": null,
            "justify_content": null,
            "justify_items": null,
            "left": null,
            "margin": null,
            "max_height": null,
            "max_width": null,
            "min_height": null,
            "min_width": null,
            "object_fit": null,
            "object_position": null,
            "order": null,
            "overflow": null,
            "overflow_x": null,
            "overflow_y": null,
            "padding": null,
            "right": null,
            "top": null,
            "visibility": null,
            "width": null
          }
        },
        "80e0a30bfa344e3d893455a714b81d3d": {
          "model_module": "@jupyter-widgets/controls",
          "model_name": "ButtonStyleModel",
          "model_module_version": "1.5.0",
          "state": {
            "_model_module": "@jupyter-widgets/controls",
            "_model_module_version": "1.5.0",
            "_model_name": "ButtonStyleModel",
            "_view_count": null,
            "_view_module": "@jupyter-widgets/base",
            "_view_module_version": "1.2.0",
            "_view_name": "StyleView",
            "button_color": null,
            "font_weight": ""
          }
        },
        "f56afa10b51248d9a0cb24d45ba2b710": {
          "model_module": "@jupyter-widgets/controls",
          "model_name": "ButtonModel",
          "model_module_version": "1.5.0",
          "state": {
            "_dom_classes": [],
            "_model_module": "@jupyter-widgets/controls",
            "_model_module_version": "1.5.0",
            "_model_name": "ButtonModel",
            "_view_count": null,
            "_view_module": "@jupyter-widgets/controls",
            "_view_module_version": "1.5.0",
            "_view_name": "ButtonView",
            "button_style": "",
            "description": "1",
            "disabled": false,
            "icon": "",
            "layout": "IPY_MODEL_eff6e3179f6c45a5b590aa4dbf8786cf",
            "style": "IPY_MODEL_f5984a9fe31941aaba42f0ff8b98a899",
            "tooltip": ""
          }
        },
        "eff6e3179f6c45a5b590aa4dbf8786cf": {
          "model_module": "@jupyter-widgets/base",
          "model_name": "LayoutModel",
          "model_module_version": "1.2.0",
          "state": {
            "_model_module": "@jupyter-widgets/base",
            "_model_module_version": "1.2.0",
            "_model_name": "LayoutModel",
            "_view_count": null,
            "_view_module": "@jupyter-widgets/base",
            "_view_module_version": "1.2.0",
            "_view_name": "LayoutView",
            "align_content": null,
            "align_items": null,
            "align_self": null,
            "border": null,
            "bottom": null,
            "display": null,
            "flex": null,
            "flex_flow": null,
            "grid_area": null,
            "grid_auto_columns": null,
            "grid_auto_flow": null,
            "grid_auto_rows": null,
            "grid_column": null,
            "grid_gap": null,
            "grid_row": null,
            "grid_template_areas": null,
            "grid_template_columns": null,
            "grid_template_rows": null,
            "height": null,
            "justify_content": null,
            "justify_items": null,
            "left": null,
            "margin": null,
            "max_height": null,
            "max_width": null,
            "min_height": null,
            "min_width": null,
            "object_fit": null,
            "object_position": null,
            "order": null,
            "overflow": null,
            "overflow_x": null,
            "overflow_y": null,
            "padding": null,
            "right": null,
            "top": null,
            "visibility": null,
            "width": null
          }
        },
        "f5984a9fe31941aaba42f0ff8b98a899": {
          "model_module": "@jupyter-widgets/controls",
          "model_name": "ButtonStyleModel",
          "model_module_version": "1.5.0",
          "state": {
            "_model_module": "@jupyter-widgets/controls",
            "_model_module_version": "1.5.0",
            "_model_name": "ButtonStyleModel",
            "_view_count": null,
            "_view_module": "@jupyter-widgets/base",
            "_view_module_version": "1.2.0",
            "_view_name": "StyleView",
            "button_color": null,
            "font_weight": ""
          }
        },
        "83c6659e52914a7faa6a34ebcffb2f39": {
          "model_module": "@jupyter-widgets/controls",
          "model_name": "ButtonModel",
          "model_module_version": "1.5.0",
          "state": {
            "_dom_classes": [],
            "_model_module": "@jupyter-widgets/controls",
            "_model_module_version": "1.5.0",
            "_model_name": "ButtonModel",
            "_view_count": null,
            "_view_module": "@jupyter-widgets/controls",
            "_view_module_version": "1.5.0",
            "_view_name": "ButtonView",
            "button_style": "",
            "description": "2",
            "disabled": false,
            "icon": "",
            "layout": "IPY_MODEL_a8438d141ff0409ab22faac5ba59e04e",
            "style": "IPY_MODEL_904cad2bf6be44e2be1cbb3a9af80723",
            "tooltip": ""
          }
        },
        "a8438d141ff0409ab22faac5ba59e04e": {
          "model_module": "@jupyter-widgets/base",
          "model_name": "LayoutModel",
          "model_module_version": "1.2.0",
          "state": {
            "_model_module": "@jupyter-widgets/base",
            "_model_module_version": "1.2.0",
            "_model_name": "LayoutModel",
            "_view_count": null,
            "_view_module": "@jupyter-widgets/base",
            "_view_module_version": "1.2.0",
            "_view_name": "LayoutView",
            "align_content": null,
            "align_items": null,
            "align_self": null,
            "border": null,
            "bottom": null,
            "display": null,
            "flex": null,
            "flex_flow": null,
            "grid_area": null,
            "grid_auto_columns": null,
            "grid_auto_flow": null,
            "grid_auto_rows": null,
            "grid_column": null,
            "grid_gap": null,
            "grid_row": null,
            "grid_template_areas": null,
            "grid_template_columns": null,
            "grid_template_rows": null,
            "height": null,
            "justify_content": null,
            "justify_items": null,
            "left": null,
            "margin": null,
            "max_height": null,
            "max_width": null,
            "min_height": null,
            "min_width": null,
            "object_fit": null,
            "object_position": null,
            "order": null,
            "overflow": null,
            "overflow_x": null,
            "overflow_y": null,
            "padding": null,
            "right": null,
            "top": null,
            "visibility": null,
            "width": null
          }
        },
        "904cad2bf6be44e2be1cbb3a9af80723": {
          "model_module": "@jupyter-widgets/controls",
          "model_name": "ButtonStyleModel",
          "model_module_version": "1.5.0",
          "state": {
            "_model_module": "@jupyter-widgets/controls",
            "_model_module_version": "1.5.0",
            "_model_name": "ButtonStyleModel",
            "_view_count": null,
            "_view_module": "@jupyter-widgets/base",
            "_view_module_version": "1.2.0",
            "_view_name": "StyleView",
            "button_color": null,
            "font_weight": ""
          }
        },
        "2a4e6da44e664d21a7c35334e9490ac0": {
          "model_module": "@jupyter-widgets/controls",
          "model_name": "ButtonModel",
          "model_module_version": "1.5.0",
          "state": {
            "_dom_classes": [],
            "_model_module": "@jupyter-widgets/controls",
            "_model_module_version": "1.5.0",
            "_model_name": "ButtonModel",
            "_view_count": null,
            "_view_module": "@jupyter-widgets/controls",
            "_view_module_version": "1.5.0",
            "_view_name": "ButtonView",
            "button_style": "",
            "description": "3",
            "disabled": false,
            "icon": "",
            "layout": "IPY_MODEL_2a7ccb92fe14440085de6e8de83403c0",
            "style": "IPY_MODEL_1d596cbead224a3dbd2f447eee74bc76",
            "tooltip": ""
          }
        },
        "2a7ccb92fe14440085de6e8de83403c0": {
          "model_module": "@jupyter-widgets/base",
          "model_name": "LayoutModel",
          "model_module_version": "1.2.0",
          "state": {
            "_model_module": "@jupyter-widgets/base",
            "_model_module_version": "1.2.0",
            "_model_name": "LayoutModel",
            "_view_count": null,
            "_view_module": "@jupyter-widgets/base",
            "_view_module_version": "1.2.0",
            "_view_name": "LayoutView",
            "align_content": null,
            "align_items": null,
            "align_self": null,
            "border": null,
            "bottom": null,
            "display": null,
            "flex": null,
            "flex_flow": null,
            "grid_area": null,
            "grid_auto_columns": null,
            "grid_auto_flow": null,
            "grid_auto_rows": null,
            "grid_column": null,
            "grid_gap": null,
            "grid_row": null,
            "grid_template_areas": null,
            "grid_template_columns": null,
            "grid_template_rows": null,
            "height": null,
            "justify_content": null,
            "justify_items": null,
            "left": null,
            "margin": null,
            "max_height": null,
            "max_width": null,
            "min_height": null,
            "min_width": null,
            "object_fit": null,
            "object_position": null,
            "order": null,
            "overflow": null,
            "overflow_x": null,
            "overflow_y": null,
            "padding": null,
            "right": null,
            "top": null,
            "visibility": null,
            "width": null
          }
        },
        "1d596cbead224a3dbd2f447eee74bc76": {
          "model_module": "@jupyter-widgets/controls",
          "model_name": "ButtonStyleModel",
          "model_module_version": "1.5.0",
          "state": {
            "_model_module": "@jupyter-widgets/controls",
            "_model_module_version": "1.5.0",
            "_model_name": "ButtonStyleModel",
            "_view_count": null,
            "_view_module": "@jupyter-widgets/base",
            "_view_module_version": "1.2.0",
            "_view_name": "StyleView",
            "button_color": null,
            "font_weight": ""
          }
        },
        "5171e1df637a4bd8b65c70fef2118156": {
          "model_module": "@jupyter-widgets/controls",
          "model_name": "ButtonModel",
          "model_module_version": "1.5.0",
          "state": {
            "_dom_classes": [],
            "_model_module": "@jupyter-widgets/controls",
            "_model_module_version": "1.5.0",
            "_model_name": "ButtonModel",
            "_view_count": null,
            "_view_module": "@jupyter-widgets/controls",
            "_view_module_version": "1.5.0",
            "_view_name": "ButtonView",
            "button_style": "",
            "description": "4",
            "disabled": false,
            "icon": "",
            "layout": "IPY_MODEL_05adf4fc3e2c40c18a847a671fee73cd",
            "style": "IPY_MODEL_9c369ccce6c04421b61c1d01a68160a2",
            "tooltip": ""
          }
        },
        "05adf4fc3e2c40c18a847a671fee73cd": {
          "model_module": "@jupyter-widgets/base",
          "model_name": "LayoutModel",
          "model_module_version": "1.2.0",
          "state": {
            "_model_module": "@jupyter-widgets/base",
            "_model_module_version": "1.2.0",
            "_model_name": "LayoutModel",
            "_view_count": null,
            "_view_module": "@jupyter-widgets/base",
            "_view_module_version": "1.2.0",
            "_view_name": "LayoutView",
            "align_content": null,
            "align_items": null,
            "align_self": null,
            "border": null,
            "bottom": null,
            "display": null,
            "flex": null,
            "flex_flow": null,
            "grid_area": null,
            "grid_auto_columns": null,
            "grid_auto_flow": null,
            "grid_auto_rows": null,
            "grid_column": null,
            "grid_gap": null,
            "grid_row": null,
            "grid_template_areas": null,
            "grid_template_columns": null,
            "grid_template_rows": null,
            "height": null,
            "justify_content": null,
            "justify_items": null,
            "left": null,
            "margin": null,
            "max_height": null,
            "max_width": null,
            "min_height": null,
            "min_width": null,
            "object_fit": null,
            "object_position": null,
            "order": null,
            "overflow": null,
            "overflow_x": null,
            "overflow_y": null,
            "padding": null,
            "right": null,
            "top": null,
            "visibility": null,
            "width": null
          }
        },
        "9c369ccce6c04421b61c1d01a68160a2": {
          "model_module": "@jupyter-widgets/controls",
          "model_name": "ButtonStyleModel",
          "model_module_version": "1.5.0",
          "state": {
            "_model_module": "@jupyter-widgets/controls",
            "_model_module_version": "1.5.0",
            "_model_name": "ButtonStyleModel",
            "_view_count": null,
            "_view_module": "@jupyter-widgets/base",
            "_view_module_version": "1.2.0",
            "_view_name": "StyleView",
            "button_color": null,
            "font_weight": ""
          }
        },
        "00ce215d884e4968887fd8a918c8fb81": {
          "model_module": "@jupyter-widgets/controls",
          "model_name": "ButtonModel",
          "model_module_version": "1.5.0",
          "state": {
            "_dom_classes": [],
            "_model_module": "@jupyter-widgets/controls",
            "_model_module_version": "1.5.0",
            "_model_name": "ButtonModel",
            "_view_count": null,
            "_view_module": "@jupyter-widgets/controls",
            "_view_module_version": "1.5.0",
            "_view_name": "ButtonView",
            "button_style": "",
            "description": "5",
            "disabled": false,
            "icon": "",
            "layout": "IPY_MODEL_3ffba6f385b24c6ca346b629a29c283c",
            "style": "IPY_MODEL_aaf6ba84487c414eae02b16dfe210016",
            "tooltip": ""
          }
        },
        "3ffba6f385b24c6ca346b629a29c283c": {
          "model_module": "@jupyter-widgets/base",
          "model_name": "LayoutModel",
          "model_module_version": "1.2.0",
          "state": {
            "_model_module": "@jupyter-widgets/base",
            "_model_module_version": "1.2.0",
            "_model_name": "LayoutModel",
            "_view_count": null,
            "_view_module": "@jupyter-widgets/base",
            "_view_module_version": "1.2.0",
            "_view_name": "LayoutView",
            "align_content": null,
            "align_items": null,
            "align_self": null,
            "border": null,
            "bottom": null,
            "display": null,
            "flex": null,
            "flex_flow": null,
            "grid_area": null,
            "grid_auto_columns": null,
            "grid_auto_flow": null,
            "grid_auto_rows": null,
            "grid_column": null,
            "grid_gap": null,
            "grid_row": null,
            "grid_template_areas": null,
            "grid_template_columns": null,
            "grid_template_rows": null,
            "height": null,
            "justify_content": null,
            "justify_items": null,
            "left": null,
            "margin": null,
            "max_height": null,
            "max_width": null,
            "min_height": null,
            "min_width": null,
            "object_fit": null,
            "object_position": null,
            "order": null,
            "overflow": null,
            "overflow_x": null,
            "overflow_y": null,
            "padding": null,
            "right": null,
            "top": null,
            "visibility": null,
            "width": null
          }
        },
        "aaf6ba84487c414eae02b16dfe210016": {
          "model_module": "@jupyter-widgets/controls",
          "model_name": "ButtonStyleModel",
          "model_module_version": "1.5.0",
          "state": {
            "_model_module": "@jupyter-widgets/controls",
            "_model_module_version": "1.5.0",
            "_model_name": "ButtonStyleModel",
            "_view_count": null,
            "_view_module": "@jupyter-widgets/base",
            "_view_module_version": "1.2.0",
            "_view_name": "StyleView",
            "button_color": null,
            "font_weight": ""
          }
        },
        "5e8c0734573c47bc88475b3dbac89f9e": {
          "model_module": "@jupyter-widgets/controls",
          "model_name": "ButtonModel",
          "model_module_version": "1.5.0",
          "state": {
            "_dom_classes": [],
            "_model_module": "@jupyter-widgets/controls",
            "_model_module_version": "1.5.0",
            "_model_name": "ButtonModel",
            "_view_count": null,
            "_view_module": "@jupyter-widgets/controls",
            "_view_module_version": "1.5.0",
            "_view_name": "ButtonView",
            "button_style": "",
            "description": "6",
            "disabled": false,
            "icon": "",
            "layout": "IPY_MODEL_686611581a3a4a73a0322f7e207cae49",
            "style": "IPY_MODEL_55a291596d7f46e892db3a3c5663b5e3",
            "tooltip": ""
          }
        },
        "686611581a3a4a73a0322f7e207cae49": {
          "model_module": "@jupyter-widgets/base",
          "model_name": "LayoutModel",
          "model_module_version": "1.2.0",
          "state": {
            "_model_module": "@jupyter-widgets/base",
            "_model_module_version": "1.2.0",
            "_model_name": "LayoutModel",
            "_view_count": null,
            "_view_module": "@jupyter-widgets/base",
            "_view_module_version": "1.2.0",
            "_view_name": "LayoutView",
            "align_content": null,
            "align_items": null,
            "align_self": null,
            "border": null,
            "bottom": null,
            "display": null,
            "flex": null,
            "flex_flow": null,
            "grid_area": null,
            "grid_auto_columns": null,
            "grid_auto_flow": null,
            "grid_auto_rows": null,
            "grid_column": null,
            "grid_gap": null,
            "grid_row": null,
            "grid_template_areas": null,
            "grid_template_columns": null,
            "grid_template_rows": null,
            "height": null,
            "justify_content": null,
            "justify_items": null,
            "left": null,
            "margin": null,
            "max_height": null,
            "max_width": null,
            "min_height": null,
            "min_width": null,
            "object_fit": null,
            "object_position": null,
            "order": null,
            "overflow": null,
            "overflow_x": null,
            "overflow_y": null,
            "padding": null,
            "right": null,
            "top": null,
            "visibility": null,
            "width": null
          }
        },
        "55a291596d7f46e892db3a3c5663b5e3": {
          "model_module": "@jupyter-widgets/controls",
          "model_name": "ButtonStyleModel",
          "model_module_version": "1.5.0",
          "state": {
            "_model_module": "@jupyter-widgets/controls",
            "_model_module_version": "1.5.0",
            "_model_name": "ButtonStyleModel",
            "_view_count": null,
            "_view_module": "@jupyter-widgets/base",
            "_view_module_version": "1.2.0",
            "_view_name": "StyleView",
            "button_color": null,
            "font_weight": ""
          }
        },
        "9083c07b9e3149f6b0ef21af26d94fcc": {
          "model_module": "@jupyter-widgets/controls",
          "model_name": "ButtonModel",
          "model_module_version": "1.5.0",
          "state": {
            "_dom_classes": [],
            "_model_module": "@jupyter-widgets/controls",
            "_model_module_version": "1.5.0",
            "_model_name": "ButtonModel",
            "_view_count": null,
            "_view_module": "@jupyter-widgets/controls",
            "_view_module_version": "1.5.0",
            "_view_name": "ButtonView",
            "button_style": "",
            "description": "7",
            "disabled": false,
            "icon": "",
            "layout": "IPY_MODEL_28306c3bd59c45879b8bd2bd59e943c2",
            "style": "IPY_MODEL_d2a267f2ad8b48909c8a2d7ae8914277",
            "tooltip": ""
          }
        },
        "28306c3bd59c45879b8bd2bd59e943c2": {
          "model_module": "@jupyter-widgets/base",
          "model_name": "LayoutModel",
          "model_module_version": "1.2.0",
          "state": {
            "_model_module": "@jupyter-widgets/base",
            "_model_module_version": "1.2.0",
            "_model_name": "LayoutModel",
            "_view_count": null,
            "_view_module": "@jupyter-widgets/base",
            "_view_module_version": "1.2.0",
            "_view_name": "LayoutView",
            "align_content": null,
            "align_items": null,
            "align_self": null,
            "border": null,
            "bottom": null,
            "display": null,
            "flex": null,
            "flex_flow": null,
            "grid_area": null,
            "grid_auto_columns": null,
            "grid_auto_flow": null,
            "grid_auto_rows": null,
            "grid_column": null,
            "grid_gap": null,
            "grid_row": null,
            "grid_template_areas": null,
            "grid_template_columns": null,
            "grid_template_rows": null,
            "height": null,
            "justify_content": null,
            "justify_items": null,
            "left": null,
            "margin": null,
            "max_height": null,
            "max_width": null,
            "min_height": null,
            "min_width": null,
            "object_fit": null,
            "object_position": null,
            "order": null,
            "overflow": null,
            "overflow_x": null,
            "overflow_y": null,
            "padding": null,
            "right": null,
            "top": null,
            "visibility": null,
            "width": null
          }
        },
        "d2a267f2ad8b48909c8a2d7ae8914277": {
          "model_module": "@jupyter-widgets/controls",
          "model_name": "ButtonStyleModel",
          "model_module_version": "1.5.0",
          "state": {
            "_model_module": "@jupyter-widgets/controls",
            "_model_module_version": "1.5.0",
            "_model_name": "ButtonStyleModel",
            "_view_count": null,
            "_view_module": "@jupyter-widgets/base",
            "_view_module_version": "1.2.0",
            "_view_name": "StyleView",
            "button_color": null,
            "font_weight": ""
          }
        },
        "c51321daada44eea9fee8fd2a8affce5": {
          "model_module": "@jupyter-widgets/controls",
          "model_name": "ButtonModel",
          "model_module_version": "1.5.0",
          "state": {
            "_dom_classes": [],
            "_model_module": "@jupyter-widgets/controls",
            "_model_module_version": "1.5.0",
            "_model_name": "ButtonModel",
            "_view_count": null,
            "_view_module": "@jupyter-widgets/controls",
            "_view_module_version": "1.5.0",
            "_view_name": "ButtonView",
            "button_style": "",
            "description": "8",
            "disabled": false,
            "icon": "",
            "layout": "IPY_MODEL_1426b20deb6a4bd0a149611d66f95521",
            "style": "IPY_MODEL_f20657e2e8944a9db0e21a900159cfbb",
            "tooltip": ""
          }
        },
        "1426b20deb6a4bd0a149611d66f95521": {
          "model_module": "@jupyter-widgets/base",
          "model_name": "LayoutModel",
          "model_module_version": "1.2.0",
          "state": {
            "_model_module": "@jupyter-widgets/base",
            "_model_module_version": "1.2.0",
            "_model_name": "LayoutModel",
            "_view_count": null,
            "_view_module": "@jupyter-widgets/base",
            "_view_module_version": "1.2.0",
            "_view_name": "LayoutView",
            "align_content": null,
            "align_items": null,
            "align_self": null,
            "border": null,
            "bottom": null,
            "display": null,
            "flex": null,
            "flex_flow": null,
            "grid_area": null,
            "grid_auto_columns": null,
            "grid_auto_flow": null,
            "grid_auto_rows": null,
            "grid_column": null,
            "grid_gap": null,
            "grid_row": null,
            "grid_template_areas": null,
            "grid_template_columns": null,
            "grid_template_rows": null,
            "height": null,
            "justify_content": null,
            "justify_items": null,
            "left": null,
            "margin": null,
            "max_height": null,
            "max_width": null,
            "min_height": null,
            "min_width": null,
            "object_fit": null,
            "object_position": null,
            "order": null,
            "overflow": null,
            "overflow_x": null,
            "overflow_y": null,
            "padding": null,
            "right": null,
            "top": null,
            "visibility": null,
            "width": null
          }
        },
        "f20657e2e8944a9db0e21a900159cfbb": {
          "model_module": "@jupyter-widgets/controls",
          "model_name": "ButtonStyleModel",
          "model_module_version": "1.5.0",
          "state": {
            "_model_module": "@jupyter-widgets/controls",
            "_model_module_version": "1.5.0",
            "_model_name": "ButtonStyleModel",
            "_view_count": null,
            "_view_module": "@jupyter-widgets/base",
            "_view_module_version": "1.2.0",
            "_view_name": "StyleView",
            "button_color": null,
            "font_weight": ""
          }
        }
      }
    }
  },
  "cells": [
    {
      "cell_type": "markdown",
      "source": [
        "# **Tic-Tac-Toe Experiment**\n"
      ],
      "metadata": {
        "id": "_aW4PomvufEN"
      }
    },
    {
      "cell_type": "markdown",
      "metadata": {
        "id": "xV7VUIMwH2IT"
      },
      "source": [
        "Run this code after inserting some codes"
      ]
    },
    {
      "cell_type": "code",
      "source": [
        "#Install qiskit if you have not done already !pip install qiskit --quiet\n",
        "#Install other packages\n",
        "!pip install qiskit==0.46.0 --quiet\n",
        "!pip install pylatexenc --quiet"
      ],
      "metadata": {
        "id": "lc_VkarCxL4z",
        "colab": {
          "base_uri": "https://localhost:8080/"
        },
        "outputId": "c00dabc5-acd0-47b9-a7cc-1ecd7387cf50"
      },
      "execution_count": null,
      "outputs": [
        {
          "output_type": "stream",
          "name": "stdout",
          "text": [
            "Collecting qiskit==0.46.0\n",
            "  Downloading qiskit-0.46.0-py3-none-any.whl (9.6 kB)\n",
            "Collecting qiskit-terra==0.46.0 (from qiskit==0.46.0)\n",
            "  Downloading qiskit_terra-0.46.0-cp38-abi3-manylinux_2_17_x86_64.manylinux2014_x86_64.whl (6.3 MB)\n",
            "\u001b[2K     \u001b[90m━━━━━━━━━━━━━━━━━━━━━━━━━━━━━━━━━━━━━━━━\u001b[0m \u001b[32m6.3/6.3 MB\u001b[0m \u001b[31m16.3 MB/s\u001b[0m eta \u001b[36m0:00:00\u001b[0m\n",
            "\u001b[?25hCollecting rustworkx>=0.13.0 (from qiskit-terra==0.46.0->qiskit==0.46.0)\n",
            "  Downloading rustworkx-0.14.2-cp310-cp310-manylinux_2_17_x86_64.manylinux2014_x86_64.whl (2.1 MB)\n",
            "\u001b[2K     \u001b[90m━━━━━━━━━━━━━━━━━━━━━━━━━━━━━━━━━━━━━━━━\u001b[0m \u001b[32m2.1/2.1 MB\u001b[0m \u001b[31m32.7 MB/s\u001b[0m eta \u001b[36m0:00:00\u001b[0m\n",
            "\u001b[?25hRequirement already satisfied: numpy<2,>=1.17 in /usr/local/lib/python3.10/dist-packages (from qiskit-terra==0.46.0->qiskit==0.46.0) (1.25.2)\n",
            "Collecting ply>=3.10 (from qiskit-terra==0.46.0->qiskit==0.46.0)\n",
            "  Downloading ply-3.11-py2.py3-none-any.whl (49 kB)\n",
            "\u001b[2K     \u001b[90m━━━━━━━━━━━━━━━━━━━━━━━━━━━━━━━━━━━━━━━━\u001b[0m \u001b[32m49.6/49.6 kB\u001b[0m \u001b[31m3.8 MB/s\u001b[0m eta \u001b[36m0:00:00\u001b[0m\n",
            "\u001b[?25hRequirement already satisfied: psutil>=5 in /usr/local/lib/python3.10/dist-packages (from qiskit-terra==0.46.0->qiskit==0.46.0) (5.9.5)\n",
            "Requirement already satisfied: scipy>=1.5 in /usr/local/lib/python3.10/dist-packages (from qiskit-terra==0.46.0->qiskit==0.46.0) (1.11.4)\n",
            "Requirement already satisfied: sympy>=1.3 in /usr/local/lib/python3.10/dist-packages (from qiskit-terra==0.46.0->qiskit==0.46.0) (1.12)\n",
            "Collecting dill>=0.3 (from qiskit-terra==0.46.0->qiskit==0.46.0)\n",
            "  Downloading dill-0.3.8-py3-none-any.whl (116 kB)\n",
            "\u001b[2K     \u001b[90m━━━━━━━━━━━━━━━━━━━━━━━━━━━━━━━━━━━━━━━━\u001b[0m \u001b[32m116.3/116.3 kB\u001b[0m \u001b[31m11.3 MB/s\u001b[0m eta \u001b[36m0:00:00\u001b[0m\n",
            "\u001b[?25hRequirement already satisfied: python-dateutil>=2.8.0 in /usr/local/lib/python3.10/dist-packages (from qiskit-terra==0.46.0->qiskit==0.46.0) (2.8.2)\n",
            "Collecting stevedore>=3.0.0 (from qiskit-terra==0.46.0->qiskit==0.46.0)\n",
            "  Downloading stevedore-5.2.0-py3-none-any.whl (49 kB)\n",
            "\u001b[2K     \u001b[90m━━━━━━━━━━━━━━━━━━━━━━━━━━━━━━━━━━━━━━━━\u001b[0m \u001b[32m49.7/49.7 kB\u001b[0m \u001b[31m4.7 MB/s\u001b[0m eta \u001b[36m0:00:00\u001b[0m\n",
            "\u001b[?25hCollecting symengine>=0.11 (from qiskit-terra==0.46.0->qiskit==0.46.0)\n",
            "  Downloading symengine-0.11.0-cp310-cp310-manylinux_2_12_x86_64.manylinux2010_x86_64.whl (39.4 MB)\n",
            "\u001b[2K     \u001b[90m━━━━━━━━━━━━━━━━━━━━━━━━━━━━━━━━━━━━━━━━\u001b[0m \u001b[32m39.4/39.4 MB\u001b[0m \u001b[31m12.5 MB/s\u001b[0m eta \u001b[36m0:00:00\u001b[0m\n",
            "\u001b[?25hRequirement already satisfied: typing-extensions in /usr/local/lib/python3.10/dist-packages (from qiskit-terra==0.46.0->qiskit==0.46.0) (4.11.0)\n",
            "Requirement already satisfied: six>=1.5 in /usr/local/lib/python3.10/dist-packages (from python-dateutil>=2.8.0->qiskit-terra==0.46.0->qiskit==0.46.0) (1.16.0)\n",
            "Collecting pbr!=2.1.0,>=2.0.0 (from stevedore>=3.0.0->qiskit-terra==0.46.0->qiskit==0.46.0)\n",
            "  Downloading pbr-6.0.0-py2.py3-none-any.whl (107 kB)\n",
            "\u001b[2K     \u001b[90m━━━━━━━━━━━━━━━━━━━━━━━━━━━━━━━━━━━━━━━━\u001b[0m \u001b[32m107.5/107.5 kB\u001b[0m \u001b[31m3.9 MB/s\u001b[0m eta \u001b[36m0:00:00\u001b[0m\n",
            "\u001b[?25hRequirement already satisfied: mpmath>=0.19 in /usr/local/lib/python3.10/dist-packages (from sympy>=1.3->qiskit-terra==0.46.0->qiskit==0.46.0) (1.3.0)\n",
            "Installing collected packages: ply, symengine, rustworkx, pbr, dill, stevedore, qiskit-terra, qiskit\n",
            "Successfully installed dill-0.3.8 pbr-6.0.0 ply-3.11 qiskit-0.46.0 qiskit-terra-0.46.0 rustworkx-0.14.2 stevedore-5.2.0 symengine-0.11.0\n",
            "\u001b[2K     \u001b[90m━━━━━━━━━━━━━━━━━━━━━━━━━━━━━━━━━━━━━━━━\u001b[0m \u001b[32m162.6/162.6 kB\u001b[0m \u001b[31m4.7 MB/s\u001b[0m eta \u001b[36m0:00:00\u001b[0m\n",
            "\u001b[?25h  Preparing metadata (setup.py) ... \u001b[?25l\u001b[?25hdone\n",
            "  Building wheel for pylatexenc (setup.py) ... \u001b[?25l\u001b[?25hdone\n"
          ]
        }
      ]
    },
    {
      "cell_type": "code",
      "source": [
        "from qiskit import *\n",
        "from qiskit.visualization import plot_histogram\n",
        "from google.colab import widgets\n",
        "from __future__ import print_function\n",
        "from ipywidgets import interact, interactive, fixed, interact_manual, Button, Layout\n",
        "import ipywidgets\n",
        "import pandas as pd\n",
        "import math\n",
        "import numpy as np\n",
        "import random\n",
        "import json\n",
        "import requests\n",
        "import qiskit as qk\n",
        "from IPython.display import clear_output\n"
      ],
      "metadata": {
        "id": "m6C_PKryxHHC"
      },
      "execution_count": null,
      "outputs": []
    },
    {
      "cell_type": "markdown",
      "source": [
        "Now here you will have to write a small function that takes a qiskit ```circuit``` object and runs those instructions on the Quokka."
      ],
      "metadata": {
        "id": "vrhtBSC4rsfk"
      }
    },
    {
      "cell_type": "code",
      "source": [
        "def send_to_the_quokka(circuit):\n",
        "  req_str_qasm = 'http://quokka1.quokkacomputing.com/qsim/qasm' # the URL listening for qasm files\n",
        "\n",
        "\n",
        "  # create a qasm file from our circuit\n",
        "  qasmFile = circuit.qasm()\n",
        "\n",
        "\n",
        "  data = {'script': qasmFile, 'count': 10}\n",
        "  # create data file to send to Quokka\n",
        "\n",
        "  result = requests.post(req_str_qasm, json=data)\n",
        "  json_obj = json.loads(result.content)\n",
        "\n",
        "  return ''.join(map(str, '')) # convert to a string of binary values"
      ],
      "metadata": {
        "id": "tzwHy5zixcXS"
      },
      "execution_count": null,
      "outputs": []
    },
    {
      "cell_type": "markdown",
      "source": [
        "The code for the game comprises the two classes below. This time, try some different moves by allowing the players to add different gates on the circuit."
      ],
      "metadata": {
        "id": "6eutfLK-qW7v"
      }
    },
    {
      "cell_type": "code",
      "source": [
        "class Board:\n",
        "    def __init__(self):\n",
        "        self.qc = QuantumCircuit(9, 9)\n",
        "        self.function = ''\n",
        "        self.target = -1\n",
        "        self.tab = []\n",
        "        self.winsX = 0\n",
        "        self.winsO = 0\n",
        "\n",
        "        for idx in range(0, 9):\n",
        "            self.tab.append({'default':str(idx), 'player':' '})\n",
        "            self.qc.h(idx)\n",
        "        self.qc.barrier()\n",
        "\n",
        "    def make_move(self, cell):\n",
        "        if self.function == 'H':\n",
        "            self.qc.h(cell)\n",
        "            self.tab[int(cell)]['player'] += 'H - '\n",
        "        elif self.function == 'S':\n",
        "            self.qc.s(cell)\n",
        "            self.tab[int(cell)]['player'] += \"S - \"\n",
        "        elif self.function == 'T':\n",
        "            self.qc.t(cell)\n",
        "            self.tab[int(cell)]['player'] += \"T - \"\n",
        "        elif self.function == 'CNOT' and self.target != cell:\n",
        "            if self.target == cell:\n",
        "                self.target = -1\n",
        "            else:\n",
        "                self.qc.cnot(cell, self.target)\n",
        "                self.tab[int(cell)]['player'] += \"CX - \"\n",
        "                self.tab[int(self.target)]['player'] += \"CX - \"\n",
        "\n",
        "    def results(self):\n",
        "        display(self.qc.draw('mpl'))\n",
        "        self.qc = QuantumCircuit(9, 9)\n",
        "\n",
        "    def display(self):\n",
        "        display(self.qc.draw('mpl'))\n",
        "\n",
        "    def measure(self):\n",
        "        self.qc.barrier()\n",
        "        for i in range(0,9):\n",
        "            self.qc.measure(i, i)\n",
        "\n",
        "        output = send_to_the_quokka(self.qc)\n",
        "\n",
        "        if len(output) >= 9:\n",
        "          for i in range(0, 9):\n",
        "              if output[9 - 1 - i] == '0':\n",
        "                  self.tab[i]['player'] = 'X'\n",
        "              else:\n",
        "                  self.tab[i]['player'] = 'O'\n",
        "          self.winsX = self.countWinners('X')\n",
        "          self.winsO = self.countWinners('O')\n",
        "        else:\n",
        "          print(\"Error: Measurement output length is less than 9\")\n",
        "\n",
        "    def countWinners(self, player):\n",
        "        winners = ((0,1,2),(3,4,5),(6,7,8),(0,3,6),(1,4,7),(2,5,8),(0,4,8),(2,4,6))\n",
        "        wins = 0\n",
        "        for i in range(len(winners)):\n",
        "            won = True\n",
        "            for j in range(len(winners[0])):\n",
        "                if not self.tab[winners[i][j]]['player'] == player:\n",
        "                    won = False\n",
        "            if won:\n",
        "                wins = wins + 1\n",
        "        return wins\n",
        "\n",
        "    def new(self):\n",
        "        self.tab.clear()\n",
        "        self.qc = QuantumCircuit(9, 9)\n",
        "        for idx in range(0,9):\n",
        "           self.tab.append({'default':str(idx), 'player':''})\n",
        "           self.qc.h(idx)\n",
        "        self.qc.barrier()\n"
      ],
      "metadata": {
        "id": "kbEzlsrxxUfE"
      },
      "execution_count": null,
      "outputs": []
    },
    {
      "cell_type": "code",
      "source": [
        "class Game:\n",
        "    def __init__(self):\n",
        "        self.selecting = False\n",
        "        self.board = Board()\n",
        "        self.boardbutton_list = []\n",
        "        for i in range(0,9):\n",
        "            button = Button(description=str(i))\n",
        "            button.on_click(self.handle_game)\n",
        "            self.boardbutton_list.append(button)\n",
        "\n",
        "        self.funcbutton_list = []\n",
        "        self.newButton('Measure')\n",
        "        self.newButton('H')\n",
        "        self.newButton('S')\n",
        "        self.newButton('T')\n",
        "        self.newButton('CNOT')\n",
        "        self.printmenu()\n",
        "        self.printBoard()\n",
        "\n",
        "    def newButton(self, name):\n",
        "        function = Button(description=name, layout=Layout(width='86px', height='30px'))\n",
        "        function.on_click(self.handle_game)\n",
        "        self.funcbutton_list.append(function)\n",
        "\n",
        "    def handle_game(self, b):\n",
        "        try:\n",
        "            if b.description == 'Measure':\n",
        "                clear_output()\n",
        "                self.replay()\n",
        "                self.board.measure()\n",
        "                self.scoreboard()\n",
        "                self.printBoard()\n",
        "                self.board.results()\n",
        "\n",
        "\n",
        "            if b.description == 'Replay':\n",
        "                clear_output()\n",
        "                self.board.new()\n",
        "                self.printmenu()\n",
        "                self.printBoard()\n",
        "\n",
        "            if int(b.description) >= 0:\n",
        "                if self.selecting:\n",
        "                    self.board.target = int(b.description)\n",
        "                else:\n",
        "                    clear_output()\n",
        "                    self.printmenu()\n",
        "                    self.board.make_move(int(b.description))\n",
        "                    self.printBoard()\n",
        "                    self.board.display()\n",
        "            self.selecting = False\n",
        "        except ValueError:\n",
        "            self.board.function = b.description\n",
        "            self.selecting = False\n",
        "            if self.board.function == 'CNOT':\n",
        "                self.selecting = True\n",
        "\n",
        "    def printmenu(self):\n",
        "        grid = widgets.Grid(1, 5)\n",
        "        for (row, col) in grid:\n",
        "            display(self.funcbutton_list[col])\n",
        "\n",
        "    def scoreboard(self):\n",
        "        print(\"X wins: \" + str(self.board.winsX) + \"    O wins: \" + str(self.board.winsO))\n",
        "\n",
        "    def replay(self):\n",
        "        rep = Button(description=\"Replay\")\n",
        "        rep.on_click(self.handle_game)\n",
        "        display(rep)\n",
        "\n",
        "    def printBoard(self):\n",
        "        grid = widgets.Grid(1, int(np.sqrt(9)), header_row=True, header_column=True)\n",
        "        for row in range(int(np.sqrt(9))):\n",
        "              for (useless, col) in grid:\n",
        "                  print(\"\\n\"+self.board.tab[col + row * int(np.sqrt(9))]['player']+\"\\n\")\n",
        "                  display(self.boardbutton_list[col + row * int(np.sqrt(9))])"
      ],
      "metadata": {
        "id": "adHd14cFxZTm"
      },
      "execution_count": null,
      "outputs": []
    },
    {
      "cell_type": "markdown",
      "source": [
        "## The game! (THESE INSTRUCTIONS SHOULD CHANGE IF YOU CHANGE THE GAME!)\n",
        "To make a move, click one of the 5 options above the board and then click the location where you want to make that move. To play \"SWAP,\" you need to click two board locations.\n",
        "\n",
        "Each move adds a gate to the game circuit. They do the following:\n",
        "\n",
        "* **Measure** ends the round and execute the game circuit on the quantum device. The win conditions will be counted and displayed.\n",
        "* **H** Adds an $H$ gate at this location.\n",
        "* **S** Adds an $S$ gate at this location.\n",
        "* **T** Adds a $T$ gate at this location.\n",
        "* **CNOT** place a $CNOT$ gate across two location.\n",
        "\n",
        "As you play, you will see the game circuit and the board. The board shows the sequence of moves, but is not 100% accurate. The game circuit is true state of the game."
      ],
      "metadata": {
        "id": "l3Gt2uW_qb7b"
      }
    },
    {
      "cell_type": "code",
      "source": [
        "game = Game() #Run this game"
      ],
      "metadata": {
        "id": "wuHfV2g5xaxs",
        "colab": {
          "base_uri": "https://localhost:8080/",
          "height": 310,
          "referenced_widgets": [
            "c0780a3c2dbe438083510ca27b4cf9ea",
            "feb6f643885146f693d08bdca5f73dc7",
            "4cb047b45fc14176b9b058c76c9f4452",
            "73df75a57cbe4f4293b2691f1f87db33",
            "7d05f228edd1401c959fd509b8c9e784",
            "4ce0f960872f4011a6e622a8c7846b45",
            "a8cffd044c744ef580a1a25653b18538",
            "3b290dc346344815a7a0df5fa7fd6721",
            "d6e20ec5d2cf477693fa7afccc4f63e7",
            "2fb3f53b2fa74990a60fb3b9e037e4ef",
            "016fc35ec0b144f686112bc4c06298a0",
            "a8d761f09c184420b6718c915f517f5a",
            "ed59126ae259498a90060dea9ec469e2",
            "3f3beceb60ff48c0a5a8ea774cd00fc3",
            "d1683169405b415a8a8c8c4b16da9682",
            "86edf368702c4e1b92344f2cc9a148b9",
            "1cefca6496ad404694d86a82ccc7884a",
            "80e0a30bfa344e3d893455a714b81d3d",
            "f56afa10b51248d9a0cb24d45ba2b710",
            "eff6e3179f6c45a5b590aa4dbf8786cf",
            "f5984a9fe31941aaba42f0ff8b98a899",
            "83c6659e52914a7faa6a34ebcffb2f39",
            "a8438d141ff0409ab22faac5ba59e04e",
            "904cad2bf6be44e2be1cbb3a9af80723",
            "2a4e6da44e664d21a7c35334e9490ac0",
            "2a7ccb92fe14440085de6e8de83403c0",
            "1d596cbead224a3dbd2f447eee74bc76",
            "5171e1df637a4bd8b65c70fef2118156",
            "05adf4fc3e2c40c18a847a671fee73cd",
            "9c369ccce6c04421b61c1d01a68160a2",
            "00ce215d884e4968887fd8a918c8fb81",
            "3ffba6f385b24c6ca346b629a29c283c",
            "aaf6ba84487c414eae02b16dfe210016",
            "5e8c0734573c47bc88475b3dbac89f9e",
            "686611581a3a4a73a0322f7e207cae49",
            "55a291596d7f46e892db3a3c5663b5e3",
            "9083c07b9e3149f6b0ef21af26d94fcc",
            "28306c3bd59c45879b8bd2bd59e943c2",
            "d2a267f2ad8b48909c8a2d7ae8914277",
            "c51321daada44eea9fee8fd2a8affce5",
            "1426b20deb6a4bd0a149611d66f95521",
            "f20657e2e8944a9db0e21a900159cfbb"
          ]
        },
        "outputId": "6205652d-0fa8-4d5f-c22e-65cfdf3356a6"
      },
      "execution_count": null,
      "outputs": [
        {
          "output_type": "display_data",
          "data": {
            "text/plain": [
              "<IPython.core.display.HTML object>"
            ],
            "text/html": [
              "<style>\n",
              "       table#id2, #id2 > tbody > tr > th, #id2 > tbody > tr > td {\n",
              "         border: 1px solid lightgray;\n",
              "         border-collapse:collapse;\n",
              "         \n",
              "        }</style>"
            ]
          },
          "metadata": {}
        },
        {
          "output_type": "display_data",
          "data": {
            "text/plain": [
              "<IPython.core.display.HTML object>"
            ],
            "text/html": [
              "<table id=id2><tr><td id=id2-0-0></td><td id=id2-0-1></td><td id=id2-0-2></td><td id=id2-0-3></td><td id=id2-0-4></td></tr></table>"
            ]
          },
          "metadata": {}
        },
        {
          "output_type": "display_data",
          "data": {
            "text/plain": [
              "<IPython.core.display.Javascript object>"
            ],
            "application/javascript": [
              "window[\"b4187cea-04fe-11ef-a991-0242ac1c000c\"] = google.colab.output.getActiveOutputArea();\n",
              "//# sourceURL=js_367966646b"
            ]
          },
          "metadata": {}
        },
        {
          "output_type": "display_data",
          "data": {
            "text/plain": [
              "<IPython.core.display.Javascript object>"
            ],
            "application/javascript": [
              "window[\"b418e61c-04fe-11ef-a991-0242ac1c000c\"] = document.querySelector(\"#id2-0-0\");\n",
              "//# sourceURL=js_c6a5cf1719"
            ]
          },
          "metadata": {}
        },
        {
          "output_type": "display_data",
          "data": {
            "text/plain": [
              "<IPython.core.display.Javascript object>"
            ],
            "application/javascript": [
              "window[\"b4193f5e-04fe-11ef-a991-0242ac1c000c\"] = google.colab.output.setActiveOutputArea(window[\"b418e61c-04fe-11ef-a991-0242ac1c000c\"]);\n",
              "//# sourceURL=js_238567932d"
            ]
          },
          "metadata": {}
        },
        {
          "output_type": "display_data",
          "data": {
            "text/plain": [
              "Button(description='Measure', layout=Layout(height='30px', width='86px'), style=ButtonStyle())"
            ],
            "application/vnd.jupyter.widget-view+json": {
              "version_major": 2,
              "version_minor": 0,
              "model_id": "c0780a3c2dbe438083510ca27b4cf9ea"
            }
          },
          "metadata": {}
        },
        {
          "output_type": "display_data",
          "data": {
            "text/plain": [
              "<IPython.core.display.Javascript object>"
            ],
            "application/javascript": [
              "window[\"b41b0cee-04fe-11ef-a991-0242ac1c000c\"] = google.colab.output.setActiveOutputArea(window[\"b4187cea-04fe-11ef-a991-0242ac1c000c\"]);\n",
              "//# sourceURL=js_52f64b8806"
            ]
          },
          "metadata": {}
        },
        {
          "output_type": "display_data",
          "data": {
            "text/plain": [
              "<IPython.core.display.Javascript object>"
            ],
            "application/javascript": [
              "window[\"b41cedfc-04fe-11ef-a991-0242ac1c000c\"] = google.colab.output.getActiveOutputArea();\n",
              "//# sourceURL=js_32dccbe706"
            ]
          },
          "metadata": {}
        },
        {
          "output_type": "display_data",
          "data": {
            "text/plain": [
              "<IPython.core.display.Javascript object>"
            ],
            "application/javascript": [
              "window[\"b41d96c6-04fe-11ef-a991-0242ac1c000c\"] = document.querySelector(\"#id2-0-1\");\n",
              "//# sourceURL=js_41e754c4bf"
            ]
          },
          "metadata": {}
        },
        {
          "output_type": "display_data",
          "data": {
            "text/plain": [
              "<IPython.core.display.Javascript object>"
            ],
            "application/javascript": [
              "window[\"b41ddef6-04fe-11ef-a991-0242ac1c000c\"] = google.colab.output.setActiveOutputArea(window[\"b41d96c6-04fe-11ef-a991-0242ac1c000c\"]);\n",
              "//# sourceURL=js_88da097267"
            ]
          },
          "metadata": {}
        },
        {
          "output_type": "display_data",
          "data": {
            "text/plain": [
              "Button(description='H', layout=Layout(height='30px', width='86px'), style=ButtonStyle())"
            ],
            "application/vnd.jupyter.widget-view+json": {
              "version_major": 2,
              "version_minor": 0,
              "model_id": "73df75a57cbe4f4293b2691f1f87db33"
            }
          },
          "metadata": {}
        },
        {
          "output_type": "display_data",
          "data": {
            "text/plain": [
              "<IPython.core.display.Javascript object>"
            ],
            "application/javascript": [
              "window[\"b41f0542-04fe-11ef-a991-0242ac1c000c\"] = google.colab.output.setActiveOutputArea(window[\"b41cedfc-04fe-11ef-a991-0242ac1c000c\"]);\n",
              "//# sourceURL=js_d6acf18386"
            ]
          },
          "metadata": {}
        },
        {
          "output_type": "display_data",
          "data": {
            "text/plain": [
              "<IPython.core.display.Javascript object>"
            ],
            "application/javascript": [
              "window[\"b420805c-04fe-11ef-a991-0242ac1c000c\"] = google.colab.output.getActiveOutputArea();\n",
              "//# sourceURL=js_9bc38942c6"
            ]
          },
          "metadata": {}
        },
        {
          "output_type": "display_data",
          "data": {
            "text/plain": [
              "<IPython.core.display.Javascript object>"
            ],
            "application/javascript": [
              "window[\"b420c4ea-04fe-11ef-a991-0242ac1c000c\"] = document.querySelector(\"#id2-0-2\");\n",
              "//# sourceURL=js_4ec70fa49d"
            ]
          },
          "metadata": {}
        },
        {
          "output_type": "display_data",
          "data": {
            "text/plain": [
              "<IPython.core.display.Javascript object>"
            ],
            "application/javascript": [
              "window[\"b4210ebe-04fe-11ef-a991-0242ac1c000c\"] = google.colab.output.setActiveOutputArea(window[\"b420c4ea-04fe-11ef-a991-0242ac1c000c\"]);\n",
              "//# sourceURL=js_6e2f552168"
            ]
          },
          "metadata": {}
        },
        {
          "output_type": "display_data",
          "data": {
            "text/plain": [
              "Button(description='S', layout=Layout(height='30px', width='86px'), style=ButtonStyle())"
            ],
            "application/vnd.jupyter.widget-view+json": {
              "version_major": 2,
              "version_minor": 0,
              "model_id": "a8cffd044c744ef580a1a25653b18538"
            }
          },
          "metadata": {}
        },
        {
          "output_type": "display_data",
          "data": {
            "text/plain": [
              "<IPython.core.display.Javascript object>"
            ],
            "application/javascript": [
              "window[\"b42230f0-04fe-11ef-a991-0242ac1c000c\"] = google.colab.output.setActiveOutputArea(window[\"b420805c-04fe-11ef-a991-0242ac1c000c\"]);\n",
              "//# sourceURL=js_4b13dc854f"
            ]
          },
          "metadata": {}
        },
        {
          "output_type": "display_data",
          "data": {
            "text/plain": [
              "<IPython.core.display.Javascript object>"
            ],
            "application/javascript": [
              "window[\"b423aa70-04fe-11ef-a991-0242ac1c000c\"] = google.colab.output.getActiveOutputArea();\n",
              "//# sourceURL=js_3b231c23bf"
            ]
          },
          "metadata": {}
        },
        {
          "output_type": "display_data",
          "data": {
            "text/plain": [
              "<IPython.core.display.Javascript object>"
            ],
            "application/javascript": [
              "window[\"b423ecb0-04fe-11ef-a991-0242ac1c000c\"] = document.querySelector(\"#id2-0-3\");\n",
              "//# sourceURL=js_af9b392080"
            ]
          },
          "metadata": {}
        },
        {
          "output_type": "display_data",
          "data": {
            "text/plain": [
              "<IPython.core.display.Javascript object>"
            ],
            "application/javascript": [
              "window[\"b4242a86-04fe-11ef-a991-0242ac1c000c\"] = google.colab.output.setActiveOutputArea(window[\"b423ecb0-04fe-11ef-a991-0242ac1c000c\"]);\n",
              "//# sourceURL=js_d3d87333ed"
            ]
          },
          "metadata": {}
        },
        {
          "output_type": "display_data",
          "data": {
            "text/plain": [
              "Button(description='T', layout=Layout(height='30px', width='86px'), style=ButtonStyle())"
            ],
            "application/vnd.jupyter.widget-view+json": {
              "version_major": 2,
              "version_minor": 0,
              "model_id": "2fb3f53b2fa74990a60fb3b9e037e4ef"
            }
          },
          "metadata": {}
        },
        {
          "output_type": "display_data",
          "data": {
            "text/plain": [
              "<IPython.core.display.Javascript object>"
            ],
            "application/javascript": [
              "window[\"b42553d4-04fe-11ef-a991-0242ac1c000c\"] = google.colab.output.setActiveOutputArea(window[\"b423aa70-04fe-11ef-a991-0242ac1c000c\"]);\n",
              "//# sourceURL=js_91f9f0d96c"
            ]
          },
          "metadata": {}
        },
        {
          "output_type": "display_data",
          "data": {
            "text/plain": [
              "<IPython.core.display.Javascript object>"
            ],
            "application/javascript": [
              "window[\"b426d646-04fe-11ef-a991-0242ac1c000c\"] = google.colab.output.getActiveOutputArea();\n",
              "//# sourceURL=js_7b175540a8"
            ]
          },
          "metadata": {}
        },
        {
          "output_type": "display_data",
          "data": {
            "text/plain": [
              "<IPython.core.display.Javascript object>"
            ],
            "application/javascript": [
              "window[\"b4271d2c-04fe-11ef-a991-0242ac1c000c\"] = document.querySelector(\"#id2-0-4\");\n",
              "//# sourceURL=js_3ff76fa165"
            ]
          },
          "metadata": {}
        },
        {
          "output_type": "display_data",
          "data": {
            "text/plain": [
              "<IPython.core.display.Javascript object>"
            ],
            "application/javascript": [
              "window[\"b4276412-04fe-11ef-a991-0242ac1c000c\"] = google.colab.output.setActiveOutputArea(window[\"b4271d2c-04fe-11ef-a991-0242ac1c000c\"]);\n",
              "//# sourceURL=js_db01dead75"
            ]
          },
          "metadata": {}
        },
        {
          "output_type": "display_data",
          "data": {
            "text/plain": [
              "Button(description='CNOT', layout=Layout(height='30px', width='86px'), style=ButtonStyle())"
            ],
            "application/vnd.jupyter.widget-view+json": {
              "version_major": 2,
              "version_minor": 0,
              "model_id": "ed59126ae259498a90060dea9ec469e2"
            }
          },
          "metadata": {}
        },
        {
          "output_type": "display_data",
          "data": {
            "text/plain": [
              "<IPython.core.display.Javascript object>"
            ],
            "application/javascript": [
              "window[\"b4288d7e-04fe-11ef-a991-0242ac1c000c\"] = google.colab.output.setActiveOutputArea(window[\"b426d646-04fe-11ef-a991-0242ac1c000c\"]);\n",
              "//# sourceURL=js_bfdcb6f091"
            ]
          },
          "metadata": {}
        },
        {
          "output_type": "display_data",
          "data": {
            "text/plain": [
              "<IPython.core.display.HTML object>"
            ],
            "text/html": [
              "<style>\n",
              "       table#id4, #id4 > tbody > tr > th, #id4 > tbody > tr > td {\n",
              "         border: 1px solid lightgray;\n",
              "         border-collapse:collapse;\n",
              "         \n",
              "        }</style>"
            ]
          },
          "metadata": {}
        },
        {
          "output_type": "display_data",
          "data": {
            "text/plain": [
              "<IPython.core.display.HTML object>"
            ],
            "text/html": [
              "<table id=id4><tr><th id=id4-0-0></th><th id=id4-0-1></th><th id=id4-0-2></th></tr></table>"
            ]
          },
          "metadata": {}
        },
        {
          "output_type": "display_data",
          "data": {
            "text/plain": [
              "<IPython.core.display.Javascript object>"
            ],
            "application/javascript": [
              "window[\"b42b962c-04fe-11ef-a991-0242ac1c000c\"] = google.colab.output.getActiveOutputArea();\n",
              "//# sourceURL=js_b586e42841"
            ]
          },
          "metadata": {}
        },
        {
          "output_type": "display_data",
          "data": {
            "text/plain": [
              "<IPython.core.display.Javascript object>"
            ],
            "application/javascript": [
              "window[\"b42c3424-04fe-11ef-a991-0242ac1c000c\"] = document.querySelector(\"#id4-0-0\");\n",
              "//# sourceURL=js_c44d0dfb20"
            ]
          },
          "metadata": {}
        },
        {
          "output_type": "display_data",
          "data": {
            "text/plain": [
              "<IPython.core.display.Javascript object>"
            ],
            "application/javascript": [
              "window[\"b42c7b14-04fe-11ef-a991-0242ac1c000c\"] = google.colab.output.setActiveOutputArea(window[\"b42c3424-04fe-11ef-a991-0242ac1c000c\"]);\n",
              "//# sourceURL=js_1b8ab234ce"
            ]
          },
          "metadata": {}
        },
        {
          "output_type": "stream",
          "name": "stdout",
          "text": [
            "\n",
            " \n",
            "\n"
          ]
        },
        {
          "output_type": "display_data",
          "data": {
            "text/plain": [
              "Button(description='0', style=ButtonStyle())"
            ],
            "application/vnd.jupyter.widget-view+json": {
              "version_major": 2,
              "version_minor": 0,
              "model_id": "86edf368702c4e1b92344f2cc9a148b9"
            }
          },
          "metadata": {}
        },
        {
          "output_type": "display_data",
          "data": {
            "text/plain": [
              "<IPython.core.display.Javascript object>"
            ],
            "application/javascript": [
              "window[\"b42e20d6-04fe-11ef-a991-0242ac1c000c\"] = google.colab.output.setActiveOutputArea(window[\"b42b962c-04fe-11ef-a991-0242ac1c000c\"]);\n",
              "//# sourceURL=js_21e0c8a50a"
            ]
          },
          "metadata": {}
        },
        {
          "output_type": "display_data",
          "data": {
            "text/plain": [
              "<IPython.core.display.Javascript object>"
            ],
            "application/javascript": [
              "window[\"b43006da-04fe-11ef-a991-0242ac1c000c\"] = google.colab.output.getActiveOutputArea();\n",
              "//# sourceURL=js_d701f55c5f"
            ]
          },
          "metadata": {}
        },
        {
          "output_type": "display_data",
          "data": {
            "text/plain": [
              "<IPython.core.display.Javascript object>"
            ],
            "application/javascript": [
              "window[\"b430dd8a-04fe-11ef-a991-0242ac1c000c\"] = document.querySelector(\"#id4-0-1\");\n",
              "//# sourceURL=js_bfad48216f"
            ]
          },
          "metadata": {}
        },
        {
          "output_type": "display_data",
          "data": {
            "text/plain": [
              "<IPython.core.display.Javascript object>"
            ],
            "application/javascript": [
              "window[\"b4312c18-04fe-11ef-a991-0242ac1c000c\"] = google.colab.output.setActiveOutputArea(window[\"b430dd8a-04fe-11ef-a991-0242ac1c000c\"]);\n",
              "//# sourceURL=js_585acca6c2"
            ]
          },
          "metadata": {}
        },
        {
          "output_type": "stream",
          "name": "stdout",
          "text": [
            "\n",
            " \n",
            "\n"
          ]
        },
        {
          "output_type": "display_data",
          "data": {
            "text/plain": [
              "Button(description='1', style=ButtonStyle())"
            ],
            "application/vnd.jupyter.widget-view+json": {
              "version_major": 2,
              "version_minor": 0,
              "model_id": "f56afa10b51248d9a0cb24d45ba2b710"
            }
          },
          "metadata": {}
        },
        {
          "output_type": "display_data",
          "data": {
            "text/plain": [
              "<IPython.core.display.Javascript object>"
            ],
            "application/javascript": [
              "window[\"b43282fc-04fe-11ef-a991-0242ac1c000c\"] = google.colab.output.setActiveOutputArea(window[\"b43006da-04fe-11ef-a991-0242ac1c000c\"]);\n",
              "//# sourceURL=js_e1ca39d535"
            ]
          },
          "metadata": {}
        },
        {
          "output_type": "display_data",
          "data": {
            "text/plain": [
              "<IPython.core.display.Javascript object>"
            ],
            "application/javascript": [
              "window[\"b433fa10-04fe-11ef-a991-0242ac1c000c\"] = google.colab.output.getActiveOutputArea();\n",
              "//# sourceURL=js_9c4561332a"
            ]
          },
          "metadata": {}
        },
        {
          "output_type": "display_data",
          "data": {
            "text/plain": [
              "<IPython.core.display.Javascript object>"
            ],
            "application/javascript": [
              "window[\"b43440b0-04fe-11ef-a991-0242ac1c000c\"] = document.querySelector(\"#id4-0-2\");\n",
              "//# sourceURL=js_f073c7b57d"
            ]
          },
          "metadata": {}
        },
        {
          "output_type": "display_data",
          "data": {
            "text/plain": [
              "<IPython.core.display.Javascript object>"
            ],
            "application/javascript": [
              "window[\"b4348502-04fe-11ef-a991-0242ac1c000c\"] = google.colab.output.setActiveOutputArea(window[\"b43440b0-04fe-11ef-a991-0242ac1c000c\"]);\n",
              "//# sourceURL=js_616c3ec2a1"
            ]
          },
          "metadata": {}
        },
        {
          "output_type": "stream",
          "name": "stdout",
          "text": [
            "\n",
            " \n",
            "\n"
          ]
        },
        {
          "output_type": "display_data",
          "data": {
            "text/plain": [
              "Button(description='2', style=ButtonStyle())"
            ],
            "application/vnd.jupyter.widget-view+json": {
              "version_major": 2,
              "version_minor": 0,
              "model_id": "83c6659e52914a7faa6a34ebcffb2f39"
            }
          },
          "metadata": {}
        },
        {
          "output_type": "display_data",
          "data": {
            "text/plain": [
              "<IPython.core.display.Javascript object>"
            ],
            "application/javascript": [
              "window[\"b435bbde-04fe-11ef-a991-0242ac1c000c\"] = google.colab.output.setActiveOutputArea(window[\"b433fa10-04fe-11ef-a991-0242ac1c000c\"]);\n",
              "//# sourceURL=js_0c55fcbb2f"
            ]
          },
          "metadata": {}
        },
        {
          "output_type": "display_data",
          "data": {
            "text/plain": [
              "<IPython.core.display.Javascript object>"
            ],
            "application/javascript": [
              "window[\"b437412a-04fe-11ef-a991-0242ac1c000c\"] = google.colab.output.getActiveOutputArea();\n",
              "//# sourceURL=js_802e8489f6"
            ]
          },
          "metadata": {}
        },
        {
          "output_type": "display_data",
          "data": {
            "text/plain": [
              "<IPython.core.display.Javascript object>"
            ],
            "application/javascript": [
              "window[\"b43784b4-04fe-11ef-a991-0242ac1c000c\"] = document.querySelector(\"#id4-0-0\");\n",
              "//# sourceURL=js_62c4dab2df"
            ]
          },
          "metadata": {}
        },
        {
          "output_type": "display_data",
          "data": {
            "text/plain": [
              "<IPython.core.display.Javascript object>"
            ],
            "application/javascript": [
              "window[\"b4384f20-04fe-11ef-a991-0242ac1c000c\"] = google.colab.output.setActiveOutputArea(window[\"b43784b4-04fe-11ef-a991-0242ac1c000c\"]);\n",
              "//# sourceURL=js_cf1c7f6ab2"
            ]
          },
          "metadata": {}
        },
        {
          "output_type": "stream",
          "name": "stdout",
          "text": [
            "\n",
            " \n",
            "\n"
          ]
        },
        {
          "output_type": "display_data",
          "data": {
            "text/plain": [
              "Button(description='3', style=ButtonStyle())"
            ],
            "application/vnd.jupyter.widget-view+json": {
              "version_major": 2,
              "version_minor": 0,
              "model_id": "2a4e6da44e664d21a7c35334e9490ac0"
            }
          },
          "metadata": {}
        },
        {
          "output_type": "display_data",
          "data": {
            "text/plain": [
              "<IPython.core.display.Javascript object>"
            ],
            "application/javascript": [
              "window[\"b43a5afe-04fe-11ef-a991-0242ac1c000c\"] = google.colab.output.setActiveOutputArea(window[\"b437412a-04fe-11ef-a991-0242ac1c000c\"]);\n",
              "//# sourceURL=js_f6cc989c1f"
            ]
          },
          "metadata": {}
        },
        {
          "output_type": "display_data",
          "data": {
            "text/plain": [
              "<IPython.core.display.Javascript object>"
            ],
            "application/javascript": [
              "window[\"b43be248-04fe-11ef-a991-0242ac1c000c\"] = google.colab.output.getActiveOutputArea();\n",
              "//# sourceURL=js_2f50119889"
            ]
          },
          "metadata": {}
        },
        {
          "output_type": "display_data",
          "data": {
            "text/plain": [
              "<IPython.core.display.Javascript object>"
            ],
            "application/javascript": [
              "window[\"b43c2e92-04fe-11ef-a991-0242ac1c000c\"] = document.querySelector(\"#id4-0-1\");\n",
              "//# sourceURL=js_cc1e9a33ac"
            ]
          },
          "metadata": {}
        },
        {
          "output_type": "display_data",
          "data": {
            "text/plain": [
              "<IPython.core.display.Javascript object>"
            ],
            "application/javascript": [
              "window[\"b43c7140-04fe-11ef-a991-0242ac1c000c\"] = google.colab.output.setActiveOutputArea(window[\"b43c2e92-04fe-11ef-a991-0242ac1c000c\"]);\n",
              "//# sourceURL=js_7f0573d583"
            ]
          },
          "metadata": {}
        },
        {
          "output_type": "stream",
          "name": "stdout",
          "text": [
            "\n",
            " \n",
            "\n"
          ]
        },
        {
          "output_type": "display_data",
          "data": {
            "text/plain": [
              "Button(description='4', style=ButtonStyle())"
            ],
            "application/vnd.jupyter.widget-view+json": {
              "version_major": 2,
              "version_minor": 0,
              "model_id": "5171e1df637a4bd8b65c70fef2118156"
            }
          },
          "metadata": {}
        },
        {
          "output_type": "display_data",
          "data": {
            "text/plain": [
              "<IPython.core.display.Javascript object>"
            ],
            "application/javascript": [
              "window[\"b43da83a-04fe-11ef-a991-0242ac1c000c\"] = google.colab.output.setActiveOutputArea(window[\"b43be248-04fe-11ef-a991-0242ac1c000c\"]);\n",
              "//# sourceURL=js_f972ec5701"
            ]
          },
          "metadata": {}
        },
        {
          "output_type": "display_data",
          "data": {
            "text/plain": [
              "<IPython.core.display.Javascript object>"
            ],
            "application/javascript": [
              "window[\"b43f3470-04fe-11ef-a991-0242ac1c000c\"] = google.colab.output.getActiveOutputArea();\n",
              "//# sourceURL=js_5c48094e78"
            ]
          },
          "metadata": {}
        },
        {
          "output_type": "display_data",
          "data": {
            "text/plain": [
              "<IPython.core.display.Javascript object>"
            ],
            "application/javascript": [
              "window[\"b43f7a84-04fe-11ef-a991-0242ac1c000c\"] = document.querySelector(\"#id4-0-2\");\n",
              "//# sourceURL=js_0db4f6ec04"
            ]
          },
          "metadata": {}
        },
        {
          "output_type": "display_data",
          "data": {
            "text/plain": [
              "<IPython.core.display.Javascript object>"
            ],
            "application/javascript": [
              "window[\"b43fbde6-04fe-11ef-a991-0242ac1c000c\"] = google.colab.output.setActiveOutputArea(window[\"b43f7a84-04fe-11ef-a991-0242ac1c000c\"]);\n",
              "//# sourceURL=js_7bc0972c3d"
            ]
          },
          "metadata": {}
        },
        {
          "output_type": "stream",
          "name": "stdout",
          "text": [
            "\n",
            " \n",
            "\n"
          ]
        },
        {
          "output_type": "display_data",
          "data": {
            "text/plain": [
              "Button(description='5', style=ButtonStyle())"
            ],
            "application/vnd.jupyter.widget-view+json": {
              "version_major": 2,
              "version_minor": 0,
              "model_id": "00ce215d884e4968887fd8a918c8fb81"
            }
          },
          "metadata": {}
        },
        {
          "output_type": "display_data",
          "data": {
            "text/plain": [
              "<IPython.core.display.Javascript object>"
            ],
            "application/javascript": [
              "window[\"b440fe54-04fe-11ef-a991-0242ac1c000c\"] = google.colab.output.setActiveOutputArea(window[\"b43f3470-04fe-11ef-a991-0242ac1c000c\"]);\n",
              "//# sourceURL=js_e40e8ca560"
            ]
          },
          "metadata": {}
        },
        {
          "output_type": "display_data",
          "data": {
            "text/plain": [
              "<IPython.core.display.Javascript object>"
            ],
            "application/javascript": [
              "window[\"b4427c66-04fe-11ef-a991-0242ac1c000c\"] = google.colab.output.getActiveOutputArea();\n",
              "//# sourceURL=js_0ebe11bd2a"
            ]
          },
          "metadata": {}
        },
        {
          "output_type": "display_data",
          "data": {
            "text/plain": [
              "<IPython.core.display.Javascript object>"
            ],
            "application/javascript": [
              "window[\"b442c090-04fe-11ef-a991-0242ac1c000c\"] = document.querySelector(\"#id4-0-0\");\n",
              "//# sourceURL=js_6f71b31c51"
            ]
          },
          "metadata": {}
        },
        {
          "output_type": "display_data",
          "data": {
            "text/plain": [
              "<IPython.core.display.Javascript object>"
            ],
            "application/javascript": [
              "window[\"b4430960-04fe-11ef-a991-0242ac1c000c\"] = google.colab.output.setActiveOutputArea(window[\"b442c090-04fe-11ef-a991-0242ac1c000c\"]);\n",
              "//# sourceURL=js_6d06bdf30e"
            ]
          },
          "metadata": {}
        },
        {
          "output_type": "stream",
          "name": "stdout",
          "text": [
            "\n",
            " \n",
            "\n"
          ]
        },
        {
          "output_type": "display_data",
          "data": {
            "text/plain": [
              "Button(description='6', style=ButtonStyle())"
            ],
            "application/vnd.jupyter.widget-view+json": {
              "version_major": 2,
              "version_minor": 0,
              "model_id": "5e8c0734573c47bc88475b3dbac89f9e"
            }
          },
          "metadata": {}
        },
        {
          "output_type": "display_data",
          "data": {
            "text/plain": [
              "<IPython.core.display.Javascript object>"
            ],
            "application/javascript": [
              "window[\"b44442b2-04fe-11ef-a991-0242ac1c000c\"] = google.colab.output.setActiveOutputArea(window[\"b4427c66-04fe-11ef-a991-0242ac1c000c\"]);\n",
              "//# sourceURL=js_77ce558ffa"
            ]
          },
          "metadata": {}
        },
        {
          "output_type": "display_data",
          "data": {
            "text/plain": [
              "<IPython.core.display.Javascript object>"
            ],
            "application/javascript": [
              "window[\"b445b660-04fe-11ef-a991-0242ac1c000c\"] = google.colab.output.getActiveOutputArea();\n",
              "//# sourceURL=js_08b951afcc"
            ]
          },
          "metadata": {}
        },
        {
          "output_type": "display_data",
          "data": {
            "text/plain": [
              "<IPython.core.display.Javascript object>"
            ],
            "application/javascript": [
              "window[\"b445fb5c-04fe-11ef-a991-0242ac1c000c\"] = document.querySelector(\"#id4-0-1\");\n",
              "//# sourceURL=js_4a4fec40cb"
            ]
          },
          "metadata": {}
        },
        {
          "output_type": "display_data",
          "data": {
            "text/plain": [
              "<IPython.core.display.Javascript object>"
            ],
            "application/javascript": [
              "window[\"b44643b4-04fe-11ef-a991-0242ac1c000c\"] = google.colab.output.setActiveOutputArea(window[\"b445fb5c-04fe-11ef-a991-0242ac1c000c\"]);\n",
              "//# sourceURL=js_3bffe9de52"
            ]
          },
          "metadata": {}
        },
        {
          "output_type": "stream",
          "name": "stdout",
          "text": [
            "\n",
            " \n",
            "\n"
          ]
        },
        {
          "output_type": "display_data",
          "data": {
            "text/plain": [
              "Button(description='7', style=ButtonStyle())"
            ],
            "application/vnd.jupyter.widget-view+json": {
              "version_major": 2,
              "version_minor": 0,
              "model_id": "9083c07b9e3149f6b0ef21af26d94fcc"
            }
          },
          "metadata": {}
        },
        {
          "output_type": "display_data",
          "data": {
            "text/plain": [
              "<IPython.core.display.Javascript object>"
            ],
            "application/javascript": [
              "window[\"b4477a04-04fe-11ef-a991-0242ac1c000c\"] = google.colab.output.setActiveOutputArea(window[\"b445b660-04fe-11ef-a991-0242ac1c000c\"]);\n",
              "//# sourceURL=js_55d0cdb593"
            ]
          },
          "metadata": {}
        },
        {
          "output_type": "display_data",
          "data": {
            "text/plain": [
              "<IPython.core.display.Javascript object>"
            ],
            "application/javascript": [
              "window[\"b448e98e-04fe-11ef-a991-0242ac1c000c\"] = google.colab.output.getActiveOutputArea();\n",
              "//# sourceURL=js_dd14271ab8"
            ]
          },
          "metadata": {}
        },
        {
          "output_type": "display_data",
          "data": {
            "text/plain": [
              "<IPython.core.display.Javascript object>"
            ],
            "application/javascript": [
              "window[\"b4492b2e-04fe-11ef-a991-0242ac1c000c\"] = document.querySelector(\"#id4-0-2\");\n",
              "//# sourceURL=js_ae0a6e55cb"
            ]
          },
          "metadata": {}
        },
        {
          "output_type": "display_data",
          "data": {
            "text/plain": [
              "<IPython.core.display.Javascript object>"
            ],
            "application/javascript": [
              "window[\"b4496c38-04fe-11ef-a991-0242ac1c000c\"] = google.colab.output.setActiveOutputArea(window[\"b4492b2e-04fe-11ef-a991-0242ac1c000c\"]);\n",
              "//# sourceURL=js_7c59eb41f9"
            ]
          },
          "metadata": {}
        },
        {
          "output_type": "stream",
          "name": "stdout",
          "text": [
            "\n",
            " \n",
            "\n"
          ]
        },
        {
          "output_type": "display_data",
          "data": {
            "text/plain": [
              "Button(description='8', style=ButtonStyle())"
            ],
            "application/vnd.jupyter.widget-view+json": {
              "version_major": 2,
              "version_minor": 0,
              "model_id": "c51321daada44eea9fee8fd2a8affce5"
            }
          },
          "metadata": {}
        },
        {
          "output_type": "display_data",
          "data": {
            "text/plain": [
              "<IPython.core.display.Javascript object>"
            ],
            "application/javascript": [
              "window[\"b44aa670-04fe-11ef-a991-0242ac1c000c\"] = google.colab.output.setActiveOutputArea(window[\"b448e98e-04fe-11ef-a991-0242ac1c000c\"]);\n",
              "//# sourceURL=js_7c88dc3dca"
            ]
          },
          "metadata": {}
        }
      ]
    },
    {
      "cell_type": "code",
      "source": [],
      "metadata": {
        "id": "Nv-wHmm66UF9"
      },
      "execution_count": null,
      "outputs": []
    }
  ]
}