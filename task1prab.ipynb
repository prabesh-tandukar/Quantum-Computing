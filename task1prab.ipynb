{
 "cells": [
  {
   "cell_type": "code",
   "execution_count": null,
   "id": "dd4d34c2-1514-4392-80d1-a5c65ff600af",
   "metadata": {
    "tags": []
   },
   "outputs": [],
   "source": [
    "import cirq\n",
    "import requests\n",
    "\n",
    "#Quokka API URL\n",
    "quokka_url = \"http://quokka1.quokkacomputing.com/qsim/qasm\"\n",
    "\n",
    "\n",
    "#Define the qubits\n",
    "q0, q1 = cirq.LineQubit.range(2)\n",
    "\n",
    "#Create a circuit\n",
    "circuit = cirq.Circuit(\n",
    "    cirq.H(q0), #Apply Hadamard gate to qubit 0\n",
    "    cirq.CNOT(q0, q1), #Apply CNOT gate with qubit 0 as control and qubit 1 as target\n",
    "    cirq.measure(q0, key='q0'), #Measure qubit 0 and store the result in the key 'q0'\n",
    "    cirq.measure(q1, key='q1'), #Measure qubit 1 and store the result in the key 'q1'\n",
    ")\n",
    "\n",
    "#Display the circuit\n",
    "print(\"Circuit:\")\n",
    "print(circuit)\n",
    "\n",
    "#Simulate the circuit\n",
    "simulator = cirq.Simulator()\n",
    "result = simulator.simulate(circuit)\n",
    "\n",
    "#Display the results\n",
    "print(\"----------------------\")\n",
    "print(\"Results:\")\n",
    "print(result)\n",
    "print(\"----------------------\")\n",
    "print(\"State vector:\")\n",
    "print(result.final_state_vector)\n",
    "print(\"----------------------\")\n",
    "\n",
    "# Manually convert the circuit to QASM\n",
    "qasm_code = \"\"\"OPENQASM 2.0;\n",
    "include \"qelib1.inc\";\n",
    "\n",
    "qreg q[2];\n",
    "creg c[2];\n",
    "\n",
    "h q[0];\n",
    "cx q[0], q[1];\n",
    "measure q[0] -> c[0];\n",
    "measure q[1] -> c[1];\n",
    "\"\"\"\n",
    "print(qasm_code)\n"
   ]
  },
  {
   "cell_type": "code",
   "execution_count": null,
   "id": "352cd52b-eee7-4b82-8b43-727c8d044cda",
   "metadata": {},
   "outputs": [],
   "source": [
    "import requests\n",
    "import json\n",
    "import numpy as np\n",
    "\n",
    "# The quokka device\n",
    "req_str_qasm = 'http://quokka1.quokkacomputing.com/qsim/qasm'\n",
    "\n",
    "# the Quokka accepts and returns a JSON object\n",
    "data = {'script': qasm_code, 'count': 100000}\n",
    "\n",
    "# Send the QASM code to the Quokka device\n",
    "quokka_result = requests.post(req_str_qasm, json=data)\n",
    "\n",
    "# Process the results\n",
    "final_result = json.loads(quokka_result.content)\n",
    "bits = list(np.concatenate(list(final_result['result'].values())).flat)\n",
    "print(bits)\n"
   ]
  },
  {
   "cell_type": "code",
   "execution_count": null,
   "id": "4b06a99f-7578-4232-89ea-ba9e9e5d0156",
   "metadata": {},
   "outputs": [],
   "source": []
  }
 ],
 "metadata": {
  "kernelspec": {
   "display_name": "Python 3 (ipykernel)",
   "language": "python",
   "name": "python3"
  },
  "language_info": {
   "codemirror_mode": {
    "name": "ipython",
    "version": 3
   },
   "file_extension": ".py",
   "mimetype": "text/x-python",
   "name": "python",
   "nbconvert_exporter": "python",
   "pygments_lexer": "ipython3",
   "version": "3.11.5"
  }
 },
 "nbformat": 4,
 "nbformat_minor": 5
}
