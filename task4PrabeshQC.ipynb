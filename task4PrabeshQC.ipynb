{
  "cells": [
    {
      "cell_type": "markdown",
      "id": "e12acc0e",
      "metadata": {
        "id": "e12acc0e"
      },
      "source": [
        "# Binary Image Classification"
      ]
    },
    {
      "cell_type": "markdown",
      "id": "0b181ed0",
      "metadata": {
        "id": "0b181ed0"
      },
      "source": [
        "### A) Generating dataset"
      ]
    },
    {
      "cell_type": "code",
      "execution_count": 34,
      "id": "9792b586",
      "metadata": {
        "tags": [],
        "id": "9792b586"
      },
      "outputs": [],
      "source": [
        "import numpy as np\n",
        "import matplotlib.pyplot as plt\n",
        "import scipy as sp\n",
        "import requests\n",
        "import math\n",
        "import json\n",
        "import sympy\n",
        "import time\n",
        "\n",
        "# current Quokka address:\n",
        "req_str_qasm = 'http://quokka1.quokkacomputing.com/qsim/qasm'"
      ]
    },
    {
      "cell_type": "code",
      "execution_count": 35,
      "id": "8664bfe7",
      "metadata": {
        "tags": [],
        "id": "8664bfe7"
      },
      "outputs": [],
      "source": [
        "def generate_binary_code(bit_length):\n",
        "    bit_combinations = np.zeros((int(2**bit_length), bit_length))\n",
        "    for number in range(int(2**bit_length)):\n",
        "        dividend = number\n",
        "        bit_index = 0\n",
        "        while dividend != 0:\n",
        "            bit_combinations[number, bit_index] = np.remainder(dividend, 2)\n",
        "            dividend = np.floor_divide(dividend, 2)\n",
        "            bit_index += 1\n",
        "    return bit_combinations\n",
        "\n",
        "def generate_data(length):\n",
        "    stripes = generate_binary_code(length)\n",
        "    stripes = np.repeat(stripes, length, 0)\n",
        "    stripes = stripes.reshape(2 ** length, length * length)\n",
        "\n",
        "    bars = generate_binary_code(length)\n",
        "    bars = bars.reshape(2 ** length * length, 1)\n",
        "    bars = np.repeat(bars, length, 1)\n",
        "    bars = bars.reshape(2 ** length, length * length)\n",
        "    return np.vstack((stripes[1:stripes.shape[0]-1],bars[1:bars.shape[0]-1]))"
      ]
    },
    {
      "cell_type": "code",
      "execution_count": 36,
      "id": "5c925a4f",
      "metadata": {
        "tags": [],
        "colab": {
          "base_uri": "https://localhost:8080/",
          "height": 998
        },
        "id": "5c925a4f",
        "outputId": "fa1080f9-b1ce-40ec-dcd8-34af436a3e52"
      },
      "outputs": [
        {
          "output_type": "stream",
          "name": "stdout",
          "text": [
            "THIS IS THE DATASET\n",
            "[1. 0. 1. 0.]\n",
            "-----------\n",
            "[0. 1. 0. 1.]\n",
            "-----------\n",
            "[1. 1. 0. 0.]\n",
            "-----------\n",
            "[0. 0. 1. 1.]\n",
            "-----------\n",
            "THIS IS THE LABELS\n",
            "[0. 0. 1. 1.]\n"
          ]
        },
        {
          "output_type": "display_data",
          "data": {
            "text/plain": [
              "<Figure size 1000x1000 with 4 Axes>"
            ],
            "image/png": "[encoded data removed]"
          },
          "metadata": {}
        }
      ],
      "source": [
        "length = 2\n",
        "dataset = generate_data(length)\n",
        "labels = np.concatenate((np.zeros(int(2**length-2)),np.ones(int(2**length-2))))\n",
        "n_parameters = int(2*(length**2-1))\n",
        "\n",
        "#Plot sample data (all possiblities of straps and bars)\n",
        "#Note the total number of samples fom each class is (2**length) - 2\n",
        "print('THIS IS THE DATASET')\n",
        "plt.figure(figsize=[10, 10])\n",
        "j = 1\n",
        "for i in dataset:\n",
        "    print(i)\n",
        "    print('-----------')\n",
        "    plt.subplot(4, int(2**(length-1)-1), j)\n",
        "    j += 1\n",
        "    plt.imshow(np.reshape(i, [length,length]), cmap=\"gray\")\n",
        "    plt.xticks([])\n",
        "    plt.yticks([])\n",
        "print('THIS IS THE LABELS')\n",
        "print(labels)"
      ]
    },
    {
      "cell_type": "markdown",
      "id": "4cc4e19e",
      "metadata": {
        "id": "4cc4e19e"
      },
      "source": [
        "### B) Splitting dataset"
      ]
    },
    {
      "cell_type": "code",
      "execution_count": 37,
      "id": "a8ba2d6f",
      "metadata": {
        "tags": [],
        "id": "a8ba2d6f"
      },
      "outputs": [],
      "source": [
        "# Select 75% of the entries in the array\n",
        "selected_indices = np.random.choice(dataset.shape[0],\n",
        "                                    int(dataset.shape[0] * 0.5),\n",
        "                                    replace=False)\n",
        "\n",
        "all_indices = np.arange(dataset.shape[0])\n",
        "unselected_indices = np.setdiff1d(all_indices, selected_indices)\n",
        "\n",
        "# Get the selected elements\n",
        "training = dataset[selected_indices]\n",
        "training_labels = labels[selected_indices]\n",
        "test = dataset[unselected_indices]\n",
        "test_labels = labels[unselected_indices]"
      ]
    },
    {
      "cell_type": "code",
      "execution_count": 38,
      "id": "9924d330",
      "metadata": {
        "tags": [],
        "colab": {
          "base_uri": "https://localhost:8080/",
          "height": 510
        },
        "id": "9924d330",
        "outputId": "d5edb2d7-2508-48c5-d328-0b26e2cf7601"
      },
      "outputs": [
        {
          "output_type": "stream",
          "name": "stdout",
          "text": [
            "THIS IS THE TRAINING DATASET\n",
            "[0. 1. 0. 1.]\n",
            "-----------\n",
            "[0. 0. 1. 1.]\n",
            "-----------\n",
            "THIS IS THE TRAINING LABELS\n",
            "[0. 1.]\n"
          ]
        },
        {
          "output_type": "display_data",
          "data": {
            "text/plain": [
              "<Figure size 1000x1000 with 2 Axes>"
            ],
            "image/png": "[encoded data removed]"
          },
          "metadata": {}
        }
      ],
      "source": [
        "# Training data visualization\n",
        "print('THIS IS THE TRAINING DATASET')\n",
        "plt.figure(figsize=[10, 10])\n",
        "j = 1\n",
        "for i in training:\n",
        "    print(i)\n",
        "    print('-----------')\n",
        "    plt.subplot(1, training.shape[0], j)\n",
        "    j += 1\n",
        "    plt.imshow(np.reshape(i, [length,length]), cmap=\"gray\")\n",
        "    plt.xticks([])\n",
        "    plt.yticks([])\n",
        "print('THIS IS THE TRAINING LABELS')\n",
        "print(training_labels)"
      ]
    },
    {
      "cell_type": "code",
      "execution_count": 39,
      "id": "ab7b9362",
      "metadata": {
        "tags": [],
        "colab": {
          "base_uri": "https://localhost:8080/",
          "height": 510
        },
        "id": "ab7b9362",
        "outputId": "0b3f79c5-75cc-4c25-9848-66fc39e21434"
      },
      "outputs": [
        {
          "output_type": "stream",
          "name": "stdout",
          "text": [
            "THIS IS THE TESTING DATASET\n",
            "[1. 0. 1. 0.]\n",
            "-----------\n",
            "[1. 1. 0. 0.]\n",
            "-----------\n",
            "THIS IS THE TESTING LABELS\n",
            "[0. 1.]\n"
          ]
        },
        {
          "output_type": "display_data",
          "data": {
            "text/plain": [
              "<Figure size 1000x1000 with 2 Axes>"
            ],
            "image/png": "[encoded data removed]"
          },
          "metadata": {}
        }
      ],
      "source": [
        "# Testing data visualization\n",
        "print('THIS IS THE TESTING DATASET')\n",
        "plt.figure(figsize=[10, 10])\n",
        "j = 1\n",
        "for i in test:\n",
        "    print(i)\n",
        "    print('-----------')\n",
        "    plt.subplot(1, test.shape[0], j)\n",
        "    j += 1\n",
        "    plt.imshow(np.reshape(i, [length,length]), cmap=\"gray\")\n",
        "    plt.xticks([])\n",
        "    plt.yticks([])\n",
        "print('THIS IS THE TESTING LABELS')\n",
        "print(test_labels)"
      ]
    },
    {
      "cell_type": "markdown",
      "id": "aceafc2e",
      "metadata": {
        "tags": [],
        "id": "aceafc2e"
      },
      "source": [
        "### C) Creating the quantum circuit"
      ]
    },
    {
      "cell_type": "markdown",
      "id": "3b262c7e",
      "metadata": {
        "id": "3b262c7e"
      },
      "source": [
        "#### The below code is to generate one block of circuit with two quantum bits as input. Use https://quantum-circuit.com/ to view this block. For an example use this qasm code:\n",
        "\n",
        "OPENQASM 2.0;\n",
        "\n",
        "include \"qelib1.inc\";\n",
        "\n",
        "ry(2) q[0];\n",
        "\n",
        "ry(3) q[1];\n",
        "\n",
        "cx q[0], q[1];\n",
        "\n",
        "#### Ultimately we need to create a block of circuits with some additional X gates to construct our final circuit for this application. For 4 input qbits, this circuit looks like for the input [1,0,1,0]:\n",
        "\n",
        "![Screenshot 2023-03-14 113835.jpg](data:image/jpeg;base64,/9j/4AAQSkZJRgABAQEAwADAAAD/2wBDAAMCAgMCAgMDAwMEAwMEBQgFBQQEBQoHBwYIDAoMDAsKCwsNDhIQDQ4RDgsLEBYQERMUFRUVDA8XGBYUGBIUFRT/2wBDAQMEBAUEBQkFBQkUDQsNFBQUFBQUFBQUFBQUFBQUFBQUFBQUFBQUFBQUFBQUFBQUFBQUFBQUFBQUFBQUFBQUFBT/wAARCAMaBHwDASIAAhEBAxEB/8QAHwAAAQUBAQEBAQEAAAAAAAAAAAECAwQFBgcICQoL/8QAtRAAAgEDAwIEAwUFBAQAAAF9AQIDAAQRBRIhMUEGE1FhByJxFDKBkaEII0KxwRVS0fAkM2JyggkKFhcYGRolJicoKSo0NTY3ODk6Q0RFRkdISUpTVFVWV1hZWmNkZWZnaGlqc3R1dnd4eXqDhIWGh4iJipKTlJWWl5iZmqKjpKWmp6ipqrKztLW2t7i5usLDxMXGx8jJytLT1NXW19jZ2uHi4+Tl5ufo6erx8vP09fb3+Pn6/8QAHwEAAwEBAQEBAQEBAQAAAAAAAAECAwQFBgcICQoL/8QAtREAAgECBAQDBAcFBAQAAQJ3AAECAxEEBSExBhJBUQdhcRMiMoEIFEKRobHBCSMzUvAVYnLRChYkNOEl8RcYGRomJygpKjU2Nzg5OkNERUZHSElKU1RVVldYWVpjZGVmZ2hpanN0dXZ3eHl6goOEhYaHiImKkpOUlZaXmJmaoqOkpaanqKmqsrO0tba3uLm6wsPExcbHyMnK0tPU1dbX2Nna4uPk5ebn6Onq8vP09fb3+Pn6/9oADAMBAAIRAxEAPwD9U6KKKACiiigAooooAKKKKACiiigAooooAKKKKACiiigAooooAKKKKACiiigAooooAKKKKACiiigAooooAKKKKACiiigAooooAKKKKACiiigAooooAKKKKACiiigAooooAKKKKACiiigAooooAKKKKACiiigAooooAKKKKACiiigAooooAKKKKACiiigAooooAKKKKACiiigAooooAKKKKACiiigAooooAKKKKACiiigAooooAKKKKACiiigAooooAKKKKACiiigAooooAKKKKACiiigAooooAKKKKACiiigAooooAKKKKACiiigAooooAKKKKACiiigAooooAKKKKACiiigAooooAKKKKACiiigAooooAKKKKACiiigAooooAKKKKACiiigAooooAKKKKACiiigAooooAKKKKACiiigAooooAKKKKACivhz4jL8WfjB+254y+HPhT4x6r8NtB0Xw1ZatHFZadDdq8jsqMMOVIzuznJ6dK6j/AIZH+PP/AEdt4i/8Jm1/+O0AfXdFfIn/AAyP8ef+jtvEX/hM2v8A8do/4ZH+PP8A0dt4i/8ACZtf/jtAH13RXyJ/wyP8ef8Ao7bxF/4TNr/8do/4ZH+PP/R23iL/AMJm1/8AjtAH13RXyJ/wyP8AHn/o7bxF/wCEza//AB2j/hkf48/9HbeIv/CZtf8A47QB9d0V8if8Mj/Hn/o7bxF/4TNr/wDHaP8Ahkf48/8AR23iL/wmbX/47QB9d0V8if8ADI/x5/6O28Rf+Eza/wDx2sv9mTUviZ4N/bC8f/C/xr8T9R+JGmaX4YtdTt7i+sorXbLLKmcImegJH3u/SgD7PooooAKKKKACiiigAoor84/2TfAvx+/ac+CelfECb9prX/Dr39xdQ/2fHoVtcCPypnjzvLLnO3PTjNAH6OUV8if8Mj/Hn/o7bxF/4TNr/wDHaP8Ahkf48/8AR23iL/wmbX/47QB9d0V8if8ADI/x5/6O28Rf+Eza/wDx2j/hkf48/wDR23iL/wAJm1/+O0AfXdFfIn/DI/x5/wCjtvEX/hM2v/x2j/hkf48/9HbeIv8AwmbX/wCO0AfXdFfIn/DI/wAef+jtvEX/AITNr/8AHaP+GR/jz/0dt4i/8Jm1/wDjtAH13RXyJ/wyP8ef+jtvEX/hM2v/AMdo/wCGR/jz/wBHbeIv/CZtf/jtAH13RXzT/wAE6/iV4n+Lf7KfhnxN4w1ibXteubq+jmvrgKHdUupEQEKAOFUDp2r6WoAKKKKACiiigAooooAKKKKACiiigAooooAKKKKACiiigAooooAKKKKACiiigAooooAKKKKACiiigAooooAKKKKACiiigAooooAKKKKACiiigAooooAKKKKACiiigAooooAKKKKACiiigAooooAKKKKACiiigAooooAKKKKACiiigAooooAKKKKACiiigAooooAKKKKACiiigAooooAKKKKACiiigAooooAKKKKACiiigAooooAKKKKACiiigAooooAKKKKACiivnv40fFLxrrHxv8NfBn4capp/hvWr7SJvEWseIr+z+2tYWKSiFFhgLKryySnGXOFUE4ORRq2opXb/AETb+5JsdtG+i/4b82kfQleLeOP2uvAHgjxZqnhzb4g8Sapo4U6uvhjQLvVI9LDDI+0yQRssZxztzkAciuE8LfFL4n+D/wBqKD4UeLPEGk+LNMj8E3HiNNUtNK+w3NzKtysSLKgd1BGH+5gEFeAQc2f+CcdqJf2UvDmvzjzNY8S3uoa1qly64knuZbuXcznuQFVfoopqLkudPS343a/9tlf5dwl7j5ZLW6+6ylf8Y/f5Hvvgbx1oHxL8J6b4m8L6rb61oWoxeda3tsSUkXODweQQQQVIBBBBAIrer5e/Y6jHhz4nftF+ELJDFoWk+M/tllCOI4Wu7aOaWNB0Ch8nA/vV9Q0aSjGS2kk/vSdvlchPWS7Nr7m1+gUUUUigooooAKKKKACiiigD5D+H/wDyk8+Kn/Yi6d/6Ojr68r5D+H//ACk8+Kn/AGIunf8Ao6OvrygAooooAKKKKACiiigAooooAK+RPh7/AMpOviv/ANiNpv8A6Njr67r5E+Hv/KTr4r/9iNpv/o2OgD67ooooAKKKKACiiigAr5D/AOCU/wDyZX4U/wCv/Uv/AEslr68r5D/4JT/8mV+FP+v/AFL/ANLJaAPryiiigAooooAKKKKACiiigAooooA+Q/8AglN/yZR4R/6/dS/9LJa+vK+Q/wDglN/yZR4R/wCv3Uv/AEslr68oAKKKKACiiigAooooAKKKKACiiigAooooAKKKKACiiigAooooAKKKKACiiigAooooAKKKKACiiigAooooAKKKKACiiigAooooAKKKKACiiigAooooAKKKKACiiigAooooAKKKKACiiigAooooAKKKKACiiigAooooAKKKKACiiigAooooAKKKKACiiigAooooAKKKKACiiigAooooAKKKKACiiigAooooAKKKKACiiigAooooAKKKKACiiigDmvDPxG8OeMPEPiXQ9H1NL3VfDdxHa6rbLG6m1ldN6KSygHK8/KTXQ3FxFawvNPIkMSDLSSMFVR6knpXzB+yv/wAnKftS/wDYyab/AOkC15LofgyD/goT+0d8SZfHV1eXvwb+Hmo/2DpXhm1upbaDUL9Mia4nMbKzFSDjBHDoOMMGUby5Et3FSfldJv8AFpJf8FkxlpOUuknFedpNL8Fd+nyPve1vIL6FZraaO4hbpJE4ZT+Iqavzy+Onws0z/gnX4u8HfFn4UNeaF4Cv9Yh0jxh4Ua7luLKWCXO25QSMxV0w2OeCVAwCwPuXx48US/Br9o74TfEQ3Mn/AAificN4J1r5z5UTzN51hPjoP3odC3HyvVRtLlt1fK/J2ul87xS9ddhyvG9+i5l5q+v3JNv003Ppuvm340fD/wAdeEf2iPDfxo8A+F4/HUi6DN4X1rw8uoRWVybdp1ningkmIjJVwQyswyCMd8fSVFLVSUk7Nfqmn96bRV9HHo/87r7mkz4r8H6t4q8Rf8FHtMvfF3h228LXM/wxm+z6RHereTQw/wBoqMTyIPLMhbccRllAwNzHNb/gDw/8Xf2UbXW/A3hL4Zr8T/A7ahdah4bvLLXbXT5NPjnkMrWd0k5U7UkdyJI9+VP3c8V9FSfC7wxN8TofiG+mZ8YQ6U2ipqX2iXizMvmmLy93l/f53bd3bOOK6un9iKWlk0/nJy/Vfitnrc5c0n1Xu/eoqP8An8vM8a/Zh+Dms/Cnwtr+oeLLu2vvHHi7WZ/EGuSWRJt4p5cKkERIBMccaogJ6kE969looo7JKyVkvRaJfJGXdvd3fzerCiiikMKKKKACiiigAooooA+Q/h//AMpPPip/2Iunf+jo6+vK+Q/h/wD8pPPip/2Iunf+jo6+vKACiiigBGYKpLEADqTSK6yKGUhlPcHIqnrmi2HiTR77SdUtIr/Tb6B7a5tZ1DRyxupVlYHqCCRXwr+zbqV/+xF+0Zffs+eJruST4deK5ZNT8A6rdElY5GbMlkzHgNk4x3bacfvhRD3p+z6taebXT7tV32CXuw5+2/ku/wB+/bc+9mZY1LMQqjuTgUqsGUEHIPQivhT45Xlz+3N+0ZD8EdEuJR8KfBM8eoeOdStnIW+ulP7rT1YehBz6EOesYz9x6bptro+n2thY28dpZWsSwQW8KhUjjUAKqgdAAAAPaiPvQU312813+b27rXqgl7s+Ttv5Pt92/bbuWaKKKACvkT4e/wDKTr4r/wDYjab/AOjY6+u6+RPh7/yk6+K//Yjab/6NjoA+u6KKKACiiigAooooAK+Q/wDglP8A8mV+FP8Ar/1L/wBLJa+vK+Q/+CU//JlfhT/r/wBS/wDSyWgD68ooooAZJKkWC7qg/wBo4pI545DhJFc9cKwNfB3/AAVq0e08ReFPgtpWoRefYX3jm1tbiLcV3xvG6suQQRkE8g5rrvFX/BK/4F/2Lcy+DtN1bwD4lhRpLDX9L1u8aW1lAO18SysCM9cYOM4I61nz2jKbWidvuSf6lW95QW7V/vbX6H2K8ixrl2Cj1Y4pQc8jkV8XfsXaxeftmfsR6n4b+Kcj6+z3F34eudSlIMtyke1op93eRNy4fqWjDHJJqf8AYH+I2t+Cb7xP+zh8QLnf4x8APjSbqQ4/tPSGP7mVM9QgZR7K6DqprocbTdPrZNea3fzSadu1+zM7vl5mtm4vyadvuumr97dz7JZ1jUszBV9ScClBzyORXwd8Z/N/bi/a0074R2TNP8J/hvOmqeL7iM/ur7UORFZE9wOVI/67d1Wvu+GGO3hSKJFjijUKiIMBQBgADsKzj71NT77enf5u9vLXqVL3ZuHbf17fJWv56dB9FFFAHyH/AMEpv+TKPCP/AF+6l/6WS19eV8h/8Epv+TKPCP8A1+6l/wClktfXlABRRRQAUUUUAFFFFABRRRQAUUUUAFFfAn7Zn/BVTRfgJ4mvfBPw/wBJtfF/i6xcxaheXkjDT7GUdYiEIaWQHhgGUKeNxYED5K8P/wDBZz42afq0U2qaJ4R1aw3DzbVbKaBivGQjiY7Tx1Ibr0NAH7YUV4H+yP8AtkeDf2vPB9xqOgpJpGv6ftGqeH7uQPNals7XVgAJI2wcOAOmCFPFe+UAFFFFABRRRQAUUUUAFFFFABRRRQAUUUUAFFFFABRRRQAUUUUAFFFFABRRRQAUUUUAFFFFABRRRQAUUUUAFFFFABRRRQAUUUUAFFFFABRRRQAUUUUAFFFFABRRRQAUUUUAFFFFABRRRQAUUUUAFFFFABRRRQAUUUUAFFFFABRRRQAUUUUAFFFFABRRRQAUUUUAFFFFABRRRQAUUUUAFFFFAHy5+yv/AMnKftS/9jJpv/pAtcN/wS9/0HR/jppU48vULP4i6j58LfeXKoBn8Ub8q7n9lf8A5OU/al/7GTTf/SBa5zx98E/iv8A/j94i+LXwP0XT/GukeMFjPifwLfXyWEklymQt1bTP8ik5YtuPVn4bcNk07R9nJ7OlGP3qm/8A22xnBOUaiW6qSfr700/nrf5EX/BWq6hj/Y41a0Y5ur7V9Pt7VMZZ5PO34HvtRulemftWfCdfih+x/wCKfDdxIlrf2uiLfWtxI+wQ3VqgmRtx+780eCewJryj/hUPxm/a1+K3g/XfjN4U074ZfDnwferqtp4Qt9Wj1K71K+X/AFck00XyeWp7cHBI2nduHdf8FBvE2px/A2LwD4ccjxT8RtUt/Ctgq5yEmbNw5x/CIlcE9g1ZzhJUZQj8c5K3k7KMfR82vlodMZR9tCb+GC189XKXyt9+p2f7Gvxkuvj1+zX4H8ZX8Ukep3dn9nvS6FRJcQu0Mki+qs0ZYf72O1cx8XP2+vhf8FfiFq3gzxFD4kbWNM8rzzYaNLcQ/vIklXbIOD8si59Dkdq9p+GXw/0v4U/D3w74P0WLytL0SxisYB3YIoBY+rMcsT6k109dlaUZVJSjtc5KKcacVLex8f8A/D0z4K/8+/jD/wAJ2aj/AIemfBX/AJ9/GH/hOzV9gUVibHx//wAPTPgr/wA+/jD/AMJ2aj/h6Z8Ff+ffxh/4Ts1fYFFAHx//AMPTPgr/AM+/jD/wnZqP+HpnwV/59/GH/hOzV9gUUAfH/wDw9M+Cv/Pv4w/8J2aj/h6Z8Ff+ffxh/wCE7NX2BRQB8f8A/D0z4K/8+/jD/wAJ2aj/AIemfBX/AJ9/GH/hOzV9gUUAfH//AA9M+Cv/AD7+MP8AwnZqP+HpnwV/59/GH/hOzV9gUUAfBH7Kvxn8PfHr/goF8TvFnhhb9NKl8F2Vuo1K1a2l3JPGGyjc496+96+Q/h//AMpPPip/2Iunf+jo6+vKACiiigAr4R/4KNXkHxr8VfDr4BeEbKO9+JmpalFrKawjMH8N2sZO66LKQVLAHjPRP7xSvtXxjqmqaL4V1a/0PRpPEWs29tJJZ6TFPHA11MFOyPzJGVEBOMsxGBn6V86/sWfs5eJfh63in4n/ABUWK4+MXja5afUykiSrp1sG/dWkbKWXaAFJ2kjCouTsBM8qqTSl8MbP1d9Evmrvsl5obk4wfLu9PS61b+W3dvsmedf8E09eg+GX/CefAPxPp0Gk/Ezwxqk+oXt1uJfXoJWBW83N8zkBkH+40Z6lq+6K+Sv2zv2c/GXiPxd4K+M3wcto5Pix4SuEiNk08dumr2DEh4JHkZV4DN1YfK7jrtx9SeHNQvdW8P6de6lpc2iahcW8ctxps8scr2shUFo2eNmRipyMqSDjg1pzOpBSl8S0fyWjXk122d1tYlxUZtR2eq8r7p/PbuvmaNFFFSMK/PTx1+0X4T/Zw/4KN/EXWPFyao9pqHg/TrSH+yrF7p94ZX+ZV6DAPNfoXXyJ8Pf+UnXxX/7EbTf/AEbHQBF/w9M+Cv8Az7+MP/Cdmo/4emfBX/n38Yf+E7NX2BRQB8f/APD0z4K/8+/jD/wnZqP+HpnwV/59/GH/AITs1fYFFAHx/wD8PTPgr/z7+MP/AAnZqP8Ah6Z8Ff8An38Yf+E7NX2BRQB8f/8AD0z4K/8APv4w/wDCdmp//BKVg37FPhIjob7Uj/5OS19e18h/8Ep/+TK/Cn/X/qX/AKWS0AfXlFFFAHwV/wAFaVv5PCvwWXSngi1RvHNqLSS6BMSzeW+wuByV3YzjnGa5H9pLx3+0b4F13wh4U+MHxC0HwZ8MvGFw2lah4u8B6S7PbMwx5Er3DAwb1ziVOgDHB2kV7r+358D/ABt8bLH4Sx+C9F/tl9C8Y2uq6iPtUEHkWyA7pP3rruxn7q5PtXvfxi+Evh345fDjW/BXim0W70jVIDE/HzxOOUlQ9nRgGB9R6Vkk1CTtf3m7PquWH56+V1rpcq96iV7e6tV0d5flo/6uM+DPwl8MfA/4a6L4M8H232fQdOixCzPveZmO5pXf+JnYlienPAAwK+Vf+CmHhe8+HPhzQP2ifBt5Ho/jzwPPHZtOyFlvbK5fyTDIARuCtLkZPRn74r1D9izw58X/AIZeE9U+HPxQ077fp/hqc23h3xfHeQyrqljkiNHjEhlR0AGN6j5SBklctL/wUC+E3iv43fsseKfB/grSv7a8RXs9k9vZ/aIoN4juopHO+V1QYVWPJHTjmrxN5NTi76p362b19NLpr1FQtFOElbRp9v8Ag66p/qXv2H/gnp/wU/Z98PQwztqOt+IIU17WdVl5lvLu4QSMzE8kKGCjP93PUmvfa5j4X6PeeHfhp4S0rUIfs9/Y6RaWtxDuDbJEhRXXKkg4IIyCRXT104hr2suXa+notvlY5cNzOjB1PiaTfq9X+IUUUVgdJ+XP7BP7eHwz+Bv7M3h7wf4kh8Rvq9ndXskp0/R5biHElzI64deDwwz6Gvob/h6Z8Ff+ffxh/wCE7NUn/BKb/kyjwj/1+6l/6WS19eUAfH//AA9M+Cv/AD7+MP8AwnZqP+HpnwV/59/GH/hOzV9gUUAfH/8Aw9M+Cv8Az7+MP/Cdmo/4emfBX/n38Yf+E7NX2BRQB8f/APD0z4K/8+/jD/wnZqP+HpnwV/59/GH/AITs1fYFFAHx/wD8PTPgr/z7+MP/AAnZqP8Ah6Z8Ff8An38Yf+E7NX2BRQB8f/8AD0z4K/8APv4w/wDCdmrlfit/wVQ+Gkfwx8VnwrF4oj8TnS7ldLkutDliiS6MTCJnc8BQ5Uk+1fdVc18S/Atj8UPh34m8H6mzJYa9ptxps0ijLIssbIWHuN2R7gUAfzAXFxLeXEs88rzTysXkkkYszsTkkk9ST3qOuz+MPwj8S/Av4iax4L8WWDWGsabKUYY+SZDyksbfxI64YH37EEVxlAHu37EXx2P7Ov7SPhbxbcSXQ0YtJY6rBZxmV57WVSrLsHLbX8uQAd41r9cv+HpnwV/59/GH/hOzV8Bf8Env2ZdZ+Jnx3074j3tlJD4N8ISNOLuWP5Lq+2ERQxk9ShcSsRnGxQcbxX7e0AfH/wDw9M+Cv/Pv4w/8J2aj/h6Z8Ff+ffxh/wCE7NX2BRQB8f8A/D0z4K/8+/jD/wAJ2aj/AIemfBX/AJ9/GH/hOzV9gUUAfH//AA9M+Cv/AD7+MP8AwnZqP+HpnwV/59/GH/hOzV9gUUAfH/8Aw9M+Cv8Az7+MP/Cdmo/4emfBX/n38Yf+E7NX2BRQB8f/APD0z4K/8+/jD/wnZqP+HpnwV/59/GH/AITs1fYFFAHx/wD8PTPgr/z7+MP/AAnZqP8Ah6Z8Ff8An38Yf+E7NX2BRQB8f/8AD0z4K/8APv4w/wDCdmo/4emfBX/n38Yf+E7NX2BRQB8f/wDD0z4K/wDPv4w/8J2aj/h6Z8Ff+ffxh/4Ts1fYFFAHx/8A8PTPgr/z7+MP/Cdmo/4emfBX/n38Yf8AhOzV9gUUAfH/APw9M+Cv/Pv4w/8ACdmo/wCHpnwV/wCffxh/4Ts1fYFFAHx//wAPTPgr/wA+/jD/AMJ2aj/h6Z8Ff+ffxh/4Ts1fYFFAHx//AMPTPgr/AM+/jD/wnZqP+HpnwV/59/GH/hOzV9gUUAfH/wDw9M+Cv/Pv4w/8J2aj/h6Z8Ff+ffxh/wCE7NX2BRQB8f8A/D0z4K/8+/jD/wAJ2aj/AIemfBX/AJ9/GH/hOzV9gUUAfH//AA9M+Cv/AD7+MP8AwnZqP+HpnwV/59/GH/hOzV9gUUAfH/8Aw9M+Cv8Az7+MP/Cdmo/4emfBX/n38Yf+E7NX2BRQB8f/APD0z4K/8+/jD/wnZqP+HpnwV/59/GH/AITs1fYFFAHx/wD8PTPgr/z7+MP/AAnZqP8Ah6Z8Ff8An38Yf+E7NX2BRQB8f/8AD0z4K/8APv4w/wDCdmo/4emfBX/n38Yf+E7NX2BRQB8f/wDD0z4K/wDPv4w/8J2aj/h6Z8Ff+ffxh/4Ts1fYFFAHx/8A8PTPgr/z7+MP/Cdmo/4emfBX/n38Yf8AhOzV9gUUAfH/APw9M+Cv/Pv4w/8ACdmo/wCHpnwV/wCffxh/4Ts1fYFFAHx//wAPTPgr/wA+/jD/AMJ2aj/h6Z8Ff+ffxh/4Ts1fYFFAHx//AMPTPgr/AM+/jD/wnZqP+HpnwV/59/GH/hOzV9gUUAfH/wDw9M+Cv/Pv4w/8J2aj/h6Z8Ff+ffxh/wCE7NX2BRQB8f8A/D0z4K/8+/jD/wAJ2aj/AIemfBX/AJ9/GH/hOzV9gUUAfH//AA9M+Cv/AD7+MP8AwnZqP+HpnwV/59/GH/hOzV9gUUAfH/8Aw9M+Cv8Az7+MP/Cdmo/4emfBX/n38Yf+E7NX2BRQB8f/APD0z4K/8+/jD/wnZqP+HpnwV/59/GH/AITs1fYFFAHx/wD8PTPgr/z7+MP/AAnZqP8Ah6Z8Ff8An38Yf+E7NX2BRQB8f/8AD0z4K/8APv4w/wDCdmo/4emfBX/n38Yf+E7NX2BRQB8f/wDD0z4K/wDPv4w/8J2aj/h6Z8Ff+ffxh/4Ts1fYFFAHx/8A8PTPgr/z7+MP/Cdmo/4emfBX/n38Yf8AhOzV9gUUAfN/wj/b6+F/xq+IWk+DPDsPiRdZ1PzfIOoaNLbw/u4XlbdI3A+WNsepwO9fSFFFABRRRQAUUUUAFFFFABRRRQAUUUUAFFFFAHnnw7+C+mfDfx58Q/FVlfXd1eeNb+C/vIbjb5cDxQiJVjwAcEDJyTzXodFFHRLskvklZfgJJK9urb+bd3+IV5R4g+DV14r/AGjfC/xB1S8tp9D8L6Nc22k6bhjJHf3DhZrlsjbjyVCLjn5mr1eihaSUu1/xTX6j6OPf/O/6fcFFFFABRRRQAUUUUAFFFFABRRRQAUUUUAFFFFAHyH8P/wDlJ58VP+xF07/0dHX15XyH8P8A/lJ58VP+xF07/wBHR19eUAFFFFABRRRQAUUUUAFFFFABXyJ8Pf8AlJ18V/8AsRtN/wDRsdfXdfInw9/5SdfFf/sRtN/9Gx0AfXdFFFABRRRQAUUUUAFfIf8AwSn/AOTK/Cn/AF/6l/6WS19eV8h/8Ep/+TK/Cn/X/qX/AKWS0AfXlFFFABRRRQAUUUUAFFFFABRRRQB8h/8ABKb/AJMo8I/9fupf+lktfXlfIf8AwSm/5Mo8I/8AX7qX/pZLX15QAUUUUAFFFFABRRRQAUUUUAFFFFAHmHxx/Zp+G37R2kQ2Hj/wta639nz9mvMtDdW+e0c0ZDgE8lc7TgZBr4B/Zl/4J8/Bvxf+0b8dvD2v6TqOsaJ4I1axttKsZ9RkRSk0MkjCVo9rPgqMcjgc5r9Ta+RP2Rf+Tsf2tf8AsO6T/wCk0tAH1L4V8J6L4H8P2Wh+HtKs9E0ayTy7ewsIFhhiXrhVUADkk+5JNa1FFABRRRQAUUUUAFFFFABRRRQAUUUUAFFFFABRRRQAUUUUAFFFFABRRRQAUUUUAFFFFABRRRQAUUUUAFFFFABRRRQAUUUUAFFFFABRRRQAUUUUAFFFFABRRRQAUUUUAFFFFABRRRQAUUUUAFFFFABRRRQAUUUUAFFFFABRRRQAUUUUAFFFFABRRRQAUUUUAFFFFABRRRQAUUUUAFFFFABRRRQAUUUUAFFFFABRRRQAUUUUAFFFFABRRRQAUUUUAFFFFABRRRQB8h/D/wD5SefFT/sRdO/9HR19eV8h/D//AJSefFT/ALEXTv8A0dHX15QAUUUUAFFFFABRRRQAUUUUAFfInw9/5SdfFf8A7EbTf/RsdfXdfInw9/5SdfFf/sRtN/8ARsdAH13RRRQAUUUUAFFFFABXyH/wSn/5Mr8Kf9f+pf8ApZLX15XyH/wSn/5Mr8Kf9f8AqX/pZLQB9eUUUUAFFFFABRRRQAUUUUAFFFFAHyH/AMEpv+TKPCP/AF+6l/6WS19eV8h/8Epv+TKPCP8A1+6l/wClktfXlABRRRQAUUUUAFFFFABRRRQAUUUUAFfIn7Iv/J2P7Wv/AGHdJ/8ASaWvruvkT9kX/k7H9rX/ALDuk/8ApNLQB9d0UUUAFFFFABRRRQAUUUUAFFFFABRRRQAUUUUAFFFFABRRRQAUUUUAFFFFABRRRQAUUUUAFFFFABRRRQAUUUUAFFFFABRRRQAUUUUAFFFFABRRRQAUUUUAFFFFABRRRQAUUUUAFFFFABRRRQAUUUUAFFFFABRRRQAUUUUAFFFFABRRRQAUUUUAFFFFABRRRQAUUUUAFFFFABRRRQAUUUUAFFFFABRRRQAUUUUAFFFFABRRRQAUUUUAFFFFABRRRQAUUUUAFFFFAHyz8Wv2MvE3jb466t8T/B3xj1f4carqemwaZcQ6bpkc++KLkAu8g6kA4x2rK/4Y++Nv/R2fiz/wR2//AMcr67ooA+RP+GPvjb/0dn4s/wDBHb//AByj/hj742/9HZ+LP/BHb/8AxyvruigD5E/4Y++Nv/R2fiz/AMEdv/8AHKP+GPvjb/0dn4s/8Edv/wDHK+u6KAPkT/hj742/9HZ+LP8AwR2//wAco/4Y++Nv/R2fiz/wR2//AMcr67ooA+RP+GPvjb/0dn4s/wDBHb//AByj/hj742/9HZ+LP/BHb/8AxyvruigD5E/4Y++Nv/R2fiz/AMEdv/8AHK6r9nn9kfWvg38W/EXxD8TfFDUviPr2taXHpUk2o6elsyRo6upyrnONuMYHWvpGigAooooAKKKKACiiigAr4g+H3/BPf4j/AAp8LweHPCH7TXiTQNCt3kkhsbXQ4NiM7l2IzKTyxJ/Gvt+igD5E/wCGPvjb/wBHZ+LP/BHb/wDxyj/hj742/wDR2fiz/wAEdv8A/HK+u6KAPkT/AIY++Nv/AEdn4s/8Edv/APHKP+GPvjb/ANHZ+LP/AAR2/wD8cr67ooA+RP8Ahj742/8AR2fiz/wR2/8A8co/4Y++Nv8A0dn4s/8ABHb/APxyvruigD5E/wCGPvjb/wBHZ+LP/BHb/wDxyj/hj742/wDR2fiz/wAEdv8A/HK+u6KAPkT/AIY++Nv/AEdn4s/8Edv/APHKP+GPvjb/ANHZ+LP/AAR2/wD8cr67ooA8m/Zc+AMH7MvwZ0j4f22tSeIItPmuJhfzW4gZ/NmaQjYGbGN2OvavWaKKACiiigAooooAKKKKACiiigAooooAK+RP2Rf+Tsf2tf8AsO6T/wCk0tfXdfIn7Iv/ACdj+1r/ANh3Sf8A0mloA+u6KKKACiiigAooooAKKKKACiiigAooooAKKKKACiiigAooooAKKKKACiiigAooooAKKKKACiiigAooooAKKKKACiiigAooooAKKKKACiiigAooooAKKKKACiiigAooooAKKKKACiiigAooooAKKKKACiiigAooooAKKKKACiiigAooooAKKKKACiiigAooooAKKKKACiiigAooooAKKKKACiiigAooooAKKKKACiiigAooooAKKKKACiiigAooooAKKKKACiiigAooooAKKKKACiiigAooooAKKKKACiiigAooooAKKKKACiiigAooooAKKKKACqup6jBo+m3d/dP5dtawvPK5/hRVLMfyBq1XP/ELQZfFXgHxLosB2zalplzZxtnGGkiZB+prGtKUaUpQ3SdvU0pqMpxUtrnzF8J9F+Kf7UfgEfFKX4teIPh2muPNc+GPD+g2lmbSytA5WBrsTQu1w7hQ7fMow2BgV6v+yj8ZNV+MvwxuZ/EsNtb+MfD2q3fh3X47PIhN7bPtd0B5CupRwO27Fc/+wh4ssNU/ZJ8CxNKtpc+HLA6Lq1vcEI9lc2hMUySg/cI2buexBrC/YFtm1Twn8UfGsQb+yPGfj/V9a0qRlI860LrEkoz2YxsQe4xXZyxjUnTXwqN1/wCBRS1802/PfoYJuVKNSeknKzXyk2rdLNJeW3U+o6KKKxLCiiigAooooAKKKKACiiigAooooAKKKKACiiigAr5E/ZF/5Ox/a1/7Duk/+k0tfXdfIn7Iv/J2P7Wv/Yd0n/0mloA+u6KKKACiiigAooooAKKKKACiiigAooooAKKKKACiiigAooooAKKKKACiiigAooooAKKKKACiiigAooooAKKKKACiiigAooooAKKKKACiiigAooooAKKKKACiiigAooooAKKKKACiiigAooooAKKKKACiiigAooooAKKKKACiiigAooooAKKKKACiiigAooooAKKKKACiiigAooooAKKKKACiiigAooooAKKKKACiiigAooooAKKKKACiiigAooooAKKKKACiiigAooooAKKKKACiiigAooooAKKKKACiiigAooooAKKKKACiiigAooooAKKKKACiiigDxXxz+xr8HfiN4qv/ABFrng5JdT1HadQNnqF1Zw35HQ3EMMqRzH3dST3zXr2kaRY+H9LtNM0yzg0/TrSJYLe0tYxHFDGowqqoGAABgAVcooXurlWwPV8z3CiiigAooooAKKKKACiiigAooooAKKKKACiiigAooooAK+RP2Rf+Tsf2tf8AsO6T/wCk0tfXdfIn7Iv/ACdj+1r/ANh3Sf8A0mloA+u6KKKACiiigAooooAKKKKACiiigAooooAKKKKACiiigAooooAKKKKACiiigAooooAKKKKACiiigAooooAKKKKACiiigAooooAKKKKACiiigAooooAKKKKACiiigAooooAKKKKACiiigAooooAKKKKACiiigAooooAKKKKACiiigAooooAKKKKACiiigAooooAKKKKACiiigAooooAKKKKACiiigAooooAKKKKACiiigAooooAKKKKACiiigAooooAKKKKACiiigAooooAKKKKACiiigAooooAKKKKACiiigAooooAKKKKACiiigAooooAKKKKACiiigAooooAKKKKACiiigAooooAKKKKACiiigAooooAKKKKACiiigAr5E/ZF/wCTsf2tf+w7pP8A6TS19d18ifsi/wDJ2P7Wv/Yd0n/0mloA+u6KKKACiiigAooooAKKKKACiiigAooooAKKKKACiiigAooooAKKKKACiiigAooooAKKKKACiiigAooooAKKKKACiiigAooooAKKKKACiiigAooooAKKKKACiiigAooooAKKKKACiiigAooooAKKKKACiiigAooooAKKKKACiiigAooooAKKKKACiiigAooooAKKKKACiiigAooooAKKKKACiiigAooooAKKKKACiiigAooooAKKKKACiiigAooooAKKKKACiiigAor5a+Lf7Z/iLwP8dNW+GHhH4O6z8R9V0zTYNTuJtL1GOHZFLwCUZD0JAznvWR/w2N8Z/wDo07xj/wCDeD/43QB9eUV8h/8ADY3xn/6NO8Y/+DeD/wCN0f8ADY3xn/6NO8Y/+DeD/wCN0AfXlFfIf/DY3xn/AOjTvGP/AIN4P/jdH/DY3xn/AOjTvGP/AIN4P/jdAH15RXyH/wANjfGf/o07xj/4N4P/AI3R/wANjfGf/o07xj/4N4P/AI3QB9eUV8h/8NjfGf8A6NO8Y/8Ag3g/+N0f8NjfGf8A6NO8Y/8Ag3g/+N0AfXlFfIf/AA2N8Z/+jTvGP/g3g/8AjddX+zz+11q/xm+LXiL4e+JPhhqnw417RdLj1WSHU75J2eN3VFG1UGM7s5z2oA+kaKKKACiiigAooooAKKKKACiiigAooooAKKKKACiiigAooooAKKKKACiiigAooooAKKKKACiiigAooooAK+RP2Rf+Tsf2tf8AsO6T/wCk0tfXdfIn7Iv/ACdj+1r/ANh3Sf8A0mloA+u6KKKACiiigAooooAKKKKACiiigAooooAKK8C/ah/akvP2eNZ8BaNpXgO/8f634wuLq2stP0+8S3kDwrGxHzK27Ik9vu1wH/DY3xn/AOjTvGP/AIN4P/jdAH15RXyH/wANjfGf/o07xj/4N4P/AI3R/wANjfGf/o07xj/4N4P/AI3QB9eUV8h/8NjfGf8A6NO8Y/8Ag3g/+N0f8NjfGf8A6NO8Y/8Ag3g/+N0AfXlFfIf/AA2N8Z/+jTvGP/g3g/8AjdH/AA2N8Z/+jTvGP/g3g/8AjdAH15RXyH/w2N8Z/wDo07xj/wCDeD/43R/w2N8Z/wDo07xj/wCDeD/43QB9eUV8h/8ADY3xn/6NO8Y/+DeD/wCN0/wv+3J4tm+LngXwN40+BWveAH8XXctpY6hqWpxSIWjj3uQqx5OAV7j7woA+uaKKKACiiigAooooAKKKKACiiigAooooAKKKKACiiigAooooAKKKKACiiigAooooAKKKKACiiigAooooAKKKKACiiigAooooAKKKKACiiigAooooAKKKKACiiigAooooAKKKKACiiigAooooAKKKKACiiigAooooAKKKKACiivOPjB8e/DHwV/se21dNS1XXdalaHSvD+g2T3uo37INzmKFP4VXlmYhR3PIpXHa56PRXkXw+/ae8IfETx7B4It7TXtE8YPpsmqzaLr2ky2VxbQI6Jlw4xyXXBUsp5weDj56/4KAp8XLzwR4n1lddXwV8PvD15pq2Nro9yWvtflluYEeS4kGPJgTzGURDJdl3McbapJuUI/zO1+m9vz/rdi6N9v8Ahz7iopkf+rT6Cn0hJ3VwooooGFFFFABRRRQAUUUUAfIfw/8A+UnnxU/7EXTv/R0dfXlfIfw//wCUnnxU/wCxF07/ANHR19eUAFFFFABRRRQAUUUUAFFFFABXyJ8Pf+UnXxX/AOxG03/0bHX13XyJ8Pf+UnXxX/7EbTf/AEbHQB9d0UUUAFFFFABRRRQAUUUUAFFFFABRRRQAUUUUAFFFFABRRRQAUUUUAFFFFABRRRQAUUUUAFFFFABWF4y8d+G/h3osmr+Kdf03w5pcfDXmqXcdtED6bnIGfbrXzx8dP2tNafx83wg+BmkWvjb4qtxf3dyT/ZPh2P8Ailu5F6uO0YOckZy2I2o+BP2AdF1jWoPF/wAdvEV58bvHGCQdZ+XSbHOCY7ezHybfXcNpwDsU0AO1v/gp38CbPUJdP0HVtb8c30X34PDOiXFweuDhnVFYDrlSR7182fs8/txeCfh/+0D+0F4m1rw341g0zxTqmn3dv5ehPJJaJHbyA/aUVsxltylRzkHPFfploPh3SfCumRaboml2ej6dFxHaWFukESfREAA6elfKv7Iv/J2P7Wv/AGHdJ/8ASaWgDtvhv+398BviheGx074g2GlamG2Gx8QK+mS7v7o88KrH2UmvoGCeO6hjmhkWWGRQ6SRsGVlIyCCOoIrh/iZ8B/h18ZLZofG3grRPEp27Fnv7JHnjH+xLjen/AAFhXzJq37NPxX/ZL+0a9+zz4luvE/hCAma4+FfiedriLyxyy2Fwx3RtjOFJ5PUucKQD7XoryP8AZz/ac8H/ALS3hefUPD0k2n6zp7CDWPDuor5V/pc/IKSxnnGQwDDg4PQggeuUAFFFFABRRRQAUUUUAFFFFAHyH+15/wAnY/slf9h7Vv8A0mhr68r5D/a8/wCTsf2Sv+w9q3/pNDX15QAUUUUAFFFFABRRRQAUUUUAFfIn7XX/ACdp+yT/ANhzV/8A0mhr67r5E/a6/wCTtP2Sf+w5q/8A6TQ0AfXdFFFABRRRQAUUUUAFFFFABRRRQAUUUUAFFFFABRRRQAUUUUAFFFFABRRRQAUUUUAFFFFABRRRQAUUUUAFFFFABRRRQAUUUUAFFFFABRRRQAUUUUAFFFFABRRRQAUUUUAFFFFABRRRQAUUUUAFFFFABRRRQAUV86/s4+Mtd8RfH39ozS9U1e81DTdF1+wt9NtbiZnjtI2s1dkjU8KCxJIHeua+K37TXxF8XfG/Ufg78BND0PUvEeh26XPiPxN4oaYaZpe8ZSELF8zykEdM45G04YqlryW3kk/k0n+CeoovmUnsotr7ny/i9j6vor4+0H9pn4tfBL4veGPAv7QejeGjpPi24+x6F4z8IGdbT7Vkbbe4jm5VmyoBGAM/xDcy+1eIPjLdeFP2jfC/w+1SztoND8UaNc3Ok6llhJJf27hprZsnbjyWDrjn5Wqkr8ttb3+9Jtr10/Lug2vfpZ/Ju1/T/J9mer18m+PtcsfAn/BRDwdrXi3UbbSvD+qeArvS9GvNQkWKD+0FvUkljV2wFkaIr3yRgV9ZVg+M/AXhn4jaP/ZPivw9pXibS94l+xaxZR3UO8dG2SKRkZPOM80k3GcZrpf8YuP63Lv7so97fg0/zR8s6X420Hxp/wAFN7V9A1e01mKx+Gk1rcTWMoljSUairFN6/KWAZcgHjODzW7/wUa8TaPB+zD4p0uXVbGPUzd6WwsmuEExH2+3bOzOcYBPToK67Tf2dbjw7+1Zo3xC0O30TR/BOm+CX8MxaRYoYJYpjeeeDHCkYjWLb6MDn+HvXf+MPgP8ADP4haw2r+Kvh34T8S6syLEb7WNEtrucov3V8yRC2BngZ4qk+WFK32W2//A5S/HT5Mucr1JSfVR/9Iivw1+Z1Gh+INL8Q2fn6VqVpqcKEI0lnOsqq2AcEqTg4IrSrnvBPw68KfDXTZtO8IeGNG8K6fNKZ5bXRNPis4nkICl2SNVBbCqMkZwB6V0NJ2voYRulZhRRRSKCiiigAooooAKKKKAPkP4f/APKTz4qf9iLp3/o6OvryvkP4f/8AKTz4qf8AYi6d/wCjo6+vKACiiuQ+MHi688AfCXxr4n06OGXUNF0W91G3juVLRNJDA8ihwCCVyoyAQcdxUTkoRcnsjSnTdWcacd27fedfRXwV8C/jb+2R+0F8KdH+IPhqz+DEOj6oJjb22ox6pHcfupXiYMFdlGWjOPm6EdK9X/Zl/a08Q/Ej4meJfhN8UPB0fgb4o6BbLeyW9ncedZahbkqDNAxJIGXU43NwfvZBA3cJKbpv4lfT03+4x5ly83T+kfT1FfMXwp/aY8Vx/tS+Mfgn8ULPSdP1NYhqnhLUtMhkgj1Wx+bIYPI+ZVA52kDMcvHygn1L9oz45aP+zn8HfEPjvWcSR6fDi1tM4a7uW+WGFf8AeYjJ7AE9qwlJRpqo9mr/AKW9b6W76Gii5VHTW6/4e/pbW/Y9Lory39mfxN8RPGnwb0HxD8ULHS9K8U6rH9sbTdJt5YUtYX5iRxJI7eZtwzcjBbbjjJ9SracXCTi90ZxkprmWwV8ifD3/AJSdfFf/ALEbTf8A0bHX13XyJ8Pf+UnXxX/7EbTf/RsdQUfXdFFFABRRRQAUUUUAFFFFABRRRQAUUUUAFFFFABRRRQAUUUUAFFFFABRRRQAUUUUAFFFFABXzL+2J8c/FPhu68M/CP4WRrN8WPHfmR2d0xAj0eyQfvr6T02jds46qx5KhW+mHdY1ZmYKqjJZjgAetfG/7Cdg3xp8cfE39pDWN1xd+JtUn0Lw1vGFttEtnCoE9C7p8/q0RP8RoA91/Zu/Z28N/s0/De08MaCv2u9f9/qutToPtOp3TZLzSt1PJO1STtXAyeSfVaKKACvkT9kX/AJOx/a1/7Duk/wDpNLX13XyJ+yL/AMnY/ta/9h3Sf/SaWgD67ooooA+Sf2sPgP4g8K+LLb9oP4N2sNv8SfD8J/tnSY1KxeJtOGDJBKq/elCr8rfeIVRnKR498+B/xh0L4+fCvw9478OOx0zWLcS+TIQZLeQErJC+P4kcMp7cZHBFd1Xxn+z5Zn9nH9tD4ifBu2f7P4I8XaePHHhy0YYS1uC4iu4Ij6Egtt/hWJemSSAfZlFFFABRRRQAUUUUAFFFFAHyH+15/wAnY/slf9h7Vv8A0mhr68r5D/a8/wCTsf2Sv+w9q3/pNDX15QAUUUUAFFfBXgf9pL9qD45fFb4s+HvhzZ/Cu20nwRr82k7/ABLDqKTyIJZVjOYZGDHbEcnC89BXWeGf2t/it8KfjP4U+HP7QfgrQdLTxbObTRPFvhC4lbT5bjICxPHMS6ksyjJKkFl+UgkhwXPypbytbzurr5tBP3HK/wBm6flbc+yaK+YvjN+0v4r+Af7S3gbRfFVlpP8Awp7xj/xLrXXI4JEutP1LgLHPIZChjY4IOxeGJz+7Ofo/XNasfDei3+rapdR2Wm2MD3NzczNhIokUszsfQAE1PMuT2j21+Vt7/n6NMdnz8i30/H+reqL1FfOH7HPx88dftLWPivxvquj6dofw5l1CS18JxpbyLfXcEbFWuJnaQqQSAAFRfmD+gz9H1TTVr9Un95N027dHb7gr5E/a6/5O0/ZJ/wCw5q//AKTQ19d18iftdf8AJ2n7JP8A2HNX/wDSaGkM+u6KKKACiiigAooooAKKKKACiiigAoopskiQxtJIyoigszMcAAdSTQA6ivkf4k/8FTP2ffhxrM+ljxLeeKLu3YpMfDtk1zCrA9BMxSN/qjMPevQvgN+278Hf2jtQ/svwd4sjfXtpf+xtShe0u2ABJKK4AkwASfLLYHJxQB7tRRRQAUUUUAFFFFABRRRQAUUUUAFFFFABRRRQAUUUUAFFFFABRRRQAUUUUAFFFFABRRRQAUUUUAFFFFABRRRQAUUUUAFFFFABRRRQAUUUUAFFFFABRRRQB8ufsr/8nKftS/8AYyab/wCkC1w3/BMX/icQ/HvxLdfvdX1L4h36XFwfvMqBWRc+gMr4+tdz+yv/AMnKftS/9jJpv/pAteTfBvx1o37D/wC098VPh/8AEO7j8M+DfHWqt4o8L+Ib793Yu0mfPt3lPyoykqvzYA2c43rlUt6fnSSXram/yTMo3cJvtUk36c1RX+9r7zr/APgrRYxt+yLd6uvyX+i65p99ZzL96KXzfL3A9jiRq6H9uTRdX1T9mzRviRoS7vF3gC6svF1m65BYRAfaUOP4TEzkjuFryr9sH4oeHv2zfEXgf4A/C3WLbxgt/rEGreJtY0eUT2Wn6dDktunXKFiWyME8qqnlgK+kP2yviRbfBn9lvx1qywpPMdMbSrC1dN4lnuB5ESbf4hlwSO4U1i+enQnOO/PePrFRt98lbzsdSUZ14Qlty2l6Sb0+678r3PSvhl8QNL+K3w98O+MNFk83S9bsYr6A91DqCVPoynKkdiDXT14t+xr8G7r4C/s1+B/Bt/LJJqdpZ/aL0O5YR3EztNJGvoqtIVH+7nvXMfFz9gX4X/Gr4hat4z8RTeJF1jU/K88WGsy28P7uJIl2xjgfLGufU5Peu2tGMakox2uclFuVOLlvY+kKK+P/APh1l8Ff+fjxh/4UU1H/AA6y+Cv/AD8eMP8AwopqxNj7Aor4/wD+HWXwV/5+PGH/AIUU1H/DrL4K/wDPx4w/8KKagD7Aor4//wCHWXwV/wCfjxh/4UU1H/DrL4K/8/HjD/wopqAPsCivj/8A4dZfBX/n48Yf+FFNR/w6y+Cv/Px4w/8ACimoA+wKK+P/APh1l8Ff+fjxh/4UU1H/AA6y+Cv/AD8eMP8AwopqAPsCivj/AP4dZfBX/n48Yf8AhRTUf8Osvgr/AM/HjD/wopqAJPh//wApPPip/wBiLp3/AKOjr68r4I/ZV+DPh74C/wDBQL4neE/DDX76VF4LsrhTqV01zLueeMtl25x7V970AFea/tMf8m4/FT/sVdU/9JJa9KrzX9pj/k3H4qf9irqn/pJLXPif4E/R/kdmC/3ql/iX5nwl+xJ+358IvgH+yL4P8OeK7/WI9Z00Xnm29po88qMXu5pEVJdojJKsP4uvB6V7Z+zf4F8Y/F/9qbxL+0Z4p8MXngbQrjRE0HwzomrBV1Ca23K5uZ4wT5ZODhSc/P6KGaD9gf4b6B8Xv+CcHhPwf4nsV1DRNWt9St7iFuozf3GHU/wupwysOQQDVT9jv4l6/wDAP4lX37L/AMT70z3+mo1z4J16c4XVtNySsIJ6ugBwMnG10/gGfUr/AO+VFLWSvbs91LTvbbV6X6o82P8ABTXw31776fK+/Z26M7z9vD4Eav8AEXwJpfj7wLutvil8Pbj+2tDngH7y4RMNNanH3g6rkL3I29GNeD/D7xlN/wAFMvjj4N1a40yay+Efw7tLfVNSsLhT5d/r0kYPkHIG9IjkdOit2lFfow33T9K+F/8Agkr/AMkv+K3/AGPt9/6Khrjo+7UlHolzryldR/VP/FFPub1Pep36v3X6O8v0a9JNdj7opaKKBBXyJ8Pf+UnXxX/7EbTf/RsdfXdfnp46/Z08J/tIf8FG/iLo/i59US00/wAH6ddw/wBlXz2r7yyp8zL1GCeKAP0Lor4//wCHWXwV/wCfjxh/4UU1H/DrL4K/8/HjD/wopqAPsCivj/8A4dZfBX/n48Yf+FFNR/w6y+Cv/Px4w/8ACimoA+wKK+P/APh1l8Ff+fjxh/4UU1H/AA6y+Cv/AD8eMP8AwopqAPsCivj/AP4dZfBX/n48Yf8AhRTUf8Osvgr/AM/HjD/wopqAPsCivj//AIdZfBX/AJ+PGH/hRTUf8Osvgr/z8eMP/CimoA+wKK+P/wDh1l8Ff+fjxh/4UU1H/DrL4K/8/HjD/wAKKagD7Aor4/8A+HWXwV/5+PGH/hRTUf8ADrL4K/8APx4w/wDCimoA+wKK+P8A/h1l8Ff+fjxh/wCFFNR/w6y+Cv8Az8eMP/CimoA+wKK+P/8Ah1l8Ff8An48Yf+FFNR/w6y+Cv/Px4w/8KKagD7Aor4//AOHWXwV/5+PGH/hRTUf8Osvgr/z8eMP/AAopqAPsCivj/wD4dZfBX/n48Yf+FFNR/wAOsvgr/wA/HjD/AMKKagD7Aor4/wD+HWXwV/5+PGH/AIUU1H/DrL4K/wDPx4w/8KKagD7Aor4//wCHWXwV/wCfjxh/4UU1H/DrL4K/8/HjD/wopqAPZ/2tvEsvhD9l/wCK2rW85trqDwzqAgmVwpjlaB0jYE9wzKR6niqf7GfhWDwb+yh8JdMt4BbD/hGrG6ljAxiaeJZ5c+5kkcn3NfLP7TP/AATZ+Fvgj9nv4ieI9An8UNq+jaHdalbi71uWaLMMZkO5G4YYU1o/Ab/gnL8GviN8D/h94puJ/FQuta8P2GoTrb+IZRGsstujuqgcABiRjtjFAH31RXx//wAOsvgr/wA/HjD/AMKKaj/h1l8Ff+fjxh/4UU1AH2BXyJ+yL/ydj+1r/wBh3Sf/AEmlqL/h1l8Ff+fjxh/4UU1fPP7PP7Bvwy8eftAftBeGdTm8RjTfCeq6fa6cbbWJY5SksEjv5rjlzlRgnpQB+o1FfH//AA6y+Cv/AD8eMP8AwopqP+HWXwV/5+PGH/hRTUAfYFfIP7X8Y8N/tSfsreLbZfJu/wDhIrzQZZ0B3PFdQKgQ9iPv9em4kU3/AIdZfBX/AJ+PGH/hRTV88ftPfsH/AAx8A/FH4C+GNEm8REeLPFP2W++2axLKwtYkVpDGxGEb5h83X0oA/Ueivj//AIdZfBX/AJ+PGH/hRTUf8Osvgr/z8eMP/CimoA+wKK+P/wDh1l8Ff+fjxh/4UU1H/DrL4K/8/HjD/wAKKagD7Aor4/8A+HWXwV/5+PGH/hRTUf8ADrL4K/8APx4w/wDCimoA+wKK+P8A/h1l8Ff+fjxh/wCFFNR/w6y+Cv8Az8eMP/CimoAk/a8/5Ox/ZK/7D2rf+k0NfXlfm/48/ZR8D/s1/tdfsyz+EJNZkfWNb1BLn+1tSe7GI7dCu3d9377Zx149K/SCgAooooA/Lf8AZf8A2qPh9+zf8fP2nk8cX1/Zf2l4xnlgaz0ye7XbHPc7yxiRguNw64r0vVNc1X/goj8YfhTrfhHwzquifBzwNrH9uXHirW4Vtm1W6iZdkNpHksyZTBf3bO0qA1//AIJ2xpN8dP2tI5FV0bxo6srDIIM13kEVmxNL/wAE4v2jBA7NF+zx8SL792ST5PhvVGHT0WJgPb5B/wBMuXT3oc+/LBx7cyjFxT/TpzJX3CtvXcP5p372u7tfr5Xa2PrH9pL4E6P+0h8HPEHgXWNsQvot9nebctaXScwzL/ut1HdSw71+fUfxc+JX7UXhHwn+ybqEN9pPjqz1CXTvH+sFWymlWbJtmDkYYzAqM5+ZkGeJa/VKORZo1dGV0YblZTkEHoQa+Ffgf/ylc+Pf/Yt2X/ouypUoqVb2cvhacmvOCuv8n3WnQdSTVF1IvWNkn5Sai/zTXZrzPtTwf4R0nwF4V0nw5oVnHp+jaVbR2lpbRj5Y40UKo9zgde55rYoopyk5Nt7smKUUktkFfIn7XX/J2n7JP/Yc1f8A9Joa+u6+Hf8AgoN8O9K+LHx5/Zh8I6410uk6rq+rQ3BspzDNtEEDfK45U5UUhn3FRXx//wAOsvgr/wA/HjD/AMKKaj/h1l8Ff+fjxh/4UU1AH2BRXx//AMOsvgr/AM/HjD/wopqP+HWXwV/5+PGH/hRTUAfYFFfH/wDw6y+Cv/Px4w/8KKaj/h1l8Ff+fjxh/wCFFNQB9gUV8f8A/DrL4K/8/HjD/wAKKaj/AIdZfBX/AJ+PGH/hRTUAfYFFfH//AA6y+Cv/AD8eMP8AwopqP+HWXwV/5+PGH/hRTUAfYFfmR/wWS/aW1nwjpvh/4QaDdyafHrtkdU1uaFirzWpkaOKAEfwM8cpcd9ijoWB93/4dZfBX/n48Yf8AhRTV+dv/AAU6/ZH0v9mjx14SvvCkeqy+E9a09ojcandPdOl7FIxdPMI4BjeIhT6OR3wAfFNWtJ1a90HVLTUtNu59P1C0lWe3urWQxywyKcq6sDlSCAQRVWigD+in9hf9oK6/aW/Zu8N+LdV2/wDCQwmTTdWZFCq91CQDIAAAPMQpIQAAC5A4Fe/1+XX7Bv8AwTn8G/Ev9nDRPF/j7/hIbTVdcnmvLWHT9UktEFpkJExReCWCFw3dXWvoX/h1l8Ff+fjxh/4UU1AH2BRXx/8A8Osvgr/z8eMP/Cimo/4dZfBX/n48Yf8AhRTUAfYFFfH/APw6y+Cv/Px4w/8ACimo/wCHWXwV/wCfjxh/4UU1AH2BRXx//wAOsvgr/wA/HjD/AMKKaj/h1l8Ff+fjxh/4UU1AH2BRXx//AMOsvgr/AM/HjD/wopqP+HWXwV/5+PGH/hRTUAfYFFfH/wDw6y+Cv/Px4w/8KKaj/h1l8Ff+fjxh/wCFFNQB9gUV8f8A/DrL4K/8/HjD/wAKKaj/AIdZfBX/AJ+PGH/hRTUAfYFFfH//AA6y+Cv/AD8eMP8AwopqP+HWXwV/5+PGH/hRTUAfYFFfH/8Aw6y+Cv8Az8eMP/Cimo/4dZfBX/n48Yf+FFNQB9gUV8f/APDrL4K/8/HjD/wopqP+HWXwV/5+PGH/AIUU1AH2BRXx/wD8Osvgr/z8eMP/AAopqP8Ah1l8Ff8An48Yf+FFNQB9gUV8f/8ADrL4K/8APx4w/wDCimo/4dZfBX/n48Yf+FFNQB9gUV8f/wDDrL4K/wDPx4w/8KKaj/h1l8Ff+fjxh/4UU1AH2BRXx/8A8Osvgr/z8eMP/Cimo/4dZfBX/n48Yf8AhRTUAfYFFfH/APw6y+Cv/Px4w/8ACimo/wCHWXwV/wCfjxh/4UU1AH2BRXzf8I/2Bfhf8FfiFpPjPw7N4kfWdM83yBqGsy3EP7yF4m3RtwflkbHocHtX0hQAUUUUAFFFFABRRRQAUUUUAFFFFABRRRQB4B+z38O/Efg/46ftA65rGlyWOleI9csbrSrl3Qi6iS0WN2ABJGGBHzAV7F4x8C+G/iJo7aT4q8P6X4l0tmDmy1ezjuodw6NskUjI9cVu0Uvsxj2SX3JJfkTFcrbXVt/e23+ZzXgf4Z+EPhnYzWXhDwtovha0mbfLBounxWiSMO7CNQCfc14X8fPDc/xs/aS+FPw/lgkfwt4bL+ONcZkPlTSRN5NjBnoSZWkcrzwlfTNFP7cZPo7/AHbfc7P5WK+zKK66ffv96uvncKKKKACiiigAooooAKKKKACiiigAooooAKKKKAPkP4f/APKTz4qf9iLp3/o6OvryvkP4f/8AKTz4qf8AYi6d/wCjo6+vKACqup6ZZ61pt1p+o2kF/YXcTQXFrdRrJFNGwKsjowIZSCQQRgg1aopb6MabTujJ8L+E9D8D6HbaL4c0bT/D+jW27yNO0u1jtreLcxZtsaAKuWYk4HJJPeqviL4e+FfF+q6Vqmu+GdH1rUtJk87TrzUbCK4msnyDvhd1JjbKqcqQeB6V0FFVdt8z3F0sFYXhLwH4Z8A2t3beGPDuk+HLa7uGu7iHSbGK1SaZgA0riNQGcgDLHk4FbtFIAooooAK+RPh7/wApOviv/wBiNpv/AKNjr67r5E+Hv/KTr4r/APYjab/6NjoA+u6KKKACiiigAooooAKKKKACiiigAooooAKKKKACiiigAooooAKKKKACiiigAooooAKKKKAMnxZ4ZsfGnhXWfD2px+bpurWU1hdR8fNFLGyOOfVWNfMv/BNvxTd/8KIvvhzrc6N4o+GutXnhm/iziTZHKzQybeoQqxRT0IiPXBr6wr4q/aJhvP2Rf2kNP/aE0uwuLn4e+JII9E+INtZpuNuwIW11DYOu04Vj6LjrLmgD7VoqloutWHiPR7HVtKvIdQ0y+gS5tbu2cPFNE6hkdGHBUgggj1q7QAV8ifsi/wDJ2P7Wv/Yd0n/0mlr67r5E/ZF/5Ox/a1/7Duk/+k0tAH13RRRQAV8darOvxs/4KVaNYxsLrQ/hD4alvJsEMiarf4QIcd/IKMM9DGfSvZP2pP2jtI/Zr+Gsut3Mf9p+I79/sPh/QYgXn1O+fiOJUX5ioJBYjoOPvMoPP/sU/AfUvgn8KJbzxY5u/iR4uvJNf8UXshDO13Md3k7h2jU7cAkbjIRw1AH0DRRRQAUUUUAFFFFABRRRQB8h/tef8nY/slf9h7Vv/SaGvryvkP8Aa8/5Ox/ZK/7D2rf+k0NfXlABRRRQBg+HfAXhnwff6tfaD4c0nRL3V5/tOo3OnWMVvJey5J8yZkUGRssx3Nk/MfWpvFng3QPHuiy6N4m0PTfEWkTMrSafq1pHdW7lTlSY5AVJBAIyODWxRRvow63K2m6baaPp9tYWFrDY2NrEsMFtbRiOKKNQAqIoACqAAABwAKyrHwF4Z0vxZf8Aiiz8OaTaeJtQiWG81qCxiS8uY1ChUkmC73UbVwCSPlHpW9RTu736isrW6BRRRSGFfIn7XX/J2n7JP/Yc1f8A9Joa+u6+RP2uv+TtP2Sf+w5q/wD6TQ0AfXdFFFABRRRQAUUUUAFFFFABRRRQAV5/8cvgb4R/aI+HeoeDPGen/bdKusSRyRtsntZlzsmif+F1yfYgkEFSQfQKKAPwo/a4/wCCY3i79mPwrqvjW28UaT4k8FWk8MQkZZLe/XzZFjQNFtZDgsPmEnOCcDpX0N+zh/wRluNL8RWutfGTxBp+oafbOJF8O6C8jrc46CadlQqueqopJ/vivpb/AIKsf8mV+LP+v/Tf/SyKvrqgCGxsbbTLK3s7O3itLS3jWGG3gQJHEigBVVRwAAAABwAKnoooAKKKKACiiigAooooAKKKKACiiigAooooAKKKKACiiigAooooAKKKKACiiigAooooAKKKKACiiigAooooAKKKKACiiigAooooAKKKKACiiigAooooAKKKKACiiigAooooAKKKKACiiigAooooAKKKKACiiigAooooA+Q/h/8A8pPPip/2Iunf+jo6+vK+Q/h//wApPPip/wBiLp3/AKOjr68oAKKKKACiiigAooooAKKKKACvkT4e/wDKTr4r/wDYjab/AOjY6+u6+RPh7/yk6+K//Yjab/6NjoA+u6KKKACiiigAooooAKKKKACiiigAooooAKKKKACiiigAooooAKKKKACiiigAooooAKKKKACqOuaJp/iXR77SdWsoNR0y+he2urO6jEkU0TgqyMp4IIJBB9avUUAfCdvD43/4JvX8iRw33j39miadpf3SGXU/B5dyWz3mtstknqP9k/637A+GfxY8H/GTwvB4i8E+IbHxHo83AuLKTJRsZ2SIcNG47q4DDuK6p1WRWVlDKwwVYZBHpXy/8RP2A/CWpeKJ/GHwv8Q6x8E/GsxzNqHhJ/LtLrnP7+zyEcck4UoCTk5NAH1FXyJ+yL/ydj+1r/2HdJ/9JpaiXQ/21/h6BDZeI/hj8U7GMbVn1i0uNNv5R2JWHbEp/wCBH+tea/DL4b/tjfD34jfEvxdpfhL4Zwan46u7a+vBqmo3EtvbtAjIqxrE4fkOfvE9KAP0Krwn9oj9sXwJ+z3GNKnnk8UeP7sBNL8F6JmfUbyVuI1KqG8pWP8AEw6A7Qx+U+Zzfs//ALUfxZaSP4h/HXS/Amkt8raZ8MdPdHkX1F3OEljOPTcK9d+Av7I/wz/Zzjln8LaIbrxBcFmu/EusOLvVLlm+8WnYZUN3VAqk84zQB5p8A/2cfGni/wCJkHxx+PU9vdeOkhaPQPCVqQ9h4YhfH3eSHuCMguCQMnljtKfWFFFABRRRQAUUUUAFFFFABRRRQB8h/tef8nY/slf9h7Vv/SaGvryvkP8Aa8/5Ox/ZK/7D2rf+k0NfXlABRRRQAUUUUAFFFFABRRRQAV8iftdf8nafsk/9hzV//SaGvruvkT9rr/k7T9kn/sOav/6TQ0AfXdFFFABRRRQAUUUUAFFFFABRRRQAUUUUAfIn/BVj/kyvxZ/1/wCm/wDpZFX11XyL/wAFWP8AkyvxZ/1/6b/6WRV9dUALRRRQAUUUUAFFFFABRRRQAUUUUAFFFFABRRRQAUUUUAFFFFABRRRQAUUUUAFFFFABRRRQAUUUUAFFFFABRRRQAUUUUAFFFFABRRRQAUUUUAFFFFABRRRQAUUUUAFFFFABRRRQAUUUUAFFFFABRRRQAUUUUAFFFFABRRRQB8N/EWb4rfB39t7xl8RfC3wc1j4kaDrPhqy0mOWwvorVUkRldjlwxONuMYHXrXU/8Ne/HP8A6NL8T/8AhQ23/wAbr67ooA+RP+Gvfjn/ANGl+J//AAobb/43R/w178c/+jS/E/8A4UNt/wDG6+u6KAPkT/hr345/9Gl+J/8Awobb/wCN0f8ADXvxz/6NL8T/APhQ23/xuvruigD5E/4a9+Of/Rpfif8A8KG2/wDjdH/DXvxz/wCjS/E//hQ23/xuvruigD5E/wCGvfjn/wBGl+J//Chtv/jdH/DXvxz/AOjS/E//AIUNt/8AG6+u6KAPkT/hr345/wDRpfif/wAKG2/+N1lfsx2HxK8afth+P/ih4z+GGp/DjS9U8MWumW8GoXcdzulilTIDpjqAT07V9oUUAFFFFABRRRQAUUUUAFFFFABRRRQAUUUUAFFFFABRRRQAUUUUAFFFFABRRRQAUUUUAFFFFABRRRQAUUUUAFFFFABRRRQAUUUUAFFFFABRRRQAUUUUAFFFFAHyH+3B4c8ej4qfAXxz4H8B3/j/AP4RDUtRu73T7CdIW2yQwogLv0yQ3Y/dpf8Ahr345/8ARpfif/wobb/43X13RQB8if8ADXvxz/6NL8T/APhQ23/xuj/hr345/wDRpfif/wAKG2/+N19d0UAfIn/DXvxz/wCjS/E//hQ23/xuj/hr345/9Gl+J/8Awobb/wCN19d0UAfIn/DXvxz/AOjS/E//AIUNt/8AG6P+Gvfjn/0aX4n/APChtv8A43X13RQB8if8Ne/HP/o0vxP/AOFDbf8Axuj/AIa9+Of/AEaX4n/8KG2/+N19d0UAfIn/AA178c/+jS/E/wD4UNt/8brgtY1r4xftC/tMfAjXNa+BOufD7Q/B2qXtzeX97qUN0hSeBVBwoUrgxj1zur74ooAKKKKACiiigAooooAKKKKACiiigAooooA+RP8Agqx/yZX4s/6/9N/9LIq+uq+Rf+CrH/Jlfiz/AK/9N/8ASyKvrqgBaKKKACiiigAooooAKKKKACiiigAooooAKKKKACiiigAooooAKKKKACiiigAooooAKKKKACiiigAooooAKKKKACiiigAooooAKKKKACiiigAooooAKKKKACiiigAooooAKKKKACiiigAooooAKKKKACiiigAooooAKKKKACiiigAooooAK8g+Kf7RUHgXxvYeBvDnhPWPiH47u7Q6g2iaK0EQtLUNtE1xPPIkcSs2VXJyxHTvXr9fLv7Nqm9/a0/agv7z5tRi1LRrKMsclLVbHdGo9ASzH6miK5pcvZN/c0vza+VxSkoxv1bSX4vX5J/Ox6h8Gvj9p3xb1LX9BudD1Twd408PNGuq+G9bWMXECyDMcqPGzJLE+Dh0YjjnHFepV8v+JlGn/wDBRrwTLZDbNqPw/wBQh1DafvRR3cbRFh7OzAH3r6gpRkpwjPvf8JOP42uNrlnKPa34xT/WwUUUUwCiiigAooooAKKKKACiiigAooooAKKKKACiiigAooooAKKKKACiiigAooooAKKKKACiiigAooooAKKKKACiiigAooooAKKKKACiiigAooooAKKKKACiiigAooooAKKKKACiiigArzr41fHHRfglpGlzX9jqOu6zrN4unaPoGjQiW91G4IzsjVmVQFALM7EKoGSegPotfMHj1TqP/BQz4VQXqhrTT/BesXljuPAuXmhjkI9/LOPoam/vxh3b/BOX42t5XvZj+GMp9v1aS/F3Oy8B/tMHWPiJYeA/G/gXXPhn4q1S3kutJt9Ymtrm31JIxmVYZ7eV0MiAhmjOCAQea9tr5Z/btaSxn+AepWWV1a3+J2kQ27p97y5RKky/QpwfavqatF71Pm82vuUXf/ya3yv1siUXGSXdJ/jJf+23+YUUUVIgooooAKKKKACiiigAooooAKKKKACiiigAooooA+RP+CrH/Jlfiz/r/wBN/wDSyKvrqvkX/gqx/wAmV+LP+v8A03/0sir66oAWiiigAooooAKKKKACiiigAooooAKKKKACiiigAooooAKKKKACiiigAooooAKKKKACiiigAooooAKKKKACiiigAooooAKKKKACiiigAooooAKKKKACiiigAooooAKKKKACiiigAooooAKKKKACiiigAooooAKKKKACiiigAooooAKKKKACvn74ifBXx54d+Mt38U/hHf6Aus6zYw6b4h8P+JzNHZaikJPkXCTQqzxTIGKcoysp7EZP0DRS6prdf8MO+jXR/wDD/mjwz4K/BLxTpPxI8Q/FP4mappOqeP8AV7KPSbe10FJRp+k6fG5cQQtLh5Gdzvd2C5IAAAFe50UVV9Eui/r/AIPm9SerfV/8N+WgUUUUhhRRRQAUUUUAFFFFABRRRQAUUUUAFFFFABRRRQAUUUUAFFFFABRRRQAUUUUAFFFFABRRRQAUUUUAFFFFABRRRQAUUUUAFFFFABRRRQAUUUUAFFFFABRRRQAUUUUAFFFFABRRRQAV4z+0F8ENY+ImqeEPGfgrWLTQPiL4OuJp9JutSieSyuYpk2T2lyqEN5UgC/MvzKVBAr2ail2a3X9f132eg+67nzlofwZ+JvxO+KnhTxj8YbzwvZ6f4Pkku9F8N+E5LmeKS+dCn2q4mnRCSiltiKmBuJJPf6Nooqr6WX9f1/ktkiba3/r+v+C92FFFFIYUUUUAFFFFABRRRQAUUUUAFFFFABRRRQAUUUUAfIn/AAVY/wCTK/Fn/X/pv/pZFX11XyL/AMFWP+TK/Fn/AF/6b/6WRV9dUALRRRQAUUUUAFFFFABRRRQAUUUUAFFFFABRRRQAUUUUAFFFFABRRRQAUUUUAFFFFABRRRQAUUUUAFFFFABRRRQAUUUUAFFFFABRRRQAUUUUAFFFFABRRRQAUUUUAFFFFABRRRQAUUUUAFFFFABRRRQAUUUUAFFFFABRRRQAUUUUAFFFFABRRRQAUUUUAFFFFABRRRQAUUUUAFFFFABRRRQAUUUUAFFFFABRRRQAUUUUAFFFFABRRRQAUUUUAFFFFABRRRQAUUUUAFFFFABRRRQAUUUUAFFFFABRRRQAUUUUAFFFFABRRRQAUUUUAFFFFABRRRQAUUUUAFFFFABRRRQAUUUUAFFFFABRRRQAUUUUAFFFFABRRRQAUUUUAfIn/BVj/kyvxZ/1/wCm/wDpZFX11XyL/wAFWP8AkyvxZ/1/6b/6WRV9dUALRRRQAUUUUAFFFFABRRRQAUUUUAFFFFABRRRQAUUUUAFFFFABRRRQAUUUUAFFFFABRRRQAUUUUAFFFFABRRRQAUUUUAFFFFABRRRQAUUUUAFFFFABRRRQAUUUUAFFFFABRRRQAUUUUAFFFFABRRRQAUUUUAFFFFABRRRQAUVwPjL9oD4YfDvW30bxV8RPCvhvV0RZGsNW1m3tpwrDKsUdw2D2OOaw/wDhrr4G/wDRY/Af/hSWf/xygD1qivJf+Guvgb/0WPwH/wCFJZ//AByj/hrr4G/9Fj8B/wDhSWf/AMcoA9aoryX/AIa6+Bv/AEWPwH/4Uln/APHKP+Guvgb/ANFj8B/+FJZ//HKAPWqK8l/4a6+Bv/RY/Af/AIUln/8AHKP+Guvgb/0WPwH/AOFJZ/8AxygD1qivJf8Ahrr4G/8ARY/Af/hSWf8A8co/4a6+Bv8A0WPwH/4Uln/8coA9aoryX/hrr4G/9Fj8B/8AhSWf/wAcrpfAvxs+HvxQvrmy8HeOfDniq8to/Omt9F1WC7kijyBuZY2JAyQMnuaAO1ooooAKKKKACiiigAooryU/tcfA5SQfjF4DB/7GSz/+OUAetUV5L/w118Df+ix+A/8AwpLP/wCOUf8ADXXwN/6LH4D/APCks/8A45QB61RXkv8Aw118Df8AosfgP/wpLP8A+OUf8NdfA3/osfgP/wAKSz/+OUAetUV5L/w118Df+ix+A/8AwpLP/wCOUf8ADXXwN/6LH4D/APCks/8A45QB61RXkv8Aw118Df8AosfgP/wpLP8A+OUf8NdfA3/osfgP/wAKSz/+OUAetUV5L/w118Df+ix+A/8AwpLP/wCOUf8ADXXwN/6LH4D/APCks/8A45QB61RWN4R8aeH/AIgaFBrfhjW9O8RaNOzLFqGl3SXMDlWKsFkQlSQQQeeCK2aACiiigAooooAKKKKACiiigAooooAKKKKACiiigAooooAKKKKACiiigAooooAKKKKACiiigAooooAKKKKACiiigAooooAKKKKACiiigAooooAKKKKACiiigAooooAKKKKAPkT/AIKsf8mV+LP+v/Tf/SyKvrqvkX/gqx/yZX4s/wCv/Tf/AEsir66oAWiiigAooooAKKKKACiiigAooooAKKKKACiiigAooooAKKKKACiiigAooooAKKKKACiiigAooooAKKKKACiiigAooooAKKKKACiiigAooooAKKKKACiiigAooooAKKKKACiiqGueINL8L6XNqWs6laaTp0PMt3fTpDCmTgbnYgD8TQBforK0jxZoniCO0k0vWdP1KO7iM9u9ndJKJowcF0Kk7lB4yOM14L/bfx6+L3ibxTceFbzR/hZ4U0bUJdN0xfEvh6e8vtZeLh7hlM0Qit2biNlDFgC3Qil1t/Wmn9dQ0te/9f18j6Porx/9lv40ar8bPh1fX3iHTrTTPFOh6xeeH9Yh092a1a6tpNjvCW+by2BVgDyMkZOM17BVtW/P5PVfgJO9/K6+a0f4hRRRUjCiiigAooooAKKKKAPhtfhb4O+Kv/BSz4l2HjLwvpHiqytvBWnTwW+sWUdykcnmIu5VcEA4JGR619B/8Mc/Ar/oj3gj/wAENt/8RXknw/8A+UnnxU/7EXTv/R0dfXlAHj3/AAxz8Cv+iPeCP/BDbf8AxFH/AAxz8Cv+iPeCP/BDbf8AxFew0UAePf8ADHPwK/6I94I/8ENt/wDEUf8ADHPwK/6I94I/8ENt/wDEV7DRQB49/wAMc/Ar/oj3gj/wQ23/AMRR/wAMc/Ar/oj3gj/wQ23/AMRXsNFAHj3/AAxz8Cv+iPeCP/BDbf8AxFH/AAxz8Cv+iPeCP/BDbf8AxFew0UAePf8ADHPwK/6I94I/8ENt/wDEV4P8CPAfhv4b/wDBRz4p6L4U0HTvDmkJ4JsJVsdLtkt4VZpoyzBEAGSepr7Zr5E+Hv8Ayk6+K/8A2I2m/wDo2OgD67ooooAKKKKACiiigAr8/v8Agmz+zj8K/iJ+yV4a1zxR8OfC/iHWZ73UFl1DU9JgnncLdSKoLspJAAAHsK/QGvkP/glP/wAmV+FP+v8A1L/0sloA9b/4Y5+BX/RHvBH/AIIbb/4ij/hjn4Ff9Ee8Ef8Aghtv/iK9hooA8e/4Y5+BX/RHvBH/AIIbb/4ij/hjn4Ff9Ee8Ef8Aghtv/iK9hooA8e/4Y5+BX/RHvBH/AIIbb/4ij/hjn4Ff9Ee8Ef8Aghtv/iK9hooA8e/4Y5+BX/RHvBH/AIIbb/4ij/hjn4Ff9Ee8Ef8Aghtv/iK9hooA8e/4Y5+BX/RHvBH/AIIbb/4ij/hjn4Ff9Ee8Ef8Aghtv/iK9hooA+Q/+CUvH7E/hADp9t1L/ANLJa+vK+Q/+CU3/ACZR4R/6/dS/9LJa+vKACiiigAooooAKKKKACiiigAooooAKKKKACiiigAooooAKKKKACiiigAooooAKKKKACiiigAooooAKKKKACiiigAooooAKKKKACiiigAooooAKKKKACiiigAooooAKKKKAPkT/AIKsf8mV+LP+v/Tf/SyKvrqvkX/gqx/yZX4s/wCv/Tf/AEsir66oAWiiigAooooAKKKKACiiigAooooAKKKKACiiigAooooAKKKKACiiigAooooAKKKKACiiigAooooAKKKKACiiigAooooAKKKKACiiigAooooAKKKKACiiigAorzL4X/GyH4lfEb4neE49Jewk8Eajb6fJdNOJBdmWAS7gu0bMA4xk1F8cv2nfhp+zjY2dx4/8UW+iyXpItLNY5Li6uMdSkMas+3PG4gKDxmldJJ97NfNXX4BH3r26XT+Ts/uZ6lRXjnwR/a7+FH7RGoXum+CPFcV/rFmpafSru3ltLtFBwWEcqqWAOMlcgZGcZr0ZfHGhP42k8IDUov8AhJUsBqh04hhJ9lMhjEo4wRvBXg5FVZppPr/w/wCgrrV9v6/U3a+TPifomn/Fv9vbwf4I8YafDrPhHQfBVz4lstJvlEtpcag12tv5skTfLIY4yduQdpYmvrOvK/jN+zvoXxl1TQNck1jXfCPivQTINO8R+GLxba9hjkx5kJLI6PG2BlXU9OMZOUvdnGTV0r/jFpP5Np/Iu/uSj1a/VP8AFK3zPDdD8CeHfh//AMFLLCy8M6JY+H7G5+Gk91LZ6bAtvAZjqCIZPLQBQxVEBIHO0Zr1343/ABq1PR9atfhx8OraHW/inrEBkhilJNrotqTtN/esPuxr/An3pGAVR1I8q8F/BHUfh5+3xp2r28XibX9Il+Hk0F94s1tpbr7Rem/UiN59oiV/LVcRIFAUZCjmrsn/AATv0ZPE/iLxBYfGr4x6JqniC8N9qU+keJYLRriTkKGZLYMVUHaqkkKOBRvTpxe1pX/8Dlp3t5722s3dXU0qTcdH7tv/AACN32v5d972s/cvgb8H9N+Bfw30/wAK6dczajJG8l1fandf66/vJXMk9xJ/tO7E47DA7V39effBX4Pn4L+GrrRv+E38Y+OxcXTXX2/xrqo1G7iyqr5aSbFxGNuQuDyzeteg1cnd/wBf1psYRVl/X3/PcKKKKgoKKKKACiiigAooooA+Q/h//wApPPip/wBiLp3/AKOjr68r5D+H/wDyk8+Kn/Yi6d/6Ojr68oAKKKKACiqOu61beHdFvtVvBMbSyge4m+zwPPJsVSzbY0BZzgH5VBJ7CuV+D3xq8F/HzwcninwJrceu6I0z25nWKSFkkQ4ZHjkVXU8g4YDIII4INC1vboD0Sb6ncUVw/wAYPjV4L+AvhA+J/HWtx6Fo3npbLM0MkzySuflRI41Z3PBOFBwASeAa67TNQi1bTbW+gEqwXMSzRieJopArAEbkYBlODyrAEdCKFqm10B6WT6lqiiigAr5E+Hv/ACk6+K//AGI2m/8Ao2OvruvkT4e/8pOviv8A9iNpv/o2OgD67ooooAKKKKACiiigAr5D/wCCU/8AyZX4U/6/9S/9LJa+vK+Q/wDglP8A8mV+FP8Ar/1L/wBLJaAPryiiigAorzb44/tFfD/9nDQdP1n4ha42g6df3P2S3mWznud8u0vt2wo5HyqTkjHFeTaL/wAFN/2atc1KCxg+JcME0zbUe90q+t4gf9qSSAIo92IFJPmdkD0V2fUVFcj4y+K3hbwJ8Obvx5qmqB/CVrbLey6np8Ml6nkNjEqiFXZkwQdyggDnoCa0fAvjjQviV4Q0nxR4Z1GPVtB1WBbmzvIgQJIz3wwBUg5BUgEEEEAiq7+W/wDXyFdaef8AX6m7RXBfGL46eCPgJoNjrHjjWv7Hs768SwtAltNcy3E7AlY0ihR3Y4B6D+YruoZhcQxyqGVXUMA6lWGRnkHkH2NJaq6Htox9FFFAHyH/AMEpv+TKPCP/AF+6l/6WS19eV8h/8Epv+TKPCP8A1+6l/wClktfXlABRRRQAUUUUAFFFFABRRRQAUUUUAFFFFABRRRQAUUUUAFFFFABRRRQAUUUUAFFFFABRRRQAUUUUAFFFFABRRRQAUUUUAFFFFABRRRQAUUUUAFFFFABRRRQAUUUUAFFFFAHyJ/wVY/5Mr8Wf9f8Apv8A6WRV9dV8i/8ABVj/AJMr8Wf9f+m/+lkVfXVAC0UUUAFFFFABRRRQAUUUUAFFFFABRRRQAUUUUAFFFFABRRRQAUUUUAFFFFABRRRQAUUUUAFFFFABRRRQAUUUUAFFFFABRRRQAUUUUAFFFFABRRRQAUUUUAfLn7K//Jyn7Uv/AGMmm/8ApAteefsTaXbfHT9or45fG3xBEuo6np/iCTwt4f8AtA3jTrS3GD5QP3S6smSMHJf++2fQ/wBlf/k5T9qX/sZNN/8ASBa4b/gmZ/xI7n9oLwrcEJqOl/EK+lkhfiQJJhUcjsD5TY+hpUr3pvtSX32pr8mzFfBNd6sv/Sqj/NJ/Ih/4KZeHYfhvofgj4++HrdLDxn4L1+0E19bjY93YyMUeCUj7yk7Rz0DuP4jXY/tga+fhXrnwk+P1juSw0HUF0nX9v8ej6htV2b18uUROB6msD/grRfZ/ZObQ4R5t/r2v6fp9pbrzJLJ5hk2oO5/d17n+0F4M0XXv2W/G3h/xJKtvo6+GZ1uLiTH7nyoCyyfVWRW+q1kqjpUZ1LfBO69OWLkvR7f9vM6+T2lWFP8AnjZ/+BNRfy3Xoux61DNHcQxyxOskUihkdTkMCMgg0+vnH/gnf4u8Q+Nv2O/h1qPiWKRb9LN7SKWbO6e3hleKCQ555jRee+M964349fEv9snw/wDFjXbD4VfCbwf4m8Aw+R/ZuqapdxpcT5gjaXeDqERG2UyqP3a8KOvU9dWHs5uK6HNTk5wUmfYFFfAH/C5P+Chn/RCfh/8A+B0P/wAtaP8Ahcn/AAUM/wCiE/D/AP8AA6H/AOWtZGh9/wBFfAH/AAuT/goZ/wBEJ+H/AP4HQ/8Ay1o/4XJ/wUM/6IT8P/8AwOh/+WtAH3/RXwB/wuT/AIKGf9EJ+H//AIHQ/wDy1o/4XJ/wUM/6IT8P/wDwOh/+WtAH3/RXwB/wuT/goZ/0Qn4f/wDgdD/8taP+Fyf8FDP+iE/D/wD8Dof/AJa0Aff9FfAH/C5P+Chn/RCfh/8A+B0P/wAtaP8Ahcn/AAUM/wCiE/D/AP8AA6H/AOWtAH3/AEV8Af8AC5P+Chn/AEQn4f8A/gdD/wDLWj/hcn/BQz/ohPw//wDA6H/5a0Aeh/D/AP5SefFT/sRdO/8AR0dfXlfnr+xnr/xT8Sft4fEy9+MXhvS/CnjVvB1osum6RIskCwiePy2BWeYZI6/P+Ar9CqACiiigAr4A8U2h/wCCen7VC+L7VWtvgR8TroW+sxLkQaFqhJKz46LG2WP+6ZB/yzQH7/r4P/bA1S7/AGov2lPBX7NGkXDy+ELfZr/jqbTjmWKKM7oreRjgID8h4JbM0Zx8uDK5lVhybt28rfav5WV/VIp29lPm2Sv53+zbzvp5ptDvhvay/t7ftMN8S9ShaX4KfDq6e08K2synytZ1JSPMvSD95EIBHbhB13ivu6vg/wDYd8QX/wCzz8dviB+zFr93INH02R9Z8FSaj8s1xZSMXkjjIyrgZL9Qdwl46hfvCtPdVKnyfC1fzbe7fne6fa1tkiHf2s+bdO3lbpbytr53bCiiipGFfInw9/5SdfFf/sRtN/8ARsdfXdfmz8YvFXxw8Kf8FEPH8/wM8HaL4z12XwnpyX9rrkyxxxW+5SHUtcwZbftH3jwenegD9JqK+AP+Fyf8FDP+iE/D/wD8Dof/AJa0f8Lk/wCChn/RCfh//wCB0P8A8taAPv8Aor4A/wCFyf8ABQz/AKIT8P8A/wADof8A5a0f8Lk/4KGf9EJ+H/8A4HQ//LWgD7/or4A/4XJ/wUM/6IT8P/8AwOh/+WtH/C5P+Chn/RCfh/8A+B0P/wAtaAPv+vkP/glP/wAmV+FP+v8A1L/0slrzz/hcn/BQz/ohPw//APA6H/5a16F/wSkz/wAMU+Etww327Us/+BktAH17RRRQB8Lf8FUOdM+A4P8A0UGy/wDQWr6u+M3hvwHrXwz8Qx/EKw0ufwlHZyyX7alGnlRRhTlwzfdYdQwwQcY5r5F/4K06WmueFfgtp0k09tHeeObW3aa1k8uWMPG6lkb+FhnIPY4ryv8AbC/Zm0n9mvxZ8MfHOsX3iz4qfCtNWW08SaX411i4vrax3sojucoQ2OW+Uo6koFOd4Bw5faQlTeilNq/rGH9f5bl35ainHVqKdl5Ob/r9dj3j/glfo+oal+xlBp/iK3ku9BvNR1CLTbe+XKy6e7bSuD1RnM35ntWN+zDqFx+x3+0Zr/7O2vXMn/CEeIGl17wDf3LfIiHLT2RYn7y4Jx6oT/y0Ffa/hk6Q3hzSzoC2i6EbWM2AsFVbfyNo8vywvATbjGOMYr5A/wCCs3hSwvP2VbvxaBLbeI/C+o2lzpWpWshimt2lnSGQBhzhlfoD1VT2ror1HCp7RLtFrutEm/NO0vvXUzpx9pBxv1clbZPV6eVrx9LdjB+Ftq37cX7XN98UrwG5+EnwxuH0zwrC4zDqWpAgy3g7EKQrA+0Po1feFeXfsv8AgjRvh5+z18PtE0GySx0+PRbWfy16tJLGskjse7M7sxPqa9RrSpD2P7hbRuvV9X83+Fl0M6dT269v/NZryXRfJfjd9QooorI1PkP/AIJTf8mUeEf+v3Uv/SyWvryvyL/Yp+JH7YPh39nvQ7H4R/Crwj4o8Cx3N2bPU9Wuo0uJHNw5lDBr+E4DlgPkHAHXrXuv/C5P+Chn/RCfh/8A+B0P/wAtaAPv+ivgD/hcn/BQz/ohPw//APA6H/5a0f8AC5P+Chn/AEQn4f8A/gdD/wDLWgD7/or4A/4XJ/wUM/6IT8P/APwOh/8AlrR/wuT/AIKGf9EJ+H//AIHQ/wDy1oA+/wCivgD/AIXJ/wAFDP8AohPw/wD/AAOh/wDlrR/wuT/goZ/0Qn4f/wDgdD/8taAPv+ivgD/hcn/BQz/ohPw//wDA6H/5a0f8Lk/4KGf9EJ+H/wD4HQ//AC1oA+/6gvr630yyuLy7njtbS3jaWaeZgqRooJZmJ4AABJPtXwP/AMLk/wCChn/RCfh//wCB0P8A8ta4P49fFz9uq8+Cfju38X/B7wZofhSbRbuLVtS068ia4trRomEzoBqUhyELdEb6GgD5d/bS/wCCjfjj4/eLtT0fwfrV/wCFfhxbytDaWlhK1vPqCA4825dTuIbGRHnaoIyCRmvkbw/4n1jwnq0Wq6Hq19o2pxHMd7p9y8EyH1DoQw/Os2igD9jv+CZP/BQTWfjVqY+FfxIvBfeK47Z5tH1twFk1GOMFpIZscGVUBYPj5lRt3zDLfo1X80n7M+teNvD3x88D6h8OdPh1bxvDqSf2XYXJAiuJSCvlyEugCMpYMS64BPI61+rn/C5P+Chn/RCfh/8A+B0P/wAtaAPv+ivgD/hcn/BQz/ohPw//APA6H/5a0f8AC5P+Chn/AEQn4f8A/gdD/wDLWgD7/or4A/4XJ/wUM/6IT8P/APwOh/8AlrR/wuT/AIKGf9EJ+H//AIHQ/wDy1oA+/wCivgD/AIXJ/wAFDP8AohPw/wD/AAOh/wDlrR/wuT/goZ/0Qn4f/wDgdD/8taAPv+ivgD/hcn/BQz/ohPw//wDA6H/5a0f8Lk/4KGf9EJ+H/wD4HQ//AC1oA+/6K+AP+Fyf8FDP+iE/D/8A8Dof/lrR/wALk/4KGf8ARCfh/wD+B0P/AMtaAPv+ivgD/hcn/BQz/ohPw/8A/A6H/wCWtH/C5P8AgoZ/0Qn4f/8AgdD/APLWgD7/AKK+AP8Ahcn/AAUM/wCiE/D/AP8AA6H/AOWtH/C5P+Chn/RCfh//AOB0P/y1oA+/6K+AP+Fyf8FDP+iE/D//AMDof/lrR/wuT/goZ/0Qn4f/APgdD/8ALWgD7/or4A/4XJ/wUM/6IT8P/wDwOh/+WtH/AAuT/goZ/wBEJ+H/AP4HQ/8Ay1oA+/6K+AP+Fyf8FDP+iE/D/wD8Dof/AJa0f8Lk/wCChn/RCfh//wCB0P8A8taAPv8Aor4A/wCFyf8ABQz/AKIT8P8A/wADof8A5a0f8Lk/4KGf9EJ+H/8A4HQ//LWgD7/or4A/4XJ/wUM/6IT8P/8AwOh/+WtH/C5P+Chn/RCfh/8A+B0P/wAtaAPv+ivgD/hcn/BQz/ohPw//APA6H/5a0f8AC5P+Chn/AEQn4f8A/gdD/wDLWgD7/or4A/4XJ/wUM/6IT8P/APwOh/8AlrR/wuT/AIKGf9EJ+H//AIHQ/wDy1oA+/wCivgD/AIXJ/wAFDP8AohPw/wD/AAOh/wDlrR/wuT/goZ/0Qn4f/wDgdD/8taAPv+ivgD/hcn/BQz/ohPw//wDA6H/5a0f8Lk/4KGf9EJ+H/wD4HQ//AC1oA+/6K+AP+Fyf8FDP+iE/D/8A8Dof/lrR/wALk/4KGf8ARCfh/wD+B0P/AMtaAPRP+CrH/Jlfiz/r/wBN/wDSyKvrqvyM/bW+JH7YXiL9nvW7H4tfCnwj4X8Dvc2hutS0m6je4jkFwhiAA1CY4LhQfkPBPTrXun/C5P8AgoZ/0Qn4f/8AgdD/APLWgD9AKK+AP+Fyf8FDP+iE/D//AMDof/lrR/wuT/goZ/0Qn4f/APgdD/8ALWgD7/or4A/4XJ/wUM/6IT8P/wDwOh/+WtH/AAuT/goZ/wBEJ+H/AP4HQ/8Ay1oA+/6K+AP+Fyf8FDP+iE/D/wD8Dof/AJa0f8Lk/wCChn/RCfh//wCB0P8A8taAPv8Aor4A/wCFyf8ABQz/AKIT8P8A/wADof8A5a0f8Lk/4KGf9EJ+H/8A4HQ//LWgD7/or4A/4XJ/wUM/6IT8P/8AwOh/+WtH/C5P+Chn/RCfh/8A+B0P/wAtaAPv+ivgD/hcn/BQz/ohPw//APA6H/5a0f8AC5P+Chn/AEQn4f8A/gdD/wDLWgD7/or4A/4XJ/wUM/6IT8P/APwOh/8AlrR/wuT/AIKGf9EJ+H//AIHQ/wDy1oA+/wCivgD/AIXJ/wAFDP8AohPw/wD/AAOh/wDlrR/wuT/goZ/0Qn4f/wDgdD/8taAPv+ivgD/hcn/BQz/ohPw//wDA6H/5a0f8Lk/4KGf9EJ+H/wD4HQ//AC1oA+/6K+AP+Fyf8FDP+iE/D/8A8Dof/lrR/wALk/4KGf8ARCfh/wD+B0P/AMtaAPv+ivgD/hcn/BQz/ohPw/8A/A6H/wCWtH/C5P8AgoZ/0Qn4f/8AgdD/APLWgD7/AKK+AP8Ahcn/AAUM/wCiE/D/AP8AA6H/AOWtH/C5P+Chn/RCfh//AOB0P/y1oA+/6K+AP+Fyf8FDP+iE/D//AMDof/lrR/wuT/goZ/0Qn4f/APgdD/8ALWgD7/or4A/4XJ/wUM/6IT8P/wDwOh/+WtH/AAuT/goZ/wBEJ+H/AP4HQ/8Ay1oA+/6K+AP+Fyf8FDP+iE/D/wD8Dof/AJa0f8Lk/wCChn/RCfh//wCB0P8A8taAPv8Aor4/+AvxL/bJ8QfFjQrD4rfCfwf4Z8Azef8A2lqml3cb3EGIJGi2AahKTumESn923DHp1H2BQAUUUUAFFFFABRRRQAUUUUAFFFFABRRRQB8ufsr/APJyn7Uv/Yyab/6QLUHxc/Zb8e6L8arv4w/AfxRpHhvxdq1ulrr+g+JIpX0nWFQAJK5iBdJFAAyo5x1XLbvfPB/wr8OeBfFXi/xFo9pJBqviu6ivNVleZ3EsscYjQhScJhQBhcV11JKyp23jGK+6KT+TJgnHnT2lKT++Tkvmj5F8K/st/FL4rfF3w38QP2hvE/hvVIvCshudC8H+EIJhpkV1xi5lecB3dSAQDnkDDAZU6v8AwUC1DUPE3w58M/CLQZmi1/4ma3BooaP70VihE15Nj+6saAH2evqWvPL74O2mqfHXTPiXe6hJc3Gk6JLpGnaa0Q8u2aaUPNcBs5LuqonTgA+tFlLkg17qd3+evfmaUX5Psik3Hmmn71rL8lb/AA35vl3Z1vhLwvpvgfwtpHh7R7ZbTStKtIrK1gQYCRRqFUfkBWtRRVyk5NyluyYxUUorZBRRRUlBRRRQAUUUUAFFFFABRRRQAUUUUAfIfw//AOUnnxU/7EXTv/R0dfXlfIfw/wD+UnnxU/7EXTv/AEdHX15QAUUUUAY3jE6+PCurf8IsmnyeIzbSDT11WV47Xzyp2GVkR2CA4JwpJxj3rxT9jv8AZhuv2efCutah4q1ODxL8TfFV6+peI9fhLMs8hZisUbMqt5a7ieVGSzHAGAPoSiiPutyW7Vvlv+Ol/RA/eST2Tv8AP/gdPU+av2yP2V9W+OsfhLxb4B1az8MfFfwffJdaNrF47pC0e4GSCYorMUOMj5T/ABLjDtX0J4cfVpPD+nNr0VnBrZt4/tsenSvLbrNtG8Ru6qzJuzglQcdRWjRRH3YuK2bv8+v39Ql7zUnulb5f8AKKKKACvkT4e/8AKTr4r/8AYjab/wCjY6+u6+RPh7/yk6+K/wD2I2m/+jY6APruiiigAooooAKKKKACvkP/AIJT/wDJlfhT/r/1L/0slr68r5D/AOCU/wDyZX4U/wCv/Uv/AEsloA+vKKKKAPm79tL9m3xN+0ZZ/DSLw3faTYt4Z8U2+t3n9qzSxiSCMEMseyN8vzwDge9e7eNfBujfETwnq3hnxDYxalouqW72t3azDKujDB+hHUHqCAR0rboqeVOLg1o3d/NJfkkNNqSmt1p9zb/U+dv2Pfgd8Q/2ctC13wJ4h1/S/E3gGxu2k8KXizynUre2Zifs9whiCYGcgq7YJYYAwF1f22PgXr37SH7OniLwD4Zu9OsdY1Ga0kin1aSSO3URXEcrbmjR2HyocYU846da90opz/eJc+u34f18xR9xtx63/E5/4e+H7jwn4B8NaHePFJd6ZpltZTPASY2eOJUYqSASMqcZA+ldBRRWk5OpJze7M6cFShGnHZK33BRRRUGh8h/8Epv+TKPCP/X7qX/pZLX15XyH/wAEpv8Akyjwj/1+6l/6WS19eUAFFFFABRRRQAUUUUAFFFFABWf4i0Gw8VeH9T0TVbdbzS9StZbO7t3ziWGRCjocdirEfjWhRQB/Ov8Atffsd+L/ANlHx9eWOo2dxf8AhC4nb+x/ESx5huYjyqORwkqjhkOOQSMqQa+f6/qe1TS7LXNPnsNRs7e/sZ12S211EskUi+jKwII+tfEn7H3wn8D2v7WX7TRh8G+H4joet6YmlGPS4F/s9Xt5GdYMJ+6DMASExkgE0AeD/wDBKX9h3xDpPi60+NXjrTJ9HtbSCQeHdNvIyk08kiGNrp0PKoI2cICMsXDjAVS36u0UUAFFFFABRRRQAUUUUAFFFFABRRRQAUUUUAFFFFABRRRQAUUUUAFFFFABRRRQAUUUUAFFFFABRRRQAUUUUAFFFFABRRRQB8if8FWP+TK/Fn/X/pv/AKWRV9dV8i/8FWP+TK/Fn/X/AKb/AOlkVfXVAC0UUUAFFFFABRRRQAUUUUAFFFFABRRRQAUUUUAFFFFABRRRQAUUUUAFFFFABRRRQAUUUUAFFFFABRRRQAUUUUAFFFFABRRRQAUUUUAFFFFABRRRQAUUUUAFFFFABRRRQAUUUUAFFFFABRRRQAUUUUAFFFFABRRRQAUUUUAfIfw//wCUnnxU/wCxF07/ANHR19eV8h/D/wD5SefFT/sRdO/9HR19eUAFFFFABRRRQAUUUUAFFFFABXyJ8Pf+UnXxX/7EbTf/AEbHX13XyJ8Pf+UnXxX/AOxG03/0bHQB9d0UUUAFFFFABRRRQAV8h/8ABKf/AJMr8Kf9f+pf+lktfXlfIf8AwSn/AOTK/Cn/AF/6l/6WS0AfXlFFFABRRRQAUUUUAFFFFABRRRQB8h/8Epv+TKPCP/X7qX/pZLX15XyH/wAEpv8Akyjwj/1+6l/6WS19eUAFFFFABRRRQAUUUUAFFFFABRRRQAV8ifsi/wDJ2P7Wv/Yd0n/0mlr67r5E/ZF/5Ox/a1/7Duk/+k0tAH13RRRQAUUUUAFFFFABRRRQAUUUUAFFFFABRRRQAUUUUAFFFFABRRRQAUUUUAFFFFABRRRQAUUUUAFFFFABRRRQAUUUUAFFFFAHyJ/wVY/5Mr8Wf9f+m/8ApZFX11XyL/wVY/5Mr8Wf9f8Apv8A6WRV9dUALRRRQAUUUUAFFFFABRRRQAUUUUAFFFFABRRRQAUUUUAFFFFABRRRQAUUUUAFFFFABRRRQAUUUUAFFFFABRRRQAUUUUAFFFFABRRRQAUUUUAFFFFABRRRQAUUUUAFFFFABRRRQAUUUUAFFFFABRRRQAUUUUAFFFFABRRRQB8f+BrqG1/4KdfFNp5o4VPgXTgDIwUH97H619af2xYf8/1t/wB/V/xrxL4wfsM/BT49eNJfFnjnwe2s6/LDHbvdLqt5b5RBhRsimVeB3xXE/wDDrP8AZl/6JzJ/4PtS/wDkigD6j/tiw/5/rb/v6v8AjR/bFh/z/W3/AH9X/Gvlz/h1n+zL/wBE5k/8H2pf/JFH/DrP9mX/AKJzJ/4PtS/+SKAPqP8Atiw/5/rb/v6v+NH9sWH/AD/W3/f1f8a+XP8Ah1n+zL/0TmT/AMH2pf8AyRR/w6z/AGZf+icyf+D7Uv8A5IoA+o/7YsP+f62/7+r/AI0f2xYf8/1t/wB/V/xr5c/4dZ/sy/8AROZP/B9qX/yRR/w6z/Zl/wCicyf+D7Uv/kigD6j/ALYsP+f62/7+r/jR/bFh/wA/1t/39X/Gvlz/AIdZ/sy/9E5k/wDB9qX/AMkUf8Os/wBmX/onMn/g+1L/AOSKAPqP+2LD/n+tv+/q/wCNfJnw3uIrn/gpt8VnhkSVP+EG04bkYEf62PuK0P8Ah1n+zL/0TmT/AMH2pf8AyRXpPwO/Y9+Ev7OGuajrHw98LNoOo6hbC0uZm1G6ud8QYPtxNK4HzAHIANAHs1FFFABRRRQAUUUUAFfHf/BK3UrS3/Yv8KJLdQxOL7Usq8gB/wCPyXsTX2JXyi3/AAS0/ZlZiT8OpMk5P/E+1L/5IoA+ov7YsP8An+tv+/q/40f2xYf8/wBbf9/V/wAa+XP+HWf7Mv8A0TmT/wAH2pf/ACRR/wAOs/2Zf+icyf8Ag+1L/wCSKAPqP+2LD/n+tv8Av6v+NH9sWH/P9bf9/V/xr5c/4dZ/sy/9E5k/8H2pf/JFH/DrP9mX/onMn/g+1L/5IoA+o/7YsP8An+tv+/q/40f2xYf8/wBbf9/V/wAa+XP+HWf7Mv8A0TmT/wAH2pf/ACRR/wAOs/2Zf+icyf8Ag+1L/wCSKAPqP+2LD/n+tv8Av6v+NH9sWH/P9bf9/V/xr5c/4dZ/sy/9E5k/8H2pf/JFH/DrP9mX/onMn/g+1L/5IoA+o/7YsP8An+tv+/q/40f2xYf8/wBbf9/V/wAa+XP+HWf7Mv8A0TmT/wAH2pf/ACRR/wAOs/2Zf+icyf8Ag+1L/wCSKAKX/BKb/kyjwh/1+6l/6WS19eVx3wl+EfhT4G+B7Lwf4K0w6P4es3kkgtDcSz7Wkcu53yszHLMTye9djQAUUUUAFFFFABRRRQAUUUUAFFFFABXyJ+yL/wAnY/ta/wDYd0n/ANJpa+u6+RP2Rf8Ak7H9rX/sO6T/AOk0tAH13RRRQAUUUUAFFFFABRRRQAUUUUAFFFFABRRRQAUUUUAFFFFABRRRQAUUUUAFFFFABRRRQAUUUUAFFFFABRRRQAUUUUAFFFFAHyJ/wVY/5Mr8Wf8AX/pv/pZFX11XyL/wVY/5Mr8Wf9f+m/8ApZFX11QAtFFFABRRRQAUUUUAFFFFABRRRQAUUUUAFFFFABRRRQAUUUUAFFFFABRRRQAUUUUAFFFFABRRRQAUUUUAFFFFABRRRQAUUUUAFFFFABRRRQAUUUUAFFFFABRRRQAUUUUAFFFFABRRRQAUUUUAFFFFABRRRQAUUUUAFFFFABRRRQAUUUUAFFFFABRRRQAUUUUAFFFFABRRRQAUUUUAFFFFABRRRQAUUUUAFFFZ/iDWrfw3oOpavdnba2FtJdSn/YRCzfoDUTkqcXOWyKjFyait2aFFfGvwL+BZ/ae+FNl8VPiL4n8Wr4r8WrJqWmjR/EV5YQaBbOx+zRWsUMix5VAjFnVizEk16f8Asa/E/XviF8Nda0jxbe/2p4s8FeIL7wrqeo+WEN69s4CTlR0LxshPvmtuV3cZfEldr5pPXybSfro2iLppTjrFu1/va+TSdvxSPe6KKKgYUUUUAFFFFABRRRQAUUUUAFFFFABRRRQAUUUUAFfIn7Iv/J2P7Wv/AGHdJ/8ASaWvruvkT9kX/k7H9rX/ALDuk/8ApNLQB9d0UUUAFFFFABRRRQAUUUUAFFFFABRRRQAUUUUAFFFFABRRRQAUUUUAFFFFABRRRQAUUUUAFFFFABRRRQAUUUUAFFFFABRRRQB8if8ABVj/AJMr8Wf9f+m/+lkVfXVfIv8AwVY/5Mr8Wf8AX/pv/pZFX11QAtFFFABRRRQAUUUUAFFFFABRRRQAUUUUAFFFFABRRRQAUUUUAFFFFABRRRQAUUUUAFFFFABRRRQAUUUUAFFFFABRRRQAUUUUAFFFFABRRRQAUUUUAFFFFABRRRQAUUUUAFFFFABRRRQAUUUUAFFFFABRRRQAUUUUAFFFFABRRRQAUUUUAFFFFABRRRQAUUUUAFFFFABRRRQAUUUUAFFFFABRRRQAUUUUAFYvjXw+PFvg3XtDZtg1Ownsi3p5kbJn/wAeraoqKkFUg4S2ehcZOElJbo+UP2PPjr4P8F/s16R4a8Z+INL8IeJfh/bNomv6Xq15HBNaPbEoHKsQSjoqsrDIbdxmtb9gzQ7xvh7428c3dpPYRfEDxhqXiixt7lNki2czqsDMvbckYfnswr2bxR8Ffh7441+313xH4F8N6/rVuFWHUdT0m3uLiMA5UCR0LDB6c8V2SqFUKoAAGAB2rbnbcpy+Jq3lum/vaVu2q13WVuWKpx+FO/3JpL5Jv102FoooqCgooooAKKKKACiiigAooooAKKKKACiiigAooooAK+RP2Rf+Tsf2tf8AsO6T/wCk0tfXdfIn7Iv/ACdj+1r/ANh3Sf8A0mloA+u6KKKACiiigAooooAKKKKACiiigAooooAKKKKACiiigAooooAKKKKACiiigAooooAKKKKACiiigAooooAKKKKACiiigAooooA+RP8Agqx/yZX4s/6/9N/9LIq+uq+Rf+CrH/Jlfiz/AK/9N/8ASyKvrqgBaKKKACiiigAooooAKKKKACiiigAooooAKKKKACiiigAooooAKKKKACiiigAooooAKKKKACiiigAooooAKKKKACiiigAooooAKKKKACiiigAooooAKKKKACiiigAooooAKKKKACiiigAooooAKKKKACiiigAooooAKKKKACiiigAooooAKKKKACiiigAooooAKKKKACiiigAooooAKKKKACiiigAooooAKKKKACiiigAooooAKKKKACiiigAooooAKKKKACiiigAooooAKKKKACvkT9kX/k7H9rX/ALDuk/8ApNLX13XyJ+yL/wAnY/ta/wDYd0n/ANJpaAPruiiigAooooAKKKKACiiigAooooAKKKKACiiigAooooAKKKKACiiigAooooAKKKKACiiigAooooAKKKKACiiigAooooAKKKKAPkT/AIKsf8mV+LP+v/Tf/SyKvrqvkX/gqx/yZX4s/wCv/Tf/AEsir66oAWiiigAooooAKKKKACiiigAooooAKKKKACiiigAooooAKKKKACiiigAooooAKKKKACiiigAooooAKKKKACiiigAooooAKKKKACiiigAooooAKKKKACiiigAooooAKKKKACiiigAooooAKKKKACiiigAooooAKKKKACiiigAooooAKKKKACiiigAooooAKKKKACiiigAooooAKKKKACiiigAooooAKKKKACiiigAooooAKKKKACiiigAooooAKKKKACiiigAooooAKKKKACiiigAr5E/ZF/5Ox/a1/wCw7pP/AKTS19d18ifsi/8AJ2P7Wv8A2HdJ/wDSaWgD67ooooAKKKKACiiigAooooAKKKKACiiigAooooAKKKKACiiigAooooAKKKKACiiigAooooAKKKKACiiigAooooAKKKKACiiigD5E/wCCrH/Jlfiz/r/03/0sir66r5F/4Ksf8mV+LP8Ar/03/wBLIq+uqAFooooAKKKKACiiigAooooAKKKKACiiigAooooAKKKKACiiigAooooAKKKKACiiigAooooAKKKKACiiigAooooAKKKKACiiigAooooAKKKKACiiigAooooAKKKKACiiigAooooAKKK84+JX7R3wv+DuqW+m+NfHeh+G9RuEEkdnfXirMUJwHKfeCkg/MQBwaV0OzPR6KzvD/iLSvFmi2esaJqVprGk3kYltr6xnWaGZD0ZHUkMPcGtGqaadmSnfVBRRRSGFFFFABRRRQAUUUUAfGXxN+K3x+8W/tbeJ/hZ8Kdb8IaLp+i6Daaw8niSxllLeYQrANGCc5YdQOK0f+EP/AG2v+h++E/8A4Lbv/wCN0fD/AP5SefFT/sRdO/8AR0dfXlAHyH/wh/7bX/Q/fCf/AMFt3/8AG6P+EP8A22v+h++E/wD4Lbv/AON19eUUAfIf/CH/ALbX/Q/fCf8A8Ft3/wDG6P8AhD/22v8AofvhP/4Lbv8A+N19eUUAfIf/AAh/7bX/AEP3wn/8Ft3/APG6P+EP/ba/6H74T/8Agtu//jdfXlFAHyH/AMIf+21/0P3wn/8ABbd//G6P+EP/AG2v+h++E/8A4Lbv/wCN19eUUAfIf/CH/ttf9D98J/8AwW3f/wAbqT9mv4ufGe4/ac8afCn4sar4Z1eTRvD9vq8Nx4cs5IU3SyoACXwThSeMda+uK+RPh7/yk6+K/wD2I2m/+jY6APruiiigAooooAKKKKACiiigAooooAKKKKACiiigAooooAKKKKACiiigAooooAKKKKACiiigAooooAKKK8L+OH7aXwq+Aeppouu63Lq/iuUgReGfD0BvtRcnkAxocRkg5AkZcjpmgD3SvkT9kX/k7H9rX/sO6T/6TS1Ev7Vn7QXjxRJ4A/Ze1a20+T5otQ8aa3Bpj7f9q2YBxn2Y189/s7/E79ozQvj9+0Jf6D8GNH8T+ILzVNPbX9ITxJBaiwmELiJYpZG2yKVLE+mKAP1Eor49k/4KAaz8OZHHxo+BHjb4a2i8nV7ELrWmxr6yXESoF+gDGvo/4VfGbwR8cPDS6/4F8S2PiXS8hXls3O+FiM7ZY2AeNsc7XUH2oA7OiiigAooooAKKKKACiiigAooooA+Wv2yPjB8UPAvj74OeDPhdfaHp2reNr++s5LjXrVpoE8mOJ0Py8j7z9Ae1ZH/CH/ttf9D98J//AAW3f/xuj9rz/k7H9kr/ALD2rf8ApNDX15QB8h/8If8Attf9D98J/wDwW3f/AMbo/wCEP/ba/wCh++E//gtu/wD43X15RQB8h/8ACH/ttf8AQ/fCf/wW3f8A8bo/4Q/9tr/ofvhP/wCC27/+N19eUUAfIf8Awh/7bX/Q/fCf/wAFt3/8bo/4Q/8Aba/6H74T/wDgtu//AI3X15RQB8h/8If+21/0P3wn/wDBbd//ABuj/hD/ANtr/ofvhP8A+C27/wDjdfXlFAHyH/wh/wC21/0P3wn/APBbd/8Axuua/wCFo/tLfCP9oL4P+EviV4i8D61oXjfUbq0ZfD2nzJKiwwh2y0gXGS64xnoa+4a+RP2uv+TtP2Sf+w5q/wD6TQ0AfXdFFFABRRRQAUUUUAFFFFABRRRQAUVk+KfFmi+B9BvNb8Q6rZ6Jo9mhkuL6/nWGGJfVmYgCvlnUP+Cjnh3xZezab8G/h74y+MuoRsU+0aPpz2umqwIH7y5lXKDJ+9sI9+mQBf8Agqx/yZX4s/6/9N/9LIq+uq/L39vn4tftBeN/2Zdfg8afAyx+HnhCS6sXm1CXxRbahcqftEZiURxYPLgA5UY3dODX0K37Sn7TvhOMzeJf2Wm1OxjA8y58NeLLWeTGMkpbgM7emOOR1PFAH19RXzP8Nf8AgoR8KPHXiWDwvrkur/DPxdJwNE8c2DabIWzjaJGJjzngAsGPYZyB9LqwZQQcg8gigBaKKKACiiigAooooAKKKKACuY+KHiC78J/DTxbrlhsF9pmkXd7b+Yu5fMjhd1yO4yo4rp64b47f8kQ+If8A2Luo/wDpNJQB8kfBfxJ+2T8bvhb4c8daT4z+GFjpuuW32qC3vdMuRMi7iuG2qRnjsTXaf8If+21/0P3wn/8ABbd//G67n/gn7/yZn8KP+wQP/Rj19B0AfIf/AAh/7bX/AEP3wn/8Ft3/APG6P+EP/ba/6H74T/8Agtu//jdfXlFAHyH/AMIf+21/0P3wn/8ABbd//G6P+EP/AG2v+h++E/8A4Lbv/wCN19eUUAfIf/CH/ttf9D98J/8AwW3f/wAbo/4Q/wDba/6H74T/APgtu/8A43X15RQB8h/8If8Attf9D98J/wDwW3f/AMbo/wCEP/ba/wCh++E//gtu/wD43X15RQB8WeMLP9tPwZ4S1vxBdeOfhXNa6TYz38scOm3W90ijZ2C5QDJCnGTXvf7KfxK1n4wfs7eBPGfiAwNrWs6eLm6NrH5ce8sw+VcnAwBW98eP+SHfET/sXNR/9JpK83/YA/5M1+E//YHX/wBGPQB9BUUUUAFFFFABRRRQAUUUUAFFFFABRRRQAUUUUAFFFFABRRRQAUUUUAFFZ+n+IdK1e+1CysdTs729091ivLe3nSSS2dhlVkUHKEjkBsZFaFABRRRQAV4h8aPjf4m0D4keGvhj8OdD03W/Hmt2c2qyTa3cvDp+l2ETBGnm8sGRyzkIqKBk5JIAr2+vlf40WGt/CH9rDw38Z4PCeveMPC954Wm8KarD4asmvrzT3+0rcQz/AGdPneNsMpKg7cZPUZWnPFSdk7/k7ffKy+Za+GTW6Wn3q/3K7+R0PgP49ePv+Gi7L4QeOvDeg2epN4Yl8QyavoN9LNb3AFwkKBEkRWj5L5Vt33QQxB40dU8O+Af2V7Lx38QdVtdd8Q3/AIq1R7zUryPTH1S9bMZ8u2UQRZS3jSMqu/Crn5mya8i8G+Nrvx9/wUg0vVZvDOr+GLR/hjMtpDrkQgu54/7RX948GS0ILFgFfDYXJAyBXeQ/tJeOPhZr/ibw/wDEr4Z+L/EEsN/PNoWueBfD8uo2eo2LNmFGEbMYZ1B2MsmAdu7ODTfwQe0mpf8ApbVvWyWnk9BtKM2lrFcr+bgnf0u3r5r1Jf2B9Bh0z4K6nqthcWA0PxH4j1LW9K0vTbuK5h0m0mmzHabomaMMuCWRSQrMVzxX0lXz9+x38P8AxL4V0Dx54j8TaM3ha58a+KLvxFb+G3kV302GVUVEk2naJX2F3A6Fsdc19A1cto6W0jp20Wl+ttr9TGO8ne93LXa929bee4UUUVBQUUUUAFFFFABRRRQB8h/D/wD5SefFT/sRdO/9HR19eV8h/D//AJSefFT/ALEXTv8A0dHX15QAUUUUAFFFFABRRRQAUUUUAFfInw9/5SdfFf8A7EbTf/RsdfXdfInw9/5SdfFf/sRtN/8ARsdAH13RRRQAUUUUAFFFFABRRRQAUUUUAFFFFABRRRQAUUUUAFFFFABRRRQAUUUUAFFFFABRRRQAU2SRIY2kkZURQWZmOAAOpJp1fHP7WninX/j18WtF/Zl8EapJpMGpWbar471u15ksNKyAtsp7PPkAg9njzlWagDM8RfGLx/8Att+KL/wZ8FL+78G/CiwnNrr3xQRSk18yt89vpZ4zwOZR0zn5Rt8z374D/sr/AA3/AGc9OeLwfoKJqk4zea9qDfaNSvWP3mlnYZ5OSVXauScKK7r4f+AdA+FvgvSPCnhfTYdJ0HSrdba1tYRwqjuT1ZicszHJYkkkkk10NABXyJ+yL/ydj+1r/wBh3Sf/AEmlr67r5E/ZF/5Ox/a1/wCw7pP/AKTS0AfXdfK/xj/YR0LV9dm8e/B/U5PhB8VIVMkGp6L+6sL1858u7tlBRkY/eZVyc5YSY2n6oooA+bf2a/2rL/x54rvvhZ8UdCHgb4zaPD5tzpef9E1WAf8AL1ZOSdyHqUySBkgsFbb9JV4B+13+zXJ8cvC+n674WvG0D4q+E5G1DwvrtuwR0mHJt5CeDFJgAg8A4PI3K2x+yR+0An7R3wY03xJdW66f4ms5X0vxBpgUobLUYcCVCp5UHKuAc4DgE5BoA9nooooAKKKKACiiigAooooA+Q/2vP8Ak7H9kr/sPat/6TQ19eV8h/tef8nY/slf9h7Vv/SaGvrygAooooAKKKKACiiigAooooAK+RP2uv8Ak7T9kn/sOav/AOk0NfXdfIn7XX/J2n7JP/Yc1f8A9JoaAPruiiigAooooAKKKKACiiigArx39pT9pjQP2b/DOnz3dndeIfFOtXH2LQPC+mjdeapcnACoACQgJXc+DjcAAWZQfQPiH480f4X+Bdd8W6/ci00bRrOS9upOM7EUnao7sThQO5IHevl/9jj4X618V/ED/tMfFCFn8YeI4GHhjR5QTF4f0hi3lLECP9ZKh3F8ZKvnguwoAqeAf2OvEXx61i1+If7T983iHVTL9p0z4eWs7LomiL1VXRWxNLjAYkkHkMZB0+wtJ0mx0HTbbT9MsrfTtPtkEcFraRLFFEg6KqKAFA9AKt0UAfIn/BVf/kyvxZ/1/ab/AOlkVfXVfIv/AAVX/wCTK/Fn/X9pv/pZFX11QBxvxV+Dfgr43+F5fD/jnw3Y+I9LfJWO7j+eFj/HFIMPG3+0hB96+Sr/AEf4j/8ABPC7OqaLca18U/2eBzeaPcyfaNW8LRgf6yBjjzLZQPu8BQOdpy7fdFMmhS4ieKVFkidSrI4yGB4II7igDF8D+ONC+JXhHSvFHhnUodY0HVIBcWl7bnKyIfryCCCCpwQQQQCCK3a+HtBspP2Cf2lNI8NWs5X4E/FLUJI9PtZB8nh3W2xiJG6LDNwFXtjt5bF/uGgAooooAKKKKACiiigArhvjt/yRD4h/9i7qP/pNJXc1w3x2/wCSIfEP/sXdR/8ASaSgDzX/AIJ+/wDJmfwo/wCwQP8A0Y9fQdfPn/BP3/kzP4Uf9ggf+jHr6DoAKKQkKCTwK+a/Hn7dng7T/E8/hD4b6Pq3xn8bQ8S6X4PiE1tankZuLw/uolyCCQWIPBAoA+laK+TI2/bI+Jh87Hw7+DemSHK28gl1rVIR6OwP2dvwxVj/AIUL+1K370/tT2ccn/Puvw9sDGf+BF91AH1XRXybNo/7ZPw9zNZeIfhx8WbNOXt9SsZtHvpB/djMR8kH3c4q94d/by0Xw/rdr4d+Nfg/Wvgd4huTtgl17bcaRct3EWoRjyzjnJYKBxzzQB658ZPj34a+CMnhK21tL691LxTrEOi6Xpulwia5nmc4LhCw/dpkFm7bh1JAr0ivjL9mSxn/AGqfjxrn7R2tQSjwlpfnaB8O7K4UgC3VmS51DaejyNvUHqAWU/cU19m0AcL8eP8Akh3xE/7FzUf/AEmkrzf9gD/kzX4T/wDYHX/0Y9ekfHj/AJId8RP+xc1H/wBJpK83/YA/5M1+E/8A2B1/9GPQB9BUUUUAFFFFABRRRQAUUUUAFFFFABRRRQAUUUUAFFFFABRRRQAUUUUAfLn7K/8Aycp+1L/2Mmm/+kC155qWpeM/24P2iPHfg3R/HGu/D/4P/D+ddMvrrwrdfZdQ1nUjkOnn7TtjQqwK4IICnBLAr6H+yv8A8nKftS/9jJpv/pAtcN/wS548O/HFJf8Aj+X4jal5+/7+dsf3vx3frU07SdNPZUov52pr/wBub9dehlFuMZ23dSS+XNNv77JelzD8dweMv+CevxA8F+IIPiF4m8e/BnxJqsei61pvjC+N9c6TLLkx3EExAIQYclcDO3B3Fgy+6/Fb4iat8Jv2m/hjd32p3DeAfGtvN4Zmtnk/0e01QHzrSYDs0o8yL3wvpXnH/BWsw/8ADGWuCTb5x1XTxBnrv88dPfbu/Wu6/a/+Ft/8Uv2QdWs7AyR+J9G0+317S5kP72O8tFWZdp7MQrrn/apKrywdWe1OVv8At1xV/VpOVv8At3sjd0+aapx054/+TJ6P5u1/R9z6Qoryv9l3402/7QfwG8H+OodqXGpWYF5EvSK6jJjnUewkVsexFU/Hv7X3wa+F/iy+8MeK/iFo+h6/Y+X9psLp2EkW+NZEzhT1R1b6EVtODpycH0MoSU4qS6nQT/BXQ7j47W3xXa61AeIrfQG8OLaiRPsht2n88uV2b/M3cZ34x/DnmvQK+f8A/hvz9nn/AKKx4f8A+/r/APxNH/Dfn7PP/RWPD/8A39f/AOJqOij0X6tv82zRtyd3v/krL8EfQFFfP/8Aw35+zz/0Vjw//wB/X/8AiaP+G/P2ef8AorHh/wD7+v8A/E0CPoCivn//AIb8/Z5/6Kx4f/7+v/8AE0f8N+fs8/8ARWPD/wD39f8A+JoA+gKK+f8A/hvz9nn/AKKx4f8A+/r/APxNH/Dfn7PP/RWPD/8A39f/AOJoA+gKK+f/APhvz9nn/orHh/8A7+v/APE0f8N+fs8/9FY8P/8Af1//AImgD6Aor5//AOG/P2ef+iseH/8Av6//AMTR/wAN+fs8/wDRWPD/AP39f/4mgDg/h/8A8pPPip/2Iunf+jo6+vK+HP2efid4W+Ln/BRb4oeIfB2t2viDRJPBNjCt7ZkmMuk0YZeQOQa+46ACvPv2h9Su9G+APxKv9PuprG+tfDWpT291bSGOWGRbWRldGBBVgQCCOQRXoNea/tMf8m4/FT/sVdU/9JJa58RpRm12f5HZg0niaSf8y/M+Kf2Ov2Y9e/aI/Zw8LfEDXP2gvjPpuuasLrzItO8XSLbxmK5liUqrozdI1J+brnpXpf7MvxE+Jfwt/aq8S/s9fETxbJ8RLCLRV17QPEV5EFvRBuVTHORyx5blixymc4YAfPf7Mv7SPxy+A/7Ceh654d+Dum+I/A2kRXkqeIZNbHmbDeTGSR7RB5mxHLA4PRd2QOn1P+xl8I5vEOs6h+0V4r8Yab458Z+ONPjit59DheLTdMsQR/o0Ak/eEhkAYuAwKEEZ3FvTqpLE1ORWgrpr1T5VbdO+vTRP0PNX8NJ/E3p8mr6+mlu7RzGj+OPE/wCyp+2lN4P8X+ItW1v4WfFBvO8NX2tX0lyuk6kD81kryMSqMWCqvT54sdGNepftv/tEXXwD+EJj8OIb34heKJ10Xwzp8Q3SyXUuF80L3EYbd6Fig/irov2tP2e7L9pX4L6v4VkdbPW4sX2ial0azvowTE4YcgE5Vsc7WPfFfJv7CNr4o/a2+LT/ABn+J8kNxcfDu2Twpo+mq+9V1BIl+13rADbvbdkY4y//AEzU1wwj7WKoS+zu+8P87+5fs4vudMpezbrRV79OnP8A5Ne98pLsfYv7M/wv134Q/BvQdA8U+JtU8XeKPL+06rqmrX8t5I9w/LojyMSI04VQMDC5xkmvUqKK2nLnk5MyjHlikFfInw9/5SdfFf8A7EbTf/RsdfXdfB2ofGrwP8E/+CkvxL1Lx14lsvDNjeeDNOt7ee+YhZJN6NtGAecAn8Kgo+8aK+f/APhvz9nn/orHh/8A7+v/APE0f8N+fs8/9FY8P/8Af1//AImgD6Aor5//AOG/P2ef+iseH/8Av6//AMTR/wAN+fs8/wDRWPD/AP39f/4mgD6Aor5//wCG/P2ef+iseH/+/r//ABNH/Dfn7PP/AEVjw/8A9/X/APiaAPoCivn/AP4b8/Z5/wCiseH/APv6/wD8TR/w35+zz/0Vjw//AN/X/wDiaAPoCivn/wD4b8/Z5/6Kx4f/AO/r/wDxNH/Dfn7PP/RWPD//AH9f/wCJoA+gKK+f/wDhvz9nn/orHh//AL+v/wDE0f8ADfn7PP8A0Vjw/wD9/X/+JoA+gKK+f/8Ahvz9nn/orHh//v6//wATR/w35+zz/wBFY8P/APf1/wD4mgD6Aor5/wD+G/P2ef8AorHh/wD7+v8A/E0f8N+fs8/9FY8P/wDf1/8A4mgD6Aor5/8A+G/P2ef+iseH/wDv6/8A8TR/w35+zz/0Vjw//wB/X/8AiaAPoCivn/8A4b8/Z5/6Kx4f/wC/r/8AxNH/AA35+zz/ANFY8P8A/f1//iaAPoCivn//AIb8/Z5/6Kx4f/7+v/8AE0f8N+fs8/8ARWPD/wD39f8A+JoA+gKK+f8A/hvz9nn/AKKx4f8A+/r/APxNH/Dfn7PP/RWPD/8A39f/AOJoA+gKK+f/APhvz9nn/orHh/8A7+v/APE0f8N+fs8/9FY8P/8Af1//AImgD3TWNWtdB0m91O/mW3sbKB7meZuiRopZmP0AJr5Q/wCCcehz+J/h/wCL/jVrdqy+Jfidr91qnnTcyx6fHI0Vrbj0RNsm31Vl6gCsn9qT9ub4J+IP2b/ibpHh34k6Lqut6n4evrC0s7d3aSWSaFogqjaOfn/CrX7Nv7ZXwB+Hn7Pfw18NXvxO0Cx1DS/Dmn2t5bmR8pcLboJgfl6+ZvoA+x6K+f8A/hvz9nn/AKKx4f8A+/r/APxNH/Dfn7PP/RWPD/8A39f/AOJoA+gK+RP2Rf8Ak7H9rX/sO6T/AOk0td3/AMN+fs8/9FY8P/8Af1//AImvmj9mf9rf4PeEf2kP2k9d1n4gaRp+keItY02fSryZ2CXkcdvIrsny9ASB+NAH6L0V8/8A/Dfn7PP/AEVjw/8A9/X/APiaP+G/P2ef+iseH/8Av6//AMTQB9AV8beH7dPgN/wUg1TSLdfsfhr4veH21SOFMrE2sWhYzEDpuaEPIx6kyCvSf+G/P2ef+iseH/8Av6//AMTXzN+1Z+1t8HvE3xq/Zz8VeHfiBpOpp4b8USjUpraVv9Es7iNEkkf5c7fkGccetAH6M0V8/wD/AA35+zz/ANFY8P8A/f1//iaP+G/P2ef+iseH/wDv6/8A8TQB9AUV8/8A/Dfn7PP/AEVjw/8A9/X/APiaP+G/P2ef+iseH/8Av6//AMTQB9AUV8//APDfn7PP/RWPD/8A39f/AOJo/wCG/P2ef+iseH/+/r//ABNAH0BRXz//AMN+fs8/9FY8P/8Af1//AImj/hvz9nn/AKKx4f8A+/r/APxNAHB/tef8nY/slf8AYe1b/wBJoa+vK+AfjN+0J8Ofjh+1v+y5F4D8Xaf4nk03XNSa7WxZiYQ9tGELZA67G/Kvv6gAooooA/M/4BfC3xJ+1F8dP2hYdc+NXxU8N2fhjxZNZ6fZ+GvFEttAkTzXHybHVwAojUALgAV1/iO4+J/7C3x0+F1jJ8T9f+KPwt8dawuhz2Pi6UXeoWE7sqo6XB5IG/dgYGFYFeQR5t+zH48+Lngn48ftQP8ADL4ZWPxDhfxhcSX32rXI9PeBlmudiorg7yw3dOmB616P+zbBrn7fHxG0X4s/EjWtHsbL4d6nLFp/w50iGZZbC/BBE1802CXBQFQo2nYOVIdTVH/ly47KMHK/ay5tN9ej7tO4V/irKW7lNR9bu2vS3XyT0O0/bA8R+Mv2ZPjJ4N+Omm61rWo/DV5I9F8Y+GzeSy2ltFIQsd7FAWKIw4BKgZZVH/LRq+kPih8bPC/wr+Duq/EnUr+Kfw5Z2Av4ZoHBF2HAMKRnoTIWRV/3hXR+OPBej/EbwfrPhfX7NL/RtWtZLO7t36NG6kHHoR1B6ggHtX5e/Cv4U+NPiV8cdM/ZR8b6pHqPw6+E+oTa9cv5mX1exPlNYW0gx0XzjkZwFdh/ApOcIyn/ALOnZ7p9l9r/AMB+Jd7tdEXJxj+/aulo13f2fS/wt+j7n1z+wb4f+Ies+C9X+KnxN13VrrXPHdx/aNjoFzeStZ6PYEkwxwws21CwIbIAO3YDzuz9S02ONYY1RFVEUbVVRgADoAKdWsmm7RVktF6L+te7Mop7yd29X6/1t5BXyJ+11/ydp+yT/wBhzV//AEmhr67r4q/bs8aaJ8PP2jf2WfEfiTUodI0PT9Z1aW6vrgkRxL9nhGTj3IH41BR9q0V8/wD/AA35+zz/ANFY8P8A/f1//iaP+G/P2ef+iseH/wDv6/8A8TQB9AUV8/8A/Dfn7PP/AEVjw/8A9/X/APiaP+G/P2ef+iseH/8Av6//AMTQB9AUV8//APDfn7PP/RWPD/8A39f/AOJo/wCG/P2ef+iseH/+/r//ABNAH0BRXz//AMN+fs8/9FY8P/8Af1//AImj/hvz9nn/AKKx4f8A+/r/APxNAHnf7eCn4sePvgh8Bo5Hex8Ya+dU1+3icqZNLsV86SNyOgc5IP8AeiFfYFvbxWdvFBBEkEEShI441CqigYAAHAAHavzruf2tvg9q/wDwUVs/G0/j/SI/B2k/DptOt9Vdy0L373xZo1O3IbynPbonvX0x/wAN+fs8/wDRWPD/AP39f/4mgD6Aor5//wCG/P2ef+iseH/+/r//ABNH/Dfn7PP/AEVjw/8A9/X/APiaAOE/4Kr/APJlfiz/AK/tN/8ASyKvrqvzo/4KLftb/B74q/sp+JPDnhL4gaRr2uXF5YSRWNo7GR1S6jdyMqOign8K+mP+G/P2ef8AorHh/wD7+v8A/E0AfQFFfP8A/wAN+fs8/wDRWPD/AP39f/4mj/hvz9nn/orHh/8A7+v/APE0AbX7YXwdi+On7OXjbwutv5+qGxe+0plH7xL6AGSAoRyCXUISOzsO+Kk/ZA+LL/G/9mn4f+MLif7TqN5piQ38hOS13CTDOx+skbNz2IrB/wCG/P2ef+iseH/+/r//ABNfM37Av7Wvwd+E/wAMfGnhvxH4/wBH0UW3jTVX0yOclBPZO0bRSx4B+RiXxnng9sUAfozRXz//AMN+fs8/9FY8P/8Af1//AImj/hvz9nn/AKKx4f8A+/r/APxNAH0BRXz/AP8ADfn7PP8A0Vjw/wD9/X/+Jo/4b8/Z5/6Kx4f/AO/r/wDxNAH0BRXz/wD8N+fs8/8ARWPD/wD39f8A+Jo/4b8/Z5/6Kx4f/wC/r/8AxNAH0BXDfHb/AJIh8Q/+xd1H/wBJpK84/wCG/P2ef+iseH/+/r//ABNcj8YP25/gJrvwl8babYfFHQrq/vNDvre3gjkfdJI9u6qo+XqSQPxoA6v/AIJ+/wDJmfwo/wCwQP8A0Y9e6a9runeF9FvtX1e9g03S7GF7m6vLpwkUMaglnZjwAACc14X/AME/f+TM/hR/2CB/6MesD9pH4V+NP2kPjJ4S+HWpabcab8DbKD+3PEWoR3Kr/blwj4h07CtvVA212yBuGSMFFNAHDW//AAnH/BQy8nmjv9W+HP7OUbtFD9kJt9V8YANhmLEZhtDgjGMsCc5J/d/WPw1+FnhL4PeFrbw54L8P2Ph3RrcDbbWUW3ccY3u33nc92Ylj3NdFp2n2ukafbWNjbQ2dlaxLDBbW6BI4o1ACoqjgKAAAB0AqxQAUUUUAFfHP7cGtXPxw8V+FP2Y/DDK2p+KXj1XxPqCxrJ/ZGjQyBmfkYWWRlCr9MHHmA19H/Gr4uaF8Cfhf4h8c+I5fL0zR7ZpzGGAeeTpHCmf43cqo9254rxj9h/4R67o/h3Xvi18QY93xP+JEy6rqCupzp9nj/RLJQeVCR7SV6j5VOdgNAHA6x8NfG/8AwT/3+JvhnJqvjz4IRFpdb8A3cxnvdFiJ3PdafI3LIvzM0R9yScl4/rn4efELw/8AFbwXpPizwtqcOr6DqkIntbuE8MDwVI6qykFWU4KkEEAiuiIDAgjIr5W+Hvwb8Vfs3ftRXNp4C0SS9+CfjqKbUNSsIZkSHw1qkYGZYkYj91MCo8tMnOcALGAQD3D48f8AJDviJ/2Lmo/+k0leb/sAf8ma/Cf/ALA6/wDox69I+PH/ACQ74if9i5qP/pNJXyh+xh+2Z8EvAH7Lfw48PeIviPouk63p+lrDdWVxIwkhfex2nC9cEUAfdNFfP/8Aw35+zz/0Vjw//wB/X/8AiaP+G/P2ef8AorHh/wD7+v8A/E0AfQFFfP8A/wAN+fs8/wDRWPD/AP39f/4mj/hvz9nn/orHh/8A7+v/APE0AfQFFfP/APw35+zz/wBFY8P/APf1/wD4mj/hvz9nn/orHh//AL+v/wDE0AfQFFeP+Af2vfg18UfFlj4Y8KfELR9c1++8z7NYWrsZJdkbSPjKjoiM30Br2CgAooooAKKKKACiiigAooooAKKKKACiiigD5c/ZX/5OU/al/wCxk03/ANIFrgdc8O+P/wBi39ojxv478KeBNY+JPwn8fzJf6tpXhmLz9T0nURndLHBnMiOWcnGB82CV2Dd9FfCX4Jz/AA1+J/xY8WS6tHfx+N9TttQjtUgKG0EVuIShbcd+cZyAK9XpRvFU2t1CKf8A4Ck196+9JkQWk4yWjlJ/+TNp/c/ubTPg7xda+Pv2/wD4ieCtLv8A4beJPhp8GPDGpx63qcvjK1Fnf6vcRg+XAluSSE5YFskYYnIIUH2L9vzx9qHg39nHVtG8P5bxT4yuYPCmjwocM8123ltt9MR+Yc9uK+j68T8cfCXWfiH+014D8SapBGfA/gvTbm+slMoJn1idhErNH1xFCGIY/wAUnHSk4xmo0Wvdbu/PS8tfNLlXy9TVSlBurf3ktPLt90nzPyv6HYfAr4T6d8DfhD4V8C6WAbbRbFLdpQADNL96WU+7uXb/AIFVzXvg34B8VatPqmt+B/DesancbfOvb/SLeeaTaoVdzuhY4VQBk8AAdq7CitZydSTnLdmUIqEVFdDz/wD4Z7+Fn/RNPB//AIIbX/43R/wz38LP+iaeD/8AwQ2v/wAbr0CioLPP/wDhnv4Wf9E08H/+CG1/+N0f8M9/Cz/omng//wAENr/8br0CigDz/wD4Z7+Fn/RNPB//AIIbX/43R/wz38LP+iaeD/8AwQ2v/wAbr0CigDz/AP4Z7+Fn/RNPB/8A4IbX/wCN0f8ADPfws/6Jp4P/APBDa/8AxuvQKKAPP/8Ahnv4Wf8ARNPB/wD4IbX/AON0f8M9/Cz/AKJp4P8A/BDa/wDxuvQKKAPP/wDhnv4Wf9E08H/+CG1/+N0f8M9/Cz/omng//wAENr/8br0CigD4w+DfhbRfB/8AwUo+KWm6DpFhomnL4H091tNNtkt4gxmjyQiADJ9cV9n18h/D/wD5SefFT/sRdO/9HR19eUAFefftDaZea18A/iTp+nWk9/f3fhrUoLe1tY2klmka1kVURFBLMSQAAMkmvQaKzqQ9pBwfVWNaNR0akai6NP7j5k/4J3+B9V8L/sW+CPDfi3QLzR9QVNQjvNJ1mzeCZUe9uDtkikUEBkYHBHIYdjXnnwZ8D+M/2Lf2jr3wDpXh/XfEvwH8aTtfaTd6bZS3i+Gr1j88UxRSY4ScDc3GNjZyJDX29RXVUqOpXdfve67p9Pk9V2ZzqNqfs/mvJ/1o+6Eb7p+lfGn/AATD8B+JvAPw5+Jdt4n8O6t4cubvxreXdvDq1jLavNC0UIWVBIoLISDhhwcGvsyisY+7Jy7q34p/oaN3jy+d/wAGv1CiiigQV8U6N4I8OeOf+CmHxRtfEmgaX4gtofBOnSRQ6pZR3KI/mINyh1IBwSMivtavkT4e/wDKTr4r/wDYjab/AOjY6APe/wDhnv4Wf9E08H/+CG1/+N0f8M9/Cz/omng//wAENr/8br0CigDz/wD4Z7+Fn/RNPB//AIIbX/43R/wz38LP+iaeD/8AwQ2v/wAbr0CigDz/AP4Z7+Fn/RNPB/8A4IbX/wCN0f8ADPfws/6Jp4P/APBDa/8AxuvQKKAPP/8Ahnv4Wf8ARNPB/wD4IbX/AON0f8M9/Cz/AKJp4P8A/BDa/wDxuvQKKAPP/wDhnv4Wf9E08H/+CG1/+N0f8M9/Cz/omng//wAENr/8br0CigDz/wD4Z7+Fn/RNPB//AIIbX/43R/wz38LP+iaeD/8AwQ2v/wAbr0CigDz/AP4Z7+Fn/RNPB/8A4IbX/wCN0f8ADPfws/6Jp4P/APBDa/8AxuvQKKAPP/8Ahnv4Wf8ARNPB/wD4IbX/AON0f8M9/Cz/AKJp4P8A/BDa/wDxuvQKKAPP/wDhnv4Wf9E08H/+CG1/+N0f8M9/Cz/omng//wAENr/8br0CigDz/wD4Z7+Fn/RNPB//AIIbX/43R/wz38LP+iaeD/8AwQ2v/wAbr0CigDz/AP4Z7+Fn/RNPB/8A4IbX/wCN0f8ADPfws/6Jp4P/APBDa/8AxuvQKKAPP/8Ahnv4Wf8ARNPB/wD4IbX/AON0f8M9/Cz/AKJp4P8A/BDa/wDxuvQKKAPP/wDhnv4Wf9E08H/+CG1/+N0f8M9/Cz/omng//wAENr/8br0CigD5n/ay/Z1+Hsv7MfxTfR/h94Zs9Vt/Dd9dWs9jo0EU6SRQNIuxkQMGynGOvSpf2VfhN8MPHH7NPwt1yf4f+Er+7vPDWntdXMmiWrtJcC3RZix2HJ8xXzk5z15r6NvLODULOe0uYlntp42ilikGVdWGCpHoQTXyD/wTv1aT4eab4/8A2f8AW5Xi1/4da7crYwz8PcaRcSGa2uF9Qxkcn0EkeeuKAPoT/hnv4Wf9E08H/wDghtf/AI3R/wAM9/Cz/omng/8A8ENr/wDG69AooA8//wCGe/hZ/wBE08H/APghtf8A43Xyt+yt8H/AesftQftSWF/4J8OX1jput6XHZWtzpNvJFaq1tKWWJShCAkAkLjOK+6a+RP2Rf+Tsf2tf+w7pP/pNLQB73/wz38LP+iaeD/8AwQ2v/wAbo/4Z7+Fn/RNPB/8A4IbX/wCN16BRQB5//wAM9/Cz/omng/8A8ENr/wDG6+VP2uvhD4Di/aA/Zj8K6R4J8OWP9reKbi9vLey0m3T7Rb2sSOyyIqDemGOc8DHQ19118bfDa7j/AGhP+Cg3i/xtaBrzwj8LdG/4RfT7xQPJfVpmLXTRt3KIZImx/snoRkA+if8Ahnv4Wf8ARNPB/wD4IbX/AON0f8M9/Cz/AKJp4P8A/BDa/wDxuvQKKAPP/wDhnv4Wf9E08H/+CG1/+N0f8M9/Cz/omng//wAENr/8br0CigDz/wD4Z7+Fn/RNPB//AIIbX/43R/wz38LP+iaeD/8AwQ2v/wAbr0CigDz/AP4Z7+Fn/RNPB/8A4IbX/wCN0f8ADPfws/6Jp4P/APBDa/8AxuvQKKAPiL9pH4c+FPAn7Wn7Kb+GvDGjeHnudd1QTtpWnxWplC20W0N5ajdjJxnpk19u18h/tef8nY/slf8AYe1b/wBJoa+vKACiiigD4w/YM8BeJ/B/xo/abvte8Oatollq/i5rnTrnUbGW3jvYvNuT5kLOoEi4ZTuXI+YetVP2hPhX4u/Zz/aA034//CTw7qXiSy1mVNP8deENFt2nmvomPy3cMKgkyKeTgfeAJ4aQ19tUUapwkt4pL1SSTT8mlr/wBv3vaX2m2/m3f8HsVNK1FNY0u0vooriCO6hSZYrqB4JkDAEB43AZGGeVYAg8Gvjz4PeAvE2mf8FMfjX4ovPDmrWnhnUPD9nDZ61PYypZ3MipaBkjmK7HYbWyASflPpX2dRVRfLU9ouzX3qxLvKm6b62/Bp/oFFFFSMK+N/209E07xH+1B+yjpurWFrqmnXGtaus1newrNDKv2aE4ZGBBGQOo7V9kV8iftdf8nafsk/8AYc1f/wBJoaAPe/8Ahnv4Wf8ARNPB/wD4IbX/AON0f8M9/Cz/AKJp4P8A/BDa/wDxuvQKKAPP/wDhnv4Wf9E08H/+CG1/+N0f8M9/Cz/omng//wAENr/8br0CigDz/wD4Z7+Fn/RNPB//AIIbX/43R/wz38LP+iaeD/8AwQ2v/wAbr0CigDz/AP4Z7+Fn/RNPB/8A4IbX/wCN0f8ADPfws/6Jp4P/APBDa/8AxuvQKKAPhXUPhD4A8Pf8FMtJ0abwV4d/4R/xB8NpDBpsumW/2X7bFfFmdItm3eIo/vYzhm5xxX1V/wAM9/Cz/omng/8A8ENr/wDG68A/4KAWdx8O9R+EXx5sbaaX/hXXiFRrDWq5kGkXgEN0cfxY+VQO3mt2zX1ppOrWevaVZ6np9zHeWF5Clzb3ELbkljdQyOp7gggj60AcV/wz38LP+iaeD/8AwQ2v/wAbo/4Z7+Fn/RNPB/8A4IbX/wCN16BRQB8Lf8FN/g/4D8J/sf8AijUtD8E+HNG1GO909UvNP0m3gmUNdxBgHRAQCCQeeQa+qf8Ahnv4Wf8ARNPB/wD4IbX/AON14J/wVX/5Mr8Wf9f2m/8ApZFX11QBwH/DPfws/wCiaeD/APwQ2v8A8bo/4Z7+Fn/RNPB//ghtf/jdegUUAef/APDPfws/6Jp4P/8ABDa//G6+VP8AgnL8I/APjr4O+MPFOp+CvDesR61421a8sZrvSoJwlrvRESIuh2xjY2FHAyfU17l+298Yl+C/7N/ivUbZpG8QatAdC0O2gUtNPfXKmOMRqOrKC0mPSM/Sup/Zg+E//Cjv2ffAfgdo0jutJ0uNLxY/u/anzLcEexleQ/jQBof8M9/Cz/omng//AMENr/8AG6P+Ge/hZ/0TTwf/AOCG1/8AjdegUUAef/8ADPfws/6Jp4P/APBDa/8Axuj/AIZ7+Fn/AETTwf8A+CG1/wDjdegUUAef/wDDPfws/wCiaeD/APwQ2v8A8bo/4Z7+Fn/RNPB//ghtf/jdegUUAef/APDPfws/6Jp4P/8ABDa//G64z41/AX4Z6f8ABvx5dWvw68J21zDoF/JFNDodqrxuLeQhlITIIIBBFe51w3x2/wCSIfEP/sXdR/8ASaSgDzX/AIJ+/wDJmfwo/wCwQP8A0Y9fQdfPn/BP3/kzP4Uf9ggf+jHr6DoAKKKKACiivAf2zfj1f/BX4YQ2HhaI3/xJ8XXK6F4V0+PBd7uXCmbB/hiDbiTxuKA4DUAeU+Nv+M0v2tLbwTGPtXwi+E10t/r7dYdW1zBENoezLD824eokUj5lNfaleUfswfAWw/Zx+Duj+D7ab7dqS7rzV9TbJe/v5cGeZieTk4UZ52qoPSvV6ACiiigDhfjx/wAkO+In/Yuaj/6TSV4J+wx8FPh54h/ZH+F+par4C8ManqNxpKvNd3mj28ssrb35Z2Qkn3Jr3v48f8kO+In/AGLmo/8ApNJXm/7AH/Jmvwn/AOwOv/ox6APQv+Ge/hZ/0TTwf/4IbX/43R/wz38LP+iaeD//AAQ2v/xuvQKKAPP/APhnv4Wf9E08H/8Aghtf/jdH/DPfws/6Jp4P/wDBDa//ABuvQKKAPP8A/hnv4Wf9E08H/wDghtf/AI3R/wAM9/Cz/omng/8A8ENr/wDG69AooA4/Qfg34B8K6tBqmieB/Dej6nb7vJvbDSLeCaPcpVtrogYZViDg8gkd67CiigAooooAKKKKACiiigAooooAKKKKACiiigAooooAKKKKACiiigAooooAKKKKACiiigAooooAKKKKACiiigD5D+H/APyk8+Kn/Yi6d/6Ojr68r5D+H/8Ayk8+Kn/Yi6d/6Ojr68oAKKKKACiiigAooooAKKKKACvkT4e/8pOviv8A9iNpv/o2OvruvkT4e/8AKTr4r/8AYjab/wCjY6APruiiigAooooAKKKKACiiigAooooAKKKKACiiigAooooAKKKKACiiigAooooAKKKKACiiigAr5L/bA+G/irwJ448O/tF/DHT11PxT4UtZLLxFoMakNrmjsdzoNvJkiwXUYOeDyUVW+tKKAOM+D/xc8NfHP4d6N418J3wvtG1OISJnAkhccPFIufldGypHqOMjBPZ18c/Eb9m/xz+zv461D4p/s5Qw3EOoTC48S/DC4lENhqo53zWhPEE4zkAYHpkfu39F+Bv7bnw5+NF82gXFzceBfHtu3lXfg/xUn2K/ik7qgfAl742ndjkqtAH0DXyJ+yL/AMnY/ta/9h3Sf/SaWvruvkT9kX/k7H9rX/sO6T/6TS0AfXdFUtY1rT/D2nzX+q39rpljCN0l1eTLFEg9WZiAPxr5K8eftyX3xL1i+8C/s1eHpfiV4sVjb3HihkKaBpBPHmyTniUjkgL8rYypf7pAOu/a+/aO1b4ex6R8M/hvbDW/jL4zVrfRrGNhjT4TkPfz/wB1EAcqTwSjHojV3/7MfwF079m34M6H4JsZvt11bq1xqWpEENfXsnzTTHPPLcDOSFVRk4rl/wBmb9k/TvgXPqfivX9XuPHPxX8QKDrni7UcmWT7p8iBT/q4QVGAOTtXPCqq++0AFFFFABRRRQAUUUUAFFFFAHyH+15/ydj+yV/2HtW/9Joa+vK+Q/2vP+Tsf2Sv+w9q3/pNDX15QAUUUUAFFFFABRRRQAUUUUAFfIn7XX/J2n7JP/Yc1f8A9Joa+u6+RP2uv+TtP2Sf+w5q/wD6TQ0AfXdFFFABRRRQAUUUUAFFFFAGT4s8LaX448M6r4e1uzj1DR9UtZLO7tZRlZYnUqyn8Ca+Q/2WfHmr/sw+Pov2Z/iZeGS3TzJfh/4puGxHq9juJFm5PCzxZ2hc9MIOBGX+0q8y/aA/Z58IftJeB28N+LLaYeTILnT9Tsn8q8064A+WaGT+Fh6HIPcGgD02iviPQP2kPiP+x3PH4T/aG03UvFHgq3dYNM+LWkWrTxNCeEGoxrlkk6AtyzHs/Ln668C/ETwv8TtCh1nwl4g03xHpcqqy3Wm3KTKMjIDbT8reqnBHQigD5m/4Kr/8mV+LP+v7Tf8A0sir66r5F/4Kr/8AJlfiz/r+03/0sir66oAWquqapZ6Hpl3qOo3cNhp9pE09xdXMgjihjUEs7seFUAEknpivMPjh+1R8Mv2etNe48Y+Jra3vz8sGi2Z+0ahcuR8qRwL82TwNzYUZGWFfO6+Bfid+31rEF38Q9M1X4U/Aa2kWaDwdK5h1fxGw5VrwjmGHPOzr6ZO2RQCT4Urf/tzftB6V8YL6zks/gz4BuJ4vBltcxsj61f7gr6iysBhEZBszyGQdCJBX27Wf4f0DTvCuh2GjaPZQ6bpVhAlta2dsgSOGJAFVFA6AACtCgAooooAKKKKACiiigArhvjt/yRD4h/8AYu6j/wCk0ldzXDfHb/kiHxD/AOxd1H/0mkoA81/4J+/8mZ/Cj/sED/0Y9fQdfPn/AAT9/wCTM/hR/wBggf8Aox6+g6ACiiigArntY+HvhrxD4r0LxNqWh2N74h0Lzf7M1KaENPaeauyQI3UBl4IroaKACiiigAooooA4X48f8kO+In/Yuaj/AOk0leb/ALAH/Jmvwn/7A6/+jHr0j48f8kO+In/Yuaj/AOk0leb/ALAH/Jmvwn/7A6/+jHoA+gqKKKACiiigAooooAKKKKACiiigAooooAKKKKACiiigAooooAKKKKACiiigAooooAKKKKACiiigAooooAKKKKACiiigAooooAKKKKAPkP4f/wDKTz4qf9iLp3/o6OvryvkP4pfs3/G5f2m/EHxW+FPjDwloQ1jRrbSJrfX7Wad9sRDEgKhAywHOaX/hBf21f+imfDD/AME9x/8AEUAfXdFfIn/CC/tq/wDRTPhh/wCCe4/+Io/4QX9tX/opnww/8E9x/wDEUAfXdFfIn/CC/tq/9FM+GH/gnuP/AIij/hBf21f+imfDD/wT3H/xFAH13RXyJ/wgv7av/RTPhh/4J7j/AOIo/wCEF/bV/wCimfDD/wAE9x/8RQB9d0V8if8ACC/tq/8ARTPhh/4J7j/4ij/hBf21f+imfDD/AME9x/8AEUAfXdfInw9/5SdfFf8A7EbTf/RsdH/CC/tq/wDRTPhh/wCCe4/+IrT/AGcf2dfiv4N/aB8W/FL4p+KPDXiDUtb0SHSFXw/BLCF8uRWUlXUDGFI4PWgD6oooooAKKKKACiiigAooooAKKKKACiiigAooooAKKKKACiiigAooooAKKKKACiiigAooooAKKKKACvMvjR+zT8Mv2hLGK28f+ELDX3hUpBeMGiuoAecJPGVkUZ52hsHHINem0UAfH8f/AAT71PwavlfDb9oL4m+C7JeItMudSGo2UI9I4WCADHAySeOprnPDH/BO34h+GvE3ibW7f9pvxTa3niSaObVbjTNIitbi7aOPZGzyCVvmGTyAOCe/NfcdFAHyVpf/AATZ+HmrapHqvxN8TeM/jHqUZzGfF2tyyQRH/YjjK4H+yWI9q+nPCPg3QfAHh+00Pw1o9joOj2q7YbHT4FhiQeyqAMnuep71s0UAFFFFABRRRQAUUUUAFFFFABRRRQB8h/tef8nY/slf9h7Vv/SaGvryvmv9rj9nv4g/GDxf8LPFfw48QaHoGveCby8vEk12KSWJ2mjjQYVFOcBGznHUVzH/AAgv7av/AEUz4Yf+Ce4/+IoA+u6K+RP+EF/bV/6KZ8MP/BPcf/EUf8IL+2r/ANFM+GH/AIJ7j/4igD67or5E/wCEF/bV/wCimfDD/wAE9x/8RR/wgv7av/RTPhh/4J7j/wCIoA+u6K+RP+EF/bV/6KZ8MP8AwT3H/wARR/wgv7av/RTPhh/4J7j/AOIoA+u6K+RP+EF/bV/6KZ8MP/BPcf8AxFH/AAgv7av/AEUz4Yf+Ce4/+IoA+u6+RP2uv+TtP2Sf+w5q/wD6TQ0f8IL+2r/0Uz4Yf+Ce4/8AiKytP/Zp/aF8bfHL4XeNfij448E6vpfgm+uLyK10Synt5n86II45TB+6nUjoaAPtCiiigAooooAKKKKACiiigAooooAhvLO31G0mtbuCO6tZkMcsMyB0dSMFWU8EEdjXzH40/wCCcXwd17WH1zwvaax8LfEhJZdW8C6lJpzqc54jG6NRn+6i/Xpj6iooA+HviT/wTm8a/EnwrdeGNS/aX8aap4cuZUllsNfs47/cUdXTLeYhyNo9s846iukb9hHxj4jiFv4w/aa+KGsWbrtnttKu001JVyflIXfwQcEHOa+vaKAPDPg3+xN8GvgTqEOqeGPBlq2vxkt/bmqO97e7z1dZJS2xj6oF6n1Ne50UUAFFFFABRRRQAUUUUAFFFFABXDfHb/kiHxD/AOxd1H/0mkrua534jeG5/GXw98T+H7aWOC51bS7qwillzsRpYmQM2OcAtzigDx7/AIJ+/wDJmfwo/wCwQP8A0Y9fQdfDXwu/Z8/a7+D/AMP9E8G+HfiT8N49E0eD7NarcaZcSSBMk/M3l8nJNdV/wgv7av8A0Uz4Yf8AgnuP/iKAPruivkT/AIQX9tX/AKKZ8MP/AAT3H/xFH/CC/tq/9FM+GH/gnuP/AIigD67or5E/4QX9tX/opnww/wDBPcf/ABFH9gftbQ/8Suf4meAv+Eim/fW/l6HIbTyR97exG8PnOAFI96APruivkT/hBf21f+imfDD/AME9x/8AEUf8IL+2r/0Uz4Yf+Ce4/wDiKAPruivkT/hBf21f+imfDD/wT3H/AMRR/wAIL+2r/wBFM+GH/gnuP/iKAPoH48f8kO+In/Yuaj/6TSV5v+wB/wAma/Cf/sDr/wCjHrzTxN8Jf2yvFnhvVdD1D4lfDNrDU7SWyuBHpNwrGORCjYOzg4Y819Afs0/Cy/8Agj8B/BfgXVLu2v8AUNDsRazXNnu8qRgzHK7gDjnuKAPTaKKKACiiigAooooAKKKKACiiigAooooAKKKKACiiigAooooAKKKKACiiigAooooAKKKKACiiigAooooAKKKKACiiigAooooAKKKKACiiigAooooAKKK+d/G/xW8ffEL446r8LPhZfaN4e/4Ruxt73xJ4o1ixe/8As0lxk29rBbrJGGcopdmZsBSBjNLqkt/6/r8Nx9HJ7L/hvzPoiivBPg18XvGNv8Xdf+EPxNOlXXiuw06PW9K1zRoHtrfV9PZ/LZzAzuYpY5BtZQxB3Aj397quiktn/wAN+enqT1ae6/4f8tQooopDCiiigAooooAKKKKACiiigAooooAKKKKACiiigAooooAKKKKACiiigAooooAKKKKACiiigAooooAKKKKACiiigAooooAKKKKACiiigAooooAKKKKACiiigAooooAKKKKACiiigAoorxH9oP4yeJPCXiXwT8Pfh/aafdfEDxjNN9luNXV2s9Ns4FD3F3KiEM+0FVVAw3Mw54wV1SW7/r/gvstWPu3sv6/rvse3UV81WvxO+J3wP+K/gvwv8UdY0Pxj4X8aXD6bp3iTSdLbTJrHUghdLeeEzSq6SKrBWUghlOeor6Vqracy2/Xt/XRp7Mm+vK/6/r9AooopDCiiigAooooAKKKKACiiigAooooAKKKKACiiigAooooAKKKKACiiigAooooAKKKKACiiigAooooAKKKKACiiigArkdQ/5KdpX/XjJ/M111cjqH/JTtK/68ZP5mgDrqKKKACiiigAooooAKKKKACiiigAooooAKKKKACiiigAooooAKKKKACiiigAooooAKKKKACiiigAooooAKKKKACiiigAooooAKKKKACiiigAooooAKKKKACiiigAooooAK+Xf2ctujftc/tNaTeHZqV5faPq0CuMNLaNZbFZfVVdWX2PpmvqKvJvi1+zfoHxV8TaZ4pi1rX/AAV4z06A2kHiTwrera3bWxbcbeXejxyxbvm2uhweRjJoi3GXN3TT+dn+aXyv1FKKnGz3TuvXVfk387HnHiB11v8A4KNeEYrE75ND8AX02pMn/LNZ7uNYUY+pKMwHtmvqCvNvg38A/DvwVXWbnTrvVtf8Qa3Ms+reI/EN4bvUb5lBEYkkwoCoDhURVUDoK9JpRiqcIwXS/wCMnL8L2+V/IH705S72/BJfpcKKKKYwooooAKKKKACiiigAooooAKKKKACiiigAooooAKKKKACiiigAooooAKKKKACiiigAooooAKKKKACiiigAooooAKKKKACiiigAooooAKKKKACiiigAooooAKKKKACiiigAooooAK+X/iIy6H/wUH+E1/fyeXaav4Q1fSrAv903SSxTMoP94x5PvivqCuC+MXwV8N/HDw5baV4gW8tprK5W+03VtKuWtb7TrlQQs9vMvKOAT6gg4IIqWvfjPs3+KcX+DuPeMo9/0aa/Fa+R4t+3RH/bWpfAHw/ZlW1m8+Jel3lvED8/k26yyTuPZVwSfcV9TV418Nv2X9E8B+No/GWreJ/FPxC8WW9s1nZar4uv0uWsIW++tvHHHHHGXwNzbdxx1xkV7LWi92HJ5t/eoq33RX326XZKTlJN7JJfi3f/AMm/D5IoooqRBRRRQAUUUUAFFFFABRRRQAUUUUAFFFFABRRRQAUUUUAFFFFABRRRQAUUUUAFFFFABRRRQAUUUUAFFFFABRRRQAVyOof8lO0r/rxk/ma66uR1D/kp2lf9eMn8zQB11FFFABRRRQAUUUUAFFFFABRRRQAUUUUAFFFFABRRRQAUUUUAFFFFABRRRQAUUUUAFFFFABRRRQAUUUUAFFFFABRRRQAUUUUAFFFFABRRRQAUUUUAFFFFABRRRQAUUUUAFFFFABRRRQAUUUUAFFFFABRRRQAUUUUAFFFFABRRRQAUUUUAFFFFABRRRQAUUUUAFFFFABRRRQAUUUUAFFFFABRRRQAUUUUAFFFFABRRRQAUUUUAFFFFABRRRQAUUUUAFFFFABRRRQAUUUUAFFFFABRRRQAUUUUAFFFFABRRRQAUUUUAFFFFABRRRQAUUUUAFFFFABRRRQAUUUUAFFFFABRRRQAUUUUAFFFFABRRRQAUUUUAFFFFABRRRQAVyOof8lO0r/rxk/ma66uR1D/kp2lf9eMn8zQB11FFFABRRRQAUUUUAFFFFABRRRQAUUUUAFFFFABRRRQAUUUUAFFFFABRRRQAUUUUAFFFFABRRRQAUUUUAFFFFABRRRQAUUUUAFFFFABRRRQAUUUUAFFFFABRRRQAUUUUAFFFFABRRRQAUUUUAFFFFABRRRQAUUUUAFFFFABRRRQAUUUUAFFFFABRRRQAUUUUAFFFFABRRRQAUUUUAFFFFABRRRQAUUUUAFFFFABRRRQAUUUUAFFFFABRRRQAUUUUAFFFFABRRRQAUUUUAFFFFABRRRQAUUUUAFFFFABRRRQAUUUUAFFFFABRRRQAUUUUAFFFFABRRRQAUUUUAFFFFABRRRQAUUUUAFFFFABRRRQAUUUUAFFFFABRRRQAVyOof8lO0r/rxk/ma66uR1D/AJKdpX/XjJ/M0AddRRRQAUUUUAFFFFABRRRQAUUUUAFFFFABRRRQAUUUUAFFFFABRRRQAUUUUAFFFFABRRRQAUUUUAFFFFABRRRQAUUUUAFFFFABRRRQAUUUUAFFFFABRRRQAUUUUAFFFFABRRRQAUUUUAFFFFABRRRQAUUUUAFFFFABRRRQAUUUUAFFFFABRRRQAUUUUAFFFFABRRRQAUUUUAFFFFABRRRQAUUUUAFFFFABRRRQAUUUUAFFFFABRRRQAUUUUAFFFFABRRRQAUUUUAFFFFABRRRQAUUUUAFFFFABRRRQAUUUUAFFFFABRRRQAUUUUAFFFFABRRRQAUUUUAFFFFABRRRQAUUUUAFFFFABRRRQAUUUUAFFFFABRRRQAUUUUAFcjqH/ACU7Sv8Arxk/ma66uR1D/kp2lf8AXjJ/M0AddRRRQAUUUUAFFFFABRRRQAUUUUAFFFFABRRRQAUUUUAFFFFABRRRQAUUUUAFFFFABRRRQAUUUUAFFFFABXKfEj4q+EfhD4f/ALa8Z+IbHw7prSCJJryTaZZDyI41GWkc4PyqCeOldXXyp4yVLr/go94Bh8RLG2lQ+Bb6bw4tyBs/tP7UguDHn/lqLcDpyFoScpxgtL3/AAi5fpYrTllN9Lfi0v1ue6/C/wCNfgb40afd3ngrxLZa/FZuI7qO3YrNbsclRJE4DpkA43KM44rtqrQi0W+uPKEIvSqGbZjzCvzBC3fHDYz6HFWabt0I16hRRRSGFFFFABRRRQAUUUUAFFFFABRRRQAUUUUAFFFFABRRRQAUUUUAFFFFABRRRQAUUUUAFFFFABRRRQAUUUUAFFFFABRRRQAUUUUAFFFFABRRRQAUUUUAFFFFABRRRQAUUUUAFFFFABRRRQAUUUUAFFFFABRRRQAUUUUAFFFFABRRRQAUUUUAFFFFABRRRQAUUUUAFFFFABRRRQAUUUUAFFFFABRRRQAUUUUAFFFFABRRRQAUUUUAFFFFABRRRQAUUUUAFFFFABRRRQAUUUUAFFFFABRRRQAVyOof8lO0r/rxk/ma1dC8RprN5qVo0DW1zYzeW0bNklf4X+h5rK1D/kp2lf8AXjJ/M0AddRWP4m8RR+G7GKYwtczzSrDDbocNIxPQfhn9PWtdc7RkYPpQAtFFFABRRRQAUUUUAFFFFABRRRQAUUUUAFFFFABRRRQAUUUUAFFFFABRRRQAUUVx3xm8TXPgv4QeOPENn/x96Tod9fQ9vnigd1/VRWdSfs4Sn2VzSnTdWcaa3bt954D4o/bO8V+LfiR4g8GfAr4VzfFSXw3N9m1vXLjV4dN062n5zDHJID5rggg4IwQcAjmup/Z9/a3/AOFqeONY+HPjfwbe/DH4paTCLqbw7f3KXMd1bnjzradQFlUcZwO/BYAkcv8A8EvvDdtoP7GXgy8iAa81qW81O9uCPmmme5kXcx7kIiLn/ZrjP24P+KJ/ay/ZW8baf+51O48QSeHrh0GGmt52iTax7gCWXg/3q6fZunWhQk7ttRb/ALz008ubTXp5nOpe1pyqw0sm15pa6+bWvr5H3DRRRWRoFcV8Uvg14N+NOj2um+MdEj1aCzuFurSZZpLe4tJh0khniZZIm90YV2tFJpPcd7bHD/DP4J+DPg+uoHwto/2O61Fle+1C6upry9uyowvm3E7vK4XJwGYgZOAM13FFFVdvckKKKKQwooooAKKKKACiiigAooooAKKKKACiiigAooooAKKKKACiiigAooooAKKKKACiiigAooooAKKKKACiiigAooooAKKKKACiiigAooooAKKKKACiiigAooooAKKKKACiiigAooooAKKKKACiiigAooooAKKKKACiiigAooooAKKKKACiiigAooooAKKKKACiiigAooooAKKKKACiiigAooooAKKKKACiiigAooooAKKKKACiiigAooooAKKKKACiiigAooooAKKKKACiiigAooooAKKKKAOL8WKfDPiKw8RxjFtJi0vgP7h+65+h/kBUt8wb4maSQcg2EhBH1NdJqumw6xptzZXAzFOhRvb0I9wefwrxtte1HS9Xt7NkZ9XsreTTYsdWZmwjD8G4+goA7qx/4q3xxNen5tO0fMEHo85+834f0U12tZXhfQo/DeiW1ihDMgzI/wDfc8sfz/TFatABRRRQAUUUUAFFFFABRRRQAUUUUAFFFFABRRRQAUUUUAFFFFABRRRQAUUUUAFYXjzwvD448D+IfDlwcW+r6fcWEh9FljZD+jVu0VE4KpFwls9C4ScJKUd0fGH/AATN+Idto/wiufgx4juI9L+IXgDULvT73SLpgkzwmZ5EmjU43x/OV3D0B6MpOF8cNXsf2mP28fg54J8L3Mes6X8Npp/EniS8tGEkFrMChghZhx5m+JBjqPMPdWx9C/Gn9jn4OftCatDqvjvwRZ6xq0ShBqEM81pcOoGAryQOjOB2DE47Yrqvg/8AAnwD8A/D8mi+APC9l4bsJWDzC3DPLOw4BklctJIR23Mcdq2U5SqRrVPijr6yS0flr71tdfIycVGEqdPaV16J7r7tE9NDvaKKKgoK5vVvCt7qWoS3MWv39lG+MQQt8i4AHH1xn8a6SigDj/8AhBtR/wChq1T/AL6/+vR/wg2o/wDQ1ap/31/9euwooA4//hBtR/6GrVP++v8A69H/AAg2o/8AQ1ap/wB9f/XrsKKAOP8A+EG1H/oatU/76/8Ar0f8INqP/Q1ap/31/wDXrsKKAOP/AOEG1H/oatU/76/+vR/wg2o/9DVqn/fX/wBeuwooA4//AIQbUf8AoatU/wC+v/r0f8INqP8A0NWqf99f/XrsKKAOP/4QbUf+hq1T/vr/AOvR/wAINqP/AENWqf8AfX/167CigDj/APhBtR/6GrVP++v/AK9H/CDaj/0NWqf99f8A167CigDj/wDhBtR/6GrVP++v/r0f8INqP/Q1ap/31/8AXrsKKAOP/wCEG1H/AKGrVP8Avr/69H/CDaj/ANDVqn/fX/167CigDj/+EG1H/oatU/76/wDr0f8ACDaj/wBDVqn/AH1/9euwooA4/wD4QbUf+hq1T/vr/wCvR/wg2o/9DVqn/fX/ANeuwooA4/8A4QbUf+hq1T/vr/69H/CDaj/0NWqf99f/AF67CigDj/8AhBtR/wChq1T/AL6/+vR/wg2o/wDQ1ap/31/9euwooA4//hBtR/6GrVP++v8A69H/AAg2o/8AQ1ap/wB9f/XrsKKAOP8A+EG1H/oatU/76/8Ar0f8INqP/Q1ap/31/wDXrsKKAOP/AOEG1H/oatU/76/+vR/wg2o/9DVqn/fX/wBeuwooA4//AIQbUf8AoatU/wC+v/r0f8INqP8A0NWqf99f/XrsKKAOP/4QbUf+hq1T/vr/AOvR/wAINqP/AENWqf8AfX/167CigDj/APhBtR/6GrVP++v/AK9H/CDaj/0NWqf99f8A167CigDj/wDhBtR/6GrVP++v/r0f8INqP/Q1ap/31/8AXrsKKAOP/wCEG1H/AKGrVP8Avr/69H/CDaj/ANDVqn/fX/167CigDj/+EG1H/oatU/76/wDr0f8ACDaj/wBDVqn/AH1/9euwooA4/wD4QbUf+hq1T/vr/wCvR/wg2o/9DVqn/fX/ANeuwooA4/8A4QbUf+hq1T/vr/69H/CDaj/0NWqf99f/AF67CigDj/8AhBtR/wChq1T/AL6/+vR/wg2o/wDQ1ap/31/9euwooA4//hBtR/6GrVP++v8A69H/AAg2o/8AQ1ap/wB9f/XrsKKAOP8A+EG1H/oatU/76/8Ar0f8INqP/Q1ap/31/wDXrsKKAOP/AOEG1H/oatU/76/+vR/wg2o/9DVqn/fX/wBeuwooA4//AIQbUf8AoatU/wC+v/r0f8INqP8A0NWqf99f/XrsKKAOP/4QbUf+hq1T/vr/AOvR/wAINqP/AENWqf8AfX/167CigDj/APhBtR/6GrVP++v/AK9H/CDaj/0NWqf99f8A167CigDj/wDhBtR/6GrVP++v/r0f8INqP/Q1ap/31/8AXrsKKAOP/wCEG1H/AKGrVP8Avr/69H/CDaj/ANDVqn/fX/167CigDj/+EG1H/oatU/76/wDr0f8ACDaj/wBDVqn/AH1/9euwooA4/wD4QbUf+hq1T/vr/wCvR/wg2o/9DVqn/fX/ANeuwooA4/8A4QbUf+hq1T/vr/69H/CDaj/0NWqf99f/AF67CigDj/8AhBtR/wChq1T/AL6/+vR/wg2o/wDQ1ap/31/9euwooA4//hBtR/6GrVP++v8A69H/AAg2o/8AQ1ap/wB9f/XrsKKAOP8A+EG1H/oatU/76/8Ar0f8INqP/Q1ap/31/wDXrsKKAOP/AOEG1H/oatU/76/+vR/wg2o/9DVqn/fX/wBeuwooA4//AIQbUf8AoatU/wC+v/r0f8INqP8A0NWqf99f/XrsKKAOP/4QbUf+hq1T/vr/AOvR/wAINqP/AENWqf8AfX/167CigDj/APhBtR/6GrVP++v/AK9H/CDaj/0NWqf99f8A167CigDj/wDhBtR/6GrVP++v/r0f8INqP/Q1ap/31/8AXrsKKAOP/wCEG1H/AKGrVP8Avr/69H/CDaj/ANDVqn/fX/167CigDj/+EG1H/oatU/76/wDr0f8ACDaj/wBDVqn/AH1/9euwooA4/wD4QbUf+hq1T/vr/wCvR/wg2o/9DVqn/fX/ANeuwooA4/8A4QbUf+hq1T/vr/69H/CDaj/0NWqf99f/AF67CigDj/8AhBtR/wChq1T/AL6/+vR/wg2o/wDQ1ap/31/9euwooA4//hBtR/6GrVP++v8A69H/AAg2o/8AQ1ap/wB9f/XrsKKAOP8A+EG1H/oatU/76/8Ar0f8INqP/Q1ap/31/wDXrsKKAOP/AOEG1H/oatU/76/+vR/wg2o/9DVqn/fX/wBeuwooA4//AIQbUf8AoatU/wC+v/r0f8INqP8A0NWqf99f/XrsKKAOP/4QbUf+hq1T/vr/AOvR/wAINqP/AENWqf8AfX/167CigDj/APhBtR/6GrVP++v/AK9H/CDaj/0NWqf99f8A167CigDj/wDhBtR/6GrVP++v/r1Sk+FZl1Bb59dvWvFxicgbxgYHNd7RQBx//CDaj/0NWqf99f8A16P+EG1H/oatU/76/wDr12FFAHH/APCDaj/0NWqf99f/AF6P+EG1H/oatU/76/8Ar12FFAHH/wDCDaj/ANDVqn/fX/16P+EG1H/oatU/76/+vXYUUAcf/wAINqP/AENWqf8AfX/16P8AhBtR/wChq1T/AL6/+vXYUUAcf/wg2o/9DVqn/fX/ANej/hBtR/6GrVP++v8A69dhRQBx/wDwg2o/9DVqn/fX/wBej/hBtR/6GrVP++v/AK9dhRQBzek+Fb3TdQiuZdfv72NM5gmb5GyCOfpnP4V0lFFABRRRQAUUUUAFFFFABRRRQAUUUUAFFFFABRRRQAUUUUAFFFFABRRRQAUUUUAFFFFABRRRQAUUUUAFFFFABRRRQAUUUUAFFFFABRRRQAUUUUAFFFFABRRRQAUUUUAFFFFABRRRQAUUUUAFFFFABRRRQAUUUUAFFFFABRRRQAUUUUAFFFFABRRRQAUUUUAFFFFABRRRQAUUUUAFFFFABRRRQAUUUUAFFFFABRRRQAUUUUAFFFFABRRRQAUUUUAFFFFABRRRQAUUUUAFFFFABRRRQAUUUUAFFFFABRRRQAUUUUAFFFFABRRRQAUUUUAFFFFABRRRQAUUUUAFFFFABRRRQAV4Bq37cfws0m+1Efadev8AQtMuGtNQ8Uab4evbrRrSVThlkvI4jHhTwWBIHr1rqP2sPE2oeDv2ZfijrWlSPDqVn4cvpbeaPO6N/JYBx7rnP4U/9nnwLo2h/s0+AvDMNnDJpDeG7SKWBowUmEtuplLDod5difUsan3mptfZtp3vzdenw/j5ajlFOMX9q/yS5f8A5L8PPT0vTdStNY0+2v7C5ivLK6iWaC4gcPHLGwBVlYcEEEEEetWa+Z/+Cd17cP8Asz2OlTTSXMGg6zqujWkspyTbQXkqxDPoq4Uey19MVd4ySlD4Wk16NXX4CV1eMt02n6p2YUUUUhhRRRQAUUUUAFFFFABRRRQAUUUUAFFFFABRRRQAUUUUAFFFFABRRRQAUUUUAFFFFABRRRQAUUUUAFFFFABRRRQAUUUUAFFFFABRRRQAUUUUAFFFFABRRRQAUUUUAFFFFABRRRQAUUUUAFFFFABRRRQAUUUUAFFFFABRRRQAUUUUAFFFFABRRRQAUUUUAFFFFABRRRQAUUUUAFFFFABRRRQAUUUUAFFFFABRRRQAUUUUAFFFFABRRRQAUUUUAFFFFABRRRQAUUUUAFFFFABRRRQAUUUUAFFFFABRRRQAUUUUAFFFFABRRRQAUUUUAFFFFABRRRQAUUUUAFFFFABRRRQAUUUUAFFFFABRRRQAUUUUAFFFFAGJ438I6f8AEDwbrnhnVkMmmaxYzWFyq9THKhRse+GOK+YPBt5+0d8Jfhra/C6x+Gtj4t1LSLUaTpHj3/hILe3057dRshuLm3c/aFeNNu5EV9xXhuc19dUVPKtU9nuu9r28+r27lc23lt89/vsvuPN/2dvg7B8BPg74c8ExXjalcWETPeX7DBurqV2lnl+jSOxGecYFekUUVpKTk3JkRXKrBRRRUjCiiigAooooAKKKKACiiigAooooAKKKKACiiigAooooAKKKKACiiigAooooAKKKKACiiigAooooAKKKKACiiigAooooAKKKKACiiigAooooAKKKKACiiigAooooAKKKKACiiigAooooAKKKKACiiigAooooAKKKKACiiigAooooAKKKKACiiigAooooAKKKKACiiigAooooAKKKKACiiigAooooAKKKKACiiigAooooAKKKKACiiigAooooAKKKKACiiigAooooAKKKKACiiigAooooAKKKKACiiigAooooAKKKKACiiigAooooAKKKKACiiigAooooAKKKKACiiigAooooAKKKKACiiigAooooAKKKKACiiigAooooAKKKKACiiigAooooAKKKKACiiigAooooAKKKKACiiigAooooAKKKKACiiigAooooAKKKKACiiigAooooAKKKKACiiigAooooAKKKKACiiigAooooAKKKKACiiigAooooAKKKKACiiigAooooAKKKKACiiigAooooAKKKKACiiigAooooAKKKKACiiigAooooAKKKKACiiigAooooAKKKKACiiigAooooAKKKKACiiigAooooAKKKKACiiigAooooAKKKKACiiigAooooAKKKKACiiigAooooAKKKKACiiigAooooAKKKKACiiigAooooAKKKKACiiigAooooAKKKKACiiigAooooAKKKKACiiigAooooAKKKKACiiigAooooAKKKKACiiigAooooAKKKKACiiigAooooAKKKKACiiigAooooAKKKKACiiigD/9k=)\n"
      ]
    },
    {
      "cell_type": "markdown",
      "id": "7c40d83f",
      "metadata": {
        "id": "7c40d83f"
      },
      "source": [
        "### D) The following codes will generate the required circut witht the any number of qbits as input"
      ]
    },
    {
      "cell_type": "code",
      "execution_count": 40,
      "id": "06b8df64",
      "metadata": {
        "id": "06b8df64"
      },
      "outputs": [],
      "source": [
        "# One block circuit\n",
        "def block(angles,qubits):\n",
        "  qasm = '''\n",
        "  ry({}) q[{}];\n",
        "  ry({}) q[{}];\n",
        "  cx q[{}], q[{}];\n",
        "  '''.format(\n",
        "      angles[0],qubits[0],\n",
        "      angles[1],qubits[1],\n",
        "      qubits[0],qubits[1]\n",
        "  )\n",
        "  return qasm"
      ]
    },
    {
      "cell_type": "code",
      "execution_count": 41,
      "id": "aa23c8ba",
      "metadata": {
        "id": "aa23c8ba"
      },
      "outputs": [],
      "source": [
        "def generate_pairs(mylist, start, end):\n",
        "  if start == end:\n",
        "      pass\n",
        "  else:\n",
        "    mid = (start + end - 1) // 2\n",
        "    first_half = generate_pairs(mylist, start, mid)\n",
        "    second_half = generate_pairs(mylist, mid + 1, end)\n",
        "    mylist.append((mid,end))"
      ]
    },
    {
      "cell_type": "code",
      "execution_count": 42,
      "id": "6cbb5081",
      "metadata": {
        "id": "6cbb5081"
      },
      "outputs": [],
      "source": [
        "def create_circuit(data,angles):\n",
        "\n",
        "  length = data.shape[0]\n",
        "\n",
        "  qasm = '''\n",
        "    OPENQASM 2.0;\n",
        "    include \"qelib1.inc\";\n",
        "    qreg q[{}];\n",
        "    creg c[1];\n",
        "    '''.format(length)\n",
        "\n",
        "  for i in range(length):\n",
        "    if data[i] > 0.5:\n",
        "      qasm += '''\n",
        "    x q[{}];\n",
        "    '''.format(i)\n",
        "\n",
        "  pairs = []\n",
        "  generate_pairs(pairs,0,length-1)\n",
        "\n",
        "  count = 0\n",
        "  for (i,j) in pairs:\n",
        "    qasm += block([angles[count],angles[count+1]],[i,j])\n",
        "    count += 2\n",
        "\n",
        "  qasm += '''\n",
        "  measure q[{}] -> c[0];\n",
        "  '''.format(length-1)\n",
        "\n",
        "  return(qasm)"
      ]
    },
    {
      "cell_type": "code",
      "execution_count": 43,
      "id": "f3e52a58",
      "metadata": {
        "colab": {
          "base_uri": "https://localhost:8080/"
        },
        "id": "f3e52a58",
        "outputId": "fba46079-02e0-487b-a250-e45fd8821e91"
      },
      "outputs": [
        {
          "output_type": "stream",
          "name": "stdout",
          "text": [
            "[0. 1. 0. 1.]\n",
            "[0. 0. 0. 0. 0. 0.]\n"
          ]
        }
      ],
      "source": [
        "print(dataset[1])\n",
        "print(np.zeros(n_parameters))"
      ]
    },
    {
      "cell_type": "code",
      "execution_count": 44,
      "id": "38e36ba0",
      "metadata": {
        "colab": {
          "base_uri": "https://localhost:8080/"
        },
        "id": "38e36ba0",
        "outputId": "1f800ad9-e6e8-4638-9b7a-869e47b7604a"
      },
      "outputs": [
        {
          "output_type": "stream",
          "name": "stdout",
          "text": [
            "\n",
            "    OPENQASM 2.0;\n",
            "    include \"qelib1.inc\";\n",
            "    qreg q[4];\n",
            "    creg c[1];\n",
            "    \n",
            "    x q[1];\n",
            "    \n",
            "    x q[3];\n",
            "    \n",
            "  ry(0.0) q[0];\n",
            "  ry(0.0) q[1];\n",
            "  cx q[0], q[1];\n",
            "  \n",
            "  ry(0.0) q[2];\n",
            "  ry(0.0) q[3];\n",
            "  cx q[2], q[3];\n",
            "  \n",
            "  ry(0.0) q[1];\n",
            "  ry(0.0) q[3];\n",
            "  cx q[1], q[3];\n",
            "  \n",
            "  measure q[3] -> c[0];\n",
            "  \n"
          ]
        }
      ],
      "source": [
        "#Quickly testing the QASM\n",
        "print(create_circuit(dataset[1],np.zeros(n_parameters)))"
      ]
    },
    {
      "cell_type": "markdown",
      "id": "84a3d3fc",
      "metadata": {
        "id": "84a3d3fc"
      },
      "source": [
        "### E) Creating the objective function"
      ]
    },
    {
      "cell_type": "code",
      "execution_count": 45,
      "id": "1e49226c",
      "metadata": {
        "id": "1e49226c"
      },
      "outputs": [],
      "source": [
        "def objective(x, dataset, labels, count):\n",
        "    n_data = dataset.shape[0]\n",
        "    to_return = 0\n",
        "\n",
        "    for idx in range(n_data):\n",
        "        qasm = create_circuit(dataset[idx],x)\n",
        "\n",
        "        data = {'count': count,\n",
        "                'script': qasm\n",
        "                }\n",
        "\n",
        "        result = requests.post(req_str_qasm, json=data)\n",
        "        values = json.loads(result.content)['result']['c']\n",
        "\n",
        "        #print(dataset[idx])\n",
        "        #print(x)\n",
        "        #print(values)\n",
        "\n",
        "        to_return += np.abs(np.mean(values)-labels[idx])\n",
        "\n",
        "    return to_return/n_data"
      ]
    },
    {
      "cell_type": "markdown",
      "id": "f1aafb32",
      "metadata": {
        "id": "f1aafb32"
      },
      "source": [
        "### F) The actual training and ML/optimization algorithm"
      ]
    },
    {
      "cell_type": "markdown",
      "id": "7d1942f8",
      "metadata": {
        "id": "7d1942f8"
      },
      "source": [
        "**Method 1: Using Scipy built-in function**"
      ]
    },
    {
      "cell_type": "code",
      "execution_count": 46,
      "id": "e5e0ff30",
      "metadata": {
        "colab": {
          "base_uri": "https://localhost:8080/"
        },
        "id": "e5e0ff30",
        "outputId": "77cce0e8-f146-4a0a-d0e1-0a87ce246527"
      },
      "outputs": [
        {
          "output_type": "stream",
          "name": "stdout",
          "text": [
            "Iteration: 0\n",
            "Objective Function Value: 7.019733321426041\n",
            "Parameter Values: [ 0.16925784  2.31603341  3.63672415  0.17658112  5.46366233 -0.88059499]\n",
            "\n",
            "Iteration: 1\n",
            "Objective Function Value: 7.126467953924281\n",
            "Parameter Values: [ 0.16522789  2.31603341  3.63672415  0.17658112  5.60025388 -0.88059499]\n",
            "\n",
            "Iteration: 2\n",
            "Objective Function Value: 7.126467953924281\n",
            "Parameter Values: [ 0.16522789  2.31603341  3.63672415  0.17658112  5.60025388 -0.88059499]\n",
            "\n",
            "Iteration: 3\n",
            "Objective Function Value: 7.126467953924281\n",
            "Parameter Values: [ 0.16522789  2.31603341  3.63672415  0.17658112  5.60025388 -0.88059499]\n",
            "\n",
            "       message: Maximum number of iterations has been exceeded.\n",
            "       success: False\n",
            "        status: 2\n",
            "           fun: 0.25\n",
            "             x: [ 1.652e-01  2.316e+00  3.637e+00  1.766e-01  5.600e+00\n",
            "                 -8.806e-01]\n",
            "           nit: 5\n",
            "          nfev: 19\n",
            " final_simplex: (array([[ 1.652e-01,  2.316e+00, ...,  5.600e+00,\n",
            "                        -8.806e-01],\n",
            "                       [ 1.693e-01,  2.316e+00, ...,  5.464e+00,\n",
            "                        -8.806e-01],\n",
            "                       ...,\n",
            "                       [ 1.652e-01,  2.316e+00, ...,  5.464e+00,\n",
            "                        -8.806e-01],\n",
            "                       [ 1.652e-01,  2.316e+00, ...,  5.464e+00,\n",
            "                        -8.806e-01]]), array([ 2.500e-01,  3.000e-01,  3.500e-01,  4.000e-01,\n",
            "                        5.000e-01,  5.000e-01,  5.000e-01]))\n"
          ]
        }
      ],
      "source": [
        "#Initialize list to store objective funciton value\n",
        "obj_values = []\n",
        "\n",
        "#To get the iteration infroamtion\n",
        "def call_fn (xk):\n",
        "    print(\"Iteration:\", call_fn.iteration)\n",
        "    p = objective(xk,training,training_labels,count=1)\n",
        "    print(\"Objective Function Value:\", sum(xk**2)**0.5)\n",
        "    print(\"Parameter Values:\", xk)\n",
        "    print(\"\")\n",
        "\n",
        "    #Append objective function value to list for plotting\n",
        "    obj_values.append(p)\n",
        "\n",
        "    call_fn.iteration += 1\n",
        "call_fn.iteration = 0\n",
        "\n",
        "#The model and training process\n",
        "sol = sp.optimize.minimize(lambda x: objective(x,training,training_labels,count=10),\n",
        "                           x0 = np.pi*np.random.randn(n_parameters),\n",
        "                           method = 'Nelder-Mead', options ={'maxiter':5},callback=call_fn)\n",
        "print(sol)"
      ]
    },
    {
      "cell_type": "markdown",
      "source": [
        "##Modify the training process"
      ],
      "metadata": {
        "id": "rJShXjlQSTa1"
      },
      "id": "rJShXjlQSTa1"
    },
    {
      "cell_type": "code",
      "source": [
        "#The model and training process\n",
        "start_time = time.time()\n",
        "sol = sp.optimize.minimize(lambda x: objective (x, training, training_labels,count=10),\n",
        "                           x0 = np.pi*np.random.randn(n_parameters),\n",
        "                           method = 'Nelder-Mead', options = {'maxiter':5}, callback=call_fn)\n",
        "end_time = time.time()\n",
        "\n",
        "print(\"Total Time Taken:\", end_time - start_time)"
      ],
      "metadata": {
        "colab": {
          "base_uri": "https://localhost:8080/"
        },
        "id": "ydoRqyYeQzCz",
        "outputId": "a697c6a7-a512-4472-c0be-7d91c804952f"
      },
      "id": "ydoRqyYeQzCz",
      "execution_count": 47,
      "outputs": [
        {
          "output_type": "stream",
          "name": "stdout",
          "text": [
            "Iteration: 4\n",
            "Objective Function Value: 3.4928299900584268\n",
            "Parameter Values: [-1.80585559 -1.21653266 -1.92305937 -1.84810859  0.4482881   0.37969757]\n",
            "\n",
            "Iteration: 5\n",
            "Objective Function Value: 3.4928299900584268\n",
            "Parameter Values: [-1.80585559 -1.21653266 -1.92305937 -1.84810859  0.4482881   0.37969757]\n",
            "\n",
            "Iteration: 6\n",
            "Objective Function Value: 3.4928299900584268\n",
            "Parameter Values: [-1.80585559 -1.21653266 -1.92305937 -1.84810859  0.4482881   0.37969757]\n",
            "\n",
            "Iteration: 7\n",
            "Objective Function Value: 3.4928299900584268\n",
            "Parameter Values: [-1.80585559 -1.21653266 -1.92305937 -1.84810859  0.4482881   0.37969757]\n",
            "\n",
            "Total Time Taken: 15.928467988967896\n"
          ]
        }
      ]
    },
    {
      "cell_type": "markdown",
      "source": [
        "## Plotting the Iteration Number against the Output Measure"
      ],
      "metadata": {
        "id": "LYqMZzrNRs1J"
      },
      "id": "LYqMZzrNRs1J"
    },
    {
      "cell_type": "code",
      "source": [
        "plt.figure()\n",
        "plt.plot(range(len(obj_values)), obj_values)\n",
        "plt.xlabel('Iteration Number')\n",
        "plt.ylabel('Objective Function Value')\n",
        "plt.title('Iteration Number vs. Objective Function Value')\n",
        "plt.show()"
      ],
      "metadata": {
        "colab": {
          "base_uri": "https://localhost:8080/",
          "height": 472
        },
        "id": "Wo_uMFpiRnw5",
        "outputId": "d222c85f-ac3d-47d8-f5fd-8afbae1af845"
      },
      "id": "Wo_uMFpiRnw5",
      "execution_count": 48,
      "outputs": [
        {
          "output_type": "display_data",
          "data": {
            "text/plain": [
              "<Figure size 640x480 with 1 Axes>"
            ],
            "image/png": "[encoded data removed]"
          },
          "metadata": {}
        }
      ]
    },
    {
      "cell_type": "markdown",
      "source": [
        "##Plotting the Iteration Number against the Time Required"
      ],
      "metadata": {
        "id": "x_N2wjk3SJwQ"
      },
      "id": "x_N2wjk3SJwQ"
    },
    {
      "cell_type": "code",
      "source": [
        "# Initialize list to store time taken at each iteration\n",
        "times = []\n",
        "\n",
        "def call_fn(xk):\n",
        "    start = time.time()\n",
        "    # Your existing code here\n",
        "    end = time.time()\n",
        "    times.append(end - start)\n",
        "\n",
        "# Modify the training process to use the new callback function\n",
        "\n",
        "# The model and training process\n",
        "start_time = time.time()\n",
        "sol = sp.optimize.minimize(lambda x: objective(x,training,training_labels,count=10),\n",
        "                           x0 = np.pi*np.random.randn(n_parameters),\n",
        "                           method = 'Nelder-Mead', options ={'maxiter':5},callback=call_fn)\n",
        "end_time = time.time()\n",
        "\n",
        "print(\"Total Time Taken:\", end_time - start_time)\n",
        "\n",
        "plt.figure()\n",
        "plt.plot(range(1, len(times) + 1), times)\n",
        "plt.xlabel('Iteration Number')\n",
        "plt.ylabel('Time (seconds)')\n",
        "plt.title('Iteration Number vs. Time Taken')\n",
        "plt.show()\n"
      ],
      "metadata": {
        "colab": {
          "base_uri": "https://localhost:8080/",
          "height": 489
        },
        "id": "cTHUEuoXSOJX",
        "outputId": "1cda40a8-bcab-4c36-84c6-e8ad42c97861"
      },
      "id": "cTHUEuoXSOJX",
      "execution_count": 49,
      "outputs": [
        {
          "output_type": "stream",
          "name": "stdout",
          "text": [
            "Total Time Taken: 13.706870079040527\n"
          ]
        },
        {
          "output_type": "display_data",
          "data": {
            "text/plain": [
              "<Figure size 640x480 with 1 Axes>"
            ],
            "image/png": "[encoded data removed]"
          },
          "metadata": {}
        }
      ]
    },
    {
      "cell_type": "markdown",
      "id": "1cfebf0a",
      "metadata": {
        "id": "1cfebf0a"
      },
      "source": [
        "**Method 2: Using spsa optimizer**\n",
        "\n",
        "For more information: https://colab.research.google.com/corgiredirector?site=https%3A%2F%2Fen.wikipedia.org%2Fwiki%2FSimultaneous_perturbation_stochastic_approximation\n",
        "\n",
        "The Simultaneous Perturbation Stochastic Approximation (SPSA) algorithm is a popular stochastic optimization technique for solving optimization problems in a variety of applications. It was first introduced by Spall in 1992 as a variant of the stochastic approximation method.\n",
        "\n",
        "SPSA is a gradient-free optimization algorithm, meaning that it does not require knowledge of the gradient of the objective function. Instead, it uses a series of random perturbations to estimate the gradient of the objective function at each iteration. This makes it well-suited for optimizing functions that are expensive or difficult to compute gradients for.\n",
        "\n",
        "At each iteration, the SPSA algorithm randomly perturbs the input variables and computes the corresponding function values. It then uses these function values to estimate the gradient of the objective function, and updates the input variables using a stochastic approximation rule. This process is repeated until convergence is achieved or a stopping criterion is met.\n",
        "\n",
        "One of the key advantages of SPSA is its simplicity and ease of implementation."
      ]
    },
    {
      "cell_type": "code",
      "execution_count": 50,
      "id": "ef45e82c",
      "metadata": {
        "scrolled": true,
        "colab": {
          "base_uri": "https://localhost:8080/"
        },
        "id": "ef45e82c",
        "outputId": "552c69ae-8eec-480e-cb94-6cd55ff8e91e"
      },
      "outputs": [
        {
          "output_type": "stream",
          "name": "stdout",
          "text": [
            "Iteration 0: f = 0.6\n",
            "Iteration 1: f = 0.6\n",
            "Iteration 2: f = 0.4\n",
            "Iteration 3: f = 0.55\n",
            "Iteration 4: f = 0.4\n",
            "Iteration 5: f = 0.45\n",
            "Iteration 6: f = 0.4\n",
            "Iteration 7: f = 0.55\n",
            "Iteration 8: f = 0.55\n",
            "Iteration 9: f = 0.30000000000000004\n"
          ]
        }
      ],
      "source": [
        "#The actual code for the optimizer\n",
        "def spsa(func, x0, a=0.1, c=0.01, alpha=0.602, gamma=0.101, maxiter=100, verbose=False):\n",
        "\n",
        "    k = 0\n",
        "    x = x0\n",
        "\n",
        "    while k < maxiter:\n",
        "        ak = a / (k+1)**alpha\n",
        "        ck = c / (k+1)**gamma\n",
        "        delta = 2 * np.random.randint(0, 2, len(x0)) - 1\n",
        "        xp = x + ck * delta\n",
        "        xm = x - ck * delta\n",
        "        grad = (func(xp) - func(xm)) / (2 * ck) * delta\n",
        "\n",
        "        x = x - ak * grad\n",
        "\n",
        "        # Print progress message\n",
        "        if verbose and k % int(0.1*maxiter) == 0:\n",
        "            fx = func(x)\n",
        "            print(f\"Iteration {k}: f = {fx}\")\n",
        "\n",
        "        k += 1\n",
        "\n",
        "    return x\n",
        "\n",
        "# Some parameters to set\n",
        "a = 1\n",
        "c = 0.5\n",
        "maxiter= 10\n",
        "alpha = 0.602\n",
        "gamma = 0.101\n",
        "\n",
        "f = lambda x: objective(x,training,training_labels,count=10)\n",
        "x0 = np.pi*np.random.randn(n_parameters)\n",
        "\n",
        "sol = spsa(f, x0, a=a, c=c,\n",
        "            alpha=alpha, gamma=gamma,\n",
        "            maxiter=maxiter, verbose=True)"
      ]
    },
    {
      "cell_type": "markdown",
      "id": "db9e53fd",
      "metadata": {
        "id": "db9e53fd"
      },
      "source": [
        "### G) Testing of data"
      ]
    },
    {
      "cell_type": "code",
      "execution_count": 51,
      "id": "5708e3a1",
      "metadata": {
        "id": "5708e3a1"
      },
      "outputs": [],
      "source": [
        "# Actual testing function\n",
        "def testing_circuit(x, dataset):\n",
        "    count = 1\n",
        "    n_data = dataset.shape[0]\n",
        "    output_labels = []\n",
        "    for idx in range(n_data):\n",
        "        qasm = create_circuit(dataset[idx],x)\n",
        "        data = {'count': count, 'script': qasm}\n",
        "        result = requests.post(req_str_qasm, json=data)\n",
        "        values = json.loads(result.content)['result']['c'][0]\n",
        "        output_labels.append(values)\n",
        "    return output_labels"
      ]
    },
    {
      "cell_type": "code",
      "execution_count": 52,
      "id": "44b77b70",
      "metadata": {
        "id": "44b77b70"
      },
      "outputs": [],
      "source": [
        "# Calling the testing fuction to get the predicted classes\n",
        "output_labels = testing_circuit(np.array(sol), test)\n",
        "output_labels = np.array(output_labels).flatten()"
      ]
    },
    {
      "cell_type": "code",
      "execution_count": 53,
      "id": "886c817d",
      "metadata": {
        "colab": {
          "base_uri": "https://localhost:8080/"
        },
        "id": "886c817d",
        "outputId": "501732d0-1146-4453-c30b-5414a17e904b"
      },
      "outputs": [
        {
          "output_type": "execute_result",
          "data": {
            "text/plain": [
              "array([1, 1])"
            ]
          },
          "metadata": {},
          "execution_count": 53
        }
      ],
      "source": [
        "output_labels"
      ]
    },
    {
      "cell_type": "code",
      "execution_count": 54,
      "id": "230172b5",
      "metadata": {
        "colab": {
          "base_uri": "https://localhost:8080/"
        },
        "id": "230172b5",
        "outputId": "dbf06a06-19fd-42d1-8491-19efb0c98a50"
      },
      "outputs": [
        {
          "output_type": "execute_result",
          "data": {
            "text/plain": [
              "array([0., 1.])"
            ]
          },
          "metadata": {},
          "execution_count": 54
        }
      ],
      "source": [
        "test_labels"
      ]
    },
    {
      "cell_type": "markdown",
      "source": [
        "#Modified code for simulating the quantum circuit on a classical machine"
      ],
      "metadata": {
        "id": "Lg-fyYD2V03q"
      },
      "id": "Lg-fyYD2V03q"
    },
    {
      "cell_type": "code",
      "source": [
        "import numpy as np\n",
        "import matplotlib.pyplot as plt\n",
        "import scipy as sp\n",
        "import requests\n",
        "import json\n",
        "import time\n",
        "\n",
        "# Define functions for generating data and simulating quantum circuit\n",
        "def generate_binary_code(bit_length):\n",
        "    bit_combinations = np.zeros((int(2**bit_length), bit_length))\n",
        "    for number in range(int(2**bit_length)):\n",
        "        dividend = number\n",
        "        bit_index = 0\n",
        "        while dividend != 0:\n",
        "            bit_combinations[number, bit_index] = np.remainder(dividend, 2)\n",
        "            dividend = np.floor_divide(dividend, 2)\n",
        "            bit_index += 1\n",
        "    return bit_combinations\n",
        "\n",
        "def generate_data(length):\n",
        "    stripes = generate_binary_code(length)\n",
        "    stripes = np.repeat(stripes, length, 0)\n",
        "    stripes = stripes.reshape(2 ** length, length * length)\n",
        "\n",
        "    bars = generate_binary_code(length)\n",
        "    bars = bars.reshape(2 ** length * length, 1)\n",
        "    bars = np.repeat(bars, length, 1)\n",
        "    bars = bars.reshape(2 ** length, length * length)\n",
        "    return np.vstack((stripes[1:stripes.shape[0]-1], bars[1:bars.shape[0]-1]))\n",
        "\n",
        "def simulate_circuit(data, angles):\n",
        "    length = len(data)\n",
        "    qubits = np.zeros(length)\n",
        "\n",
        "    for i in range(length):\n",
        "        if data[i] > 0.5:\n",
        "            qubits[i] = 1\n",
        "\n",
        "    pairs = []\n",
        "    generate_pairs(pairs, 0, length - 1)\n",
        "\n",
        "    for (i, j) in pairs:\n",
        "        qubits[j] = np.cos(angles[0]) * qubits[j] + np.sin(angles[0]) * qubits[i]\n",
        "        qubits[i] = np.cos(angles[1]) * qubits[i] + np.sin(angles[1]) * qubits[j]\n",
        "\n",
        "    return np.mean(qubits)\n",
        "\n",
        "# Define objective function and training process\n",
        "def objective(x, dataset, labels, count):\n",
        "    n_data = dataset.shape[0]\n",
        "    to_return = 0\n",
        "\n",
        "    for idx in range(n_data):\n",
        "        simulated_value = simulate_circuit(dataset[idx], x)\n",
        "        to_return += np.abs(simulated_value - labels[idx])\n",
        "\n",
        "    return to_return / n_data\n",
        "\n",
        "def call_fn(xk):\n",
        "    global obj_values\n",
        "    print(\"Iteration:\", call_fn.iteration)\n",
        "    p = objective(xk, training, training_labels, count=1)\n",
        "    print(\"Objective Function Value:\", sum(xk**2)**0.5)\n",
        "    print(\"Parameter Values:\", xk)\n",
        "    print(\"\")\n",
        "\n",
        "    obj_values.append(p)\n",
        "    call_fn.iteration += 1\n",
        "call_fn.iteration = 0\n",
        "\n",
        "# Generate dataset\n",
        "length = 2\n",
        "dataset = generate_data(length)\n",
        "labels = np.concatenate((np.zeros(int(2**length-2)),np.ones(int(2**length-2))))\n",
        "n_parameters = int(2*(length**2-1))\n",
        "\n",
        "# Split dataset\n",
        "selected_indices = np.random.choice(dataset.shape[0],\n",
        "                                    int(dataset.shape[0] * 0.5),\n",
        "                                    replace=False)\n",
        "all_indices = np.arange(dataset.shape[0])\n",
        "unselected_indices = np.setdiff1d(all_indices, selected_indices)\n",
        "training = dataset[selected_indices]\n",
        "training_labels = labels[selected_indices]\n",
        "test = dataset[unselected_indices]\n",
        "test_labels = labels[unselected_indices]\n",
        "\n",
        "# Training process\n",
        "obj_values = []\n",
        "start_time = time.time()\n",
        "sol = sp.optimize.minimize(lambda x: objective(x, training, training_labels, count=10),\n",
        "                           x0=np.pi*np.random.randn(n_parameters),\n",
        "                           method='Nelder-Mead', options={'maxiter': 5}, callback=call_fn)\n",
        "end_time = time.time()\n",
        "\n",
        "print(\"Total Time Taken:\", end_time - start_time)\n",
        "\n",
        "# Plotting\n",
        "plt.figure()\n",
        "plt.plot(range(len(obj_values)), obj_values)\n",
        "plt.xlabel('Iteration Number')\n",
        "plt.ylabel('Objective Function Value')\n",
        "plt.title('Iteration Number vs. Objective Function Value')\n",
        "plt.show()\n"
      ],
      "metadata": {
        "id": "Of3tOD6ul8Ya",
        "colab": {
          "base_uri": "https://localhost:8080/",
          "height": 767
        },
        "outputId": "2d1363de-7573-4e38-eeef-0ded2362b2eb"
      },
      "id": "Of3tOD6ul8Ya",
      "execution_count": 55,
      "outputs": [
        {
          "output_type": "stream",
          "name": "stdout",
          "text": [
            "Iteration: 0\n",
            "Objective Function Value: 4.569301730099958\n",
            "Parameter Values: [ 0.64207555 -0.60890116 -3.48304616 -2.27881022  1.27799993  1.06659563]\n",
            "\n",
            "Iteration: 1\n",
            "Objective Function Value: 4.569301730099958\n",
            "Parameter Values: [ 0.64207555 -0.60890116 -3.48304616 -2.27881022  1.27799993  1.06659563]\n",
            "\n",
            "Iteration: 2\n",
            "Objective Function Value: 4.569301730099958\n",
            "Parameter Values: [ 0.64207555 -0.60890116 -3.48304616 -2.27881022  1.27799993  1.06659563]\n",
            "\n",
            "Iteration: 3\n",
            "Objective Function Value: 4.651340089566921\n",
            "Parameter Values: [ 0.64773759 -0.58183888 -3.6894489  -2.12899955  1.27918326  1.04684386]\n",
            "\n",
            "Total Time Taken: 0.014735221862792969\n"
          ]
        },
        {
          "output_type": "display_data",
          "data": {
            "text/plain": [
              "<Figure size 640x480 with 1 Axes>"
            ],
            "image/png": "[encoded data removed]"
          },
          "metadata": {}
        }
      ]
    }
  ],
  "metadata": {
    "kernelspec": {
      "display_name": "Python 3 (ipykernel)",
      "language": "python",
      "name": "python3"
    },
    "language_info": {
      "codemirror_mode": {
        "name": "ipython",
        "version": 3
      },
      "file_extension": ".py",
      "mimetype": "text/x-python",
      "name": "python",
      "nbconvert_exporter": "python",
      "pygments_lexer": "ipython3",
      "version": "3.11.5"
    },
    "colab": {
      "provenance": []
    }
  },
  "nbformat": 4,
  "nbformat_minor": 5
}