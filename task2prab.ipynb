{
 "cells": [
  {
   "cell_type": "code",
   "execution_count": 24,
   "id": "7f1a37e4-cc54-4cda-979a-6d4bd5250a7c",
   "metadata": {
    "tags": []
   },
   "outputs": [
    {
     "ename": "AttributeError",
     "evalue": "'PrimitiveJob' object has no attribute 'statevector'",
     "output_type": "error",
     "traceback": [
      "\u001b[1;31m---------------------------------------------------------------------------\u001b[0m",
      "\u001b[1;31mAttributeError\u001b[0m                            Traceback (most recent call last)",
      "Cell \u001b[1;32mIn[24], line 23\u001b[0m\n\u001b[0;32m     21\u001b[0m sampler \u001b[38;5;241m=\u001b[39m BackendSampler(backend)\n\u001b[0;32m     22\u001b[0m job \u001b[38;5;241m=\u001b[39m sampler\u001b[38;5;241m.\u001b[39mrun(qc)\n\u001b[1;32m---> 23\u001b[0m job\u001b[38;5;241m.\u001b[39mstatevector(qc)\n\u001b[0;32m     24\u001b[0m result \u001b[38;5;241m=\u001b[39m job\u001b[38;5;241m.\u001b[39mresult()\n\u001b[0;32m     26\u001b[0m \u001b[38;5;28mprint\u001b[39m(result)\n",
      "\u001b[1;31mAttributeError\u001b[0m: 'PrimitiveJob' object has no attribute 'statevector'"
     ]
    }
   ],
   "source": [
    "import qiskit as qc\n",
    "from qiskit_aer import Aer\n",
    "from qiskit.primitives import BackendSampler\n",
    "\n",
    "#Create a Quantum circuit\n",
    "qc = QuantumCircuit(2, 2)\n",
    "\n",
    "#Apply a Hadamard gate to qubit 0\n",
    "qc.h(0)\n",
    "\n",
    "#Apply an X gate to qubit 1\n",
    "qc.x(1)\n",
    "\n",
    "#Apply a CNOT gate with qubit 0 as control and qubit 1 as target\n",
    "qc.cx(0,1)\n",
    "\n",
    "qc.measure([0, 1], [0, 1])\n",
    "\n",
    "#Simulate the circuit\n",
    "backend = Aer.get_backend('statevector_simulator')\n",
    "sampler = BackendSampler(backend)\n",
    "job = sampler.run(qc)\n",
    "\n",
    "result = job.result()\n",
    "\n",
    "print(result)\n",
    "\n",
    "#Get the final state vector\n",
    "# state_vector = result.get_statevector(qc)\n",
    "\n",
    "#print the final state vector\n",
    "# print(\"Final state vector:\")\n",
    "# print(state_vector)"
   ]
  },
  {
   "cell_type": "code",
   "execution_count": 20,
   "id": "4b2f64ec-16e1-4a69-bce1-a2ff640a6c90",
   "metadata": {
    "tags": []
   },
   "outputs": [
    {
     "data": {
      "text/html": [
       "<pre style=\"word-wrap: normal;white-space: pre;background: #fff0;line-height: 1.1;font-family: &quot;Courier New&quot;,Courier,monospace\">     ┌───┐     ┌─┐   \n",
       "q_0: ┤ H ├──■──┤M├───\n",
       "     ├───┤┌─┴─┐└╥┘┌─┐\n",
       "q_1: ┤ X ├┤ X ├─╫─┤M├\n",
       "     └───┘└───┘ ║ └╥┘\n",
       "c: 2/═══════════╩══╩═\n",
       "                0  1 </pre>"
      ],
      "text/plain": [
       "     ┌───┐     ┌─┐   \n",
       "q_0: ┤ H ├──■──┤M├───\n",
       "     ├───┤┌─┴─┐└╥┘┌─┐\n",
       "q_1: ┤ X ├┤ X ├─╫─┤M├\n",
       "     └───┘└───┘ ║ └╥┘\n",
       "c: 2/═══════════╩══╩═\n",
       "                0  1 "
      ]
     },
     "execution_count": 20,
     "metadata": {},
     "output_type": "execute_result"
    }
   ],
   "source": [
    "qc.draw()"
   ]
  },
  {
   "cell_type": "code",
   "execution_count": null,
   "id": "852786f0-7bf4-43bb-9981-28ee73166282",
   "metadata": {},
   "outputs": [],
   "source": []
  }
 ],
 "metadata": {
  "kernelspec": {
   "display_name": "Python 3 (ipykernel)",
   "language": "python",
   "name": "python3"
  },
  "language_info": {
   "codemirror_mode": {
    "name": "ipython",
    "version": 3
   },
   "file_extension": ".py",
   "mimetype": "text/x-python",
   "name": "python",
   "nbconvert_exporter": "python",
   "pygments_lexer": "ipython3",
   "version": "3.11.5"
  }
 },
 "nbformat": 4,
 "nbformat_minor": 5
}
